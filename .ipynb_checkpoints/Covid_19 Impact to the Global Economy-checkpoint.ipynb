{
 "cells": [
  {
   "cell_type": "markdown",
   "id": "8394c169",
   "metadata": {},
   "source": [
    "Covid-19 came with it own disruptions and one was bringing the global economy to a standstill, when it was declared a global pandemic on 11th March 2020.The data for this project was provided by Kaggle(https://www.kaggle.com/datasets/shashwatwork/impact-of-covid19-pandemic-on-the-global-economy), insipred by Aman Kharwal with the aim of improving my data analysis skills with Python."
   ]
  },
  {
   "cell_type": "code",
   "execution_count": 1,
   "id": "3738dc6f",
   "metadata": {},
   "outputs": [],
   "source": [
    "#Importing Libraries\n",
    "import pandas as pd\n",
    "import numpy as np\n",
    "import plotly.express as px\n",
    "import plotly.graph_objects as go\n",
    "import matplotlib.pyplot as plt\n",
    "%matplotlib inline\n",
    "\n"
   ]
  },
  {
   "cell_type": "code",
   "execution_count": 2,
   "id": "fc7975c7",
   "metadata": {},
   "outputs": [],
   "source": [
    "#Reading the data\n",
    "trans = pd.read_csv(\"transformed_data.csv\")\n",
    "raw = pd.read_csv(\"raw_data.csv\")"
   ]
  },
  {
   "cell_type": "code",
   "execution_count": 3,
   "id": "a1cd84b5",
   "metadata": {},
   "outputs": [
    {
     "data": {
      "text/html": [
       "<div>\n",
       "<style scoped>\n",
       "    .dataframe tbody tr th:only-of-type {\n",
       "        vertical-align: middle;\n",
       "    }\n",
       "\n",
       "    .dataframe tbody tr th {\n",
       "        vertical-align: top;\n",
       "    }\n",
       "\n",
       "    .dataframe thead th {\n",
       "        text-align: right;\n",
       "    }\n",
       "</style>\n",
       "<table border=\"1\" class=\"dataframe\">\n",
       "  <thead>\n",
       "    <tr style=\"text-align: right;\">\n",
       "      <th></th>\n",
       "      <th>CODE</th>\n",
       "      <th>COUNTRY</th>\n",
       "      <th>DATE</th>\n",
       "      <th>HDI</th>\n",
       "      <th>TC</th>\n",
       "      <th>TD</th>\n",
       "      <th>STI</th>\n",
       "      <th>POP</th>\n",
       "      <th>GDPCAP</th>\n",
       "    </tr>\n",
       "  </thead>\n",
       "  <tbody>\n",
       "    <tr>\n",
       "      <th>0</th>\n",
       "      <td>AFG</td>\n",
       "      <td>Afghanistan</td>\n",
       "      <td>2019-12-31</td>\n",
       "      <td>0.498</td>\n",
       "      <td>0.000000</td>\n",
       "      <td>0.000000</td>\n",
       "      <td>0.000000</td>\n",
       "      <td>17.477233</td>\n",
       "      <td>7.497754</td>\n",
       "    </tr>\n",
       "    <tr>\n",
       "      <th>1</th>\n",
       "      <td>AFG</td>\n",
       "      <td>Afghanistan</td>\n",
       "      <td>2020-01-01</td>\n",
       "      <td>0.498</td>\n",
       "      <td>0.000000</td>\n",
       "      <td>0.000000</td>\n",
       "      <td>0.000000</td>\n",
       "      <td>17.477233</td>\n",
       "      <td>7.497754</td>\n",
       "    </tr>\n",
       "    <tr>\n",
       "      <th>2</th>\n",
       "      <td>AFG</td>\n",
       "      <td>Afghanistan</td>\n",
       "      <td>2020-01-02</td>\n",
       "      <td>0.498</td>\n",
       "      <td>0.000000</td>\n",
       "      <td>0.000000</td>\n",
       "      <td>0.000000</td>\n",
       "      <td>17.477233</td>\n",
       "      <td>7.497754</td>\n",
       "    </tr>\n",
       "    <tr>\n",
       "      <th>3</th>\n",
       "      <td>AFG</td>\n",
       "      <td>Afghanistan</td>\n",
       "      <td>2020-01-03</td>\n",
       "      <td>0.498</td>\n",
       "      <td>0.000000</td>\n",
       "      <td>0.000000</td>\n",
       "      <td>0.000000</td>\n",
       "      <td>17.477233</td>\n",
       "      <td>7.497754</td>\n",
       "    </tr>\n",
       "    <tr>\n",
       "      <th>4</th>\n",
       "      <td>AFG</td>\n",
       "      <td>Afghanistan</td>\n",
       "      <td>2020-01-04</td>\n",
       "      <td>0.498</td>\n",
       "      <td>0.000000</td>\n",
       "      <td>0.000000</td>\n",
       "      <td>0.000000</td>\n",
       "      <td>17.477233</td>\n",
       "      <td>7.497754</td>\n",
       "    </tr>\n",
       "    <tr>\n",
       "      <th>...</th>\n",
       "      <td>...</td>\n",
       "      <td>...</td>\n",
       "      <td>...</td>\n",
       "      <td>...</td>\n",
       "      <td>...</td>\n",
       "      <td>...</td>\n",
       "      <td>...</td>\n",
       "      <td>...</td>\n",
       "      <td>...</td>\n",
       "    </tr>\n",
       "    <tr>\n",
       "      <th>50413</th>\n",
       "      <td>ZWE</td>\n",
       "      <td>Zimbabwe</td>\n",
       "      <td>2020-10-15</td>\n",
       "      <td>0.535</td>\n",
       "      <td>8.994048</td>\n",
       "      <td>5.442418</td>\n",
       "      <td>4.341855</td>\n",
       "      <td>16.514381</td>\n",
       "      <td>7.549491</td>\n",
       "    </tr>\n",
       "    <tr>\n",
       "      <th>50414</th>\n",
       "      <td>ZWE</td>\n",
       "      <td>Zimbabwe</td>\n",
       "      <td>2020-10-16</td>\n",
       "      <td>0.535</td>\n",
       "      <td>8.996528</td>\n",
       "      <td>5.442418</td>\n",
       "      <td>4.341855</td>\n",
       "      <td>16.514381</td>\n",
       "      <td>7.549491</td>\n",
       "    </tr>\n",
       "    <tr>\n",
       "      <th>50415</th>\n",
       "      <td>ZWE</td>\n",
       "      <td>Zimbabwe</td>\n",
       "      <td>2020-10-17</td>\n",
       "      <td>0.535</td>\n",
       "      <td>8.999496</td>\n",
       "      <td>5.442418</td>\n",
       "      <td>4.341855</td>\n",
       "      <td>16.514381</td>\n",
       "      <td>7.549491</td>\n",
       "    </tr>\n",
       "    <tr>\n",
       "      <th>50416</th>\n",
       "      <td>ZWE</td>\n",
       "      <td>Zimbabwe</td>\n",
       "      <td>2020-10-18</td>\n",
       "      <td>0.535</td>\n",
       "      <td>9.000853</td>\n",
       "      <td>5.442418</td>\n",
       "      <td>4.341855</td>\n",
       "      <td>16.514381</td>\n",
       "      <td>7.549491</td>\n",
       "    </tr>\n",
       "    <tr>\n",
       "      <th>50417</th>\n",
       "      <td>ZWE</td>\n",
       "      <td>Zimbabwe</td>\n",
       "      <td>2020-10-19</td>\n",
       "      <td>0.535</td>\n",
       "      <td>9.005405</td>\n",
       "      <td>5.442418</td>\n",
       "      <td>4.341855</td>\n",
       "      <td>16.514381</td>\n",
       "      <td>7.549491</td>\n",
       "    </tr>\n",
       "  </tbody>\n",
       "</table>\n",
       "<p>50418 rows × 9 columns</p>\n",
       "</div>"
      ],
      "text/plain": [
       "      CODE      COUNTRY        DATE    HDI        TC        TD       STI  \\\n",
       "0      AFG  Afghanistan  2019-12-31  0.498  0.000000  0.000000  0.000000   \n",
       "1      AFG  Afghanistan  2020-01-01  0.498  0.000000  0.000000  0.000000   \n",
       "2      AFG  Afghanistan  2020-01-02  0.498  0.000000  0.000000  0.000000   \n",
       "3      AFG  Afghanistan  2020-01-03  0.498  0.000000  0.000000  0.000000   \n",
       "4      AFG  Afghanistan  2020-01-04  0.498  0.000000  0.000000  0.000000   \n",
       "...    ...          ...         ...    ...       ...       ...       ...   \n",
       "50413  ZWE     Zimbabwe  2020-10-15  0.535  8.994048  5.442418  4.341855   \n",
       "50414  ZWE     Zimbabwe  2020-10-16  0.535  8.996528  5.442418  4.341855   \n",
       "50415  ZWE     Zimbabwe  2020-10-17  0.535  8.999496  5.442418  4.341855   \n",
       "50416  ZWE     Zimbabwe  2020-10-18  0.535  9.000853  5.442418  4.341855   \n",
       "50417  ZWE     Zimbabwe  2020-10-19  0.535  9.005405  5.442418  4.341855   \n",
       "\n",
       "             POP    GDPCAP  \n",
       "0      17.477233  7.497754  \n",
       "1      17.477233  7.497754  \n",
       "2      17.477233  7.497754  \n",
       "3      17.477233  7.497754  \n",
       "4      17.477233  7.497754  \n",
       "...          ...       ...  \n",
       "50413  16.514381  7.549491  \n",
       "50414  16.514381  7.549491  \n",
       "50415  16.514381  7.549491  \n",
       "50416  16.514381  7.549491  \n",
       "50417  16.514381  7.549491  \n",
       "\n",
       "[50418 rows x 9 columns]"
      ]
     },
     "execution_count": 3,
     "metadata": {},
     "output_type": "execute_result"
    }
   ],
   "source": [
    "trans"
   ]
  },
  {
   "cell_type": "code",
   "execution_count": 4,
   "id": "945aa220",
   "metadata": {},
   "outputs": [
    {
     "data": {
      "text/html": [
       "<div>\n",
       "<style scoped>\n",
       "    .dataframe tbody tr th:only-of-type {\n",
       "        vertical-align: middle;\n",
       "    }\n",
       "\n",
       "    .dataframe tbody tr th {\n",
       "        vertical-align: top;\n",
       "    }\n",
       "\n",
       "    .dataframe thead th {\n",
       "        text-align: right;\n",
       "    }\n",
       "</style>\n",
       "<table border=\"1\" class=\"dataframe\">\n",
       "  <thead>\n",
       "    <tr style=\"text-align: right;\">\n",
       "      <th></th>\n",
       "      <th>iso_code</th>\n",
       "      <th>location</th>\n",
       "      <th>date</th>\n",
       "      <th>total_cases</th>\n",
       "      <th>total_deaths</th>\n",
       "      <th>stringency_index</th>\n",
       "      <th>population</th>\n",
       "      <th>gdp_per_capita</th>\n",
       "      <th>human_development_index</th>\n",
       "      <th>Unnamed: 9</th>\n",
       "      <th>Unnamed: 10</th>\n",
       "      <th>Unnamed: 11</th>\n",
       "      <th>Unnamed: 12</th>\n",
       "      <th>Unnamed: 13</th>\n",
       "    </tr>\n",
       "  </thead>\n",
       "  <tbody>\n",
       "    <tr>\n",
       "      <th>0</th>\n",
       "      <td>AFG</td>\n",
       "      <td>Afghanistan</td>\n",
       "      <td>2019-12-31</td>\n",
       "      <td>0.0</td>\n",
       "      <td>0.0</td>\n",
       "      <td>0.00</td>\n",
       "      <td>38928341</td>\n",
       "      <td>1803.987</td>\n",
       "      <td>0.498</td>\n",
       "      <td>#NUM!</td>\n",
       "      <td>#NUM!</td>\n",
       "      <td>#NUM!</td>\n",
       "      <td>17.477233</td>\n",
       "      <td>7.497754494</td>\n",
       "    </tr>\n",
       "    <tr>\n",
       "      <th>1</th>\n",
       "      <td>AFG</td>\n",
       "      <td>Afghanistan</td>\n",
       "      <td>2020-01-01</td>\n",
       "      <td>0.0</td>\n",
       "      <td>0.0</td>\n",
       "      <td>0.00</td>\n",
       "      <td>38928341</td>\n",
       "      <td>1803.987</td>\n",
       "      <td>0.498</td>\n",
       "      <td>#NUM!</td>\n",
       "      <td>#NUM!</td>\n",
       "      <td>#NUM!</td>\n",
       "      <td>17.477233</td>\n",
       "      <td>7.497754494</td>\n",
       "    </tr>\n",
       "    <tr>\n",
       "      <th>2</th>\n",
       "      <td>AFG</td>\n",
       "      <td>Afghanistan</td>\n",
       "      <td>2020-01-02</td>\n",
       "      <td>0.0</td>\n",
       "      <td>0.0</td>\n",
       "      <td>0.00</td>\n",
       "      <td>38928341</td>\n",
       "      <td>1803.987</td>\n",
       "      <td>0.498</td>\n",
       "      <td>#NUM!</td>\n",
       "      <td>#NUM!</td>\n",
       "      <td>#NUM!</td>\n",
       "      <td>17.477233</td>\n",
       "      <td>7.497754494</td>\n",
       "    </tr>\n",
       "    <tr>\n",
       "      <th>3</th>\n",
       "      <td>AFG</td>\n",
       "      <td>Afghanistan</td>\n",
       "      <td>2020-01-03</td>\n",
       "      <td>0.0</td>\n",
       "      <td>0.0</td>\n",
       "      <td>0.00</td>\n",
       "      <td>38928341</td>\n",
       "      <td>1803.987</td>\n",
       "      <td>0.498</td>\n",
       "      <td>#NUM!</td>\n",
       "      <td>#NUM!</td>\n",
       "      <td>#NUM!</td>\n",
       "      <td>17.477233</td>\n",
       "      <td>7.497754494</td>\n",
       "    </tr>\n",
       "    <tr>\n",
       "      <th>4</th>\n",
       "      <td>AFG</td>\n",
       "      <td>Afghanistan</td>\n",
       "      <td>2020-01-04</td>\n",
       "      <td>0.0</td>\n",
       "      <td>0.0</td>\n",
       "      <td>0.00</td>\n",
       "      <td>38928341</td>\n",
       "      <td>1803.987</td>\n",
       "      <td>0.498</td>\n",
       "      <td>#NUM!</td>\n",
       "      <td>#NUM!</td>\n",
       "      <td>#NUM!</td>\n",
       "      <td>17.477233</td>\n",
       "      <td>7.497754494</td>\n",
       "    </tr>\n",
       "    <tr>\n",
       "      <th>...</th>\n",
       "      <td>...</td>\n",
       "      <td>...</td>\n",
       "      <td>...</td>\n",
       "      <td>...</td>\n",
       "      <td>...</td>\n",
       "      <td>...</td>\n",
       "      <td>...</td>\n",
       "      <td>...</td>\n",
       "      <td>...</td>\n",
       "      <td>...</td>\n",
       "      <td>...</td>\n",
       "      <td>...</td>\n",
       "      <td>...</td>\n",
       "      <td>...</td>\n",
       "    </tr>\n",
       "    <tr>\n",
       "      <th>50413</th>\n",
       "      <td>ZWE</td>\n",
       "      <td>Zimbabwe</td>\n",
       "      <td>2020-10-15</td>\n",
       "      <td>8055.0</td>\n",
       "      <td>231.0</td>\n",
       "      <td>76.85</td>\n",
       "      <td>14862927</td>\n",
       "      <td>1899.775</td>\n",
       "      <td>0.535</td>\n",
       "      <td>8.994048296</td>\n",
       "      <td>5.442417711</td>\n",
       "      <td>4.34185547</td>\n",
       "      <td>16.514381</td>\n",
       "      <td>7.549490737</td>\n",
       "    </tr>\n",
       "    <tr>\n",
       "      <th>50414</th>\n",
       "      <td>ZWE</td>\n",
       "      <td>Zimbabwe</td>\n",
       "      <td>2020-10-16</td>\n",
       "      <td>8075.0</td>\n",
       "      <td>231.0</td>\n",
       "      <td>76.85</td>\n",
       "      <td>14862927</td>\n",
       "      <td>1899.775</td>\n",
       "      <td>0.535</td>\n",
       "      <td>8.996528148</td>\n",
       "      <td>5.442417711</td>\n",
       "      <td>4.34185547</td>\n",
       "      <td>16.514381</td>\n",
       "      <td>7.549490737</td>\n",
       "    </tr>\n",
       "    <tr>\n",
       "      <th>50415</th>\n",
       "      <td>ZWE</td>\n",
       "      <td>Zimbabwe</td>\n",
       "      <td>2020-10-17</td>\n",
       "      <td>8099.0</td>\n",
       "      <td>231.0</td>\n",
       "      <td>76.85</td>\n",
       "      <td>14862927</td>\n",
       "      <td>1899.775</td>\n",
       "      <td>0.535</td>\n",
       "      <td>8.999495876</td>\n",
       "      <td>5.442417711</td>\n",
       "      <td>4.34185547</td>\n",
       "      <td>16.514381</td>\n",
       "      <td>7.549490737</td>\n",
       "    </tr>\n",
       "    <tr>\n",
       "      <th>50416</th>\n",
       "      <td>ZWE</td>\n",
       "      <td>Zimbabwe</td>\n",
       "      <td>2020-10-18</td>\n",
       "      <td>8110.0</td>\n",
       "      <td>231.0</td>\n",
       "      <td>76.85</td>\n",
       "      <td>14862927</td>\n",
       "      <td>1899.775</td>\n",
       "      <td>0.535</td>\n",
       "      <td>9.000853147</td>\n",
       "      <td>5.442417711</td>\n",
       "      <td>4.34185547</td>\n",
       "      <td>16.514381</td>\n",
       "      <td>7.549490737</td>\n",
       "    </tr>\n",
       "    <tr>\n",
       "      <th>50417</th>\n",
       "      <td>ZWE</td>\n",
       "      <td>Zimbabwe</td>\n",
       "      <td>2020-10-19</td>\n",
       "      <td>8147.0</td>\n",
       "      <td>231.0</td>\n",
       "      <td>76.85</td>\n",
       "      <td>14862927</td>\n",
       "      <td>1899.775</td>\n",
       "      <td>0.535</td>\n",
       "      <td>9.00540504</td>\n",
       "      <td>5.442417711</td>\n",
       "      <td>4.34185547</td>\n",
       "      <td>16.514381</td>\n",
       "      <td>7.549490737</td>\n",
       "    </tr>\n",
       "  </tbody>\n",
       "</table>\n",
       "<p>50418 rows × 14 columns</p>\n",
       "</div>"
      ],
      "text/plain": [
       "      iso_code     location        date  total_cases  total_deaths  \\\n",
       "0          AFG  Afghanistan  2019-12-31          0.0           0.0   \n",
       "1          AFG  Afghanistan  2020-01-01          0.0           0.0   \n",
       "2          AFG  Afghanistan  2020-01-02          0.0           0.0   \n",
       "3          AFG  Afghanistan  2020-01-03          0.0           0.0   \n",
       "4          AFG  Afghanistan  2020-01-04          0.0           0.0   \n",
       "...        ...          ...         ...          ...           ...   \n",
       "50413      ZWE     Zimbabwe  2020-10-15       8055.0         231.0   \n",
       "50414      ZWE     Zimbabwe  2020-10-16       8075.0         231.0   \n",
       "50415      ZWE     Zimbabwe  2020-10-17       8099.0         231.0   \n",
       "50416      ZWE     Zimbabwe  2020-10-18       8110.0         231.0   \n",
       "50417      ZWE     Zimbabwe  2020-10-19       8147.0         231.0   \n",
       "\n",
       "       stringency_index  population  gdp_per_capita  human_development_index  \\\n",
       "0                  0.00    38928341        1803.987                    0.498   \n",
       "1                  0.00    38928341        1803.987                    0.498   \n",
       "2                  0.00    38928341        1803.987                    0.498   \n",
       "3                  0.00    38928341        1803.987                    0.498   \n",
       "4                  0.00    38928341        1803.987                    0.498   \n",
       "...                 ...         ...             ...                      ...   \n",
       "50413             76.85    14862927        1899.775                    0.535   \n",
       "50414             76.85    14862927        1899.775                    0.535   \n",
       "50415             76.85    14862927        1899.775                    0.535   \n",
       "50416             76.85    14862927        1899.775                    0.535   \n",
       "50417             76.85    14862927        1899.775                    0.535   \n",
       "\n",
       "        Unnamed: 9  Unnamed: 10 Unnamed: 11  Unnamed: 12  Unnamed: 13  \n",
       "0            #NUM!        #NUM!       #NUM!    17.477233  7.497754494  \n",
       "1            #NUM!        #NUM!       #NUM!    17.477233  7.497754494  \n",
       "2            #NUM!        #NUM!       #NUM!    17.477233  7.497754494  \n",
       "3            #NUM!        #NUM!       #NUM!    17.477233  7.497754494  \n",
       "4            #NUM!        #NUM!       #NUM!    17.477233  7.497754494  \n",
       "...            ...          ...         ...          ...          ...  \n",
       "50413  8.994048296  5.442417711  4.34185547    16.514381  7.549490737  \n",
       "50414  8.996528148  5.442417711  4.34185547    16.514381  7.549490737  \n",
       "50415  8.999495876  5.442417711  4.34185547    16.514381  7.549490737  \n",
       "50416  9.000853147  5.442417711  4.34185547    16.514381  7.549490737  \n",
       "50417   9.00540504  5.442417711  4.34185547    16.514381  7.549490737  \n",
       "\n",
       "[50418 rows x 14 columns]"
      ]
     },
     "execution_count": 4,
     "metadata": {},
     "output_type": "execute_result"
    }
   ],
   "source": [
    "raw"
   ]
  },
  {
   "cell_type": "code",
   "execution_count": 5,
   "id": "810d6299",
   "metadata": {},
   "outputs": [
    {
     "data": {
      "text/plain": [
       "<bound method DataFrame.info of       iso_code     location        date  total_cases  total_deaths  \\\n",
       "0          AFG  Afghanistan  2019-12-31          0.0           0.0   \n",
       "1          AFG  Afghanistan  2020-01-01          0.0           0.0   \n",
       "2          AFG  Afghanistan  2020-01-02          0.0           0.0   \n",
       "3          AFG  Afghanistan  2020-01-03          0.0           0.0   \n",
       "4          AFG  Afghanistan  2020-01-04          0.0           0.0   \n",
       "...        ...          ...         ...          ...           ...   \n",
       "50413      ZWE     Zimbabwe  2020-10-15       8055.0         231.0   \n",
       "50414      ZWE     Zimbabwe  2020-10-16       8075.0         231.0   \n",
       "50415      ZWE     Zimbabwe  2020-10-17       8099.0         231.0   \n",
       "50416      ZWE     Zimbabwe  2020-10-18       8110.0         231.0   \n",
       "50417      ZWE     Zimbabwe  2020-10-19       8147.0         231.0   \n",
       "\n",
       "       stringency_index  population  gdp_per_capita  human_development_index  \\\n",
       "0                  0.00    38928341        1803.987                    0.498   \n",
       "1                  0.00    38928341        1803.987                    0.498   \n",
       "2                  0.00    38928341        1803.987                    0.498   \n",
       "3                  0.00    38928341        1803.987                    0.498   \n",
       "4                  0.00    38928341        1803.987                    0.498   \n",
       "...                 ...         ...             ...                      ...   \n",
       "50413             76.85    14862927        1899.775                    0.535   \n",
       "50414             76.85    14862927        1899.775                    0.535   \n",
       "50415             76.85    14862927        1899.775                    0.535   \n",
       "50416             76.85    14862927        1899.775                    0.535   \n",
       "50417             76.85    14862927        1899.775                    0.535   \n",
       "\n",
       "        Unnamed: 9  Unnamed: 10 Unnamed: 11  Unnamed: 12  Unnamed: 13  \n",
       "0            #NUM!        #NUM!       #NUM!    17.477233  7.497754494  \n",
       "1            #NUM!        #NUM!       #NUM!    17.477233  7.497754494  \n",
       "2            #NUM!        #NUM!       #NUM!    17.477233  7.497754494  \n",
       "3            #NUM!        #NUM!       #NUM!    17.477233  7.497754494  \n",
       "4            #NUM!        #NUM!       #NUM!    17.477233  7.497754494  \n",
       "...            ...          ...         ...          ...          ...  \n",
       "50413  8.994048296  5.442417711  4.34185547    16.514381  7.549490737  \n",
       "50414  8.996528148  5.442417711  4.34185547    16.514381  7.549490737  \n",
       "50415  8.999495876  5.442417711  4.34185547    16.514381  7.549490737  \n",
       "50416  9.000853147  5.442417711  4.34185547    16.514381  7.549490737  \n",
       "50417   9.00540504  5.442417711  4.34185547    16.514381  7.549490737  \n",
       "\n",
       "[50418 rows x 14 columns]>"
      ]
     },
     "execution_count": 5,
     "metadata": {},
     "output_type": "execute_result"
    }
   ],
   "source": [
    "raw.info"
   ]
  },
  {
   "cell_type": "code",
   "execution_count": 8,
   "id": "34d1f33b",
   "metadata": {},
   "outputs": [
    {
     "data": {
      "text/html": [
       "<div>\n",
       "<style scoped>\n",
       "    .dataframe tbody tr th:only-of-type {\n",
       "        vertical-align: middle;\n",
       "    }\n",
       "\n",
       "    .dataframe tbody tr th {\n",
       "        vertical-align: top;\n",
       "    }\n",
       "\n",
       "    .dataframe thead th {\n",
       "        text-align: right;\n",
       "    }\n",
       "</style>\n",
       "<table border=\"1\" class=\"dataframe\">\n",
       "  <thead>\n",
       "    <tr style=\"text-align: right;\">\n",
       "      <th></th>\n",
       "      <th>CODE</th>\n",
       "      <th>COUNTRY</th>\n",
       "      <th>DATE</th>\n",
       "      <th>HDI</th>\n",
       "      <th>TC</th>\n",
       "      <th>TD</th>\n",
       "      <th>STI</th>\n",
       "      <th>POP</th>\n",
       "      <th>GDPCAP</th>\n",
       "    </tr>\n",
       "  </thead>\n",
       "  <tbody>\n",
       "    <tr>\n",
       "      <th>0</th>\n",
       "      <td>AFG</td>\n",
       "      <td>Afghanistan</td>\n",
       "      <td>2019-12-31</td>\n",
       "      <td>0.498</td>\n",
       "      <td>0.0</td>\n",
       "      <td>0.0</td>\n",
       "      <td>0.0</td>\n",
       "      <td>17.477233</td>\n",
       "      <td>7.497754</td>\n",
       "    </tr>\n",
       "    <tr>\n",
       "      <th>1</th>\n",
       "      <td>AFG</td>\n",
       "      <td>Afghanistan</td>\n",
       "      <td>2020-01-01</td>\n",
       "      <td>0.498</td>\n",
       "      <td>0.0</td>\n",
       "      <td>0.0</td>\n",
       "      <td>0.0</td>\n",
       "      <td>17.477233</td>\n",
       "      <td>7.497754</td>\n",
       "    </tr>\n",
       "    <tr>\n",
       "      <th>2</th>\n",
       "      <td>AFG</td>\n",
       "      <td>Afghanistan</td>\n",
       "      <td>2020-01-02</td>\n",
       "      <td>0.498</td>\n",
       "      <td>0.0</td>\n",
       "      <td>0.0</td>\n",
       "      <td>0.0</td>\n",
       "      <td>17.477233</td>\n",
       "      <td>7.497754</td>\n",
       "    </tr>\n",
       "    <tr>\n",
       "      <th>3</th>\n",
       "      <td>AFG</td>\n",
       "      <td>Afghanistan</td>\n",
       "      <td>2020-01-03</td>\n",
       "      <td>0.498</td>\n",
       "      <td>0.0</td>\n",
       "      <td>0.0</td>\n",
       "      <td>0.0</td>\n",
       "      <td>17.477233</td>\n",
       "      <td>7.497754</td>\n",
       "    </tr>\n",
       "    <tr>\n",
       "      <th>4</th>\n",
       "      <td>AFG</td>\n",
       "      <td>Afghanistan</td>\n",
       "      <td>2020-01-04</td>\n",
       "      <td>0.498</td>\n",
       "      <td>0.0</td>\n",
       "      <td>0.0</td>\n",
       "      <td>0.0</td>\n",
       "      <td>17.477233</td>\n",
       "      <td>7.497754</td>\n",
       "    </tr>\n",
       "  </tbody>\n",
       "</table>\n",
       "</div>"
      ],
      "text/plain": [
       "  CODE      COUNTRY        DATE    HDI   TC   TD  STI        POP    GDPCAP\n",
       "0  AFG  Afghanistan  2019-12-31  0.498  0.0  0.0  0.0  17.477233  7.497754\n",
       "1  AFG  Afghanistan  2020-01-01  0.498  0.0  0.0  0.0  17.477233  7.497754\n",
       "2  AFG  Afghanistan  2020-01-02  0.498  0.0  0.0  0.0  17.477233  7.497754\n",
       "3  AFG  Afghanistan  2020-01-03  0.498  0.0  0.0  0.0  17.477233  7.497754\n",
       "4  AFG  Afghanistan  2020-01-04  0.498  0.0  0.0  0.0  17.477233  7.497754"
      ]
     },
     "execution_count": 8,
     "metadata": {},
     "output_type": "execute_result"
    }
   ],
   "source": [
    "trans.head()"
   ]
  },
  {
   "cell_type": "code",
   "execution_count": 9,
   "id": "82d68a87",
   "metadata": {},
   "outputs": [
    {
     "data": {
      "text/html": [
       "<div>\n",
       "<style scoped>\n",
       "    .dataframe tbody tr th:only-of-type {\n",
       "        vertical-align: middle;\n",
       "    }\n",
       "\n",
       "    .dataframe tbody tr th {\n",
       "        vertical-align: top;\n",
       "    }\n",
       "\n",
       "    .dataframe thead th {\n",
       "        text-align: right;\n",
       "    }\n",
       "</style>\n",
       "<table border=\"1\" class=\"dataframe\">\n",
       "  <thead>\n",
       "    <tr style=\"text-align: right;\">\n",
       "      <th></th>\n",
       "      <th>iso_code</th>\n",
       "      <th>location</th>\n",
       "      <th>date</th>\n",
       "      <th>total_cases</th>\n",
       "      <th>total_deaths</th>\n",
       "      <th>stringency_index</th>\n",
       "      <th>population</th>\n",
       "      <th>gdp_per_capita</th>\n",
       "      <th>human_development_index</th>\n",
       "      <th>Unnamed: 9</th>\n",
       "      <th>Unnamed: 10</th>\n",
       "      <th>Unnamed: 11</th>\n",
       "      <th>Unnamed: 12</th>\n",
       "      <th>Unnamed: 13</th>\n",
       "    </tr>\n",
       "  </thead>\n",
       "  <tbody>\n",
       "    <tr>\n",
       "      <th>0</th>\n",
       "      <td>AFG</td>\n",
       "      <td>Afghanistan</td>\n",
       "      <td>2019-12-31</td>\n",
       "      <td>0.0</td>\n",
       "      <td>0.0</td>\n",
       "      <td>0.0</td>\n",
       "      <td>38928341</td>\n",
       "      <td>1803.987</td>\n",
       "      <td>0.498</td>\n",
       "      <td>#NUM!</td>\n",
       "      <td>#NUM!</td>\n",
       "      <td>#NUM!</td>\n",
       "      <td>17.477233</td>\n",
       "      <td>7.497754494</td>\n",
       "    </tr>\n",
       "    <tr>\n",
       "      <th>1</th>\n",
       "      <td>AFG</td>\n",
       "      <td>Afghanistan</td>\n",
       "      <td>2020-01-01</td>\n",
       "      <td>0.0</td>\n",
       "      <td>0.0</td>\n",
       "      <td>0.0</td>\n",
       "      <td>38928341</td>\n",
       "      <td>1803.987</td>\n",
       "      <td>0.498</td>\n",
       "      <td>#NUM!</td>\n",
       "      <td>#NUM!</td>\n",
       "      <td>#NUM!</td>\n",
       "      <td>17.477233</td>\n",
       "      <td>7.497754494</td>\n",
       "    </tr>\n",
       "    <tr>\n",
       "      <th>2</th>\n",
       "      <td>AFG</td>\n",
       "      <td>Afghanistan</td>\n",
       "      <td>2020-01-02</td>\n",
       "      <td>0.0</td>\n",
       "      <td>0.0</td>\n",
       "      <td>0.0</td>\n",
       "      <td>38928341</td>\n",
       "      <td>1803.987</td>\n",
       "      <td>0.498</td>\n",
       "      <td>#NUM!</td>\n",
       "      <td>#NUM!</td>\n",
       "      <td>#NUM!</td>\n",
       "      <td>17.477233</td>\n",
       "      <td>7.497754494</td>\n",
       "    </tr>\n",
       "    <tr>\n",
       "      <th>3</th>\n",
       "      <td>AFG</td>\n",
       "      <td>Afghanistan</td>\n",
       "      <td>2020-01-03</td>\n",
       "      <td>0.0</td>\n",
       "      <td>0.0</td>\n",
       "      <td>0.0</td>\n",
       "      <td>38928341</td>\n",
       "      <td>1803.987</td>\n",
       "      <td>0.498</td>\n",
       "      <td>#NUM!</td>\n",
       "      <td>#NUM!</td>\n",
       "      <td>#NUM!</td>\n",
       "      <td>17.477233</td>\n",
       "      <td>7.497754494</td>\n",
       "    </tr>\n",
       "    <tr>\n",
       "      <th>4</th>\n",
       "      <td>AFG</td>\n",
       "      <td>Afghanistan</td>\n",
       "      <td>2020-01-04</td>\n",
       "      <td>0.0</td>\n",
       "      <td>0.0</td>\n",
       "      <td>0.0</td>\n",
       "      <td>38928341</td>\n",
       "      <td>1803.987</td>\n",
       "      <td>0.498</td>\n",
       "      <td>#NUM!</td>\n",
       "      <td>#NUM!</td>\n",
       "      <td>#NUM!</td>\n",
       "      <td>17.477233</td>\n",
       "      <td>7.497754494</td>\n",
       "    </tr>\n",
       "  </tbody>\n",
       "</table>\n",
       "</div>"
      ],
      "text/plain": [
       "  iso_code     location        date  total_cases  total_deaths  \\\n",
       "0      AFG  Afghanistan  2019-12-31          0.0           0.0   \n",
       "1      AFG  Afghanistan  2020-01-01          0.0           0.0   \n",
       "2      AFG  Afghanistan  2020-01-02          0.0           0.0   \n",
       "3      AFG  Afghanistan  2020-01-03          0.0           0.0   \n",
       "4      AFG  Afghanistan  2020-01-04          0.0           0.0   \n",
       "\n",
       "   stringency_index  population  gdp_per_capita  human_development_index  \\\n",
       "0               0.0    38928341        1803.987                    0.498   \n",
       "1               0.0    38928341        1803.987                    0.498   \n",
       "2               0.0    38928341        1803.987                    0.498   \n",
       "3               0.0    38928341        1803.987                    0.498   \n",
       "4               0.0    38928341        1803.987                    0.498   \n",
       "\n",
       "  Unnamed: 9 Unnamed: 10 Unnamed: 11  Unnamed: 12  Unnamed: 13  \n",
       "0      #NUM!       #NUM!       #NUM!    17.477233  7.497754494  \n",
       "1      #NUM!       #NUM!       #NUM!    17.477233  7.497754494  \n",
       "2      #NUM!       #NUM!       #NUM!    17.477233  7.497754494  \n",
       "3      #NUM!       #NUM!       #NUM!    17.477233  7.497754494  \n",
       "4      #NUM!       #NUM!       #NUM!    17.477233  7.497754494  "
      ]
     },
     "execution_count": 9,
     "metadata": {},
     "output_type": "execute_result"
    }
   ],
   "source": [
    "raw.head()"
   ]
  },
  {
   "cell_type": "code",
   "execution_count": 10,
   "id": "67e551a2",
   "metadata": {},
   "outputs": [
    {
     "data": {
      "text/html": [
       "<div>\n",
       "<style scoped>\n",
       "    .dataframe tbody tr th:only-of-type {\n",
       "        vertical-align: middle;\n",
       "    }\n",
       "\n",
       "    .dataframe tbody tr th {\n",
       "        vertical-align: top;\n",
       "    }\n",
       "\n",
       "    .dataframe thead th {\n",
       "        text-align: right;\n",
       "    }\n",
       "</style>\n",
       "<table border=\"1\" class=\"dataframe\">\n",
       "  <thead>\n",
       "    <tr style=\"text-align: right;\">\n",
       "      <th></th>\n",
       "      <th>HDI</th>\n",
       "      <th>TC</th>\n",
       "      <th>TD</th>\n",
       "      <th>STI</th>\n",
       "      <th>POP</th>\n",
       "      <th>GDPCAP</th>\n",
       "    </tr>\n",
       "  </thead>\n",
       "  <tbody>\n",
       "    <tr>\n",
       "      <th>count</th>\n",
       "      <td>44216.000000</td>\n",
       "      <td>50418.000000</td>\n",
       "      <td>50418.000000</td>\n",
       "      <td>50418.000000</td>\n",
       "      <td>50418.000000</td>\n",
       "      <td>50418.000000</td>\n",
       "    </tr>\n",
       "    <tr>\n",
       "      <th>mean</th>\n",
       "      <td>0.720139</td>\n",
       "      <td>6.762125</td>\n",
       "      <td>3.413681</td>\n",
       "      <td>3.178897</td>\n",
       "      <td>15.442097</td>\n",
       "      <td>8.318580</td>\n",
       "    </tr>\n",
       "    <tr>\n",
       "      <th>std</th>\n",
       "      <td>0.160902</td>\n",
       "      <td>3.637347</td>\n",
       "      <td>3.082761</td>\n",
       "      <td>1.673451</td>\n",
       "      <td>2.495039</td>\n",
       "      <td>3.177130</td>\n",
       "    </tr>\n",
       "    <tr>\n",
       "      <th>min</th>\n",
       "      <td>0.000000</td>\n",
       "      <td>0.000000</td>\n",
       "      <td>0.000000</td>\n",
       "      <td>0.000000</td>\n",
       "      <td>6.695799</td>\n",
       "      <td>0.000000</td>\n",
       "    </tr>\n",
       "    <tr>\n",
       "      <th>25%</th>\n",
       "      <td>0.601000</td>\n",
       "      <td>4.158883</td>\n",
       "      <td>0.000000</td>\n",
       "      <td>2.867331</td>\n",
       "      <td>14.151619</td>\n",
       "      <td>7.955479</td>\n",
       "    </tr>\n",
       "    <tr>\n",
       "      <th>50%</th>\n",
       "      <td>0.752000</td>\n",
       "      <td>7.092574</td>\n",
       "      <td>3.178054</td>\n",
       "      <td>4.000583</td>\n",
       "      <td>15.929201</td>\n",
       "      <td>9.368531</td>\n",
       "    </tr>\n",
       "    <tr>\n",
       "      <th>75%</th>\n",
       "      <td>0.847000</td>\n",
       "      <td>9.504669</td>\n",
       "      <td>5.620401</td>\n",
       "      <td>4.335852</td>\n",
       "      <td>17.187513</td>\n",
       "      <td>10.237704</td>\n",
       "    </tr>\n",
       "    <tr>\n",
       "      <th>max</th>\n",
       "      <td>0.953000</td>\n",
       "      <td>15.914092</td>\n",
       "      <td>12.299900</td>\n",
       "      <td>4.605170</td>\n",
       "      <td>21.087439</td>\n",
       "      <td>11.669379</td>\n",
       "    </tr>\n",
       "  </tbody>\n",
       "</table>\n",
       "</div>"
      ],
      "text/plain": [
       "                HDI            TC            TD           STI           POP  \\\n",
       "count  44216.000000  50418.000000  50418.000000  50418.000000  50418.000000   \n",
       "mean       0.720139      6.762125      3.413681      3.178897     15.442097   \n",
       "std        0.160902      3.637347      3.082761      1.673451      2.495039   \n",
       "min        0.000000      0.000000      0.000000      0.000000      6.695799   \n",
       "25%        0.601000      4.158883      0.000000      2.867331     14.151619   \n",
       "50%        0.752000      7.092574      3.178054      4.000583     15.929201   \n",
       "75%        0.847000      9.504669      5.620401      4.335852     17.187513   \n",
       "max        0.953000     15.914092     12.299900      4.605170     21.087439   \n",
       "\n",
       "             GDPCAP  \n",
       "count  50418.000000  \n",
       "mean       8.318580  \n",
       "std        3.177130  \n",
       "min        0.000000  \n",
       "25%        7.955479  \n",
       "50%        9.368531  \n",
       "75%       10.237704  \n",
       "max       11.669379  "
      ]
     },
     "execution_count": 10,
     "metadata": {},
     "output_type": "execute_result"
    }
   ],
   "source": [
    "# A summary of the data\n",
    "trans.describe()"
   ]
  },
  {
   "cell_type": "code",
   "execution_count": 11,
   "id": "6c6569ff",
   "metadata": {},
   "outputs": [
    {
     "data": {
      "text/html": [
       "<div>\n",
       "<style scoped>\n",
       "    .dataframe tbody tr th:only-of-type {\n",
       "        vertical-align: middle;\n",
       "    }\n",
       "\n",
       "    .dataframe tbody tr th {\n",
       "        vertical-align: top;\n",
       "    }\n",
       "\n",
       "    .dataframe thead th {\n",
       "        text-align: right;\n",
       "    }\n",
       "</style>\n",
       "<table border=\"1\" class=\"dataframe\">\n",
       "  <thead>\n",
       "    <tr style=\"text-align: right;\">\n",
       "      <th></th>\n",
       "      <th>total_cases</th>\n",
       "      <th>total_deaths</th>\n",
       "      <th>stringency_index</th>\n",
       "      <th>population</th>\n",
       "      <th>gdp_per_capita</th>\n",
       "      <th>human_development_index</th>\n",
       "      <th>Unnamed: 12</th>\n",
       "    </tr>\n",
       "  </thead>\n",
       "  <tbody>\n",
       "    <tr>\n",
       "      <th>count</th>\n",
       "      <td>4.732400e+04</td>\n",
       "      <td>39228.000000</td>\n",
       "      <td>43292.000000</td>\n",
       "      <td>5.041800e+04</td>\n",
       "      <td>44706.000000</td>\n",
       "      <td>44216.000000</td>\n",
       "      <td>50418.000000</td>\n",
       "    </tr>\n",
       "    <tr>\n",
       "      <th>mean</th>\n",
       "      <td>6.621927e+04</td>\n",
       "      <td>2978.767819</td>\n",
       "      <td>56.162022</td>\n",
       "      <td>4.251601e+07</td>\n",
       "      <td>20818.706240</td>\n",
       "      <td>0.720139</td>\n",
       "      <td>15.442097</td>\n",
       "    </tr>\n",
       "    <tr>\n",
       "      <th>std</th>\n",
       "      <td>4.045582e+05</td>\n",
       "      <td>13836.644013</td>\n",
       "      <td>27.532685</td>\n",
       "      <td>1.564607e+08</td>\n",
       "      <td>20441.365392</td>\n",
       "      <td>0.160902</td>\n",
       "      <td>2.495039</td>\n",
       "    </tr>\n",
       "    <tr>\n",
       "      <th>min</th>\n",
       "      <td>0.000000e+00</td>\n",
       "      <td>0.000000</td>\n",
       "      <td>0.000000</td>\n",
       "      <td>8.090000e+02</td>\n",
       "      <td>661.240000</td>\n",
       "      <td>0.000000</td>\n",
       "      <td>6.695799</td>\n",
       "    </tr>\n",
       "    <tr>\n",
       "      <th>25%</th>\n",
       "      <td>1.260000e+02</td>\n",
       "      <td>10.000000</td>\n",
       "      <td>37.960000</td>\n",
       "      <td>1.399491e+06</td>\n",
       "      <td>5338.454000</td>\n",
       "      <td>0.601000</td>\n",
       "      <td>14.151619</td>\n",
       "    </tr>\n",
       "    <tr>\n",
       "      <th>50%</th>\n",
       "      <td>1.594000e+03</td>\n",
       "      <td>64.000000</td>\n",
       "      <td>61.110000</td>\n",
       "      <td>8.278737e+06</td>\n",
       "      <td>13913.839000</td>\n",
       "      <td>0.752000</td>\n",
       "      <td>15.929201</td>\n",
       "    </tr>\n",
       "    <tr>\n",
       "      <th>75%</th>\n",
       "      <td>1.584775e+04</td>\n",
       "      <td>564.000000</td>\n",
       "      <td>78.700000</td>\n",
       "      <td>2.913681e+07</td>\n",
       "      <td>31400.840000</td>\n",
       "      <td>0.847000</td>\n",
       "      <td>17.187513</td>\n",
       "    </tr>\n",
       "    <tr>\n",
       "      <th>max</th>\n",
       "      <td>8.154595e+06</td>\n",
       "      <td>219674.000000</td>\n",
       "      <td>100.000000</td>\n",
       "      <td>1.439324e+09</td>\n",
       "      <td>116935.600000</td>\n",
       "      <td>0.953000</td>\n",
       "      <td>21.087439</td>\n",
       "    </tr>\n",
       "  </tbody>\n",
       "</table>\n",
       "</div>"
      ],
      "text/plain": [
       "        total_cases   total_deaths  stringency_index    population  \\\n",
       "count  4.732400e+04   39228.000000      43292.000000  5.041800e+04   \n",
       "mean   6.621927e+04    2978.767819         56.162022  4.251601e+07   \n",
       "std    4.045582e+05   13836.644013         27.532685  1.564607e+08   \n",
       "min    0.000000e+00       0.000000          0.000000  8.090000e+02   \n",
       "25%    1.260000e+02      10.000000         37.960000  1.399491e+06   \n",
       "50%    1.594000e+03      64.000000         61.110000  8.278737e+06   \n",
       "75%    1.584775e+04     564.000000         78.700000  2.913681e+07   \n",
       "max    8.154595e+06  219674.000000        100.000000  1.439324e+09   \n",
       "\n",
       "       gdp_per_capita  human_development_index   Unnamed: 12  \n",
       "count    44706.000000             44216.000000  50418.000000  \n",
       "mean     20818.706240                 0.720139     15.442097  \n",
       "std      20441.365392                 0.160902      2.495039  \n",
       "min        661.240000                 0.000000      6.695799  \n",
       "25%       5338.454000                 0.601000     14.151619  \n",
       "50%      13913.839000                 0.752000     15.929201  \n",
       "75%      31400.840000                 0.847000     17.187513  \n",
       "max     116935.600000                 0.953000     21.087439  "
      ]
     },
     "execution_count": 11,
     "metadata": {},
     "output_type": "execute_result"
    }
   ],
   "source": [
    "# A Summary of the data\n",
    "raw.describe()"
   ]
  },
  {
   "cell_type": "code",
   "execution_count": 12,
   "id": "ba106fc3",
   "metadata": {},
   "outputs": [
    {
     "data": {
      "text/plain": [
       "Afghanistan        294\n",
       "Indonesia          294\n",
       "Macedonia          294\n",
       "Luxembourg         294\n",
       "Lithuania          294\n",
       "                  ... \n",
       "Tajikistan         172\n",
       "Comoros            171\n",
       "Lesotho            158\n",
       "Hong Kong           51\n",
       "Solomon Islands      4\n",
       "Name: COUNTRY, Length: 210, dtype: int64"
      ]
     },
     "execution_count": 12,
     "metadata": {},
     "output_type": "execute_result"
    }
   ],
   "source": [
    "trans[\"COUNTRY\"].value_counts()"
   ]
  },
  {
   "cell_type": "code",
   "execution_count": 13,
   "id": "729c2e43",
   "metadata": {},
   "outputs": [
    {
     "data": {
      "text/plain": [
       "0    294\n",
       "Name: COUNTRY, dtype: int64"
      ]
     },
     "execution_count": 13,
     "metadata": {},
     "output_type": "execute_result"
    }
   ],
   "source": [
    "trans[\"COUNTRY\"].value_counts().mode()"
   ]
  },
  {
   "cell_type": "code",
   "execution_count": 14,
   "id": "29f368bf",
   "metadata": {},
   "outputs": [
    {
     "data": {
      "text/html": [
       "<div>\n",
       "<style scoped>\n",
       "    .dataframe tbody tr th:only-of-type {\n",
       "        vertical-align: middle;\n",
       "    }\n",
       "\n",
       "    .dataframe tbody tr th {\n",
       "        vertical-align: top;\n",
       "    }\n",
       "\n",
       "    .dataframe thead th {\n",
       "        text-align: right;\n",
       "    }\n",
       "</style>\n",
       "<table border=\"1\" class=\"dataframe\">\n",
       "  <thead>\n",
       "    <tr style=\"text-align: right;\">\n",
       "      <th></th>\n",
       "      <th>Country Code</th>\n",
       "      <th>Country</th>\n",
       "      <th>HDI</th>\n",
       "      <th>Total Cases</th>\n",
       "      <th>Total Deaths</th>\n",
       "      <th>Stringency Index</th>\n",
       "      <th>Population</th>\n",
       "    </tr>\n",
       "  </thead>\n",
       "  <tbody>\n",
       "    <tr>\n",
       "      <th>0</th>\n",
       "      <td>AFG</td>\n",
       "      <td>Afghanistan</td>\n",
       "      <td>0.498000</td>\n",
       "      <td>5126433.0</td>\n",
       "      <td>165875.0</td>\n",
       "      <td>3.049673</td>\n",
       "      <td>17.477233</td>\n",
       "    </tr>\n",
       "    <tr>\n",
       "      <th>1</th>\n",
       "      <td>ALB</td>\n",
       "      <td>Albania</td>\n",
       "      <td>0.600765</td>\n",
       "      <td>1071951.0</td>\n",
       "      <td>31056.0</td>\n",
       "      <td>3.005624</td>\n",
       "      <td>14.872537</td>\n",
       "    </tr>\n",
       "    <tr>\n",
       "      <th>2</th>\n",
       "      <td>DZA</td>\n",
       "      <td>Algeria</td>\n",
       "      <td>0.754000</td>\n",
       "      <td>4893999.0</td>\n",
       "      <td>206429.0</td>\n",
       "      <td>3.195168</td>\n",
       "      <td>17.596309</td>\n",
       "    </tr>\n",
       "    <tr>\n",
       "      <th>3</th>\n",
       "      <td>AND</td>\n",
       "      <td>Andorra</td>\n",
       "      <td>0.659551</td>\n",
       "      <td>223576.0</td>\n",
       "      <td>9850.0</td>\n",
       "      <td>2.677654</td>\n",
       "      <td>11.254996</td>\n",
       "    </tr>\n",
       "    <tr>\n",
       "      <th>4</th>\n",
       "      <td>AGO</td>\n",
       "      <td>Angola</td>\n",
       "      <td>0.418952</td>\n",
       "      <td>304005.0</td>\n",
       "      <td>11820.0</td>\n",
       "      <td>2.965560</td>\n",
       "      <td>17.307957</td>\n",
       "    </tr>\n",
       "  </tbody>\n",
       "</table>\n",
       "</div>"
      ],
      "text/plain": [
       "  Country Code      Country       HDI  Total Cases  Total Deaths  \\\n",
       "0          AFG  Afghanistan  0.498000    5126433.0      165875.0   \n",
       "1          ALB      Albania  0.600765    1071951.0       31056.0   \n",
       "2          DZA      Algeria  0.754000    4893999.0      206429.0   \n",
       "3          AND      Andorra  0.659551     223576.0        9850.0   \n",
       "4          AGO       Angola  0.418952     304005.0       11820.0   \n",
       "\n",
       "   Stringency Index  Population  \n",
       "0          3.049673   17.477233  \n",
       "1          3.005624   14.872537  \n",
       "2          3.195168   17.596309  \n",
       "3          2.677654   11.254996  \n",
       "4          2.965560   17.307957  "
      ]
     },
     "execution_count": 14,
     "metadata": {},
     "output_type": "execute_result"
    }
   ],
   "source": [
    "#Aggregating the data\n",
    "\n",
    "code = trans[\"CODE\"].unique().tolist()\n",
    "country = trans[\"COUNTRY\"].unique().tolist()\n",
    "hdi = []\n",
    "tc = []\n",
    "td = []\n",
    "sti = []\n",
    "population = trans[\"POP\"].unique().tolist()\n",
    "gdp = []\n",
    "\n",
    "for i in country:\n",
    "    hdi.append((trans.loc[trans[\"COUNTRY\"] == i, \"HDI\"]).sum()/294)\n",
    "    tc.append((raw.loc[raw[\"location\"] == i, \"total_cases\"]).sum())\n",
    "    td.append((raw.loc[raw[\"location\"] == i, \"total_deaths\"]).sum())\n",
    "    sti.append((trans.loc[trans[\"COUNTRY\"] == i, \"STI\"]).sum()/294)\n",
    "    population.append((raw.loc[raw[\"location\"] == i, \"population\"]).sum()/294)\n",
    "    \n",
    "    \n",
    "aggregated_data = pd.DataFrame(list(zip(code, country, hdi, tc, td, sti, population)), columns = [\"Country Code\", \"Country\", \"HDI\", \"Total Cases\", \"Total Deaths\", \"Stringency Index\", \"Population\"])\n",
    "\n",
    "aggregated_data.head()"
   ]
  },
  {
   "cell_type": "code",
   "execution_count": 14,
   "id": "3b286ceb",
   "metadata": {},
   "outputs": [
    {
     "ename": "NameError",
     "evalue": "name 'aggregated_data' is not defined",
     "output_type": "error",
     "traceback": [
      "\u001b[1;31m---------------------------------------------------------------------------\u001b[0m",
      "\u001b[1;31mNameError\u001b[0m                                 Traceback (most recent call last)",
      "Input \u001b[1;32mIn [14]\u001b[0m, in \u001b[0;36m<cell line: 2>\u001b[1;34m()\u001b[0m\n\u001b[0;32m      1\u001b[0m \u001b[38;5;66;03m# Sorting Data According to total Cases\u001b[39;00m\n\u001b[1;32m----> 2\u001b[0m transf \u001b[38;5;241m=\u001b[39m \u001b[43maggregated_data\u001b[49m\u001b[38;5;241m.\u001b[39msort_values(by\u001b[38;5;241m=\u001b[39m[\u001b[38;5;124m\"\u001b[39m\u001b[38;5;124mTotal Cases\u001b[39m\u001b[38;5;124m\"\u001b[39m], ascending \u001b[38;5;241m=\u001b[39m \u001b[38;5;28;01mFalse\u001b[39;00m)\n\u001b[0;32m      3\u001b[0m transf\u001b[38;5;241m.\u001b[39mhead()\n",
      "\u001b[1;31mNameError\u001b[0m: name 'aggregated_data' is not defined"
     ]
    }
   ],
   "source": [
    "# Sorting Data According to total Cases\n",
    "transf = aggregated_data.sort_values(by=[\"Total Cases\"], ascending = False)\n",
    "transf.head()"
   ]
  },
  {
   "cell_type": "code",
   "execution_count": 18,
   "id": "cf322511",
   "metadata": {},
   "outputs": [
    {
     "data": {
      "text/html": [
       "<div>\n",
       "<style scoped>\n",
       "    .dataframe tbody tr th:only-of-type {\n",
       "        vertical-align: middle;\n",
       "    }\n",
       "\n",
       "    .dataframe tbody tr th {\n",
       "        vertical-align: top;\n",
       "    }\n",
       "\n",
       "    .dataframe thead th {\n",
       "        text-align: right;\n",
       "    }\n",
       "</style>\n",
       "<table border=\"1\" class=\"dataframe\">\n",
       "  <thead>\n",
       "    <tr style=\"text-align: right;\">\n",
       "      <th></th>\n",
       "      <th>Country Code</th>\n",
       "      <th>Country</th>\n",
       "      <th>HDI</th>\n",
       "      <th>Total Cases</th>\n",
       "      <th>Total Deaths</th>\n",
       "      <th>Stringency Index</th>\n",
       "      <th>Population</th>\n",
       "    </tr>\n",
       "  </thead>\n",
       "  <tbody>\n",
       "    <tr>\n",
       "      <th>200</th>\n",
       "      <td>USA</td>\n",
       "      <td>United States</td>\n",
       "      <td>0.924000</td>\n",
       "      <td>746014098.0</td>\n",
       "      <td>26477574.0</td>\n",
       "      <td>3.350949</td>\n",
       "      <td>19.617637</td>\n",
       "    </tr>\n",
       "    <tr>\n",
       "      <th>27</th>\n",
       "      <td>BRA</td>\n",
       "      <td>Brazil</td>\n",
       "      <td>0.759000</td>\n",
       "      <td>425704517.0</td>\n",
       "      <td>14340567.0</td>\n",
       "      <td>3.136028</td>\n",
       "      <td>19.174732</td>\n",
       "    </tr>\n",
       "    <tr>\n",
       "      <th>90</th>\n",
       "      <td>IND</td>\n",
       "      <td>India</td>\n",
       "      <td>0.640000</td>\n",
       "      <td>407771615.0</td>\n",
       "      <td>7247327.0</td>\n",
       "      <td>3.610552</td>\n",
       "      <td>21.045353</td>\n",
       "    </tr>\n",
       "    <tr>\n",
       "      <th>157</th>\n",
       "      <td>RUS</td>\n",
       "      <td>Russia</td>\n",
       "      <td>0.816000</td>\n",
       "      <td>132888951.0</td>\n",
       "      <td>2131571.0</td>\n",
       "      <td>3.380088</td>\n",
       "      <td>18.798668</td>\n",
       "    </tr>\n",
       "    <tr>\n",
       "      <th>150</th>\n",
       "      <td>PER</td>\n",
       "      <td>Peru</td>\n",
       "      <td>0.599490</td>\n",
       "      <td>74882695.0</td>\n",
       "      <td>3020038.0</td>\n",
       "      <td>3.430126</td>\n",
       "      <td>17.311165</td>\n",
       "    </tr>\n",
       "    <tr>\n",
       "      <th>125</th>\n",
       "      <td>MEX</td>\n",
       "      <td>Mexico</td>\n",
       "      <td>0.774000</td>\n",
       "      <td>74347548.0</td>\n",
       "      <td>7295850.0</td>\n",
       "      <td>3.019289</td>\n",
       "      <td>18.674802</td>\n",
       "    </tr>\n",
       "    <tr>\n",
       "      <th>178</th>\n",
       "      <td>ESP</td>\n",
       "      <td>Spain</td>\n",
       "      <td>0.887969</td>\n",
       "      <td>73717676.0</td>\n",
       "      <td>5510624.0</td>\n",
       "      <td>3.393922</td>\n",
       "      <td>17.660427</td>\n",
       "    </tr>\n",
       "    <tr>\n",
       "      <th>175</th>\n",
       "      <td>ZAF</td>\n",
       "      <td>South Africa</td>\n",
       "      <td>0.608653</td>\n",
       "      <td>63027659.0</td>\n",
       "      <td>1357682.0</td>\n",
       "      <td>3.364333</td>\n",
       "      <td>17.898266</td>\n",
       "    </tr>\n",
       "    <tr>\n",
       "      <th>42</th>\n",
       "      <td>COL</td>\n",
       "      <td>Colombia</td>\n",
       "      <td>0.581847</td>\n",
       "      <td>60543682.0</td>\n",
       "      <td>1936134.0</td>\n",
       "      <td>3.357923</td>\n",
       "      <td>17.745037</td>\n",
       "    </tr>\n",
       "    <tr>\n",
       "      <th>199</th>\n",
       "      <td>GBR</td>\n",
       "      <td>United Kingdom</td>\n",
       "      <td>0.922000</td>\n",
       "      <td>59475032.0</td>\n",
       "      <td>7249573.0</td>\n",
       "      <td>3.353883</td>\n",
       "      <td>18.033340</td>\n",
       "    </tr>\n",
       "  </tbody>\n",
       "</table>\n",
       "</div>"
      ],
      "text/plain": [
       "    Country Code         Country       HDI  Total Cases  Total Deaths  \\\n",
       "200          USA   United States  0.924000  746014098.0    26477574.0   \n",
       "27           BRA          Brazil  0.759000  425704517.0    14340567.0   \n",
       "90           IND           India  0.640000  407771615.0     7247327.0   \n",
       "157          RUS          Russia  0.816000  132888951.0     2131571.0   \n",
       "150          PER            Peru  0.599490   74882695.0     3020038.0   \n",
       "125          MEX          Mexico  0.774000   74347548.0     7295850.0   \n",
       "178          ESP           Spain  0.887969   73717676.0     5510624.0   \n",
       "175          ZAF    South Africa  0.608653   63027659.0     1357682.0   \n",
       "42           COL        Colombia  0.581847   60543682.0     1936134.0   \n",
       "199          GBR  United Kingdom  0.922000   59475032.0     7249573.0   \n",
       "\n",
       "     Stringency Index  Population  \n",
       "200          3.350949   19.617637  \n",
       "27           3.136028   19.174732  \n",
       "90           3.610552   21.045353  \n",
       "157          3.380088   18.798668  \n",
       "150          3.430126   17.311165  \n",
       "125          3.019289   18.674802  \n",
       "178          3.393922   17.660427  \n",
       "175          3.364333   17.898266  \n",
       "42           3.357923   17.745037  \n",
       "199          3.353883   18.033340  "
      ]
     },
     "execution_count": 18,
     "metadata": {},
     "output_type": "execute_result"
    }
   ],
   "source": [
    "# Top 10 Countries with the Highest Covid Cases\n",
    "\n",
    "transf.head(10)"
   ]
  },
  {
   "cell_type": "code",
   "execution_count": 19,
   "id": "df44427e",
   "metadata": {},
   "outputs": [
    {
     "data": {
      "text/html": [
       "<div>\n",
       "<style scoped>\n",
       "    .dataframe tbody tr th:only-of-type {\n",
       "        vertical-align: middle;\n",
       "    }\n",
       "\n",
       "    .dataframe tbody tr th {\n",
       "        vertical-align: top;\n",
       "    }\n",
       "\n",
       "    .dataframe thead th {\n",
       "        text-align: right;\n",
       "    }\n",
       "</style>\n",
       "<table border=\"1\" class=\"dataframe\">\n",
       "  <thead>\n",
       "    <tr style=\"text-align: right;\">\n",
       "      <th></th>\n",
       "      <th>Country Code</th>\n",
       "      <th>Country</th>\n",
       "      <th>HDI</th>\n",
       "      <th>Total Cases</th>\n",
       "      <th>Total Deaths</th>\n",
       "      <th>Stringency Index</th>\n",
       "      <th>Population</th>\n",
       "    </tr>\n",
       "  </thead>\n",
       "  <tbody>\n",
       "    <tr>\n",
       "      <th>107</th>\n",
       "      <td>LAO</td>\n",
       "      <td>Laos</td>\n",
       "      <td>0.427241</td>\n",
       "      <td>4039.0</td>\n",
       "      <td>0.0</td>\n",
       "      <td>2.516712</td>\n",
       "      <td>15.800031</td>\n",
       "    </tr>\n",
       "    <tr>\n",
       "      <th>55</th>\n",
       "      <td>DMA</td>\n",
       "      <td>Dominica</td>\n",
       "      <td>0.513146</td>\n",
       "      <td>3977.0</td>\n",
       "      <td>0.0</td>\n",
       "      <td>2.681967</td>\n",
       "      <td>11.184296</td>\n",
       "    </tr>\n",
       "    <tr>\n",
       "      <th>159</th>\n",
       "      <td>KNA</td>\n",
       "      <td>Saint Kitts and Nevis</td>\n",
       "      <td>0.550422</td>\n",
       "      <td>3246.0</td>\n",
       "      <td>0.0</td>\n",
       "      <td>0.000000</td>\n",
       "      <td>10.881663</td>\n",
       "    </tr>\n",
       "    <tr>\n",
       "      <th>77</th>\n",
       "      <td>GRL</td>\n",
       "      <td>Greenland</td>\n",
       "      <td>0.000000</td>\n",
       "      <td>2678.0</td>\n",
       "      <td>0.0</td>\n",
       "      <td>2.588435</td>\n",
       "      <td>10.946799</td>\n",
       "    </tr>\n",
       "    <tr>\n",
       "      <th>65</th>\n",
       "      <td>FLK</td>\n",
       "      <td>Falkland Islands</td>\n",
       "      <td>0.000000</td>\n",
       "      <td>2467.0</td>\n",
       "      <td>0.0</td>\n",
       "      <td>2.122958</td>\n",
       "      <td>8.155649</td>\n",
       "    </tr>\n",
       "    <tr>\n",
       "      <th>204</th>\n",
       "      <td>VAT</td>\n",
       "      <td>Vatican</td>\n",
       "      <td>0.000000</td>\n",
       "      <td>2415.0</td>\n",
       "      <td>0.0</td>\n",
       "      <td>0.000000</td>\n",
       "      <td>6.695799</td>\n",
       "    </tr>\n",
       "    <tr>\n",
       "      <th>130</th>\n",
       "      <td>MSR</td>\n",
       "      <td>Montserrat</td>\n",
       "      <td>0.000000</td>\n",
       "      <td>2383.0</td>\n",
       "      <td>177.0</td>\n",
       "      <td>2.477077</td>\n",
       "      <td>8.516993</td>\n",
       "    </tr>\n",
       "    <tr>\n",
       "      <th>5</th>\n",
       "      <td>AIA</td>\n",
       "      <td>Anguilla</td>\n",
       "      <td>0.000000</td>\n",
       "      <td>614.0</td>\n",
       "      <td>0.0</td>\n",
       "      <td>2.326181</td>\n",
       "      <td>9.615939</td>\n",
       "    </tr>\n",
       "    <tr>\n",
       "      <th>173</th>\n",
       "      <td>SLB</td>\n",
       "      <td>Solomon Islands</td>\n",
       "      <td>0.007429</td>\n",
       "      <td>11.0</td>\n",
       "      <td>0.0</td>\n",
       "      <td>0.000000</td>\n",
       "      <td>13.439912</td>\n",
       "    </tr>\n",
       "    <tr>\n",
       "      <th>87</th>\n",
       "      <td>HKG</td>\n",
       "      <td>Hong Kong</td>\n",
       "      <td>0.161847</td>\n",
       "      <td>0.0</td>\n",
       "      <td>0.0</td>\n",
       "      <td>0.643980</td>\n",
       "      <td>15.830012</td>\n",
       "    </tr>\n",
       "  </tbody>\n",
       "</table>\n",
       "</div>"
      ],
      "text/plain": [
       "    Country Code                Country       HDI  Total Cases  Total Deaths  \\\n",
       "107          LAO                   Laos  0.427241       4039.0           0.0   \n",
       "55           DMA               Dominica  0.513146       3977.0           0.0   \n",
       "159          KNA  Saint Kitts and Nevis  0.550422       3246.0           0.0   \n",
       "77           GRL              Greenland  0.000000       2678.0           0.0   \n",
       "65           FLK       Falkland Islands  0.000000       2467.0           0.0   \n",
       "204          VAT                Vatican  0.000000       2415.0           0.0   \n",
       "130          MSR             Montserrat  0.000000       2383.0         177.0   \n",
       "5            AIA               Anguilla  0.000000        614.0           0.0   \n",
       "173          SLB        Solomon Islands  0.007429         11.0           0.0   \n",
       "87           HKG              Hong Kong  0.161847          0.0           0.0   \n",
       "\n",
       "     Stringency Index  Population  \n",
       "107          2.516712   15.800031  \n",
       "55           2.681967   11.184296  \n",
       "159          0.000000   10.881663  \n",
       "77           2.588435   10.946799  \n",
       "65           2.122958    8.155649  \n",
       "204          0.000000    6.695799  \n",
       "130          2.477077    8.516993  \n",
       "5            2.326181    9.615939  \n",
       "173          0.000000   13.439912  \n",
       "87           0.643980   15.830012  "
      ]
     },
     "execution_count": 19,
     "metadata": {},
     "output_type": "execute_result"
    }
   ],
   "source": [
    "# Countries with the least Covid Cases\n",
    "transf.tail(10)"
   ]
  },
  {
   "cell_type": "code",
   "execution_count": 20,
   "id": "c77416d9",
   "metadata": {},
   "outputs": [
    {
     "data": {
      "text/html": [
       "<div>\n",
       "<style scoped>\n",
       "    .dataframe tbody tr th:only-of-type {\n",
       "        vertical-align: middle;\n",
       "    }\n",
       "\n",
       "    .dataframe tbody tr th {\n",
       "        vertical-align: top;\n",
       "    }\n",
       "\n",
       "    .dataframe thead th {\n",
       "        text-align: right;\n",
       "    }\n",
       "</style>\n",
       "<table border=\"1\" class=\"dataframe\">\n",
       "  <thead>\n",
       "    <tr style=\"text-align: right;\">\n",
       "      <th></th>\n",
       "      <th>Country Code</th>\n",
       "      <th>Country</th>\n",
       "      <th>HDI</th>\n",
       "      <th>Total Cases</th>\n",
       "      <th>Total Deaths</th>\n",
       "      <th>Stringency Index</th>\n",
       "      <th>Population</th>\n",
       "    </tr>\n",
       "  </thead>\n",
       "  <tbody>\n",
       "    <tr>\n",
       "      <th>103</th>\n",
       "      <td>KEN</td>\n",
       "      <td>Kenya</td>\n",
       "      <td>0.457551</td>\n",
       "      <td>3277734.0</td>\n",
       "      <td>59485.0</td>\n",
       "      <td>3.33293</td>\n",
       "      <td>17.80025</td>\n",
       "    </tr>\n",
       "  </tbody>\n",
       "</table>\n",
       "</div>"
      ],
      "text/plain": [
       "    Country Code Country       HDI  Total Cases  Total Deaths  \\\n",
       "103          KEN   Kenya  0.457551    3277734.0       59485.0   \n",
       "\n",
       "     Stringency Index  Population  \n",
       "103           3.33293    17.80025  "
      ]
     },
     "execution_count": 20,
     "metadata": {},
     "output_type": "execute_result"
    }
   ],
   "source": [
    "#Number of covid cases in Kenya.\n",
    "transf[((transf['Country'] == \"Kenya\"))]"
   ]
  },
  {
   "cell_type": "code",
   "execution_count": 21,
   "id": "eaae3657",
   "metadata": {},
   "outputs": [
    {
     "data": {
      "text/html": [
       "<div>\n",
       "<style scoped>\n",
       "    .dataframe tbody tr th:only-of-type {\n",
       "        vertical-align: middle;\n",
       "    }\n",
       "\n",
       "    .dataframe tbody tr th {\n",
       "        vertical-align: top;\n",
       "    }\n",
       "\n",
       "    .dataframe thead th {\n",
       "        text-align: right;\n",
       "    }\n",
       "</style>\n",
       "<table border=\"1\" class=\"dataframe\">\n",
       "  <thead>\n",
       "    <tr style=\"text-align: right;\">\n",
       "      <th></th>\n",
       "      <th>Country Code</th>\n",
       "      <th>Country</th>\n",
       "      <th>HDI</th>\n",
       "      <th>Total Cases</th>\n",
       "      <th>Total Deaths</th>\n",
       "      <th>Stringency Index</th>\n",
       "      <th>Population</th>\n",
       "      <th>GDP Before Covid</th>\n",
       "      <th>GDP During Covid</th>\n",
       "    </tr>\n",
       "  </thead>\n",
       "  <tbody>\n",
       "    <tr>\n",
       "      <th>200</th>\n",
       "      <td>USA</td>\n",
       "      <td>United States</td>\n",
       "      <td>0.92400</td>\n",
       "      <td>746014098.0</td>\n",
       "      <td>26477574.0</td>\n",
       "      <td>3.350949</td>\n",
       "      <td>19.617637</td>\n",
       "      <td>65279.53</td>\n",
       "      <td>63543.58</td>\n",
       "    </tr>\n",
       "    <tr>\n",
       "      <th>27</th>\n",
       "      <td>BRA</td>\n",
       "      <td>Brazil</td>\n",
       "      <td>0.75900</td>\n",
       "      <td>425704517.0</td>\n",
       "      <td>14340567.0</td>\n",
       "      <td>3.136028</td>\n",
       "      <td>19.174732</td>\n",
       "      <td>8897.49</td>\n",
       "      <td>6796.84</td>\n",
       "    </tr>\n",
       "    <tr>\n",
       "      <th>90</th>\n",
       "      <td>IND</td>\n",
       "      <td>India</td>\n",
       "      <td>0.64000</td>\n",
       "      <td>407771615.0</td>\n",
       "      <td>7247327.0</td>\n",
       "      <td>3.610552</td>\n",
       "      <td>21.045353</td>\n",
       "      <td>2100.75</td>\n",
       "      <td>1900.71</td>\n",
       "    </tr>\n",
       "    <tr>\n",
       "      <th>157</th>\n",
       "      <td>RUS</td>\n",
       "      <td>Russia</td>\n",
       "      <td>0.81600</td>\n",
       "      <td>132888951.0</td>\n",
       "      <td>2131571.0</td>\n",
       "      <td>3.380088</td>\n",
       "      <td>18.798668</td>\n",
       "      <td>11497.65</td>\n",
       "      <td>10126.72</td>\n",
       "    </tr>\n",
       "    <tr>\n",
       "      <th>150</th>\n",
       "      <td>PER</td>\n",
       "      <td>Peru</td>\n",
       "      <td>0.59949</td>\n",
       "      <td>74882695.0</td>\n",
       "      <td>3020038.0</td>\n",
       "      <td>3.430126</td>\n",
       "      <td>17.311165</td>\n",
       "      <td>7027.61</td>\n",
       "      <td>6126.87</td>\n",
       "    </tr>\n",
       "  </tbody>\n",
       "</table>\n",
       "</div>"
      ],
      "text/plain": [
       "    Country Code        Country      HDI  Total Cases  Total Deaths  \\\n",
       "200          USA  United States  0.92400  746014098.0    26477574.0   \n",
       "27           BRA         Brazil  0.75900  425704517.0    14340567.0   \n",
       "90           IND          India  0.64000  407771615.0     7247327.0   \n",
       "157          RUS         Russia  0.81600  132888951.0     2131571.0   \n",
       "150          PER           Peru  0.59949   74882695.0     3020038.0   \n",
       "\n",
       "     Stringency Index  Population  GDP Before Covid  GDP During Covid  \n",
       "200          3.350949   19.617637          65279.53          63543.58  \n",
       "27           3.136028   19.174732           8897.49           6796.84  \n",
       "90           3.610552   21.045353           2100.75           1900.71  \n",
       "157          3.380088   18.798668          11497.65          10126.72  \n",
       "150          3.430126   17.311165           7027.61           6126.87  "
      ]
     },
     "execution_count": 21,
     "metadata": {},
     "output_type": "execute_result"
    }
   ],
   "source": [
    "transf[\"GDP Before Covid\"] =pd.Series([65279.53, 8897.49, 2100.75, 11497.65, 7027.61, 9946.03, 29564.74, 6001.40, 6424.98, 42354.41], index=[200, 27,90, 157, 150, 125, 178, 175, 42, 199]) \n",
    "                            \n",
    "                            \n",
    "transf[\"GDP During Covid\"] = pd.Series([63543.58, 6796.84, 1900.71,  10126.72, 6126.87, 8346.70, 27057.16, 5090.72, 5332.77, 40284.64], index=[200, 27,90, 157, 150, 125, 178, 175, 42, 199])\n",
    "                            \n",
    "                            \n",
    "transf.head()"
   ]
  },
  {
   "cell_type": "code",
   "execution_count": 22,
   "id": "a1c115f4",
   "metadata": {},
   "outputs": [
    {
     "data": {
      "text/plain": [
       "Country Code          0\n",
       "Country               0\n",
       "HDI                   0\n",
       "Total Cases           0\n",
       "Total Deaths          0\n",
       "Stringency Index      0\n",
       "Population            0\n",
       "GDP Before Covid    200\n",
       "GDP During Covid    200\n",
       "dtype: int64"
      ]
     },
     "execution_count": 22,
     "metadata": {},
     "output_type": "execute_result"
    }
   ],
   "source": [
    "#Checking null values.\n",
    "transf.isnull().sum()"
   ]
  },
  {
   "cell_type": "code",
   "execution_count": 23,
   "id": "792f16cd",
   "metadata": {},
   "outputs": [
    {
     "name": "stdout",
     "output_type": "stream",
     "text": [
      "18909.459\n"
     ]
    }
   ],
   "source": [
    "#Mean of the GDP Before Covid\n",
    "gdp_bc = transf['GDP Before Covid'].mean()\n",
    "print(gdp_bc)"
   ]
  },
  {
   "cell_type": "code",
   "execution_count": 24,
   "id": "eb9feabf",
   "metadata": {},
   "outputs": [
    {
     "name": "stdout",
     "output_type": "stream",
     "text": [
      "17460.671000000002\n"
     ]
    }
   ],
   "source": [
    "#Mean of GDP During Covid\n",
    "gdp_dc = transf['GDP During Covid'].mean()\n",
    "print(gdp_dc)"
   ]
  },
  {
   "cell_type": "code",
   "execution_count": 25,
   "id": "3cd131de",
   "metadata": {},
   "outputs": [],
   "source": [
    "#Filling the null values with the means.\n",
    "transf['GDP Before Covid'].fillna(gdp_bc, inplace = True)\n",
    "transf['GDP During Covid'].fillna(gdp_dc, inplace = True)"
   ]
  },
  {
   "cell_type": "code",
   "execution_count": 7,
   "id": "5ada6336",
   "metadata": {},
   "outputs": [
    {
     "ename": "NameError",
     "evalue": "name 'transf' is not defined",
     "output_type": "error",
     "traceback": [
      "\u001b[1;31m---------------------------------------------------------------------------\u001b[0m",
      "\u001b[1;31mNameError\u001b[0m                                 Traceback (most recent call last)",
      "Input \u001b[1;32mIn [7]\u001b[0m, in \u001b[0;36m<cell line: 1>\u001b[1;34m()\u001b[0m\n\u001b[1;32m----> 1\u001b[0m \u001b[43mtransf\u001b[49m\u001b[38;5;241m.\u001b[39mhead()\n",
      "\u001b[1;31mNameError\u001b[0m: name 'transf' is not defined"
     ]
    }
   ],
   "source": [
    "transf.head()"
   ]
  },
  {
   "cell_type": "markdown",
   "id": "5fdcfab2",
   "metadata": {},
   "source": [
    "Analyzing the spread of Covid-19 in all the countries with the highest number of covid-19 cases.We'll first look at the countries with the highest number of covid-19 cases."
   ]
  },
  {
   "cell_type": "markdown",
   "id": "07b33672",
   "metadata": {},
   "source": [
    "# VISUALIZATIONS"
   ]
  },
  {
   "cell_type": "code",
   "execution_count": 6,
   "id": "cb3e7058",
   "metadata": {},
   "outputs": [
    {
     "ename": "NameError",
     "evalue": "name 'transf' is not defined",
     "output_type": "error",
     "traceback": [
      "\u001b[1;31m---------------------------------------------------------------------------\u001b[0m",
      "\u001b[1;31mNameError\u001b[0m                                 Traceback (most recent call last)",
      "Input \u001b[1;32mIn [6]\u001b[0m, in \u001b[0;36m<cell line: 2>\u001b[1;34m()\u001b[0m\n\u001b[0;32m      1\u001b[0m \u001b[38;5;66;03m# Countries with the highest covid-19 cases.\u001b[39;00m\n\u001b[1;32m----> 2\u001b[0m fg \u001b[38;5;241m=\u001b[39m px\u001b[38;5;241m.\u001b[39mbar(\u001b[43mtransf\u001b[49m, y\u001b[38;5;241m=\u001b[39m\u001b[38;5;124m'\u001b[39m\u001b[38;5;124mTotal Cases\u001b[39m\u001b[38;5;124m'\u001b[39m, x\u001b[38;5;241m=\u001b[39m\u001b[38;5;124m'\u001b[39m\u001b[38;5;124mCountry\u001b[39m\u001b[38;5;124m'\u001b[39m, color\u001b[38;5;241m=\u001b[39m\u001b[38;5;124m'\u001b[39m\u001b[38;5;124mCountry\u001b[39m\u001b[38;5;124m'\u001b[39m, title\u001b[38;5;241m=\u001b[39m\u001b[38;5;124m'\u001b[39m\u001b[38;5;124mCountries with the Highest Covid Cases\u001b[39m\u001b[38;5;124m'\u001b[39m)\n\u001b[0;32m      3\u001b[0m fg\u001b[38;5;241m.\u001b[39mshow()\n",
      "\u001b[1;31mNameError\u001b[0m: name 'transf' is not defined"
     ]
    }
   ],
   "source": [
    "# Countries with the highest covid-19 cases.\n",
    "fg = px.bar(transf, y='Total Cases', x='Country', color='Country', title='Countries with the Highest Covid Cases')\n",
    "fg.show()"
   ]
  },
  {
   "cell_type": "markdown",
   "id": "5262b7fe",
   "metadata": {},
   "source": [
    "We can see that the USA is relatively having a high number of covid-19 cases as compared to Brazil and India in the second and third positions."
   ]
  },
  {
   "cell_type": "code",
   "execution_count": 39,
   "id": "eef94d83",
   "metadata": {},
   "outputs": [
    {
     "data": {
      "application/vnd.plotly.v1+json": {
       "config": {
        "plotlyServerURL": "https://plot.ly"
       },
       "data": [
        {
         "alignmentgroup": "True",
         "hovertemplate": "Country=%{x}<br>Total Deaths=%{y}<extra></extra>",
         "legendgroup": "United States",
         "marker": {
          "color": "#636efa",
          "pattern": {
           "shape": ""
          }
         },
         "name": "United States",
         "offsetgroup": "United States",
         "orientation": "v",
         "showlegend": true,
         "textposition": "auto",
         "type": "bar",
         "x": [
          "United States"
         ],
         "xaxis": "x",
         "y": [
          26477574
         ],
         "yaxis": "y"
        },
        {
         "alignmentgroup": "True",
         "hovertemplate": "Country=%{x}<br>Total Deaths=%{y}<extra></extra>",
         "legendgroup": "Brazil",
         "marker": {
          "color": "#EF553B",
          "pattern": {
           "shape": ""
          }
         },
         "name": "Brazil",
         "offsetgroup": "Brazil",
         "orientation": "v",
         "showlegend": true,
         "textposition": "auto",
         "type": "bar",
         "x": [
          "Brazil"
         ],
         "xaxis": "x",
         "y": [
          14340567
         ],
         "yaxis": "y"
        },
        {
         "alignmentgroup": "True",
         "hovertemplate": "Country=%{x}<br>Total Deaths=%{y}<extra></extra>",
         "legendgroup": "India",
         "marker": {
          "color": "#00cc96",
          "pattern": {
           "shape": ""
          }
         },
         "name": "India",
         "offsetgroup": "India",
         "orientation": "v",
         "showlegend": true,
         "textposition": "auto",
         "type": "bar",
         "x": [
          "India"
         ],
         "xaxis": "x",
         "y": [
          7247327
         ],
         "yaxis": "y"
        },
        {
         "alignmentgroup": "True",
         "hovertemplate": "Country=%{x}<br>Total Deaths=%{y}<extra></extra>",
         "legendgroup": "Russia",
         "marker": {
          "color": "#ab63fa",
          "pattern": {
           "shape": ""
          }
         },
         "name": "Russia",
         "offsetgroup": "Russia",
         "orientation": "v",
         "showlegend": true,
         "textposition": "auto",
         "type": "bar",
         "x": [
          "Russia"
         ],
         "xaxis": "x",
         "y": [
          2131571
         ],
         "yaxis": "y"
        },
        {
         "alignmentgroup": "True",
         "hovertemplate": "Country=%{x}<br>Total Deaths=%{y}<extra></extra>",
         "legendgroup": "Peru",
         "marker": {
          "color": "#FFA15A",
          "pattern": {
           "shape": ""
          }
         },
         "name": "Peru",
         "offsetgroup": "Peru",
         "orientation": "v",
         "showlegend": true,
         "textposition": "auto",
         "type": "bar",
         "x": [
          "Peru"
         ],
         "xaxis": "x",
         "y": [
          3020038
         ],
         "yaxis": "y"
        },
        {
         "alignmentgroup": "True",
         "hovertemplate": "Country=%{x}<br>Total Deaths=%{y}<extra></extra>",
         "legendgroup": "Mexico",
         "marker": {
          "color": "#19d3f3",
          "pattern": {
           "shape": ""
          }
         },
         "name": "Mexico",
         "offsetgroup": "Mexico",
         "orientation": "v",
         "showlegend": true,
         "textposition": "auto",
         "type": "bar",
         "x": [
          "Mexico"
         ],
         "xaxis": "x",
         "y": [
          7295850
         ],
         "yaxis": "y"
        },
        {
         "alignmentgroup": "True",
         "hovertemplate": "Country=%{x}<br>Total Deaths=%{y}<extra></extra>",
         "legendgroup": "Spain",
         "marker": {
          "color": "#FF6692",
          "pattern": {
           "shape": ""
          }
         },
         "name": "Spain",
         "offsetgroup": "Spain",
         "orientation": "v",
         "showlegend": true,
         "textposition": "auto",
         "type": "bar",
         "x": [
          "Spain"
         ],
         "xaxis": "x",
         "y": [
          5510624
         ],
         "yaxis": "y"
        },
        {
         "alignmentgroup": "True",
         "hovertemplate": "Country=%{x}<br>Total Deaths=%{y}<extra></extra>",
         "legendgroup": "South Africa",
         "marker": {
          "color": "#B6E880",
          "pattern": {
           "shape": ""
          }
         },
         "name": "South Africa",
         "offsetgroup": "South Africa",
         "orientation": "v",
         "showlegend": true,
         "textposition": "auto",
         "type": "bar",
         "x": [
          "South Africa"
         ],
         "xaxis": "x",
         "y": [
          1357682
         ],
         "yaxis": "y"
        },
        {
         "alignmentgroup": "True",
         "hovertemplate": "Country=%{x}<br>Total Deaths=%{y}<extra></extra>",
         "legendgroup": "Colombia",
         "marker": {
          "color": "#FF97FF",
          "pattern": {
           "shape": ""
          }
         },
         "name": "Colombia",
         "offsetgroup": "Colombia",
         "orientation": "v",
         "showlegend": true,
         "textposition": "auto",
         "type": "bar",
         "x": [
          "Colombia"
         ],
         "xaxis": "x",
         "y": [
          1936134
         ],
         "yaxis": "y"
        },
        {
         "alignmentgroup": "True",
         "hovertemplate": "Country=%{x}<br>Total Deaths=%{y}<extra></extra>",
         "legendgroup": "United Kingdom",
         "marker": {
          "color": "#FECB52",
          "pattern": {
           "shape": ""
          }
         },
         "name": "United Kingdom",
         "offsetgroup": "United Kingdom",
         "orientation": "v",
         "showlegend": true,
         "textposition": "auto",
         "type": "bar",
         "x": [
          "United Kingdom"
         ],
         "xaxis": "x",
         "y": [
          7249573
         ],
         "yaxis": "y"
        },
        {
         "alignmentgroup": "True",
         "hovertemplate": "Country=%{x}<br>Total Deaths=%{y}<extra></extra>",
         "legendgroup": "Iran",
         "marker": {
          "color": "#636efa",
          "pattern": {
           "shape": ""
          }
         },
         "name": "Iran",
         "offsetgroup": "Iran",
         "orientation": "v",
         "showlegend": true,
         "textposition": "auto",
         "type": "bar",
         "x": [
          "Iran"
         ],
         "xaxis": "x",
         "y": [
          2914070
         ],
         "yaxis": "y"
        },
        {
         "alignmentgroup": "True",
         "hovertemplate": "Country=%{x}<br>Total Deaths=%{y}<extra></extra>",
         "legendgroup": "Chile",
         "marker": {
          "color": "#EF553B",
          "pattern": {
           "shape": ""
          }
         },
         "name": "Chile",
         "offsetgroup": "Chile",
         "orientation": "v",
         "showlegend": true,
         "textposition": "auto",
         "type": "bar",
         "x": [
          "Chile"
         ],
         "xaxis": "x",
         "y": [
          1283880
         ],
         "yaxis": "y"
        },
        {
         "alignmentgroup": "True",
         "hovertemplate": "Country=%{x}<br>Total Deaths=%{y}<extra></extra>",
         "legendgroup": "Italy",
         "marker": {
          "color": "#00cc96",
          "pattern": {
           "shape": ""
          }
         },
         "name": "Italy",
         "offsetgroup": "Italy",
         "orientation": "v",
         "showlegend": true,
         "textposition": "auto",
         "type": "bar",
         "x": [
          "Italy"
         ],
         "xaxis": "x",
         "y": [
          6664225
         ],
         "yaxis": "y"
        },
        {
         "alignmentgroup": "True",
         "hovertemplate": "Country=%{x}<br>Total Deaths=%{y}<extra></extra>",
         "legendgroup": "France",
         "marker": {
          "color": "#ab63fa",
          "pattern": {
           "shape": ""
          }
         },
         "name": "France",
         "offsetgroup": "France",
         "orientation": "v",
         "showlegend": true,
         "textposition": "auto",
         "type": "bar",
         "x": [
          "France"
         ],
         "xaxis": "x",
         "y": [
          5633444
         ],
         "yaxis": "y"
        },
        {
         "alignmentgroup": "True",
         "hovertemplate": "Country=%{x}<br>Total Deaths=%{y}<extra></extra>",
         "legendgroup": "Argentina",
         "marker": {
          "color": "#FFA15A",
          "pattern": {
           "shape": ""
          }
         },
         "name": "Argentina",
         "offsetgroup": "Argentina",
         "orientation": "v",
         "showlegend": true,
         "textposition": "auto",
         "type": "bar",
         "x": [
          "Argentina"
         ],
         "xaxis": "x",
         "y": [
          1077426
         ],
         "yaxis": "y"
        },
        {
         "alignmentgroup": "True",
         "hovertemplate": "Country=%{x}<br>Total Deaths=%{y}<extra></extra>",
         "legendgroup": "Germany",
         "marker": {
          "color": "#19d3f3",
          "pattern": {
           "shape": ""
          }
         },
         "name": "Germany",
         "offsetgroup": "Germany",
         "orientation": "v",
         "showlegend": true,
         "textposition": "auto",
         "type": "bar",
         "x": [
          "Germany"
         ],
         "xaxis": "x",
         "y": [
          1640691
         ],
         "yaxis": "y"
        },
        {
         "alignmentgroup": "True",
         "hovertemplate": "Country=%{x}<br>Total Deaths=%{y}<extra></extra>",
         "legendgroup": "Turkey",
         "marker": {
          "color": "#FF6692",
          "pattern": {
           "shape": ""
          }
         },
         "name": "Turkey",
         "offsetgroup": "Turkey",
         "orientation": "v",
         "showlegend": true,
         "textposition": "auto",
         "type": "bar",
         "x": [
          "Turkey"
         ],
         "xaxis": "x",
         "y": [
          1049757
         ],
         "yaxis": "y"
        },
        {
         "alignmentgroup": "True",
         "hovertemplate": "Country=%{x}<br>Total Deaths=%{y}<extra></extra>",
         "legendgroup": "Saudi Arabia",
         "marker": {
          "color": "#B6E880",
          "pattern": {
           "shape": ""
          }
         },
         "name": "Saudi Arabia",
         "offsetgroup": "Saudi Arabia",
         "orientation": "v",
         "showlegend": true,
         "textposition": "auto",
         "type": "bar",
         "x": [
          "Saudi Arabia"
         ],
         "xaxis": "x",
         "y": [
          442507
         ],
         "yaxis": "y"
        },
        {
         "alignmentgroup": "True",
         "hovertemplate": "Country=%{x}<br>Total Deaths=%{y}<extra></extra>",
         "legendgroup": "Pakistan",
         "marker": {
          "color": "#FF97FF",
          "pattern": {
           "shape": ""
          }
         },
         "name": "Pakistan",
         "offsetgroup": "Pakistan",
         "orientation": "v",
         "showlegend": true,
         "textposition": "auto",
         "type": "bar",
         "x": [
          "Pakistan"
         ],
         "xaxis": "x",
         "y": [
          789557
         ],
         "yaxis": "y"
        },
        {
         "alignmentgroup": "True",
         "hovertemplate": "Country=%{x}<br>Total Deaths=%{y}<extra></extra>",
         "legendgroup": "Bangladesh",
         "marker": {
          "color": "#FECB52",
          "pattern": {
           "shape": ""
          }
         },
         "name": "Bangladesh",
         "offsetgroup": "Bangladesh",
         "orientation": "v",
         "showlegend": true,
         "textposition": "auto",
         "type": "bar",
         "x": [
          "Bangladesh"
         ],
         "xaxis": "x",
         "y": [
          484534
         ],
         "yaxis": "y"
        },
        {
         "alignmentgroup": "True",
         "hovertemplate": "Country=%{x}<br>Total Deaths=%{y}<extra></extra>",
         "legendgroup": "Iraq",
         "marker": {
          "color": "#636efa",
          "pattern": {
           "shape": ""
          }
         },
         "name": "Iraq",
         "offsetgroup": "Iraq",
         "orientation": "v",
         "showlegend": true,
         "textposition": "auto",
         "type": "bar",
         "x": [
          "Iraq"
         ],
         "xaxis": "x",
         "y": [
          744253
         ],
         "yaxis": "y"
        },
        {
         "alignmentgroup": "True",
         "hovertemplate": "Country=%{x}<br>Total Deaths=%{y}<extra></extra>",
         "legendgroup": "Philippines",
         "marker": {
          "color": "#EF553B",
          "pattern": {
           "shape": ""
          }
         },
         "name": "Philippines",
         "offsetgroup": "Philippines",
         "orientation": "v",
         "showlegend": true,
         "textposition": "auto",
         "type": "bar",
         "x": [
          "Philippines"
         ],
         "xaxis": "x",
         "y": [
          448665
         ],
         "yaxis": "y"
        },
        {
         "alignmentgroup": "True",
         "hovertemplate": "Country=%{x}<br>Total Deaths=%{y}<extra></extra>",
         "legendgroup": "China",
         "marker": {
          "color": "#00cc96",
          "pattern": {
           "shape": ""
          }
         },
         "name": "China",
         "offsetgroup": "China",
         "orientation": "v",
         "showlegend": true,
         "textposition": "auto",
         "type": "bar",
         "x": [
          "China"
         ],
         "xaxis": "x",
         "y": [
          1066939
         ],
         "yaxis": "y"
        },
        {
         "alignmentgroup": "True",
         "hovertemplate": "Country=%{x}<br>Total Deaths=%{y}<extra></extra>",
         "legendgroup": "Indonesia",
         "marker": {
          "color": "#ab63fa",
          "pattern": {
           "shape": ""
          }
         },
         "name": "Indonesia",
         "offsetgroup": "Indonesia",
         "orientation": "v",
         "showlegend": true,
         "textposition": "auto",
         "type": "bar",
         "x": [
          "Indonesia"
         ],
         "xaxis": "x",
         "y": [
          916111
         ],
         "yaxis": "y"
        },
        {
         "alignmentgroup": "True",
         "hovertemplate": "Country=%{x}<br>Total Deaths=%{y}<extra></extra>",
         "legendgroup": "Canada",
         "marker": {
          "color": "#FFA15A",
          "pattern": {
           "shape": ""
          }
         },
         "name": "Canada",
         "offsetgroup": "Canada",
         "orientation": "v",
         "showlegend": true,
         "textposition": "auto",
         "type": "bar",
         "x": [
          "Canada"
         ],
         "xaxis": "x",
         "y": [
          1455549
         ],
         "yaxis": "y"
        },
        {
         "alignmentgroup": "True",
         "hovertemplate": "Country=%{x}<br>Total Deaths=%{y}<extra></extra>",
         "legendgroup": "Qatar",
         "marker": {
          "color": "#19d3f3",
          "pattern": {
           "shape": ""
          }
         },
         "name": "Qatar",
         "offsetgroup": "Qatar",
         "orientation": "v",
         "showlegend": true,
         "textposition": "auto",
         "type": "bar",
         "x": [
          "Qatar"
         ],
         "xaxis": "x",
         "y": [
          23820
         ],
         "yaxis": "y"
        },
        {
         "alignmentgroup": "True",
         "hovertemplate": "Country=%{x}<br>Total Deaths=%{y}<extra></extra>",
         "legendgroup": "Israel",
         "marker": {
          "color": "#FF6692",
          "pattern": {
           "shape": ""
          }
         },
         "name": "Israel",
         "offsetgroup": "Israel",
         "orientation": "v",
         "showlegend": true,
         "textposition": "auto",
         "type": "bar",
         "x": [
          "Israel"
         ],
         "xaxis": "x",
         "y": [
          126278
         ],
         "yaxis": "y"
        },
        {
         "alignmentgroup": "True",
         "hovertemplate": "Country=%{x}<br>Total Deaths=%{y}<extra></extra>",
         "legendgroup": "Ukraine",
         "marker": {
          "color": "#B6E880",
          "pattern": {
           "shape": ""
          }
         },
         "name": "Ukraine",
         "offsetgroup": "Ukraine",
         "orientation": "v",
         "showlegend": true,
         "textposition": "auto",
         "type": "bar",
         "x": [
          "Ukraine"
         ],
         "xaxis": "x",
         "y": [
          343334
         ],
         "yaxis": "y"
        },
        {
         "alignmentgroup": "True",
         "hovertemplate": "Country=%{x}<br>Total Deaths=%{y}<extra></extra>",
         "legendgroup": "Belgium",
         "marker": {
          "color": "#FF97FF",
          "pattern": {
           "shape": ""
          }
         },
         "name": "Belgium",
         "offsetgroup": "Belgium",
         "orientation": "v",
         "showlegend": true,
         "textposition": "auto",
         "type": "bar",
         "x": [
          "Belgium"
         ],
         "xaxis": "x",
         "y": [
          1798461
         ],
         "yaxis": "y"
        },
        {
         "alignmentgroup": "True",
         "hovertemplate": "Country=%{x}<br>Total Deaths=%{y}<extra></extra>",
         "legendgroup": "Ecuador",
         "marker": {
          "color": "#FECB52",
          "pattern": {
           "shape": ""
          }
         },
         "name": "Ecuador",
         "offsetgroup": "Ecuador",
         "orientation": "v",
         "showlegend": true,
         "textposition": "auto",
         "type": "bar",
         "x": [
          "Ecuador"
         ],
         "xaxis": "x",
         "y": [
          1083749
         ],
         "yaxis": "y"
        },
        {
         "alignmentgroup": "True",
         "hovertemplate": "Country=%{x}<br>Total Deaths=%{y}<extra></extra>",
         "legendgroup": "Kazakhstan",
         "marker": {
          "color": "#636efa",
          "pattern": {
           "shape": ""
          }
         },
         "name": "Kazakhstan",
         "offsetgroup": "Kazakhstan",
         "orientation": "v",
         "showlegend": true,
         "textposition": "auto",
         "type": "bar",
         "x": [
          "Kazakhstan"
         ],
         "xaxis": "x",
         "y": [
          161480
         ],
         "yaxis": "y"
        },
        {
         "alignmentgroup": "True",
         "hovertemplate": "Country=%{x}<br>Total Deaths=%{y}<extra></extra>",
         "legendgroup": "Netherlands",
         "marker": {
          "color": "#EF553B",
          "pattern": {
           "shape": ""
          }
         },
         "name": "Netherlands",
         "offsetgroup": "Netherlands",
         "orientation": "v",
         "showlegend": true,
         "textposition": "auto",
         "type": "bar",
         "x": [
          "Netherlands"
         ],
         "xaxis": "x",
         "y": [
          1142410
         ],
         "yaxis": "y"
        },
        {
         "alignmentgroup": "True",
         "hovertemplate": "Country=%{x}<br>Total Deaths=%{y}<extra></extra>",
         "legendgroup": "Egypt",
         "marker": {
          "color": "#00cc96",
          "pattern": {
           "shape": ""
          }
         },
         "name": "Egypt",
         "offsetgroup": "Egypt",
         "orientation": "v",
         "showlegend": true,
         "textposition": "auto",
         "type": "bar",
         "x": [
          "Egypt"
         ],
         "xaxis": "x",
         "y": [
          644416
         ],
         "yaxis": "y"
        },
        {
         "alignmentgroup": "True",
         "hovertemplate": "Country=%{x}<br>Total Deaths=%{y}<extra></extra>",
         "legendgroup": "Sweden",
         "marker": {
          "color": "#ab63fa",
          "pattern": {
           "shape": ""
          }
         },
         "name": "Sweden",
         "offsetgroup": "Sweden",
         "orientation": "v",
         "showlegend": true,
         "textposition": "auto",
         "type": "bar",
         "x": [
          "Sweden"
         ],
         "xaxis": "x",
         "y": [
          941063
         ],
         "yaxis": "y"
        },
        {
         "alignmentgroup": "True",
         "hovertemplate": "Country=%{x}<br>Total Deaths=%{y}<extra></extra>",
         "legendgroup": "Bolivia",
         "marker": {
          "color": "#FFA15A",
          "pattern": {
           "shape": ""
          }
         },
         "name": "Bolivia",
         "offsetgroup": "Bolivia",
         "orientation": "v",
         "showlegend": true,
         "textposition": "auto",
         "type": "bar",
         "x": [
          "Bolivia"
         ],
         "xaxis": "x",
         "y": [
          578559
         ],
         "yaxis": "y"
        },
        {
         "alignmentgroup": "True",
         "hovertemplate": "Country=%{x}<br>Total Deaths=%{y}<extra></extra>",
         "legendgroup": "Romania",
         "marker": {
          "color": "#19d3f3",
          "pattern": {
           "shape": ""
          }
         },
         "name": "Romania",
         "offsetgroup": "Romania",
         "orientation": "v",
         "showlegend": true,
         "textposition": "auto",
         "type": "bar",
         "x": [
          "Romania"
         ],
         "xaxis": "x",
         "y": [
          464952
         ],
         "yaxis": "y"
        },
        {
         "alignmentgroup": "True",
         "hovertemplate": "Country=%{x}<br>Total Deaths=%{y}<extra></extra>",
         "legendgroup": "Dominican Republic",
         "marker": {
          "color": "#FF6692",
          "pattern": {
           "shape": ""
          }
         },
         "name": "Dominican Republic",
         "offsetgroup": "Dominican Republic",
         "orientation": "v",
         "showlegend": true,
         "textposition": "auto",
         "type": "bar",
         "x": [
          "Dominican Republic"
         ],
         "xaxis": "x",
         "y": [
          209024
         ],
         "yaxis": "y"
        },
        {
         "alignmentgroup": "True",
         "hovertemplate": "Country=%{x}<br>Total Deaths=%{y}<extra></extra>",
         "legendgroup": "Kuwait",
         "marker": {
          "color": "#B6E880",
          "pattern": {
           "shape": ""
          }
         },
         "name": "Kuwait",
         "offsetgroup": "Kuwait",
         "orientation": "v",
         "showlegend": true,
         "textposition": "auto",
         "type": "bar",
         "x": [
          "Kuwait"
         ],
         "xaxis": "x",
         "y": [
          69104
         ],
         "yaxis": "y"
        },
        {
         "alignmentgroup": "True",
         "hovertemplate": "Country=%{x}<br>Total Deaths=%{y}<extra></extra>",
         "legendgroup": "Belarus",
         "marker": {
          "color": "#FF97FF",
          "pattern": {
           "shape": ""
          }
         },
         "name": "Belarus",
         "offsetgroup": "Belarus",
         "orientation": "v",
         "showlegend": true,
         "textposition": "auto",
         "type": "bar",
         "x": [
          "Belarus"
         ],
         "xaxis": "x",
         "y": [
          88409
         ],
         "yaxis": "y"
        },
        {
         "alignmentgroup": "True",
         "hovertemplate": "Country=%{x}<br>Total Deaths=%{y}<extra></extra>",
         "legendgroup": "Panama",
         "marker": {
          "color": "#FECB52",
          "pattern": {
           "shape": ""
          }
         },
         "name": "Panama",
         "offsetgroup": "Panama",
         "orientation": "v",
         "showlegend": true,
         "textposition": "auto",
         "type": "bar",
         "x": [
          "Panama"
         ],
         "xaxis": "x",
         "y": [
          222435
         ],
         "yaxis": "y"
        },
        {
         "alignmentgroup": "True",
         "hovertemplate": "Country=%{x}<br>Total Deaths=%{y}<extra></extra>",
         "legendgroup": "United Arab Emirates",
         "marker": {
          "color": "#636efa",
          "pattern": {
           "shape": ""
          }
         },
         "name": "United Arab Emirates",
         "offsetgroup": "United Arab Emirates",
         "orientation": "v",
         "showlegend": true,
         "textposition": "auto",
         "type": "bar",
         "x": [
          "United Arab Emirates"
         ],
         "xaxis": "x",
         "y": [
          58035
         ],
         "yaxis": "y"
        },
        {
         "alignmentgroup": "True",
         "hovertemplate": "Country=%{x}<br>Total Deaths=%{y}<extra></extra>",
         "legendgroup": "Oman",
         "marker": {
          "color": "#EF553B",
          "pattern": {
           "shape": ""
          }
         },
         "name": "Oman",
         "offsetgroup": "Oman",
         "orientation": "v",
         "showlegend": true,
         "textposition": "auto",
         "type": "bar",
         "x": [
          "Oman"
         ],
         "xaxis": "x",
         "y": [
          73391
         ],
         "yaxis": "y"
        },
        {
         "alignmentgroup": "True",
         "hovertemplate": "Country=%{x}<br>Total Deaths=%{y}<extra></extra>",
         "legendgroup": "Portugal",
         "marker": {
          "color": "#00cc96",
          "pattern": {
           "shape": ""
          }
         },
         "name": "Portugal",
         "offsetgroup": "Portugal",
         "orientation": "v",
         "showlegend": true,
         "textposition": "auto",
         "type": "bar",
         "x": [
          "Portugal"
         ],
         "xaxis": "x",
         "y": [
          302612
         ],
         "yaxis": "y"
        },
        {
         "alignmentgroup": "True",
         "hovertemplate": "Country=%{x}<br>Total Deaths=%{y}<extra></extra>",
         "legendgroup": "Poland",
         "marker": {
          "color": "#ab63fa",
          "pattern": {
           "shape": ""
          }
         },
         "name": "Poland",
         "offsetgroup": "Poland",
         "orientation": "v",
         "showlegend": true,
         "textposition": "auto",
         "type": "bar",
         "x": [
          "Poland"
         ],
         "xaxis": "x",
         "y": [
          304001
         ],
         "yaxis": "y"
        },
        {
         "alignmentgroup": "True",
         "hovertemplate": "Country=%{x}<br>Total Deaths=%{y}<extra></extra>",
         "legendgroup": "Singapore",
         "marker": {
          "color": "#FFA15A",
          "pattern": {
           "shape": ""
          }
         },
         "name": "Singapore",
         "offsetgroup": "Singapore",
         "orientation": "v",
         "showlegend": true,
         "textposition": "auto",
         "type": "bar",
         "x": [
          "Singapore"
         ],
         "xaxis": "x",
         "y": [
          4691
         ],
         "yaxis": "y"
        },
        {
         "alignmentgroup": "True",
         "hovertemplate": "Country=%{x}<br>Total Deaths=%{y}<extra></extra>",
         "legendgroup": "Morocco",
         "marker": {
          "color": "#19d3f3",
          "pattern": {
           "shape": ""
          }
         },
         "name": "Morocco",
         "offsetgroup": "Morocco",
         "orientation": "v",
         "showlegend": true,
         "textposition": "auto",
         "type": "bar",
         "x": [
          "Morocco"
         ],
         "xaxis": "x",
         "y": [
          142270
         ],
         "yaxis": "y"
        },
        {
         "alignmentgroup": "True",
         "hovertemplate": "Country=%{x}<br>Total Deaths=%{y}<extra></extra>",
         "legendgroup": "Japan",
         "marker": {
          "color": "#FF6692",
          "pattern": {
           "shape": ""
          }
         },
         "name": "Japan",
         "offsetgroup": "Japan",
         "orientation": "v",
         "showlegend": true,
         "textposition": "auto",
         "type": "bar",
         "x": [
          "Japan"
         ],
         "xaxis": "x",
         "y": [
          194918
         ],
         "yaxis": "y"
        },
        {
         "alignmentgroup": "True",
         "hovertemplate": "Country=%{x}<br>Total Deaths=%{y}<extra></extra>",
         "legendgroup": "Guatemala",
         "marker": {
          "color": "#B6E880",
          "pattern": {
           "shape": ""
          }
         },
         "name": "Guatemala",
         "offsetgroup": "Guatemala",
         "orientation": "v",
         "showlegend": true,
         "textposition": "auto",
         "type": "bar",
         "x": [
          "Guatemala"
         ],
         "xaxis": "x",
         "y": [
          281588
         ],
         "yaxis": "y"
        },
        {
         "alignmentgroup": "True",
         "hovertemplate": "Country=%{x}<br>Total Deaths=%{y}<extra></extra>",
         "legendgroup": "Switzerland",
         "marker": {
          "color": "#FF97FF",
          "pattern": {
           "shape": ""
          }
         },
         "name": "Switzerland",
         "offsetgroup": "Switzerland",
         "orientation": "v",
         "showlegend": true,
         "textposition": "auto",
         "type": "bar",
         "x": [
          "Switzerland"
         ],
         "xaxis": "x",
         "y": [
          320693
         ],
         "yaxis": "y"
        },
        {
         "alignmentgroup": "True",
         "hovertemplate": "Country=%{x}<br>Total Deaths=%{y}<extra></extra>",
         "legendgroup": "Bahrain",
         "marker": {
          "color": "#FECB52",
          "pattern": {
           "shape": ""
          }
         },
         "name": "Bahrain",
         "offsetgroup": "Bahrain",
         "orientation": "v",
         "showlegend": true,
         "textposition": "auto",
         "type": "bar",
         "x": [
          "Bahrain"
         ],
         "xaxis": "x",
         "y": [
          22413
         ],
         "yaxis": "y"
        },
        {
         "alignmentgroup": "True",
         "hovertemplate": "Country=%{x}<br>Total Deaths=%{y}<extra></extra>",
         "legendgroup": "Honduras",
         "marker": {
          "color": "#636efa",
          "pattern": {
           "shape": ""
          }
         },
         "name": "Honduras",
         "offsetgroup": "Honduras",
         "orientation": "v",
         "showlegend": true,
         "textposition": "auto",
         "type": "bar",
         "x": [
          "Honduras"
         ],
         "xaxis": "x",
         "y": [
          200844
         ],
         "yaxis": "y"
        },
        {
         "alignmentgroup": "True",
         "hovertemplate": "Country=%{x}<br>Total Deaths=%{y}<extra></extra>",
         "legendgroup": "Nigeria",
         "marker": {
          "color": "#EF553B",
          "pattern": {
           "shape": ""
          }
         },
         "name": "Nigeria",
         "offsetgroup": "Nigeria",
         "orientation": "v",
         "showlegend": true,
         "textposition": "auto",
         "type": "bar",
         "x": [
          "Nigeria"
         ],
         "xaxis": "x",
         "y": [
          125473
         ],
         "yaxis": "y"
        },
        {
         "alignmentgroup": "True",
         "hovertemplate": "Country=%{x}<br>Total Deaths=%{y}<extra></extra>",
         "legendgroup": "Armenia",
         "marker": {
          "color": "#00cc96",
          "pattern": {
           "shape": ""
          }
         },
         "name": "Armenia",
         "offsetgroup": "Armenia",
         "orientation": "v",
         "showlegend": true,
         "textposition": "auto",
         "type": "bar",
         "x": [
          "Armenia"
         ],
         "xaxis": "x",
         "y": [
          102039
         ],
         "yaxis": "y"
        },
        {
         "alignmentgroup": "True",
         "hovertemplate": "Country=%{x}<br>Total Deaths=%{y}<extra></extra>",
         "legendgroup": "Nepal",
         "marker": {
          "color": "#ab63fa",
          "pattern": {
           "shape": ""
          }
         },
         "name": "Nepal",
         "offsetgroup": "Nepal",
         "orientation": "v",
         "showlegend": true,
         "textposition": "auto",
         "type": "bar",
         "x": [
          "Nepal"
         ],
         "xaxis": "x",
         "y": [
          27737
         ],
         "yaxis": "y"
        },
        {
         "alignmentgroup": "True",
         "hovertemplate": "Country=%{x}<br>Total Deaths=%{y}<extra></extra>",
         "legendgroup": "Ireland",
         "marker": {
          "color": "#FFA15A",
          "pattern": {
           "shape": ""
          }
         },
         "name": "Ireland",
         "offsetgroup": "Ireland",
         "orientation": "v",
         "showlegend": true,
         "textposition": "auto",
         "type": "bar",
         "x": [
          "Ireland"
         ],
         "xaxis": "x",
         "y": [
          310201
         ],
         "yaxis": "y"
        },
        {
         "alignmentgroup": "True",
         "hovertemplate": "Country=%{x}<br>Total Deaths=%{y}<extra></extra>",
         "legendgroup": "Czech Republic",
         "marker": {
          "color": "#19d3f3",
          "pattern": {
           "shape": ""
          }
         },
         "name": "Czech Republic",
         "offsetgroup": "Czech Republic",
         "orientation": "v",
         "showlegend": true,
         "textposition": "auto",
         "type": "bar",
         "x": [
          "Czech Republic"
         ],
         "xaxis": "x",
         "y": [
          79880
         ],
         "yaxis": "y"
        },
        {
         "alignmentgroup": "True",
         "hovertemplate": "Country=%{x}<br>Total Deaths=%{y}<extra></extra>",
         "legendgroup": "Afghanistan",
         "marker": {
          "color": "#FF6692",
          "pattern": {
           "shape": ""
          }
         },
         "name": "Afghanistan",
         "offsetgroup": "Afghanistan",
         "orientation": "v",
         "showlegend": true,
         "textposition": "auto",
         "type": "bar",
         "x": [
          "Afghanistan"
         ],
         "xaxis": "x",
         "y": [
          165875
         ],
         "yaxis": "y"
        },
        {
         "alignmentgroup": "True",
         "hovertemplate": "Country=%{x}<br>Total Deaths=%{y}<extra></extra>",
         "legendgroup": "Austria",
         "marker": {
          "color": "#B6E880",
          "pattern": {
           "shape": ""
          }
         },
         "name": "Austria",
         "offsetgroup": "Austria",
         "orientation": "v",
         "showlegend": true,
         "textposition": "auto",
         "type": "bar",
         "x": [
          "Austria"
         ],
         "xaxis": "x",
         "y": [
          134945
         ],
         "yaxis": "y"
        },
        {
         "alignmentgroup": "True",
         "hovertemplate": "Country=%{x}<br>Total Deaths=%{y}<extra></extra>",
         "legendgroup": "Ghana",
         "marker": {
          "color": "#FF97FF",
          "pattern": {
           "shape": ""
          }
         },
         "name": "Ghana",
         "offsetgroup": "Ghana",
         "orientation": "v",
         "showlegend": true,
         "textposition": "auto",
         "type": "bar",
         "x": [
          "Ghana"
         ],
         "xaxis": "x",
         "y": [
          29143
         ],
         "yaxis": "y"
        },
        {
         "alignmentgroup": "True",
         "hovertemplate": "Country=%{x}<br>Total Deaths=%{y}<extra></extra>",
         "legendgroup": "Algeria",
         "marker": {
          "color": "#FECB52",
          "pattern": {
           "shape": ""
          }
         },
         "name": "Algeria",
         "offsetgroup": "Algeria",
         "orientation": "v",
         "showlegend": true,
         "textposition": "auto",
         "type": "bar",
         "x": [
          "Algeria"
         ],
         "xaxis": "x",
         "y": [
          206429
         ],
         "yaxis": "y"
        },
        {
         "alignmentgroup": "True",
         "hovertemplate": "Country=%{x}<br>Total Deaths=%{y}<extra></extra>",
         "legendgroup": "Ethiopia",
         "marker": {
          "color": "#636efa",
          "pattern": {
           "shape": ""
          }
         },
         "name": "Ethiopia",
         "offsetgroup": "Ethiopia",
         "orientation": "v",
         "showlegend": true,
         "textposition": "auto",
         "type": "bar",
         "x": [
          "Ethiopia"
         ],
         "xaxis": "x",
         "y": [
          77686
         ],
         "yaxis": "y"
        },
        {
         "alignmentgroup": "True",
         "hovertemplate": "Country=%{x}<br>Total Deaths=%{y}<extra></extra>",
         "legendgroup": "Venezuela",
         "marker": {
          "color": "#EF553B",
          "pattern": {
           "shape": ""
          }
         },
         "name": "Venezuela",
         "offsetgroup": "Venezuela",
         "orientation": "v",
         "showlegend": true,
         "textposition": "auto",
         "type": "bar",
         "x": [
          "Venezuela"
         ],
         "xaxis": "x",
         "y": [
          40840
         ],
         "yaxis": "y"
        },
        {
         "alignmentgroup": "True",
         "hovertemplate": "Country=%{x}<br>Total Deaths=%{y}<extra></extra>",
         "legendgroup": "Moldova",
         "marker": {
          "color": "#00cc96",
          "pattern": {
           "shape": ""
          }
         },
         "name": "Moldova",
         "offsetgroup": "Moldova",
         "orientation": "v",
         "showlegend": true,
         "textposition": "auto",
         "type": "bar",
         "x": [
          "Moldova"
         ],
         "xaxis": "x",
         "y": [
          129946
         ],
         "yaxis": "y"
        },
        {
         "alignmentgroup": "True",
         "hovertemplate": "Country=%{x}<br>Total Deaths=%{y}<extra></extra>",
         "legendgroup": "Costa Rica",
         "marker": {
          "color": "#ab63fa",
          "pattern": {
           "shape": ""
          }
         },
         "name": "Costa Rica",
         "offsetgroup": "Costa Rica",
         "orientation": "v",
         "showlegend": true,
         "textposition": "auto",
         "type": "bar",
         "x": [
          "Costa Rica"
         ],
         "xaxis": "x",
         "y": [
          50352
         ],
         "yaxis": "y"
        },
        {
         "alignmentgroup": "True",
         "hovertemplate": "Country=%{x}<br>Total Deaths=%{y}<extra></extra>",
         "legendgroup": "Uzbekistan",
         "marker": {
          "color": "#FFA15A",
          "pattern": {
           "shape": ""
          }
         },
         "name": "Uzbekistan",
         "offsetgroup": "Uzbekistan",
         "orientation": "v",
         "showlegend": true,
         "textposition": "auto",
         "type": "bar",
         "x": [
          "Uzbekistan"
         ],
         "xaxis": "x",
         "y": [
          31903
         ],
         "yaxis": "y"
        },
        {
         "alignmentgroup": "True",
         "hovertemplate": "Country=%{x}<br>Total Deaths=%{y}<extra></extra>",
         "legendgroup": "Kyrgyzstan",
         "marker": {
          "color": "#19d3f3",
          "pattern": {
           "shape": ""
          }
         },
         "name": "Kyrgyzstan",
         "offsetgroup": "Kyrgyzstan",
         "orientation": "v",
         "showlegend": true,
         "textposition": "auto",
         "type": "bar",
         "x": [
          "Kyrgyzstan"
         ],
         "xaxis": "x",
         "y": [
          114922
         ],
         "yaxis": "y"
        },
        {
         "alignmentgroup": "True",
         "hovertemplate": "Country=%{x}<br>Total Deaths=%{y}<extra></extra>",
         "legendgroup": "Azerbaijan",
         "marker": {
          "color": "#FF6692",
          "pattern": {
           "shape": ""
          }
         },
         "name": "Azerbaijan",
         "offsetgroup": "Azerbaijan",
         "orientation": "v",
         "showlegend": true,
         "textposition": "auto",
         "type": "bar",
         "x": [
          "Azerbaijan"
         ],
         "xaxis": "x",
         "y": [
          59495
         ],
         "yaxis": "y"
        },
        {
         "alignmentgroup": "True",
         "hovertemplate": "Country=%{x}<br>Total Deaths=%{y}<extra></extra>",
         "legendgroup": "Serbia",
         "marker": {
          "color": "#B6E880",
          "pattern": {
           "shape": ""
          }
         },
         "name": "Serbia",
         "offsetgroup": "Serbia",
         "orientation": "v",
         "showlegend": true,
         "textposition": "auto",
         "type": "bar",
         "x": [
          "Serbia"
         ],
         "xaxis": "x",
         "y": [
          87503
         ],
         "yaxis": "y"
        },
        {
         "alignmentgroup": "True",
         "hovertemplate": "Country=%{x}<br>Total Deaths=%{y}<extra></extra>",
         "legendgroup": "Puerto Rico",
         "marker": {
          "color": "#FF97FF",
          "pattern": {
           "shape": ""
          }
         },
         "name": "Puerto Rico",
         "offsetgroup": "Puerto Rico",
         "orientation": "v",
         "showlegend": true,
         "textposition": "auto",
         "type": "bar",
         "x": [
          "Puerto Rico"
         ],
         "xaxis": "x",
         "y": [
          54940
         ],
         "yaxis": "y"
        },
        {
         "alignmentgroup": "True",
         "hovertemplate": "Country=%{x}<br>Total Deaths=%{y}<extra></extra>",
         "legendgroup": "South Korea",
         "marker": {
          "color": "#FECB52",
          "pattern": {
           "shape": ""
          }
         },
         "name": "South Korea",
         "offsetgroup": "South Korea",
         "orientation": "v",
         "showlegend": true,
         "textposition": "auto",
         "type": "bar",
         "x": [
          "South Korea"
         ],
         "xaxis": "x",
         "y": [
          63333
         ],
         "yaxis": "y"
        },
        {
         "alignmentgroup": "True",
         "hovertemplate": "Country=%{x}<br>Total Deaths=%{y}<extra></extra>",
         "legendgroup": "Kenya",
         "marker": {
          "color": "#636efa",
          "pattern": {
           "shape": ""
          }
         },
         "name": "Kenya",
         "offsetgroup": "Kenya",
         "orientation": "v",
         "showlegend": true,
         "textposition": "auto",
         "type": "bar",
         "x": [
          "Kenya"
         ],
         "xaxis": "x",
         "y": [
          59485
         ],
         "yaxis": "y"
        },
        {
         "alignmentgroup": "True",
         "hovertemplate": "Country=%{x}<br>Total Deaths=%{y}<extra></extra>",
         "legendgroup": "Palestine",
         "marker": {
          "color": "#EF553B",
          "pattern": {
           "shape": ""
          }
         },
         "name": "Palestine",
         "offsetgroup": "Palestine",
         "orientation": "v",
         "showlegend": true,
         "textposition": "auto",
         "type": "bar",
         "x": [
          "Palestine"
         ],
         "xaxis": "x",
         "y": [
          21522
         ],
         "yaxis": "y"
        },
        {
         "alignmentgroup": "True",
         "hovertemplate": "Country=%{x}<br>Total Deaths=%{y}<extra></extra>",
         "legendgroup": "Denmark",
         "marker": {
          "color": "#00cc96",
          "pattern": {
           "shape": ""
          }
         },
         "name": "Denmark",
         "offsetgroup": "Denmark",
         "orientation": "v",
         "showlegend": true,
         "textposition": "auto",
         "type": "bar",
         "x": [
          "Denmark"
         ],
         "xaxis": "x",
         "y": [
          113280
         ],
         "yaxis": "y"
        },
        {
         "alignmentgroup": "True",
         "hovertemplate": "Country=%{x}<br>Total Deaths=%{y}<extra></extra>",
         "legendgroup": "Australia",
         "marker": {
          "color": "#ab63fa",
          "pattern": {
           "shape": ""
          }
         },
         "name": "Australia",
         "offsetgroup": "Australia",
         "orientation": "v",
         "showlegend": true,
         "textposition": "auto",
         "type": "bar",
         "x": [
          "Australia"
         ],
         "xaxis": "x",
         "y": [
          65029
         ],
         "yaxis": "y"
        },
        {
         "alignmentgroup": "True",
         "hovertemplate": "Country=%{x}<br>Total Deaths=%{y}<extra></extra>",
         "legendgroup": "El Salvador",
         "marker": {
          "color": "#FFA15A",
          "pattern": {
           "shape": ""
          }
         },
         "name": "El Salvador",
         "offsetgroup": "El Salvador",
         "orientation": "v",
         "showlegend": true,
         "textposition": "auto",
         "type": "bar",
         "x": [
          "El Salvador"
         ],
         "xaxis": "x",
         "y": [
          71957
         ],
         "yaxis": "y"
        },
        {
         "alignmentgroup": "True",
         "hovertemplate": "Country=%{x}<br>Total Deaths=%{y}<extra></extra>",
         "legendgroup": "Cameroon",
         "marker": {
          "color": "#19d3f3",
          "pattern": {
           "shape": ""
          }
         },
         "name": "Cameroon",
         "offsetgroup": "Cameroon",
         "orientation": "v",
         "showlegend": true,
         "textposition": "auto",
         "type": "bar",
         "x": [
          "Cameroon"
         ],
         "xaxis": "x",
         "y": [
          56606
         ],
         "yaxis": "y"
        },
        {
         "alignmentgroup": "True",
         "hovertemplate": "Country=%{x}<br>Total Deaths=%{y}<extra></extra>",
         "legendgroup": "Paraguay",
         "marker": {
          "color": "#FF6692",
          "pattern": {
           "shape": ""
          }
         },
         "name": "Paraguay",
         "offsetgroup": "Paraguay",
         "orientation": "v",
         "showlegend": true,
         "textposition": "auto",
         "type": "bar",
         "x": [
          "Paraguay"
         ],
         "xaxis": "x",
         "y": [
          42850
         ],
         "yaxis": "y"
        },
        {
         "alignmentgroup": "True",
         "hovertemplate": "Country=%{x}<br>Total Deaths=%{y}<extra></extra>",
         "legendgroup": "Lebanon",
         "marker": {
          "color": "#B6E880",
          "pattern": {
           "shape": ""
          }
         },
         "name": "Lebanon",
         "offsetgroup": "Lebanon",
         "orientation": "v",
         "showlegend": true,
         "textposition": "auto",
         "type": "bar",
         "x": [
          "Lebanon"
         ],
         "xaxis": "x",
         "y": [
          22983
         ],
         "yaxis": "y"
        },
        {
         "alignmentgroup": "True",
         "hovertemplate": "Country=%{x}<br>Total Deaths=%{y}<extra></extra>",
         "legendgroup": "Bosnia and Herzegovina",
         "marker": {
          "color": "#FF97FF",
          "pattern": {
           "shape": ""
          }
         },
         "name": "Bosnia and Herzegovina",
         "offsetgroup": "Bosnia and Herzegovina",
         "orientation": "v",
         "showlegend": true,
         "textposition": "auto",
         "type": "bar",
         "x": [
          "Bosnia and Herzegovina"
         ],
         "xaxis": "x",
         "y": [
          70578
         ],
         "yaxis": "y"
        },
        {
         "alignmentgroup": "True",
         "hovertemplate": "Country=%{x}<br>Total Deaths=%{y}<extra></extra>",
         "legendgroup": "Cote d'Ivoire",
         "marker": {
          "color": "#FECB52",
          "pattern": {
           "shape": ""
          }
         },
         "name": "Cote d'Ivoire",
         "offsetgroup": "Cote d'Ivoire",
         "orientation": "v",
         "showlegend": true,
         "textposition": "auto",
         "type": "bar",
         "x": [
          "Cote d'Ivoire"
         ],
         "xaxis": "x",
         "y": [
          14220
         ],
         "yaxis": "y"
        },
        {
         "alignmentgroup": "True",
         "hovertemplate": "Country=%{x}<br>Total Deaths=%{y}<extra></extra>",
         "legendgroup": "Norway",
         "marker": {
          "color": "#636efa",
          "pattern": {
           "shape": ""
          }
         },
         "name": "Norway",
         "offsetgroup": "Norway",
         "orientation": "v",
         "showlegend": true,
         "textposition": "auto",
         "type": "bar",
         "x": [
          "Norway"
         ],
         "xaxis": "x",
         "y": [
          47158
         ],
         "yaxis": "y"
        },
        {
         "alignmentgroup": "True",
         "hovertemplate": "Country=%{x}<br>Total Deaths=%{y}<extra></extra>",
         "legendgroup": "Bulgaria",
         "marker": {
          "color": "#EF553B",
          "pattern": {
           "shape": ""
          }
         },
         "name": "Bulgaria",
         "offsetgroup": "Bulgaria",
         "orientation": "v",
         "showlegend": true,
         "textposition": "auto",
         "type": "bar",
         "x": [
          "Bulgaria"
         ],
         "xaxis": "x",
         "y": [
          72850
         ],
         "yaxis": "y"
        },
        {
         "alignmentgroup": "True",
         "hovertemplate": "Country=%{x}<br>Total Deaths=%{y}<extra></extra>",
         "legendgroup": "Libya",
         "marker": {
          "color": "#00cc96",
          "pattern": {
           "shape": ""
          }
         },
         "name": "Libya",
         "offsetgroup": "Libya",
         "orientation": "v",
         "showlegend": true,
         "textposition": "auto",
         "type": "bar",
         "x": [
          "Libya"
         ],
         "xaxis": "x",
         "y": [
          29730
         ],
         "yaxis": "y"
        },
        {
         "alignmentgroup": "True",
         "hovertemplate": "Country=%{x}<br>Total Deaths=%{y}<extra></extra>",
         "legendgroup": "Malaysia",
         "marker": {
          "color": "#ab63fa",
          "pattern": {
           "shape": ""
          }
         },
         "name": "Malaysia",
         "offsetgroup": "Malaysia",
         "orientation": "v",
         "showlegend": true,
         "textposition": "auto",
         "type": "bar",
         "x": [
          "Malaysia"
         ],
         "xaxis": "x",
         "y": [
          24012
         ],
         "yaxis": "y"
        },
        {
         "alignmentgroup": "True",
         "hovertemplate": "Country=%{x}<br>Total Deaths=%{y}<extra></extra>",
         "legendgroup": "Macedonia",
         "marker": {
          "color": "#FFA15A",
          "pattern": {
           "shape": ""
          }
         },
         "name": "Macedonia",
         "offsetgroup": "Macedonia",
         "orientation": "v",
         "showlegend": true,
         "textposition": "auto",
         "type": "bar",
         "x": [
          "Macedonia"
         ],
         "xaxis": "x",
         "y": [
          74066
         ],
         "yaxis": "y"
        },
        {
         "alignmentgroup": "True",
         "hovertemplate": "Country=%{x}<br>Total Deaths=%{y}<extra></extra>",
         "legendgroup": "Hungary",
         "marker": {
          "color": "#19d3f3",
          "pattern": {
           "shape": ""
          }
         },
         "name": "Hungary",
         "offsetgroup": "Hungary",
         "orientation": "v",
         "showlegend": true,
         "textposition": "auto",
         "type": "bar",
         "x": [
          "Hungary"
         ],
         "xaxis": "x",
         "y": [
          110142
         ],
         "yaxis": "y"
        },
        {
         "alignmentgroup": "True",
         "hovertemplate": "Country=%{x}<br>Total Deaths=%{y}<extra></extra>",
         "legendgroup": "Sudan",
         "marker": {
          "color": "#FF6692",
          "pattern": {
           "shape": ""
          }
         },
         "name": "Sudan",
         "offsetgroup": "Sudan",
         "orientation": "v",
         "showlegend": true,
         "textposition": "auto",
         "type": "bar",
         "x": [
          "Sudan"
         ],
         "xaxis": "x",
         "y": [
          102825
         ],
         "yaxis": "y"
        },
        {
         "alignmentgroup": "True",
         "hovertemplate": "Country=%{x}<br>Total Deaths=%{y}<extra></extra>",
         "legendgroup": "Senegal",
         "marker": {
          "color": "#B6E880",
          "pattern": {
           "shape": ""
          }
         },
         "name": "Senegal",
         "offsetgroup": "Senegal",
         "orientation": "v",
         "showlegend": true,
         "textposition": "auto",
         "type": "bar",
         "x": [
          "Senegal"
         ],
         "xaxis": "x",
         "y": [
          30320
         ],
         "yaxis": "y"
        },
        {
         "alignmentgroup": "True",
         "hovertemplate": "Country=%{x}<br>Total Deaths=%{y}<extra></extra>",
         "legendgroup": "Finland",
         "marker": {
          "color": "#FF97FF",
          "pattern": {
           "shape": ""
          }
         },
         "name": "Finland",
         "offsetgroup": "Finland",
         "orientation": "v",
         "showlegend": true,
         "textposition": "auto",
         "type": "bar",
         "x": [
          "Finland"
         ],
         "xaxis": "x",
         "y": [
          58377
         ],
         "yaxis": "y"
        },
        {
         "alignmentgroup": "True",
         "hovertemplate": "Country=%{x}<br>Total Deaths=%{y}<extra></extra>",
         "legendgroup": "Madagascar",
         "marker": {
          "color": "#FECB52",
          "pattern": {
           "shape": ""
          }
         },
         "name": "Madagascar",
         "offsetgroup": "Madagascar",
         "orientation": "v",
         "showlegend": true,
         "textposition": "auto",
         "type": "bar",
         "x": [
          "Madagascar"
         ],
         "xaxis": "x",
         "y": [
          17744
         ],
         "yaxis": "y"
        },
        {
         "alignmentgroup": "True",
         "hovertemplate": "Country=%{x}<br>Total Deaths=%{y}<extra></extra>",
         "legendgroup": "Greece",
         "marker": {
          "color": "#636efa",
          "pattern": {
           "shape": ""
          }
         },
         "name": "Greece",
         "offsetgroup": "Greece",
         "orientation": "v",
         "showlegend": true,
         "textposition": "auto",
         "type": "bar",
         "x": [
          "Greece"
         ],
         "xaxis": "x",
         "y": [
          44805
         ],
         "yaxis": "y"
        },
        {
         "alignmentgroup": "True",
         "hovertemplate": "Country=%{x}<br>Total Deaths=%{y}<extra></extra>",
         "legendgroup": "Kosovo",
         "marker": {
          "color": "#EF553B",
          "pattern": {
           "shape": ""
          }
         },
         "name": "Kosovo",
         "offsetgroup": "Kosovo",
         "orientation": "v",
         "showlegend": true,
         "textposition": "auto",
         "type": "bar",
         "x": [
          "Kosovo"
         ],
         "xaxis": "x",
         "y": [
          47571
         ],
         "yaxis": "y"
        },
        {
         "alignmentgroup": "True",
         "hovertemplate": "Country=%{x}<br>Total Deaths=%{y}<extra></extra>",
         "legendgroup": "Croatia",
         "marker": {
          "color": "#00cc96",
          "pattern": {
           "shape": ""
          }
         },
         "name": "Croatia",
         "offsetgroup": "Croatia",
         "orientation": "v",
         "showlegend": true,
         "textposition": "auto",
         "type": "bar",
         "x": [
          "Croatia"
         ],
         "xaxis": "x",
         "y": [
          28757
         ],
         "yaxis": "y"
        },
        {
         "alignmentgroup": "True",
         "hovertemplate": "Country=%{x}<br>Total Deaths=%{y}<extra></extra>",
         "legendgroup": "Democratic Republic of Congo",
         "marker": {
          "color": "#ab63fa",
          "pattern": {
           "shape": ""
          }
         },
         "name": "Democratic Republic of Congo",
         "offsetgroup": "Democratic Republic of Congo",
         "orientation": "v",
         "showlegend": true,
         "textposition": "auto",
         "type": "bar",
         "x": [
          "Democratic Republic of Congo"
         ],
         "xaxis": "x",
         "y": [
          32040
         ],
         "yaxis": "y"
        },
        {
         "alignmentgroup": "True",
         "hovertemplate": "Country=%{x}<br>Total Deaths=%{y}<extra></extra>",
         "legendgroup": "Guinea",
         "marker": {
          "color": "#FFA15A",
          "pattern": {
           "shape": ""
          }
         },
         "name": "Guinea",
         "offsetgroup": "Guinea",
         "orientation": "v",
         "showlegend": true,
         "textposition": "auto",
         "type": "bar",
         "x": [
          "Guinea"
         ],
         "xaxis": "x",
         "y": [
          7283
         ],
         "yaxis": "y"
        },
        {
         "alignmentgroup": "True",
         "hovertemplate": "Country=%{x}<br>Total Deaths=%{y}<extra></extra>",
         "legendgroup": "Luxembourg",
         "marker": {
          "color": "#19d3f3",
          "pattern": {
           "shape": ""
          }
         },
         "name": "Luxembourg",
         "offsetgroup": "Luxembourg",
         "orientation": "v",
         "showlegend": true,
         "textposition": "auto",
         "type": "bar",
         "x": [
          "Luxembourg"
         ],
         "xaxis": "x",
         "y": [
          21907
         ],
         "yaxis": "y"
        },
        {
         "alignmentgroup": "True",
         "hovertemplate": "Country=%{x}<br>Total Deaths=%{y}<extra></extra>",
         "legendgroup": "Zambia",
         "marker": {
          "color": "#FF6692",
          "pattern": {
           "shape": ""
          }
         },
         "name": "Zambia",
         "offsetgroup": "Zambia",
         "orientation": "v",
         "showlegend": true,
         "textposition": "auto",
         "type": "bar",
         "x": [
          "Zambia"
         ],
         "xaxis": "x",
         "y": [
          26475
         ],
         "yaxis": "y"
        },
        {
         "alignmentgroup": "True",
         "hovertemplate": "Country=%{x}<br>Total Deaths=%{y}<extra></extra>",
         "legendgroup": "Tajikistan",
         "marker": {
          "color": "#B6E880",
          "pattern": {
           "shape": ""
          }
         },
         "name": "Tajikistan",
         "offsetgroup": "Tajikistan",
         "orientation": "v",
         "showlegend": true,
         "textposition": "auto",
         "type": "bar",
         "x": [
          "Tajikistan"
         ],
         "xaxis": "x",
         "y": [
          9730
         ],
         "yaxis": "y"
        },
        {
         "alignmentgroup": "True",
         "hovertemplate": "Country=%{x}<br>Total Deaths=%{y}<extra></extra>",
         "legendgroup": "Albania",
         "marker": {
          "color": "#FF97FF",
          "pattern": {
           "shape": ""
          }
         },
         "name": "Albania",
         "offsetgroup": "Albania",
         "orientation": "v",
         "showlegend": true,
         "textposition": "auto",
         "type": "bar",
         "x": [
          "Albania"
         ],
         "xaxis": "x",
         "y": [
          31056
         ],
         "yaxis": "y"
        },
        {
         "alignmentgroup": "True",
         "hovertemplate": "Country=%{x}<br>Total Deaths=%{y}<extra></extra>",
         "legendgroup": "Gabon",
         "marker": {
          "color": "#FECB52",
          "pattern": {
           "shape": ""
          }
         },
         "name": "Gabon",
         "offsetgroup": "Gabon",
         "orientation": "v",
         "showlegend": true,
         "textposition": "auto",
         "type": "bar",
         "x": [
          "Gabon"
         ],
         "xaxis": "x",
         "y": [
          6877
         ],
         "yaxis": "y"
        },
        {
         "alignmentgroup": "True",
         "hovertemplate": "Country=%{x}<br>Total Deaths=%{y}<extra></extra>",
         "legendgroup": "Haiti",
         "marker": {
          "color": "#636efa",
          "pattern": {
           "shape": ""
          }
         },
         "name": "Haiti",
         "offsetgroup": "Haiti",
         "orientation": "v",
         "showlegend": true,
         "textposition": "auto",
         "type": "bar",
         "x": [
          "Haiti"
         ],
         "xaxis": "x",
         "y": [
          23891
         ],
         "yaxis": "y"
        },
        {
         "alignmentgroup": "True",
         "hovertemplate": "Country=%{x}<br>Total Deaths=%{y}<extra></extra>",
         "legendgroup": "Tunisia",
         "marker": {
          "color": "#EF553B",
          "pattern": {
           "shape": ""
          }
         },
         "name": "Tunisia",
         "offsetgroup": "Tunisia",
         "orientation": "v",
         "showlegend": true,
         "textposition": "auto",
         "type": "bar",
         "x": [
          "Tunisia"
         ],
         "xaxis": "x",
         "y": [
          19025
         ],
         "yaxis": "y"
        },
        {
         "alignmentgroup": "True",
         "hovertemplate": "Country=%{x}<br>Total Deaths=%{y}<extra></extra>",
         "legendgroup": "Maldives",
         "marker": {
          "color": "#00cc96",
          "pattern": {
           "shape": ""
          }
         },
         "name": "Maldives",
         "offsetgroup": "Maldives",
         "orientation": "v",
         "showlegend": true,
         "textposition": "auto",
         "type": "bar",
         "x": [
          "Maldives"
         ],
         "xaxis": "x",
         "y": [
          3054
         ],
         "yaxis": "y"
        },
        {
         "alignmentgroup": "True",
         "hovertemplate": "Country=%{x}<br>Total Deaths=%{y}<extra></extra>",
         "legendgroup": "Mauritania",
         "marker": {
          "color": "#ab63fa",
          "pattern": {
           "shape": ""
          }
         },
         "name": "Mauritania",
         "offsetgroup": "Mauritania",
         "orientation": "v",
         "showlegend": true,
         "textposition": "auto",
         "type": "bar",
         "x": [
          "Mauritania"
         ],
         "xaxis": "x",
         "y": [
          19810
         ],
         "yaxis": "y"
        },
        {
         "alignmentgroup": "True",
         "hovertemplate": "Country=%{x}<br>Total Deaths=%{y}<extra></extra>",
         "legendgroup": "Slovakia",
         "marker": {
          "color": "#FFA15A",
          "pattern": {
           "shape": ""
          }
         },
         "name": "Slovakia",
         "offsetgroup": "Slovakia",
         "orientation": "v",
         "showlegend": true,
         "textposition": "auto",
         "type": "bar",
         "x": [
          "Slovakia"
         ],
         "xaxis": "x",
         "y": [
          6055
         ],
         "yaxis": "y"
        },
        {
         "alignmentgroup": "True",
         "hovertemplate": "Country=%{x}<br>Total Deaths=%{y}<extra></extra>",
         "legendgroup": "Djibouti",
         "marker": {
          "color": "#19d3f3",
          "pattern": {
           "shape": ""
          }
         },
         "name": "Djibouti",
         "offsetgroup": "Djibouti",
         "orientation": "v",
         "showlegend": true,
         "textposition": "auto",
         "type": "bar",
         "x": [
          "Djibouti"
         ],
         "xaxis": "x",
         "y": [
          8006
         ],
         "yaxis": "y"
        },
        {
         "alignmentgroup": "True",
         "hovertemplate": "Country=%{x}<br>Total Deaths=%{y}<extra></extra>",
         "legendgroup": "Jordan",
         "marker": {
          "color": "#FF6692",
          "pattern": {
           "shape": ""
          }
         },
         "name": "Jordan",
         "offsetgroup": "Jordan",
         "orientation": "v",
         "showlegend": true,
         "textposition": "auto",
         "type": "bar",
         "x": [
          "Jordan"
         ],
         "xaxis": "x",
         "y": [
          5653
         ],
         "yaxis": "y"
        },
        {
         "alignmentgroup": "True",
         "hovertemplate": "Country=%{x}<br>Total Deaths=%{y}<extra></extra>",
         "legendgroup": "Namibia",
         "marker": {
          "color": "#B6E880",
          "pattern": {
           "shape": ""
          }
         },
         "name": "Namibia",
         "offsetgroup": "Namibia",
         "orientation": "v",
         "showlegend": true,
         "textposition": "auto",
         "type": "bar",
         "x": [
          "Namibia"
         ],
         "xaxis": "x",
         "y": [
          6634
         ],
         "yaxis": "y"
        },
        {
         "alignmentgroup": "True",
         "hovertemplate": "Country=%{x}<br>Total Deaths=%{y}<extra></extra>",
         "legendgroup": "Montenegro",
         "marker": {
          "color": "#FF97FF",
          "pattern": {
           "shape": ""
          }
         },
         "name": "Montenegro",
         "offsetgroup": "Montenegro",
         "orientation": "v",
         "showlegend": true,
         "textposition": "auto",
         "type": "bar",
         "x": [
          "Montenegro"
         ],
         "xaxis": "x",
         "y": [
          11356
         ],
         "yaxis": "y"
        },
        {
         "alignmentgroup": "True",
         "hovertemplate": "Country=%{x}<br>Total Deaths=%{y}<extra></extra>",
         "legendgroup": "Thailand",
         "marker": {
          "color": "#FECB52",
          "pattern": {
           "shape": ""
          }
         },
         "name": "Thailand",
         "offsetgroup": "Thailand",
         "orientation": "v",
         "showlegend": true,
         "textposition": "auto",
         "type": "bar",
         "x": [
          "Thailand"
         ],
         "xaxis": "x",
         "y": [
          11162
         ],
         "yaxis": "y"
        },
        {
         "alignmentgroup": "True",
         "hovertemplate": "Country=%{x}<br>Total Deaths=%{y}<extra></extra>",
         "legendgroup": "Myanmar",
         "marker": {
          "color": "#636efa",
          "pattern": {
           "shape": ""
          }
         },
         "name": "Myanmar",
         "offsetgroup": "Myanmar",
         "orientation": "v",
         "showlegend": true,
         "textposition": "auto",
         "type": "bar",
         "x": [
          "Myanmar"
         ],
         "xaxis": "x",
         "y": [
          13973
         ],
         "yaxis": "y"
        },
        {
         "alignmentgroup": "True",
         "hovertemplate": "Country=%{x}<br>Total Deaths=%{y}<extra></extra>",
         "legendgroup": "Zimbabwe",
         "marker": {
          "color": "#EF553B",
          "pattern": {
           "shape": ""
          }
         },
         "name": "Zimbabwe",
         "offsetgroup": "Zimbabwe",
         "orientation": "v",
         "showlegend": true,
         "textposition": "auto",
         "type": "bar",
         "x": [
          "Zimbabwe"
         ],
         "xaxis": "x",
         "y": [
          15984
         ],
         "yaxis": "y"
        },
        {
         "alignmentgroup": "True",
         "hovertemplate": "Country=%{x}<br>Total Deaths=%{y}<extra></extra>",
         "legendgroup": "Central African Republic",
         "marker": {
          "color": "#00cc96",
          "pattern": {
           "shape": ""
          }
         },
         "name": "Central African Republic",
         "offsetgroup": "Central African Republic",
         "orientation": "v",
         "showlegend": true,
         "textposition": "auto",
         "type": "bar",
         "x": [
          "Central African Republic"
         ],
         "xaxis": "x",
         "y": [
          7108
         ],
         "yaxis": "y"
        },
        {
         "alignmentgroup": "True",
         "hovertemplate": "Country=%{x}<br>Total Deaths=%{y}<extra></extra>",
         "legendgroup": "Cuba",
         "marker": {
          "color": "#ab63fa",
          "pattern": {
           "shape": ""
          }
         },
         "name": "Cuba",
         "offsetgroup": "Cuba",
         "orientation": "v",
         "showlegend": true,
         "textposition": "auto",
         "type": "bar",
         "x": [
          "Cuba"
         ],
         "xaxis": "x",
         "y": [
          16774
         ],
         "yaxis": "y"
        },
        {
         "alignmentgroup": "True",
         "hovertemplate": "Country=%{x}<br>Total Deaths=%{y}<extra></extra>",
         "legendgroup": "Equatorial Guinea",
         "marker": {
          "color": "#FFA15A",
          "pattern": {
           "shape": ""
          }
         },
         "name": "Equatorial Guinea",
         "offsetgroup": "Equatorial Guinea",
         "orientation": "v",
         "showlegend": true,
         "textposition": "auto",
         "type": "bar",
         "x": [
          "Equatorial Guinea"
         ],
         "xaxis": "x",
         "y": [
          8947
         ],
         "yaxis": "y"
        },
        {
         "alignmentgroup": "True",
         "hovertemplate": "Country=%{x}<br>Total Deaths=%{y}<extra></extra>",
         "legendgroup": "Slovenia",
         "marker": {
          "color": "#19d3f3",
          "pattern": {
           "shape": ""
          }
         },
         "name": "Slovenia",
         "offsetgroup": "Slovenia",
         "orientation": "v",
         "showlegend": true,
         "textposition": "auto",
         "type": "bar",
         "x": [
          "Slovenia"
         ],
         "xaxis": "x",
         "y": [
          22165
         ],
         "yaxis": "y"
        },
        {
         "alignmentgroup": "True",
         "hovertemplate": "Country=%{x}<br>Total Deaths=%{y}<extra></extra>",
         "legendgroup": "Malawi",
         "marker": {
          "color": "#FF6692",
          "pattern": {
           "shape": ""
          }
         },
         "name": "Malawi",
         "offsetgroup": "Malawi",
         "orientation": "v",
         "showlegend": true,
         "textposition": "auto",
         "type": "bar",
         "x": [
          "Malawi"
         ],
         "xaxis": "x",
         "y": [
          15480
         ],
         "yaxis": "y"
        },
        {
         "alignmentgroup": "True",
         "hovertemplate": "Country=%{x}<br>Total Deaths=%{y}<extra></extra>",
         "legendgroup": "Nicaragua",
         "marker": {
          "color": "#B6E880",
          "pattern": {
           "shape": ""
          }
         },
         "name": "Nicaragua",
         "offsetgroup": "Nicaragua",
         "orientation": "v",
         "showlegend": true,
         "textposition": "auto",
         "type": "bar",
         "x": [
          "Nicaragua"
         ],
         "xaxis": "x",
         "y": [
          16410
         ],
         "yaxis": "y"
        },
        {
         "alignmentgroup": "True",
         "hovertemplate": "Country=%{x}<br>Total Deaths=%{y}<extra></extra>",
         "legendgroup": "Mozambique",
         "marker": {
          "color": "#FF97FF",
          "pattern": {
           "shape": ""
          }
         },
         "name": "Mozambique",
         "offsetgroup": "Mozambique",
         "orientation": "v",
         "showlegend": true,
         "textposition": "auto",
         "type": "bar",
         "x": [
          "Mozambique"
         ],
         "xaxis": "x",
         "y": [
          3396
         ],
         "yaxis": "y"
        },
        {
         "alignmentgroup": "True",
         "hovertemplate": "Country=%{x}<br>Total Deaths=%{y}<extra></extra>",
         "legendgroup": "Somalia",
         "marker": {
          "color": "#FECB52",
          "pattern": {
           "shape": ""
          }
         },
         "name": "Somalia",
         "offsetgroup": "Somalia",
         "orientation": "v",
         "showlegend": true,
         "textposition": "auto",
         "type": "bar",
         "x": [
          "Somalia"
         ],
         "xaxis": "x",
         "y": [
          15001
         ],
         "yaxis": "y"
        },
        {
         "alignmentgroup": "True",
         "hovertemplate": "Country=%{x}<br>Total Deaths=%{y}<extra></extra>",
         "legendgroup": "Lithuania",
         "marker": {
          "color": "#636efa",
          "pattern": {
           "shape": ""
          }
         },
         "name": "Lithuania",
         "offsetgroup": "Lithuania",
         "orientation": "v",
         "showlegend": true,
         "textposition": "auto",
         "type": "bar",
         "x": [
          "Lithuania"
         ],
         "xaxis": "x",
         "y": [
          14345
         ],
         "yaxis": "y"
        },
        {
         "alignmentgroup": "True",
         "hovertemplate": "Country=%{x}<br>Total Deaths=%{y}<extra></extra>",
         "legendgroup": "Congo",
         "marker": {
          "color": "#EF553B",
          "pattern": {
           "shape": ""
          }
         },
         "name": "Congo",
         "offsetgroup": "Congo",
         "orientation": "v",
         "showlegend": true,
         "textposition": "auto",
         "type": "bar",
         "x": [
          "Congo"
         ],
         "xaxis": "x",
         "y": [
          9298
         ],
         "yaxis": "y"
        },
        {
         "alignmentgroup": "True",
         "hovertemplate": "Country=%{x}<br>Total Deaths=%{y}<extra></extra>",
         "legendgroup": "Cape Verde",
         "marker": {
          "color": "#00cc96",
          "pattern": {
           "shape": ""
          }
         },
         "name": "Cape Verde",
         "offsetgroup": "Cape Verde",
         "orientation": "v",
         "showlegend": true,
         "textposition": "auto",
         "type": "bar",
         "x": [
          "Cape Verde"
         ],
         "xaxis": "x",
         "y": [
          4749
         ],
         "yaxis": "y"
        },
        {
         "alignmentgroup": "True",
         "hovertemplate": "Country=%{x}<br>Total Deaths=%{y}<extra></extra>",
         "legendgroup": "Uganda",
         "marker": {
          "color": "#ab63fa",
          "pattern": {
           "shape": ""
          }
         },
         "name": "Uganda",
         "offsetgroup": "Uganda",
         "orientation": "v",
         "showlegend": true,
         "textposition": "auto",
         "type": "bar",
         "x": [
          "Uganda"
         ],
         "xaxis": "x",
         "y": [
          3748
         ],
         "yaxis": "y"
        },
        {
         "alignmentgroup": "True",
         "hovertemplate": "Country=%{x}<br>Total Deaths=%{y}<extra></extra>",
         "legendgroup": "Sri Lanka",
         "marker": {
          "color": "#FFA15A",
          "pattern": {
           "shape": ""
          }
         },
         "name": "Sri Lanka",
         "offsetgroup": "Sri Lanka",
         "orientation": "v",
         "showlegend": true,
         "textposition": "auto",
         "type": "bar",
         "x": [
          "Sri Lanka"
         ],
         "xaxis": "x",
         "y": [
          2108
         ],
         "yaxis": "y"
        },
        {
         "alignmentgroup": "True",
         "hovertemplate": "Country=%{x}<br>Total Deaths=%{y}<extra></extra>",
         "legendgroup": "Estonia",
         "marker": {
          "color": "#19d3f3",
          "pattern": {
           "shape": ""
          }
         },
         "name": "Estonia",
         "offsetgroup": "Estonia",
         "orientation": "v",
         "showlegend": true,
         "textposition": "auto",
         "type": "bar",
         "x": [
          "Estonia"
         ],
         "xaxis": "x",
         "y": [
          11802
         ],
         "yaxis": "y"
        },
        {
         "alignmentgroup": "True",
         "hovertemplate": "Country=%{x}<br>Total Deaths=%{y}<extra></extra>",
         "legendgroup": "Swaziland",
         "marker": {
          "color": "#FF6692",
          "pattern": {
           "shape": ""
          }
         },
         "name": "Swaziland",
         "offsetgroup": "Swaziland",
         "orientation": "v",
         "showlegend": true,
         "textposition": "auto",
         "type": "bar",
         "x": [
          "Swaziland"
         ],
         "xaxis": "x",
         "y": [
          8179
         ],
         "yaxis": "y"
        },
        {
         "alignmentgroup": "True",
         "hovertemplate": "Country=%{x}<br>Total Deaths=%{y}<extra></extra>",
         "legendgroup": "Georgia",
         "marker": {
          "color": "#B6E880",
          "pattern": {
           "shape": ""
          }
         },
         "name": "Georgia",
         "offsetgroup": "Georgia",
         "orientation": "v",
         "showlegend": true,
         "textposition": "auto",
         "type": "bar",
         "x": [
          "Georgia"
         ],
         "xaxis": "x",
         "y": [
          4013
         ],
         "yaxis": "y"
        },
        {
         "alignmentgroup": "True",
         "hovertemplate": "Country=%{x}<br>Total Deaths=%{y}<extra></extra>",
         "legendgroup": "Iceland",
         "marker": {
          "color": "#FF97FF",
          "pattern": {
           "shape": ""
          }
         },
         "name": "Iceland",
         "offsetgroup": "Iceland",
         "orientation": "v",
         "showlegend": true,
         "textposition": "auto",
         "type": "bar",
         "x": [
          "Iceland"
         ],
         "xaxis": "x",
         "y": [
          1968
         ],
         "yaxis": "y"
        },
        {
         "alignmentgroup": "True",
         "hovertemplate": "Country=%{x}<br>Total Deaths=%{y}<extra></extra>",
         "legendgroup": "Mali",
         "marker": {
          "color": "#FECB52",
          "pattern": {
           "shape": ""
          }
         },
         "name": "Mali",
         "offsetgroup": "Mali",
         "orientation": "v",
         "showlegend": true,
         "textposition": "auto",
         "type": "bar",
         "x": [
          "Mali"
         ],
         "xaxis": "x",
         "y": [
          18813
         ],
         "yaxis": "y"
        },
        {
         "alignmentgroup": "True",
         "hovertemplate": "Country=%{x}<br>Total Deaths=%{y}<extra></extra>",
         "legendgroup": "Rwanda",
         "marker": {
          "color": "#636efa",
          "pattern": {
           "shape": ""
          }
         },
         "name": "Rwanda",
         "offsetgroup": "Rwanda",
         "orientation": "v",
         "showlegend": true,
         "textposition": "auto",
         "type": "bar",
         "x": [
          "Rwanda"
         ],
         "xaxis": "x",
         "y": [
          1744
         ],
         "yaxis": "y"
        },
        {
         "alignmentgroup": "True",
         "hovertemplate": "Country=%{x}<br>Total Deaths=%{y}<extra></extra>",
         "legendgroup": "Jamaica",
         "marker": {
          "color": "#EF553B",
          "pattern": {
           "shape": ""
          }
         },
         "name": "Jamaica",
         "offsetgroup": "Jamaica",
         "orientation": "v",
         "showlegend": true,
         "textposition": "auto",
         "type": "bar",
         "x": [
          "Jamaica"
         ],
         "xaxis": "x",
         "y": [
          5653
         ],
         "yaxis": "y"
        },
        {
         "alignmentgroup": "True",
         "hovertemplate": "Country=%{x}<br>Total Deaths=%{y}<extra></extra>",
         "legendgroup": "Suriname",
         "marker": {
          "color": "#00cc96",
          "pattern": {
           "shape": ""
          }
         },
         "name": "Suriname",
         "offsetgroup": "Suriname",
         "orientation": "v",
         "showlegend": true,
         "textposition": "auto",
         "type": "bar",
         "x": [
          "Suriname"
         ],
         "xaxis": "x",
         "y": [
          6961
         ],
         "yaxis": "y"
        },
        {
         "alignmentgroup": "True",
         "hovertemplate": "Country=%{x}<br>Total Deaths=%{y}<extra></extra>",
         "legendgroup": "South Sudan",
         "marker": {
          "color": "#ab63fa",
          "pattern": {
           "shape": ""
          }
         },
         "name": "South Sudan",
         "offsetgroup": "South Sudan",
         "orientation": "v",
         "showlegend": true,
         "textposition": "auto",
         "type": "bar",
         "x": [
          "South Sudan"
         ],
         "xaxis": "x",
         "y": [
          6063
         ],
         "yaxis": "y"
        },
        {
         "alignmentgroup": "True",
         "hovertemplate": "Country=%{x}<br>Total Deaths=%{y}<extra></extra>",
         "legendgroup": "Guinea-Bissau",
         "marker": {
          "color": "#FFA15A",
          "pattern": {
           "shape": ""
          }
         },
         "name": "Guinea-Bissau",
         "offsetgroup": "Guinea-Bissau",
         "orientation": "v",
         "showlegend": true,
         "textposition": "auto",
         "type": "bar",
         "x": [
          "Guinea-Bissau"
         ],
         "xaxis": "x",
         "y": [
          4199
         ],
         "yaxis": "y"
        },
        {
         "alignmentgroup": "True",
         "hovertemplate": "Country=%{x}<br>Total Deaths=%{y}<extra></extra>",
         "legendgroup": "Angola",
         "marker": {
          "color": "#19d3f3",
          "pattern": {
           "shape": ""
          }
         },
         "name": "Angola",
         "offsetgroup": "Angola",
         "orientation": "v",
         "showlegend": true,
         "textposition": "auto",
         "type": "bar",
         "x": [
          "Angola"
         ],
         "xaxis": "x",
         "y": [
          11820
         ],
         "yaxis": "y"
        },
        {
         "alignmentgroup": "True",
         "hovertemplate": "Country=%{x}<br>Total Deaths=%{y}<extra></extra>",
         "legendgroup": "Sierra Leone",
         "marker": {
          "color": "#FF6692",
          "pattern": {
           "shape": ""
          }
         },
         "name": "Sierra Leone",
         "offsetgroup": "Sierra Leone",
         "orientation": "v",
         "showlegend": true,
         "textposition": "auto",
         "type": "bar",
         "x": [
          "Sierra Leone"
         ],
         "xaxis": "x",
         "y": [
          10036
         ],
         "yaxis": "y"
        },
        {
         "alignmentgroup": "True",
         "hovertemplate": "Country=%{x}<br>Total Deaths=%{y}<extra></extra>",
         "legendgroup": "Syria",
         "marker": {
          "color": "#B6E880",
          "pattern": {
           "shape": ""
          }
         },
         "name": "Syria",
         "offsetgroup": "Syria",
         "orientation": "v",
         "showlegend": true,
         "textposition": "auto",
         "type": "bar",
         "x": [
          "Syria"
         ],
         "xaxis": "x",
         "y": [
          12098
         ],
         "yaxis": "y"
        },
        {
         "alignmentgroup": "True",
         "hovertemplate": "Country=%{x}<br>Total Deaths=%{y}<extra></extra>",
         "legendgroup": "Latvia",
         "marker": {
          "color": "#FF97FF",
          "pattern": {
           "shape": ""
          }
         },
         "name": "Latvia",
         "offsetgroup": "Latvia",
         "orientation": "v",
         "showlegend": true,
         "textposition": "auto",
         "type": "bar",
         "x": [
          "Latvia"
         ],
         "xaxis": "x",
         "y": [
          5376
         ],
         "yaxis": "y"
        },
        {
         "alignmentgroup": "True",
         "hovertemplate": "Country=%{x}<br>Total Deaths=%{y}<extra></extra>",
         "legendgroup": "New Zealand",
         "marker": {
          "color": "#FECB52",
          "pattern": {
           "shape": ""
          }
         },
         "name": "New Zealand",
         "offsetgroup": "New Zealand",
         "orientation": "v",
         "showlegend": true,
         "textposition": "auto",
         "type": "bar",
         "x": [
          "New Zealand"
         ],
         "xaxis": "x",
         "y": [
          4145
         ],
         "yaxis": "y"
        },
        {
         "alignmentgroup": "True",
         "hovertemplate": "Country=%{x}<br>Total Deaths=%{y}<extra></extra>",
         "legendgroup": "Malta",
         "marker": {
          "color": "#636efa",
          "pattern": {
           "shape": ""
          }
         },
         "name": "Malta",
         "offsetgroup": "Malta",
         "orientation": "v",
         "showlegend": true,
         "textposition": "auto",
         "type": "bar",
         "x": [
          "Malta"
         ],
         "xaxis": "x",
         "y": [
          2409
         ],
         "yaxis": "y"
        },
        {
         "alignmentgroup": "True",
         "hovertemplate": "Country=%{x}<br>Total Deaths=%{y}<extra></extra>",
         "legendgroup": "Benin",
         "marker": {
          "color": "#EF553B",
          "pattern": {
           "shape": ""
          }
         },
         "name": "Benin",
         "offsetgroup": "Benin",
         "orientation": "v",
         "showlegend": true,
         "textposition": "auto",
         "type": "bar",
         "x": [
          "Benin"
         ],
         "xaxis": "x",
         "y": [
          4374
         ],
         "yaxis": "y"
        },
        {
         "alignmentgroup": "True",
         "hovertemplate": "Country=%{x}<br>Total Deaths=%{y}<extra></extra>",
         "legendgroup": "Uruguay",
         "marker": {
          "color": "#00cc96",
          "pattern": {
           "shape": ""
          }
         },
         "name": "Uruguay",
         "offsetgroup": "Uruguay",
         "orientation": "v",
         "showlegend": true,
         "textposition": "auto",
         "type": "bar",
         "x": [
          "Uruguay"
         ],
         "xaxis": "x",
         "y": [
          6083
         ],
         "yaxis": "y"
        },
        {
         "alignmentgroup": "True",
         "hovertemplate": "Country=%{x}<br>Total Deaths=%{y}<extra></extra>",
         "legendgroup": "Bahamas",
         "marker": {
          "color": "#ab63fa",
          "pattern": {
           "shape": ""
          }
         },
         "name": "Bahamas",
         "offsetgroup": "Bahamas",
         "orientation": "v",
         "showlegend": true,
         "textposition": "auto",
         "type": "bar",
         "x": [
          "Bahamas"
         ],
         "xaxis": "x",
         "y": [
          5998
         ],
         "yaxis": "y"
        },
        {
         "alignmentgroup": "True",
         "hovertemplate": "Country=%{x}<br>Total Deaths=%{y}<extra></extra>",
         "legendgroup": "Cyprus",
         "marker": {
          "color": "#FFA15A",
          "pattern": {
           "shape": ""
          }
         },
         "name": "Cyprus",
         "offsetgroup": "Cyprus",
         "orientation": "v",
         "showlegend": true,
         "textposition": "auto",
         "type": "bar",
         "x": [
          "Cyprus"
         ],
         "xaxis": "x",
         "y": [
          3735
         ],
         "yaxis": "y"
        },
        {
         "alignmentgroup": "True",
         "hovertemplate": "Country=%{x}<br>Total Deaths=%{y}<extra></extra>",
         "legendgroup": "Burkina Faso",
         "marker": {
          "color": "#19d3f3",
          "pattern": {
           "shape": ""
          }
         },
         "name": "Burkina Faso",
         "offsetgroup": "Burkina Faso",
         "orientation": "v",
         "showlegend": true,
         "textposition": "auto",
         "type": "bar",
         "x": [
          "Burkina Faso"
         ],
         "xaxis": "x",
         "y": [
          10248
         ],
         "yaxis": "y"
        },
        {
         "alignmentgroup": "True",
         "hovertemplate": "Country=%{x}<br>Total Deaths=%{y}<extra></extra>",
         "legendgroup": "Gambia",
         "marker": {
          "color": "#FF6692",
          "pattern": {
           "shape": ""
          }
         },
         "name": "Gambia",
         "offsetgroup": "Gambia",
         "orientation": "v",
         "showlegend": true,
         "textposition": "auto",
         "type": "bar",
         "x": [
          "Gambia"
         ],
         "xaxis": "x",
         "y": [
          7201
         ],
         "yaxis": "y"
        },
        {
         "alignmentgroup": "True",
         "hovertemplate": "Country=%{x}<br>Total Deaths=%{y}<extra></extra>",
         "legendgroup": "Yemen",
         "marker": {
          "color": "#B6E880",
          "pattern": {
           "shape": ""
          }
         },
         "name": "Yemen",
         "offsetgroup": "Yemen",
         "orientation": "v",
         "showlegend": true,
         "textposition": "auto",
         "type": "bar",
         "x": [
          "Yemen"
         ],
         "xaxis": "x",
         "y": [
          64304
         ],
         "yaxis": "y"
        },
        {
         "alignmentgroup": "True",
         "hovertemplate": "Country=%{x}<br>Total Deaths=%{y}<extra></extra>",
         "legendgroup": "Trinidad and Tobago",
         "marker": {
          "color": "#FF97FF",
          "pattern": {
           "shape": ""
          }
         },
         "name": "Trinidad and Tobago",
         "offsetgroup": "Trinidad and Tobago",
         "orientation": "v",
         "showlegend": true,
         "textposition": "auto",
         "type": "bar",
         "x": [
          "Trinidad and Tobago"
         ],
         "xaxis": "x",
         "y": [
          4519
         ],
         "yaxis": "y"
        },
        {
         "alignmentgroup": "True",
         "hovertemplate": "Country=%{x}<br>Total Deaths=%{y}<extra></extra>",
         "legendgroup": "Andorra",
         "marker": {
          "color": "#FECB52",
          "pattern": {
           "shape": ""
          }
         },
         "name": "Andorra",
         "offsetgroup": "Andorra",
         "orientation": "v",
         "showlegend": true,
         "textposition": "auto",
         "type": "bar",
         "x": [
          "Andorra"
         ],
         "xaxis": "x",
         "y": [
          9850
         ],
         "yaxis": "y"
        },
        {
         "alignmentgroup": "True",
         "hovertemplate": "Country=%{x}<br>Total Deaths=%{y}<extra></extra>",
         "legendgroup": "Aruba",
         "marker": {
          "color": "#636efa",
          "pattern": {
           "shape": ""
          }
         },
         "name": "Aruba",
         "offsetgroup": "Aruba",
         "orientation": "v",
         "showlegend": true,
         "textposition": "auto",
         "type": "bar",
         "x": [
          "Aruba"
         ],
         "xaxis": "x",
         "y": [
          1624
         ],
         "yaxis": "y"
        },
        {
         "alignmentgroup": "True",
         "hovertemplate": "Country=%{x}<br>Total Deaths=%{y}<extra></extra>",
         "legendgroup": "Botswana",
         "marker": {
          "color": "#EF553B",
          "pattern": {
           "shape": ""
          }
         },
         "name": "Botswana",
         "offsetgroup": "Botswana",
         "orientation": "v",
         "showlegend": true,
         "textposition": "auto",
         "type": "bar",
         "x": [
          "Botswana"
         ],
         "xaxis": "x",
         "y": [
          895
         ],
         "yaxis": "y"
        },
        {
         "alignmentgroup": "True",
         "hovertemplate": "Country=%{x}<br>Total Deaths=%{y}<extra></extra>",
         "legendgroup": "Niger",
         "marker": {
          "color": "#00cc96",
          "pattern": {
           "shape": ""
          }
         },
         "name": "Niger",
         "offsetgroup": "Niger",
         "orientation": "v",
         "showlegend": true,
         "textposition": "auto",
         "type": "bar",
         "x": [
          "Niger"
         ],
         "xaxis": "x",
         "y": [
          11676
         ],
         "yaxis": "y"
        },
        {
         "alignmentgroup": "True",
         "hovertemplate": "Country=%{x}<br>Total Deaths=%{y}<extra></extra>",
         "legendgroup": "Togo",
         "marker": {
          "color": "#ab63fa",
          "pattern": {
           "shape": ""
          }
         },
         "name": "Togo",
         "offsetgroup": "Togo",
         "orientation": "v",
         "showlegend": true,
         "textposition": "auto",
         "type": "bar",
         "x": [
          "Togo"
         ],
         "xaxis": "x",
         "y": [
          4197
         ],
         "yaxis": "y"
        },
        {
         "alignmentgroup": "True",
         "hovertemplate": "Country=%{x}<br>Total Deaths=%{y}<extra></extra>",
         "legendgroup": "Guyana",
         "marker": {
          "color": "#FFA15A",
          "pattern": {
           "shape": ""
          }
         },
         "name": "Guyana",
         "offsetgroup": "Guyana",
         "orientation": "v",
         "showlegend": true,
         "textposition": "auto",
         "type": "bar",
         "x": [
          "Guyana"
         ],
         "xaxis": "x",
         "y": [
          5783
         ],
         "yaxis": "y"
        },
        {
         "alignmentgroup": "True",
         "hovertemplate": "Country=%{x}<br>Total Deaths=%{y}<extra></extra>",
         "legendgroup": "Guam",
         "marker": {
          "color": "#19d3f3",
          "pattern": {
           "shape": ""
          }
         },
         "name": "Guam",
         "offsetgroup": "Guam",
         "orientation": "v",
         "showlegend": true,
         "textposition": "auto",
         "type": "bar",
         "x": [
          "Guam"
         ],
         "xaxis": "x",
         "y": [
          2715
         ],
         "yaxis": "y"
        },
        {
         "alignmentgroup": "True",
         "hovertemplate": "Country=%{x}<br>Total Deaths=%{y}<extra></extra>",
         "legendgroup": "Liberia",
         "marker": {
          "color": "#FF6692",
          "pattern": {
           "shape": ""
          }
         },
         "name": "Liberia",
         "offsetgroup": "Liberia",
         "orientation": "v",
         "showlegend": true,
         "textposition": "auto",
         "type": "bar",
         "x": [
          "Liberia"
         ],
         "xaxis": "x",
         "y": [
          10087
         ],
         "yaxis": "y"
        },
        {
         "alignmentgroup": "True",
         "hovertemplate": "Country=%{x}<br>Total Deaths=%{y}<extra></extra>",
         "legendgroup": "Chad",
         "marker": {
          "color": "#B6E880",
          "pattern": {
           "shape": ""
          }
         },
         "name": "Chad",
         "offsetgroup": "Chad",
         "orientation": "v",
         "showlegend": true,
         "textposition": "auto",
         "type": "bar",
         "x": [
          "Chad"
         ],
         "xaxis": "x",
         "y": [
          12212
         ],
         "yaxis": "y"
        },
        {
         "alignmentgroup": "True",
         "hovertemplate": "Country=%{x}<br>Total Deaths=%{y}<extra></extra>",
         "legendgroup": "San Marino",
         "marker": {
          "color": "#FF97FF",
          "pattern": {
           "shape": ""
          }
         },
         "name": "San Marino",
         "offsetgroup": "San Marino",
         "orientation": "v",
         "showlegend": true,
         "textposition": "auto",
         "type": "bar",
         "x": [
          "San Marino"
         ],
         "xaxis": "x",
         "y": [
          8596
         ],
         "yaxis": "y"
        },
        {
         "alignmentgroup": "True",
         "hovertemplate": "Country=%{x}<br>Total Deaths=%{y}<extra></extra>",
         "legendgroup": "Vietnam",
         "marker": {
          "color": "#FECB52",
          "pattern": {
           "shape": ""
          }
         },
         "name": "Vietnam",
         "offsetgroup": "Vietnam",
         "orientation": "v",
         "showlegend": true,
         "textposition": "auto",
         "type": "bar",
         "x": [
          "Vietnam"
         ],
         "xaxis": "x",
         "y": [
          2318
         ],
         "yaxis": "y"
        },
        {
         "alignmentgroup": "True",
         "hovertemplate": "Country=%{x}<br>Total Deaths=%{y}<extra></extra>",
         "legendgroup": "Sao Tome and Principe",
         "marker": {
          "color": "#636efa",
          "pattern": {
           "shape": ""
          }
         },
         "name": "Sao Tome and Principe",
         "offsetgroup": "Sao Tome and Principe",
         "orientation": "v",
         "showlegend": true,
         "textposition": "auto",
         "type": "bar",
         "x": [
          "Sao Tome and Principe"
         ],
         "xaxis": "x",
         "y": [
          2198
         ],
         "yaxis": "y"
        },
        {
         "alignmentgroup": "True",
         "hovertemplate": "Country=%{x}<br>Total Deaths=%{y}<extra></extra>",
         "legendgroup": "Lesotho",
         "marker": {
          "color": "#EF553B",
          "pattern": {
           "shape": ""
          }
         },
         "name": "Lesotho",
         "offsetgroup": "Lesotho",
         "orientation": "v",
         "showlegend": true,
         "textposition": "auto",
         "type": "bar",
         "x": [
          "Lesotho"
         ],
         "xaxis": "x",
         "y": [
          2680
         ],
         "yaxis": "y"
        },
        {
         "alignmentgroup": "True",
         "hovertemplate": "Country=%{x}<br>Total Deaths=%{y}<extra></extra>",
         "legendgroup": "Belize",
         "marker": {
          "color": "#00cc96",
          "pattern": {
           "shape": ""
          }
         },
         "name": "Belize",
         "offsetgroup": "Belize",
         "orientation": "v",
         "showlegend": true,
         "textposition": "auto",
         "type": "bar",
         "x": [
          "Belize"
         ],
         "xaxis": "x",
         "y": [
          1613
         ],
         "yaxis": "y"
        },
        {
         "alignmentgroup": "True",
         "hovertemplate": "Country=%{x}<br>Total Deaths=%{y}<extra></extra>",
         "legendgroup": "United States Virgin Islands",
         "marker": {
          "color": "#ab63fa",
          "pattern": {
           "shape": ""
          }
         },
         "name": "United States Virgin Islands",
         "offsetgroup": "United States Virgin Islands",
         "orientation": "v",
         "showlegend": true,
         "textposition": "auto",
         "type": "bar",
         "x": [
          "United States Virgin Islands"
         ],
         "xaxis": "x",
         "y": [
          1833
         ],
         "yaxis": "y"
        },
        {
         "alignmentgroup": "True",
         "hovertemplate": "Country=%{x}<br>Total Deaths=%{y}<extra></extra>",
         "legendgroup": "Taiwan",
         "marker": {
          "color": "#FFA15A",
          "pattern": {
           "shape": ""
          }
         },
         "name": "Taiwan",
         "offsetgroup": "Taiwan",
         "orientation": "v",
         "showlegend": true,
         "textposition": "auto",
         "type": "bar",
         "x": [
          "Taiwan"
         ],
         "xaxis": "x",
         "y": [
          1423
         ],
         "yaxis": "y"
        },
        {
         "alignmentgroup": "True",
         "hovertemplate": "Country=%{x}<br>Total Deaths=%{y}<extra></extra>",
         "legendgroup": "French Polynesia",
         "marker": {
          "color": "#19d3f3",
          "pattern": {
           "shape": ""
          }
         },
         "name": "French Polynesia",
         "offsetgroup": "French Polynesia",
         "orientation": "v",
         "showlegend": true,
         "textposition": "auto",
         "type": "bar",
         "x": [
          "French Polynesia"
         ],
         "xaxis": "x",
         "y": [
          260
         ],
         "yaxis": "y"
        },
        {
         "alignmentgroup": "True",
         "hovertemplate": "Country=%{x}<br>Total Deaths=%{y}<extra></extra>",
         "legendgroup": "Tanzania",
         "marker": {
          "color": "#FF6692",
          "pattern": {
           "shape": ""
          }
         },
         "name": "Tanzania",
         "offsetgroup": "Tanzania",
         "orientation": "v",
         "showlegend": true,
         "textposition": "auto",
         "type": "bar",
         "x": [
          "Tanzania"
         ],
         "xaxis": "x",
         "y": [
          3733
         ],
         "yaxis": "y"
        },
        {
         "alignmentgroup": "True",
         "hovertemplate": "Country=%{x}<br>Total Deaths=%{y}<extra></extra>",
         "legendgroup": "Mauritius",
         "marker": {
          "color": "#B6E880",
          "pattern": {
           "shape": ""
          }
         },
         "name": "Mauritius",
         "offsetgroup": "Mauritius",
         "orientation": "v",
         "showlegend": true,
         "textposition": "auto",
         "type": "bar",
         "x": [
          "Mauritius"
         ],
         "xaxis": "x",
         "y": [
          1988
         ],
         "yaxis": "y"
        },
        {
         "alignmentgroup": "True",
         "hovertemplate": "Country=%{x}<br>Total Deaths=%{y}<extra></extra>",
         "legendgroup": "Jersey",
         "marker": {
          "color": "#FF97FF",
          "pattern": {
           "shape": ""
          }
         },
         "name": "Jersey",
         "offsetgroup": "Jersey",
         "orientation": "v",
         "showlegend": true,
         "textposition": "auto",
         "type": "bar",
         "x": [
          "Jersey"
         ],
         "xaxis": "x",
         "y": [
          5527
         ],
         "yaxis": "y"
        },
        {
         "alignmentgroup": "True",
         "hovertemplate": "Country=%{x}<br>Total Deaths=%{y}<extra></extra>",
         "legendgroup": "Isle of Man",
         "marker": {
          "color": "#FECB52",
          "pattern": {
           "shape": ""
          }
         },
         "name": "Isle of Man",
         "offsetgroup": "Isle of Man",
         "orientation": "v",
         "showlegend": true,
         "textposition": "auto",
         "type": "bar",
         "x": [
          "Isle of Man"
         ],
         "xaxis": "x",
         "y": [
          4310
         ],
         "yaxis": "y"
        },
        {
         "alignmentgroup": "True",
         "hovertemplate": "Country=%{x}<br>Total Deaths=%{y}<extra></extra>",
         "legendgroup": "Faeroe Islands",
         "marker": {
          "color": "#636efa",
          "pattern": {
           "shape": ""
          }
         },
         "name": "Faeroe Islands",
         "offsetgroup": "Faeroe Islands",
         "orientation": "v",
         "showlegend": true,
         "textposition": "auto",
         "type": "bar",
         "x": [
          "Faeroe Islands"
         ],
         "xaxis": "x",
         "y": [
          0
         ],
         "yaxis": "y"
        },
        {
         "alignmentgroup": "True",
         "hovertemplate": "Country=%{x}<br>Total Deaths=%{y}<extra></extra>",
         "legendgroup": "Comoros",
         "marker": {
          "color": "#EF553B",
          "pattern": {
           "shape": ""
          }
         },
         "name": "Comoros",
         "offsetgroup": "Comoros",
         "orientation": "v",
         "showlegend": true,
         "textposition": "auto",
         "type": "bar",
         "x": [
          "Comoros"
         ],
         "xaxis": "x",
         "y": [
          920
         ],
         "yaxis": "y"
        },
        {
         "alignmentgroup": "True",
         "hovertemplate": "Country=%{x}<br>Total Deaths=%{y}<extra></extra>",
         "legendgroup": "Guernsey",
         "marker": {
          "color": "#00cc96",
          "pattern": {
           "shape": ""
          }
         },
         "name": "Guernsey",
         "offsetgroup": "Guernsey",
         "orientation": "v",
         "showlegend": true,
         "textposition": "auto",
         "type": "bar",
         "x": [
          "Guernsey"
         ],
         "xaxis": "x",
         "y": [
          2450
         ],
         "yaxis": "y"
        },
        {
         "alignmentgroup": "True",
         "hovertemplate": "Country=%{x}<br>Total Deaths=%{y}<extra></extra>",
         "legendgroup": "Burundi",
         "marker": {
          "color": "#ab63fa",
          "pattern": {
           "shape": ""
          }
         },
         "name": "Burundi",
         "offsetgroup": "Burundi",
         "orientation": "v",
         "showlegend": true,
         "textposition": "auto",
         "type": "bar",
         "x": [
          "Burundi"
         ],
         "xaxis": "x",
         "y": [
          188
         ],
         "yaxis": "y"
        },
        {
         "alignmentgroup": "True",
         "hovertemplate": "Country=%{x}<br>Total Deaths=%{y}<extra></extra>",
         "legendgroup": "Sint Maarten (Dutch part)",
         "marker": {
          "color": "#FFA15A",
          "pattern": {
           "shape": ""
          }
         },
         "name": "Sint Maarten (Dutch part)",
         "offsetgroup": "Sint Maarten (Dutch part)",
         "orientation": "v",
         "showlegend": true,
         "textposition": "auto",
         "type": "bar",
         "x": [
          "Sint Maarten (Dutch part)"
         ],
         "xaxis": "x",
         "y": [
          3146
         ],
         "yaxis": "y"
        },
        {
         "alignmentgroup": "True",
         "hovertemplate": "Country=%{x}<br>Total Deaths=%{y}<extra></extra>",
         "legendgroup": "Gibraltar",
         "marker": {
          "color": "#19d3f3",
          "pattern": {
           "shape": ""
          }
         },
         "name": "Gibraltar",
         "offsetgroup": "Gibraltar",
         "orientation": "v",
         "showlegend": true,
         "textposition": "auto",
         "type": "bar",
         "x": [
          "Gibraltar"
         ],
         "xaxis": "x",
         "y": [
          0
         ],
         "yaxis": "y"
        },
        {
         "alignmentgroup": "True",
         "hovertemplate": "Country=%{x}<br>Total Deaths=%{y}<extra></extra>",
         "legendgroup": "Turks and Caicos Islands",
         "marker": {
          "color": "#FF6692",
          "pattern": {
           "shape": ""
          }
         },
         "name": "Turks and Caicos Islands",
         "offsetgroup": "Turks and Caicos Islands",
         "orientation": "v",
         "showlegend": true,
         "textposition": "auto",
         "type": "bar",
         "x": [
          "Turks and Caicos Islands"
         ],
         "xaxis": "x",
         "y": [
          476
         ],
         "yaxis": "y"
        },
        {
         "alignmentgroup": "True",
         "hovertemplate": "Country=%{x}<br>Total Deaths=%{y}<extra></extra>",
         "legendgroup": "Mongolia",
         "marker": {
          "color": "#B6E880",
          "pattern": {
           "shape": ""
          }
         },
         "name": "Mongolia",
         "offsetgroup": "Mongolia",
         "orientation": "v",
         "showlegend": true,
         "textposition": "auto",
         "type": "bar",
         "x": [
          "Mongolia"
         ],
         "xaxis": "x",
         "y": [
          0
         ],
         "yaxis": "y"
        },
        {
         "alignmentgroup": "True",
         "hovertemplate": "Country=%{x}<br>Total Deaths=%{y}<extra></extra>",
         "legendgroup": "Eritrea",
         "marker": {
          "color": "#FF97FF",
          "pattern": {
           "shape": ""
          }
         },
         "name": "Eritrea",
         "offsetgroup": "Eritrea",
         "orientation": "v",
         "showlegend": true,
         "textposition": "auto",
         "type": "bar",
         "x": [
          "Eritrea"
         ],
         "xaxis": "x",
         "y": [
          0
         ],
         "yaxis": "y"
        },
        {
         "alignmentgroup": "True",
         "hovertemplate": "Country=%{x}<br>Total Deaths=%{y}<extra></extra>",
         "legendgroup": "Cambodia",
         "marker": {
          "color": "#FECB52",
          "pattern": {
           "shape": ""
          }
         },
         "name": "Cambodia",
         "offsetgroup": "Cambodia",
         "orientation": "v",
         "showlegend": true,
         "textposition": "auto",
         "type": "bar",
         "x": [
          "Cambodia"
         ],
         "xaxis": "x",
         "y": [
          0
         ],
         "yaxis": "y"
        },
        {
         "alignmentgroup": "True",
         "hovertemplate": "Country=%{x}<br>Total Deaths=%{y}<extra></extra>",
         "legendgroup": "Papua New Guinea",
         "marker": {
          "color": "#636efa",
          "pattern": {
           "shape": ""
          }
         },
         "name": "Papua New Guinea",
         "offsetgroup": "Papua New Guinea",
         "orientation": "v",
         "showlegend": true,
         "textposition": "auto",
         "type": "bar",
         "x": [
          "Papua New Guinea"
         ],
         "xaxis": "x",
         "y": [
          417
         ],
         "yaxis": "y"
        },
        {
         "alignmentgroup": "True",
         "hovertemplate": "Country=%{x}<br>Total Deaths=%{y}<extra></extra>",
         "legendgroup": "Cayman Islands",
         "marker": {
          "color": "#EF553B",
          "pattern": {
           "shape": ""
          }
         },
         "name": "Cayman Islands",
         "offsetgroup": "Cayman Islands",
         "orientation": "v",
         "showlegend": true,
         "textposition": "auto",
         "type": "bar",
         "x": [
          "Cayman Islands"
         ],
         "xaxis": "x",
         "y": [
          213
         ],
         "yaxis": "y"
        },
        {
         "alignmentgroup": "True",
         "hovertemplate": "Country=%{x}<br>Total Deaths=%{y}<extra></extra>",
         "legendgroup": "Brunei",
         "marker": {
          "color": "#00cc96",
          "pattern": {
           "shape": ""
          }
         },
         "name": "Brunei",
         "offsetgroup": "Brunei",
         "orientation": "v",
         "showlegend": true,
         "textposition": "auto",
         "type": "bar",
         "x": [
          "Brunei"
         ],
         "xaxis": "x",
         "y": [
          475
         ],
         "yaxis": "y"
        },
        {
         "alignmentgroup": "True",
         "hovertemplate": "Country=%{x}<br>Total Deaths=%{y}<extra></extra>",
         "legendgroup": "Bermuda",
         "marker": {
          "color": "#ab63fa",
          "pattern": {
           "shape": ""
          }
         },
         "name": "Bermuda",
         "offsetgroup": "Bermuda",
         "orientation": "v",
         "showlegend": true,
         "textposition": "auto",
         "type": "bar",
         "x": [
          "Bermuda"
         ],
         "xaxis": "x",
         "y": [
          1631
         ],
         "yaxis": "y"
        },
        {
         "alignmentgroup": "True",
         "hovertemplate": "Country=%{x}<br>Total Deaths=%{y}<extra></extra>",
         "legendgroup": "Barbados",
         "marker": {
          "color": "#FFA15A",
          "pattern": {
           "shape": ""
          }
         },
         "name": "Barbados",
         "offsetgroup": "Barbados",
         "orientation": "v",
         "showlegend": true,
         "textposition": "auto",
         "type": "bar",
         "x": [
          "Barbados"
         ],
         "xaxis": "x",
         "y": [
          1321
         ],
         "yaxis": "y"
        },
        {
         "alignmentgroup": "True",
         "hovertemplate": "Country=%{x}<br>Total Deaths=%{y}<extra></extra>",
         "legendgroup": "Bhutan",
         "marker": {
          "color": "#19d3f3",
          "pattern": {
           "shape": ""
          }
         },
         "name": "Bhutan",
         "offsetgroup": "Bhutan",
         "orientation": "v",
         "showlegend": true,
         "textposition": "auto",
         "type": "bar",
         "x": [
          "Bhutan"
         ],
         "xaxis": "x",
         "y": [
          0
         ],
         "yaxis": "y"
        },
        {
         "alignmentgroup": "True",
         "hovertemplate": "Country=%{x}<br>Total Deaths=%{y}<extra></extra>",
         "legendgroup": "Monaco",
         "marker": {
          "color": "#FF6692",
          "pattern": {
           "shape": ""
          }
         },
         "name": "Monaco",
         "offsetgroup": "Monaco",
         "orientation": "v",
         "showlegend": true,
         "textposition": "auto",
         "type": "bar",
         "x": [
          "Monaco"
         ],
         "xaxis": "x",
         "y": [
          192
         ],
         "yaxis": "y"
        },
        {
         "alignmentgroup": "True",
         "hovertemplate": "Country=%{x}<br>Total Deaths=%{y}<extra></extra>",
         "legendgroup": "Liechtenstein",
         "marker": {
          "color": "#B6E880",
          "pattern": {
           "shape": ""
          }
         },
         "name": "Liechtenstein",
         "offsetgroup": "Liechtenstein",
         "orientation": "v",
         "showlegend": true,
         "textposition": "auto",
         "type": "bar",
         "x": [
          "Liechtenstein"
         ],
         "xaxis": "x",
         "y": [
          198
         ],
         "yaxis": "y"
        },
        {
         "alignmentgroup": "True",
         "hovertemplate": "Country=%{x}<br>Total Deaths=%{y}<extra></extra>",
         "legendgroup": "Curacao",
         "marker": {
          "color": "#FF97FF",
          "pattern": {
           "shape": ""
          }
         },
         "name": "Curacao",
         "offsetgroup": "Curacao",
         "orientation": "v",
         "showlegend": true,
         "textposition": "auto",
         "type": "bar",
         "x": [
          "Curacao"
         ],
         "xaxis": "x",
         "y": [
          207
         ],
         "yaxis": "y"
        },
        {
         "alignmentgroup": "True",
         "hovertemplate": "Country=%{x}<br>Total Deaths=%{y}<extra></extra>",
         "legendgroup": "Seychelles",
         "marker": {
          "color": "#FECB52",
          "pattern": {
           "shape": ""
          }
         },
         "name": "Seychelles",
         "offsetgroup": "Seychelles",
         "orientation": "v",
         "showlegend": true,
         "textposition": "auto",
         "type": "bar",
         "x": [
          "Seychelles"
         ],
         "xaxis": "x",
         "y": [
          0
         ],
         "yaxis": "y"
        },
        {
         "alignmentgroup": "True",
         "hovertemplate": "Country=%{x}<br>Total Deaths=%{y}<extra></extra>",
         "legendgroup": "Antigua and Barbuda",
         "marker": {
          "color": "#636efa",
          "pattern": {
           "shape": ""
          }
         },
         "name": "Antigua and Barbuda",
         "offsetgroup": "Antigua and Barbuda",
         "orientation": "v",
         "showlegend": true,
         "textposition": "auto",
         "type": "bar",
         "x": [
          "Antigua and Barbuda"
         ],
         "xaxis": "x",
         "y": [
          568
         ],
         "yaxis": "y"
        },
        {
         "alignmentgroup": "True",
         "hovertemplate": "Country=%{x}<br>Total Deaths=%{y}<extra></extra>",
         "legendgroup": "Saint Vincent and the Grenadines",
         "marker": {
          "color": "#EF553B",
          "pattern": {
           "shape": ""
          }
         },
         "name": "Saint Vincent and the Grenadines",
         "offsetgroup": "Saint Vincent and the Grenadines",
         "orientation": "v",
         "showlegend": true,
         "textposition": "auto",
         "type": "bar",
         "x": [
          "Saint Vincent and the Grenadines"
         ],
         "xaxis": "x",
         "y": [
          0
         ],
         "yaxis": "y"
        },
        {
         "alignmentgroup": "True",
         "hovertemplate": "Country=%{x}<br>Total Deaths=%{y}<extra></extra>",
         "legendgroup": "Northern Mariana Islands",
         "marker": {
          "color": "#00cc96",
          "pattern": {
           "shape": ""
          }
         },
         "name": "Northern Mariana Islands",
         "offsetgroup": "Northern Mariana Islands",
         "orientation": "v",
         "showlegend": true,
         "textposition": "auto",
         "type": "bar",
         "x": [
          "Northern Mariana Islands"
         ],
         "xaxis": "x",
         "y": [
          396
         ],
         "yaxis": "y"
        },
        {
         "alignmentgroup": "True",
         "hovertemplate": "Country=%{x}<br>Total Deaths=%{y}<extra></extra>",
         "legendgroup": "Bonaire Sint Eustatius and Saba",
         "marker": {
          "color": "#ab63fa",
          "pattern": {
           "shape": ""
          }
         },
         "name": "Bonaire Sint Eustatius and Saba",
         "offsetgroup": "Bonaire Sint Eustatius and Saba",
         "orientation": "v",
         "showlegend": true,
         "textposition": "auto",
         "type": "bar",
         "x": [
          "Bonaire Sint Eustatius and Saba"
         ],
         "xaxis": "x",
         "y": [
          48
         ],
         "yaxis": "y"
        },
        {
         "alignmentgroup": "True",
         "hovertemplate": "Country=%{x}<br>Total Deaths=%{y}<extra></extra>",
         "legendgroup": "Fiji",
         "marker": {
          "color": "#FFA15A",
          "pattern": {
           "shape": ""
          }
         },
         "name": "Fiji",
         "offsetgroup": "Fiji",
         "orientation": "v",
         "showlegend": true,
         "textposition": "auto",
         "type": "bar",
         "x": [
          "Fiji"
         ],
         "xaxis": "x",
         "y": [
          132
         ],
         "yaxis": "y"
        },
        {
         "alignmentgroup": "True",
         "hovertemplate": "Country=%{x}<br>Total Deaths=%{y}<extra></extra>",
         "legendgroup": "Timor",
         "marker": {
          "color": "#19d3f3",
          "pattern": {
           "shape": ""
          }
         },
         "name": "Timor",
         "offsetgroup": "Timor",
         "orientation": "v",
         "showlegend": true,
         "textposition": "auto",
         "type": "bar",
         "x": [
          "Timor"
         ],
         "xaxis": "x",
         "y": [
          0
         ],
         "yaxis": "y"
        },
        {
         "alignmentgroup": "True",
         "hovertemplate": "Country=%{x}<br>Total Deaths=%{y}<extra></extra>",
         "legendgroup": "British Virgin Islands",
         "marker": {
          "color": "#FF6692",
          "pattern": {
           "shape": ""
          }
         },
         "name": "British Virgin Islands",
         "offsetgroup": "British Virgin Islands",
         "orientation": "v",
         "showlegend": true,
         "textposition": "auto",
         "type": "bar",
         "x": [
          "British Virgin Islands"
         ],
         "xaxis": "x",
         "y": [
          183
         ],
         "yaxis": "y"
        },
        {
         "alignmentgroup": "True",
         "hovertemplate": "Country=%{x}<br>Total Deaths=%{y}<extra></extra>",
         "legendgroup": "New Caledonia",
         "marker": {
          "color": "#B6E880",
          "pattern": {
           "shape": ""
          }
         },
         "name": "New Caledonia",
         "offsetgroup": "New Caledonia",
         "orientation": "v",
         "showlegend": true,
         "textposition": "auto",
         "type": "bar",
         "x": [
          "New Caledonia"
         ],
         "xaxis": "x",
         "y": [
          0
         ],
         "yaxis": "y"
        },
        {
         "alignmentgroup": "True",
         "hovertemplate": "Country=%{x}<br>Total Deaths=%{y}<extra></extra>",
         "legendgroup": "Grenada",
         "marker": {
          "color": "#FF97FF",
          "pattern": {
           "shape": ""
          }
         },
         "name": "Grenada",
         "offsetgroup": "Grenada",
         "orientation": "v",
         "showlegend": true,
         "textposition": "auto",
         "type": "bar",
         "x": [
          "Grenada"
         ],
         "xaxis": "x",
         "y": [
          0
         ],
         "yaxis": "y"
        },
        {
         "alignmentgroup": "True",
         "hovertemplate": "Country=%{x}<br>Total Deaths=%{y}<extra></extra>",
         "legendgroup": "Saint Lucia",
         "marker": {
          "color": "#FECB52",
          "pattern": {
           "shape": ""
          }
         },
         "name": "Saint Lucia",
         "offsetgroup": "Saint Lucia",
         "orientation": "v",
         "showlegend": true,
         "textposition": "auto",
         "type": "bar",
         "x": [
          "Saint Lucia"
         ],
         "xaxis": "x",
         "y": [
          0
         ],
         "yaxis": "y"
        },
        {
         "alignmentgroup": "True",
         "hovertemplate": "Country=%{x}<br>Total Deaths=%{y}<extra></extra>",
         "legendgroup": "Laos",
         "marker": {
          "color": "#636efa",
          "pattern": {
           "shape": ""
          }
         },
         "name": "Laos",
         "offsetgroup": "Laos",
         "orientation": "v",
         "showlegend": true,
         "textposition": "auto",
         "type": "bar",
         "x": [
          "Laos"
         ],
         "xaxis": "x",
         "y": [
          0
         ],
         "yaxis": "y"
        },
        {
         "alignmentgroup": "True",
         "hovertemplate": "Country=%{x}<br>Total Deaths=%{y}<extra></extra>",
         "legendgroup": "Dominica",
         "marker": {
          "color": "#EF553B",
          "pattern": {
           "shape": ""
          }
         },
         "name": "Dominica",
         "offsetgroup": "Dominica",
         "orientation": "v",
         "showlegend": true,
         "textposition": "auto",
         "type": "bar",
         "x": [
          "Dominica"
         ],
         "xaxis": "x",
         "y": [
          0
         ],
         "yaxis": "y"
        },
        {
         "alignmentgroup": "True",
         "hovertemplate": "Country=%{x}<br>Total Deaths=%{y}<extra></extra>",
         "legendgroup": "Saint Kitts and Nevis",
         "marker": {
          "color": "#00cc96",
          "pattern": {
           "shape": ""
          }
         },
         "name": "Saint Kitts and Nevis",
         "offsetgroup": "Saint Kitts and Nevis",
         "orientation": "v",
         "showlegend": true,
         "textposition": "auto",
         "type": "bar",
         "x": [
          "Saint Kitts and Nevis"
         ],
         "xaxis": "x",
         "y": [
          0
         ],
         "yaxis": "y"
        },
        {
         "alignmentgroup": "True",
         "hovertemplate": "Country=%{x}<br>Total Deaths=%{y}<extra></extra>",
         "legendgroup": "Greenland",
         "marker": {
          "color": "#ab63fa",
          "pattern": {
           "shape": ""
          }
         },
         "name": "Greenland",
         "offsetgroup": "Greenland",
         "orientation": "v",
         "showlegend": true,
         "textposition": "auto",
         "type": "bar",
         "x": [
          "Greenland"
         ],
         "xaxis": "x",
         "y": [
          0
         ],
         "yaxis": "y"
        },
        {
         "alignmentgroup": "True",
         "hovertemplate": "Country=%{x}<br>Total Deaths=%{y}<extra></extra>",
         "legendgroup": "Falkland Islands",
         "marker": {
          "color": "#FFA15A",
          "pattern": {
           "shape": ""
          }
         },
         "name": "Falkland Islands",
         "offsetgroup": "Falkland Islands",
         "orientation": "v",
         "showlegend": true,
         "textposition": "auto",
         "type": "bar",
         "x": [
          "Falkland Islands"
         ],
         "xaxis": "x",
         "y": [
          0
         ],
         "yaxis": "y"
        },
        {
         "alignmentgroup": "True",
         "hovertemplate": "Country=%{x}<br>Total Deaths=%{y}<extra></extra>",
         "legendgroup": "Vatican",
         "marker": {
          "color": "#19d3f3",
          "pattern": {
           "shape": ""
          }
         },
         "name": "Vatican",
         "offsetgroup": "Vatican",
         "orientation": "v",
         "showlegend": true,
         "textposition": "auto",
         "type": "bar",
         "x": [
          "Vatican"
         ],
         "xaxis": "x",
         "y": [
          0
         ],
         "yaxis": "y"
        },
        {
         "alignmentgroup": "True",
         "hovertemplate": "Country=%{x}<br>Total Deaths=%{y}<extra></extra>",
         "legendgroup": "Montserrat",
         "marker": {
          "color": "#FF6692",
          "pattern": {
           "shape": ""
          }
         },
         "name": "Montserrat",
         "offsetgroup": "Montserrat",
         "orientation": "v",
         "showlegend": true,
         "textposition": "auto",
         "type": "bar",
         "x": [
          "Montserrat"
         ],
         "xaxis": "x",
         "y": [
          177
         ],
         "yaxis": "y"
        },
        {
         "alignmentgroup": "True",
         "hovertemplate": "Country=%{x}<br>Total Deaths=%{y}<extra></extra>",
         "legendgroup": "Anguilla",
         "marker": {
          "color": "#B6E880",
          "pattern": {
           "shape": ""
          }
         },
         "name": "Anguilla",
         "offsetgroup": "Anguilla",
         "orientation": "v",
         "showlegend": true,
         "textposition": "auto",
         "type": "bar",
         "x": [
          "Anguilla"
         ],
         "xaxis": "x",
         "y": [
          0
         ],
         "yaxis": "y"
        },
        {
         "alignmentgroup": "True",
         "hovertemplate": "Country=%{x}<br>Total Deaths=%{y}<extra></extra>",
         "legendgroup": "Solomon Islands",
         "marker": {
          "color": "#FF97FF",
          "pattern": {
           "shape": ""
          }
         },
         "name": "Solomon Islands",
         "offsetgroup": "Solomon Islands",
         "orientation": "v",
         "showlegend": true,
         "textposition": "auto",
         "type": "bar",
         "x": [
          "Solomon Islands"
         ],
         "xaxis": "x",
         "y": [
          0
         ],
         "yaxis": "y"
        },
        {
         "alignmentgroup": "True",
         "hovertemplate": "Country=%{x}<br>Total Deaths=%{y}<extra></extra>",
         "legendgroup": "Hong Kong",
         "marker": {
          "color": "#FECB52",
          "pattern": {
           "shape": ""
          }
         },
         "name": "Hong Kong",
         "offsetgroup": "Hong Kong",
         "orientation": "v",
         "showlegend": true,
         "textposition": "auto",
         "type": "bar",
         "x": [
          "Hong Kong"
         ],
         "xaxis": "x",
         "y": [
          0
         ],
         "yaxis": "y"
        }
       ],
       "layout": {
        "barmode": "relative",
        "legend": {
         "title": {
          "text": "Country"
         },
         "tracegroupgap": 0
        },
        "template": {
         "data": {
          "bar": [
           {
            "error_x": {
             "color": "#2a3f5f"
            },
            "error_y": {
             "color": "#2a3f5f"
            },
            "marker": {
             "line": {
              "color": "#E5ECF6",
              "width": 0.5
             },
             "pattern": {
              "fillmode": "overlay",
              "size": 10,
              "solidity": 0.2
             }
            },
            "type": "bar"
           }
          ],
          "barpolar": [
           {
            "marker": {
             "line": {
              "color": "#E5ECF6",
              "width": 0.5
             },
             "pattern": {
              "fillmode": "overlay",
              "size": 10,
              "solidity": 0.2
             }
            },
            "type": "barpolar"
           }
          ],
          "carpet": [
           {
            "aaxis": {
             "endlinecolor": "#2a3f5f",
             "gridcolor": "white",
             "linecolor": "white",
             "minorgridcolor": "white",
             "startlinecolor": "#2a3f5f"
            },
            "baxis": {
             "endlinecolor": "#2a3f5f",
             "gridcolor": "white",
             "linecolor": "white",
             "minorgridcolor": "white",
             "startlinecolor": "#2a3f5f"
            },
            "type": "carpet"
           }
          ],
          "choropleth": [
           {
            "colorbar": {
             "outlinewidth": 0,
             "ticks": ""
            },
            "type": "choropleth"
           }
          ],
          "contour": [
           {
            "colorbar": {
             "outlinewidth": 0,
             "ticks": ""
            },
            "colorscale": [
             [
              0,
              "#0d0887"
             ],
             [
              0.1111111111111111,
              "#46039f"
             ],
             [
              0.2222222222222222,
              "#7201a8"
             ],
             [
              0.3333333333333333,
              "#9c179e"
             ],
             [
              0.4444444444444444,
              "#bd3786"
             ],
             [
              0.5555555555555556,
              "#d8576b"
             ],
             [
              0.6666666666666666,
              "#ed7953"
             ],
             [
              0.7777777777777778,
              "#fb9f3a"
             ],
             [
              0.8888888888888888,
              "#fdca26"
             ],
             [
              1,
              "#f0f921"
             ]
            ],
            "type": "contour"
           }
          ],
          "contourcarpet": [
           {
            "colorbar": {
             "outlinewidth": 0,
             "ticks": ""
            },
            "type": "contourcarpet"
           }
          ],
          "heatmap": [
           {
            "colorbar": {
             "outlinewidth": 0,
             "ticks": ""
            },
            "colorscale": [
             [
              0,
              "#0d0887"
             ],
             [
              0.1111111111111111,
              "#46039f"
             ],
             [
              0.2222222222222222,
              "#7201a8"
             ],
             [
              0.3333333333333333,
              "#9c179e"
             ],
             [
              0.4444444444444444,
              "#bd3786"
             ],
             [
              0.5555555555555556,
              "#d8576b"
             ],
             [
              0.6666666666666666,
              "#ed7953"
             ],
             [
              0.7777777777777778,
              "#fb9f3a"
             ],
             [
              0.8888888888888888,
              "#fdca26"
             ],
             [
              1,
              "#f0f921"
             ]
            ],
            "type": "heatmap"
           }
          ],
          "heatmapgl": [
           {
            "colorbar": {
             "outlinewidth": 0,
             "ticks": ""
            },
            "colorscale": [
             [
              0,
              "#0d0887"
             ],
             [
              0.1111111111111111,
              "#46039f"
             ],
             [
              0.2222222222222222,
              "#7201a8"
             ],
             [
              0.3333333333333333,
              "#9c179e"
             ],
             [
              0.4444444444444444,
              "#bd3786"
             ],
             [
              0.5555555555555556,
              "#d8576b"
             ],
             [
              0.6666666666666666,
              "#ed7953"
             ],
             [
              0.7777777777777778,
              "#fb9f3a"
             ],
             [
              0.8888888888888888,
              "#fdca26"
             ],
             [
              1,
              "#f0f921"
             ]
            ],
            "type": "heatmapgl"
           }
          ],
          "histogram": [
           {
            "marker": {
             "pattern": {
              "fillmode": "overlay",
              "size": 10,
              "solidity": 0.2
             }
            },
            "type": "histogram"
           }
          ],
          "histogram2d": [
           {
            "colorbar": {
             "outlinewidth": 0,
             "ticks": ""
            },
            "colorscale": [
             [
              0,
              "#0d0887"
             ],
             [
              0.1111111111111111,
              "#46039f"
             ],
             [
              0.2222222222222222,
              "#7201a8"
             ],
             [
              0.3333333333333333,
              "#9c179e"
             ],
             [
              0.4444444444444444,
              "#bd3786"
             ],
             [
              0.5555555555555556,
              "#d8576b"
             ],
             [
              0.6666666666666666,
              "#ed7953"
             ],
             [
              0.7777777777777778,
              "#fb9f3a"
             ],
             [
              0.8888888888888888,
              "#fdca26"
             ],
             [
              1,
              "#f0f921"
             ]
            ],
            "type": "histogram2d"
           }
          ],
          "histogram2dcontour": [
           {
            "colorbar": {
             "outlinewidth": 0,
             "ticks": ""
            },
            "colorscale": [
             [
              0,
              "#0d0887"
             ],
             [
              0.1111111111111111,
              "#46039f"
             ],
             [
              0.2222222222222222,
              "#7201a8"
             ],
             [
              0.3333333333333333,
              "#9c179e"
             ],
             [
              0.4444444444444444,
              "#bd3786"
             ],
             [
              0.5555555555555556,
              "#d8576b"
             ],
             [
              0.6666666666666666,
              "#ed7953"
             ],
             [
              0.7777777777777778,
              "#fb9f3a"
             ],
             [
              0.8888888888888888,
              "#fdca26"
             ],
             [
              1,
              "#f0f921"
             ]
            ],
            "type": "histogram2dcontour"
           }
          ],
          "mesh3d": [
           {
            "colorbar": {
             "outlinewidth": 0,
             "ticks": ""
            },
            "type": "mesh3d"
           }
          ],
          "parcoords": [
           {
            "line": {
             "colorbar": {
              "outlinewidth": 0,
              "ticks": ""
             }
            },
            "type": "parcoords"
           }
          ],
          "pie": [
           {
            "automargin": true,
            "type": "pie"
           }
          ],
          "scatter": [
           {
            "marker": {
             "colorbar": {
              "outlinewidth": 0,
              "ticks": ""
             }
            },
            "type": "scatter"
           }
          ],
          "scatter3d": [
           {
            "line": {
             "colorbar": {
              "outlinewidth": 0,
              "ticks": ""
             }
            },
            "marker": {
             "colorbar": {
              "outlinewidth": 0,
              "ticks": ""
             }
            },
            "type": "scatter3d"
           }
          ],
          "scattercarpet": [
           {
            "marker": {
             "colorbar": {
              "outlinewidth": 0,
              "ticks": ""
             }
            },
            "type": "scattercarpet"
           }
          ],
          "scattergeo": [
           {
            "marker": {
             "colorbar": {
              "outlinewidth": 0,
              "ticks": ""
             }
            },
            "type": "scattergeo"
           }
          ],
          "scattergl": [
           {
            "marker": {
             "colorbar": {
              "outlinewidth": 0,
              "ticks": ""
             }
            },
            "type": "scattergl"
           }
          ],
          "scattermapbox": [
           {
            "marker": {
             "colorbar": {
              "outlinewidth": 0,
              "ticks": ""
             }
            },
            "type": "scattermapbox"
           }
          ],
          "scatterpolar": [
           {
            "marker": {
             "colorbar": {
              "outlinewidth": 0,
              "ticks": ""
             }
            },
            "type": "scatterpolar"
           }
          ],
          "scatterpolargl": [
           {
            "marker": {
             "colorbar": {
              "outlinewidth": 0,
              "ticks": ""
             }
            },
            "type": "scatterpolargl"
           }
          ],
          "scatterternary": [
           {
            "marker": {
             "colorbar": {
              "outlinewidth": 0,
              "ticks": ""
             }
            },
            "type": "scatterternary"
           }
          ],
          "surface": [
           {
            "colorbar": {
             "outlinewidth": 0,
             "ticks": ""
            },
            "colorscale": [
             [
              0,
              "#0d0887"
             ],
             [
              0.1111111111111111,
              "#46039f"
             ],
             [
              0.2222222222222222,
              "#7201a8"
             ],
             [
              0.3333333333333333,
              "#9c179e"
             ],
             [
              0.4444444444444444,
              "#bd3786"
             ],
             [
              0.5555555555555556,
              "#d8576b"
             ],
             [
              0.6666666666666666,
              "#ed7953"
             ],
             [
              0.7777777777777778,
              "#fb9f3a"
             ],
             [
              0.8888888888888888,
              "#fdca26"
             ],
             [
              1,
              "#f0f921"
             ]
            ],
            "type": "surface"
           }
          ],
          "table": [
           {
            "cells": {
             "fill": {
              "color": "#EBF0F8"
             },
             "line": {
              "color": "white"
             }
            },
            "header": {
             "fill": {
              "color": "#C8D4E3"
             },
             "line": {
              "color": "white"
             }
            },
            "type": "table"
           }
          ]
         },
         "layout": {
          "annotationdefaults": {
           "arrowcolor": "#2a3f5f",
           "arrowhead": 0,
           "arrowwidth": 1
          },
          "autotypenumbers": "strict",
          "coloraxis": {
           "colorbar": {
            "outlinewidth": 0,
            "ticks": ""
           }
          },
          "colorscale": {
           "diverging": [
            [
             0,
             "#8e0152"
            ],
            [
             0.1,
             "#c51b7d"
            ],
            [
             0.2,
             "#de77ae"
            ],
            [
             0.3,
             "#f1b6da"
            ],
            [
             0.4,
             "#fde0ef"
            ],
            [
             0.5,
             "#f7f7f7"
            ],
            [
             0.6,
             "#e6f5d0"
            ],
            [
             0.7,
             "#b8e186"
            ],
            [
             0.8,
             "#7fbc41"
            ],
            [
             0.9,
             "#4d9221"
            ],
            [
             1,
             "#276419"
            ]
           ],
           "sequential": [
            [
             0,
             "#0d0887"
            ],
            [
             0.1111111111111111,
             "#46039f"
            ],
            [
             0.2222222222222222,
             "#7201a8"
            ],
            [
             0.3333333333333333,
             "#9c179e"
            ],
            [
             0.4444444444444444,
             "#bd3786"
            ],
            [
             0.5555555555555556,
             "#d8576b"
            ],
            [
             0.6666666666666666,
             "#ed7953"
            ],
            [
             0.7777777777777778,
             "#fb9f3a"
            ],
            [
             0.8888888888888888,
             "#fdca26"
            ],
            [
             1,
             "#f0f921"
            ]
           ],
           "sequentialminus": [
            [
             0,
             "#0d0887"
            ],
            [
             0.1111111111111111,
             "#46039f"
            ],
            [
             0.2222222222222222,
             "#7201a8"
            ],
            [
             0.3333333333333333,
             "#9c179e"
            ],
            [
             0.4444444444444444,
             "#bd3786"
            ],
            [
             0.5555555555555556,
             "#d8576b"
            ],
            [
             0.6666666666666666,
             "#ed7953"
            ],
            [
             0.7777777777777778,
             "#fb9f3a"
            ],
            [
             0.8888888888888888,
             "#fdca26"
            ],
            [
             1,
             "#f0f921"
            ]
           ]
          },
          "colorway": [
           "#636efa",
           "#EF553B",
           "#00cc96",
           "#ab63fa",
           "#FFA15A",
           "#19d3f3",
           "#FF6692",
           "#B6E880",
           "#FF97FF",
           "#FECB52"
          ],
          "font": {
           "color": "#2a3f5f"
          },
          "geo": {
           "bgcolor": "white",
           "lakecolor": "white",
           "landcolor": "#E5ECF6",
           "showlakes": true,
           "showland": true,
           "subunitcolor": "white"
          },
          "hoverlabel": {
           "align": "left"
          },
          "hovermode": "closest",
          "mapbox": {
           "style": "light"
          },
          "paper_bgcolor": "white",
          "plot_bgcolor": "#E5ECF6",
          "polar": {
           "angularaxis": {
            "gridcolor": "white",
            "linecolor": "white",
            "ticks": ""
           },
           "bgcolor": "#E5ECF6",
           "radialaxis": {
            "gridcolor": "white",
            "linecolor": "white",
            "ticks": ""
           }
          },
          "scene": {
           "xaxis": {
            "backgroundcolor": "#E5ECF6",
            "gridcolor": "white",
            "gridwidth": 2,
            "linecolor": "white",
            "showbackground": true,
            "ticks": "",
            "zerolinecolor": "white"
           },
           "yaxis": {
            "backgroundcolor": "#E5ECF6",
            "gridcolor": "white",
            "gridwidth": 2,
            "linecolor": "white",
            "showbackground": true,
            "ticks": "",
            "zerolinecolor": "white"
           },
           "zaxis": {
            "backgroundcolor": "#E5ECF6",
            "gridcolor": "white",
            "gridwidth": 2,
            "linecolor": "white",
            "showbackground": true,
            "ticks": "",
            "zerolinecolor": "white"
           }
          },
          "shapedefaults": {
           "line": {
            "color": "#2a3f5f"
           }
          },
          "ternary": {
           "aaxis": {
            "gridcolor": "white",
            "linecolor": "white",
            "ticks": ""
           },
           "baxis": {
            "gridcolor": "white",
            "linecolor": "white",
            "ticks": ""
           },
           "bgcolor": "#E5ECF6",
           "caxis": {
            "gridcolor": "white",
            "linecolor": "white",
            "ticks": ""
           }
          },
          "title": {
           "x": 0.05
          },
          "xaxis": {
           "automargin": true,
           "gridcolor": "white",
           "linecolor": "white",
           "ticks": "",
           "title": {
            "standoff": 15
           },
           "zerolinecolor": "white",
           "zerolinewidth": 2
          },
          "yaxis": {
           "automargin": true,
           "gridcolor": "white",
           "linecolor": "white",
           "ticks": "",
           "title": {
            "standoff": 15
           },
           "zerolinecolor": "white",
           "zerolinewidth": 2
          }
         }
        },
        "title": {
         "text": "Countries with Highest Deaths"
        },
        "width": 1000,
        "xaxis": {
         "anchor": "y",
         "categoryarray": [
          "United States",
          "Brazil",
          "India",
          "Russia",
          "Peru",
          "Mexico",
          "Spain",
          "South Africa",
          "Colombia",
          "United Kingdom",
          "Iran",
          "Chile",
          "Italy",
          "France",
          "Argentina",
          "Germany",
          "Turkey",
          "Saudi Arabia",
          "Pakistan",
          "Bangladesh",
          "Iraq",
          "Philippines",
          "China",
          "Indonesia",
          "Canada",
          "Qatar",
          "Israel",
          "Ukraine",
          "Belgium",
          "Ecuador",
          "Kazakhstan",
          "Netherlands",
          "Egypt",
          "Sweden",
          "Bolivia",
          "Romania",
          "Dominican Republic",
          "Kuwait",
          "Belarus",
          "Panama",
          "United Arab Emirates",
          "Oman",
          "Portugal",
          "Poland",
          "Singapore",
          "Morocco",
          "Japan",
          "Guatemala",
          "Switzerland",
          "Bahrain",
          "Honduras",
          "Nigeria",
          "Armenia",
          "Nepal",
          "Ireland",
          "Czech Republic",
          "Afghanistan",
          "Austria",
          "Ghana",
          "Algeria",
          "Ethiopia",
          "Venezuela",
          "Moldova",
          "Costa Rica",
          "Uzbekistan",
          "Kyrgyzstan",
          "Azerbaijan",
          "Serbia",
          "Puerto Rico",
          "South Korea",
          "Kenya",
          "Palestine",
          "Denmark",
          "Australia",
          "El Salvador",
          "Cameroon",
          "Paraguay",
          "Lebanon",
          "Bosnia and Herzegovina",
          "Cote d'Ivoire",
          "Norway",
          "Bulgaria",
          "Libya",
          "Malaysia",
          "Macedonia",
          "Hungary",
          "Sudan",
          "Senegal",
          "Finland",
          "Madagascar",
          "Greece",
          "Kosovo",
          "Croatia",
          "Democratic Republic of Congo",
          "Guinea",
          "Luxembourg",
          "Zambia",
          "Tajikistan",
          "Albania",
          "Gabon",
          "Haiti",
          "Tunisia",
          "Maldives",
          "Mauritania",
          "Slovakia",
          "Djibouti",
          "Jordan",
          "Namibia",
          "Montenegro",
          "Thailand",
          "Myanmar",
          "Zimbabwe",
          "Central African Republic",
          "Cuba",
          "Equatorial Guinea",
          "Slovenia",
          "Malawi",
          "Nicaragua",
          "Mozambique",
          "Somalia",
          "Lithuania",
          "Congo",
          "Cape Verde",
          "Uganda",
          "Sri Lanka",
          "Estonia",
          "Swaziland",
          "Georgia",
          "Iceland",
          "Mali",
          "Rwanda",
          "Jamaica",
          "Suriname",
          "South Sudan",
          "Guinea-Bissau",
          "Angola",
          "Sierra Leone",
          "Syria",
          "Latvia",
          "New Zealand",
          "Malta",
          "Benin",
          "Uruguay",
          "Bahamas",
          "Cyprus",
          "Burkina Faso",
          "Gambia",
          "Yemen",
          "Trinidad and Tobago",
          "Andorra",
          "Aruba",
          "Botswana",
          "Niger",
          "Togo",
          "Guyana",
          "Guam",
          "Liberia",
          "Chad",
          "San Marino",
          "Vietnam",
          "Sao Tome and Principe",
          "Lesotho",
          "Belize",
          "United States Virgin Islands",
          "Taiwan",
          "French Polynesia",
          "Tanzania",
          "Mauritius",
          "Jersey",
          "Isle of Man",
          "Faeroe Islands",
          "Comoros",
          "Guernsey",
          "Burundi",
          "Sint Maarten (Dutch part)",
          "Gibraltar",
          "Turks and Caicos Islands",
          "Mongolia",
          "Eritrea",
          "Cambodia",
          "Papua New Guinea",
          "Cayman Islands",
          "Brunei",
          "Bermuda",
          "Barbados",
          "Bhutan",
          "Monaco",
          "Liechtenstein",
          "Curacao",
          "Seychelles",
          "Antigua and Barbuda",
          "Saint Vincent and the Grenadines",
          "Northern Mariana Islands",
          "Bonaire Sint Eustatius and Saba",
          "Fiji",
          "Timor",
          "British Virgin Islands",
          "New Caledonia",
          "Grenada",
          "Saint Lucia",
          "Laos",
          "Dominica",
          "Saint Kitts and Nevis",
          "Greenland",
          "Falkland Islands",
          "Vatican",
          "Montserrat",
          "Anguilla",
          "Solomon Islands",
          "Hong Kong"
         ],
         "categoryorder": "array",
         "domain": [
          0,
          1
         ],
         "title": {
          "text": "Country"
         }
        },
        "yaxis": {
         "anchor": "x",
         "domain": [
          0,
          1
         ],
         "title": {
          "text": "Total Deaths"
         }
        }
       }
      },
      "text/html": [
       "<div>                            <div id=\"6bd523a1-7e17-41bd-a1eb-48a8e23609a3\" class=\"plotly-graph-div\" style=\"height:525px; width:1000px;\"></div>            <script type=\"text/javascript\">                require([\"plotly\"], function(Plotly) {                    window.PLOTLYENV=window.PLOTLYENV || {};                                    if (document.getElementById(\"6bd523a1-7e17-41bd-a1eb-48a8e23609a3\")) {                    Plotly.newPlot(                        \"6bd523a1-7e17-41bd-a1eb-48a8e23609a3\",                        [{\"alignmentgroup\":\"True\",\"hovertemplate\":\"Country=%{x}<br>Total Deaths=%{y}<extra></extra>\",\"legendgroup\":\"United States\",\"marker\":{\"color\":\"#636efa\",\"pattern\":{\"shape\":\"\"}},\"name\":\"United States\",\"offsetgroup\":\"United States\",\"orientation\":\"v\",\"showlegend\":true,\"textposition\":\"auto\",\"x\":[\"United States\"],\"xaxis\":\"x\",\"y\":[26477574.0],\"yaxis\":\"y\",\"type\":\"bar\"},{\"alignmentgroup\":\"True\",\"hovertemplate\":\"Country=%{x}<br>Total Deaths=%{y}<extra></extra>\",\"legendgroup\":\"Brazil\",\"marker\":{\"color\":\"#EF553B\",\"pattern\":{\"shape\":\"\"}},\"name\":\"Brazil\",\"offsetgroup\":\"Brazil\",\"orientation\":\"v\",\"showlegend\":true,\"textposition\":\"auto\",\"x\":[\"Brazil\"],\"xaxis\":\"x\",\"y\":[14340567.0],\"yaxis\":\"y\",\"type\":\"bar\"},{\"alignmentgroup\":\"True\",\"hovertemplate\":\"Country=%{x}<br>Total Deaths=%{y}<extra></extra>\",\"legendgroup\":\"India\",\"marker\":{\"color\":\"#00cc96\",\"pattern\":{\"shape\":\"\"}},\"name\":\"India\",\"offsetgroup\":\"India\",\"orientation\":\"v\",\"showlegend\":true,\"textposition\":\"auto\",\"x\":[\"India\"],\"xaxis\":\"x\",\"y\":[7247327.0],\"yaxis\":\"y\",\"type\":\"bar\"},{\"alignmentgroup\":\"True\",\"hovertemplate\":\"Country=%{x}<br>Total Deaths=%{y}<extra></extra>\",\"legendgroup\":\"Russia\",\"marker\":{\"color\":\"#ab63fa\",\"pattern\":{\"shape\":\"\"}},\"name\":\"Russia\",\"offsetgroup\":\"Russia\",\"orientation\":\"v\",\"showlegend\":true,\"textposition\":\"auto\",\"x\":[\"Russia\"],\"xaxis\":\"x\",\"y\":[2131571.0],\"yaxis\":\"y\",\"type\":\"bar\"},{\"alignmentgroup\":\"True\",\"hovertemplate\":\"Country=%{x}<br>Total Deaths=%{y}<extra></extra>\",\"legendgroup\":\"Peru\",\"marker\":{\"color\":\"#FFA15A\",\"pattern\":{\"shape\":\"\"}},\"name\":\"Peru\",\"offsetgroup\":\"Peru\",\"orientation\":\"v\",\"showlegend\":true,\"textposition\":\"auto\",\"x\":[\"Peru\"],\"xaxis\":\"x\",\"y\":[3020038.0],\"yaxis\":\"y\",\"type\":\"bar\"},{\"alignmentgroup\":\"True\",\"hovertemplate\":\"Country=%{x}<br>Total Deaths=%{y}<extra></extra>\",\"legendgroup\":\"Mexico\",\"marker\":{\"color\":\"#19d3f3\",\"pattern\":{\"shape\":\"\"}},\"name\":\"Mexico\",\"offsetgroup\":\"Mexico\",\"orientation\":\"v\",\"showlegend\":true,\"textposition\":\"auto\",\"x\":[\"Mexico\"],\"xaxis\":\"x\",\"y\":[7295850.0],\"yaxis\":\"y\",\"type\":\"bar\"},{\"alignmentgroup\":\"True\",\"hovertemplate\":\"Country=%{x}<br>Total Deaths=%{y}<extra></extra>\",\"legendgroup\":\"Spain\",\"marker\":{\"color\":\"#FF6692\",\"pattern\":{\"shape\":\"\"}},\"name\":\"Spain\",\"offsetgroup\":\"Spain\",\"orientation\":\"v\",\"showlegend\":true,\"textposition\":\"auto\",\"x\":[\"Spain\"],\"xaxis\":\"x\",\"y\":[5510624.0],\"yaxis\":\"y\",\"type\":\"bar\"},{\"alignmentgroup\":\"True\",\"hovertemplate\":\"Country=%{x}<br>Total Deaths=%{y}<extra></extra>\",\"legendgroup\":\"South Africa\",\"marker\":{\"color\":\"#B6E880\",\"pattern\":{\"shape\":\"\"}},\"name\":\"South Africa\",\"offsetgroup\":\"South Africa\",\"orientation\":\"v\",\"showlegend\":true,\"textposition\":\"auto\",\"x\":[\"South Africa\"],\"xaxis\":\"x\",\"y\":[1357682.0],\"yaxis\":\"y\",\"type\":\"bar\"},{\"alignmentgroup\":\"True\",\"hovertemplate\":\"Country=%{x}<br>Total Deaths=%{y}<extra></extra>\",\"legendgroup\":\"Colombia\",\"marker\":{\"color\":\"#FF97FF\",\"pattern\":{\"shape\":\"\"}},\"name\":\"Colombia\",\"offsetgroup\":\"Colombia\",\"orientation\":\"v\",\"showlegend\":true,\"textposition\":\"auto\",\"x\":[\"Colombia\"],\"xaxis\":\"x\",\"y\":[1936134.0],\"yaxis\":\"y\",\"type\":\"bar\"},{\"alignmentgroup\":\"True\",\"hovertemplate\":\"Country=%{x}<br>Total Deaths=%{y}<extra></extra>\",\"legendgroup\":\"United Kingdom\",\"marker\":{\"color\":\"#FECB52\",\"pattern\":{\"shape\":\"\"}},\"name\":\"United Kingdom\",\"offsetgroup\":\"United Kingdom\",\"orientation\":\"v\",\"showlegend\":true,\"textposition\":\"auto\",\"x\":[\"United Kingdom\"],\"xaxis\":\"x\",\"y\":[7249573.0],\"yaxis\":\"y\",\"type\":\"bar\"},{\"alignmentgroup\":\"True\",\"hovertemplate\":\"Country=%{x}<br>Total Deaths=%{y}<extra></extra>\",\"legendgroup\":\"Iran\",\"marker\":{\"color\":\"#636efa\",\"pattern\":{\"shape\":\"\"}},\"name\":\"Iran\",\"offsetgroup\":\"Iran\",\"orientation\":\"v\",\"showlegend\":true,\"textposition\":\"auto\",\"x\":[\"Iran\"],\"xaxis\":\"x\",\"y\":[2914070.0],\"yaxis\":\"y\",\"type\":\"bar\"},{\"alignmentgroup\":\"True\",\"hovertemplate\":\"Country=%{x}<br>Total Deaths=%{y}<extra></extra>\",\"legendgroup\":\"Chile\",\"marker\":{\"color\":\"#EF553B\",\"pattern\":{\"shape\":\"\"}},\"name\":\"Chile\",\"offsetgroup\":\"Chile\",\"orientation\":\"v\",\"showlegend\":true,\"textposition\":\"auto\",\"x\":[\"Chile\"],\"xaxis\":\"x\",\"y\":[1283880.0],\"yaxis\":\"y\",\"type\":\"bar\"},{\"alignmentgroup\":\"True\",\"hovertemplate\":\"Country=%{x}<br>Total Deaths=%{y}<extra></extra>\",\"legendgroup\":\"Italy\",\"marker\":{\"color\":\"#00cc96\",\"pattern\":{\"shape\":\"\"}},\"name\":\"Italy\",\"offsetgroup\":\"Italy\",\"orientation\":\"v\",\"showlegend\":true,\"textposition\":\"auto\",\"x\":[\"Italy\"],\"xaxis\":\"x\",\"y\":[6664225.0],\"yaxis\":\"y\",\"type\":\"bar\"},{\"alignmentgroup\":\"True\",\"hovertemplate\":\"Country=%{x}<br>Total Deaths=%{y}<extra></extra>\",\"legendgroup\":\"France\",\"marker\":{\"color\":\"#ab63fa\",\"pattern\":{\"shape\":\"\"}},\"name\":\"France\",\"offsetgroup\":\"France\",\"orientation\":\"v\",\"showlegend\":true,\"textposition\":\"auto\",\"x\":[\"France\"],\"xaxis\":\"x\",\"y\":[5633444.0],\"yaxis\":\"y\",\"type\":\"bar\"},{\"alignmentgroup\":\"True\",\"hovertemplate\":\"Country=%{x}<br>Total Deaths=%{y}<extra></extra>\",\"legendgroup\":\"Argentina\",\"marker\":{\"color\":\"#FFA15A\",\"pattern\":{\"shape\":\"\"}},\"name\":\"Argentina\",\"offsetgroup\":\"Argentina\",\"orientation\":\"v\",\"showlegend\":true,\"textposition\":\"auto\",\"x\":[\"Argentina\"],\"xaxis\":\"x\",\"y\":[1077426.0],\"yaxis\":\"y\",\"type\":\"bar\"},{\"alignmentgroup\":\"True\",\"hovertemplate\":\"Country=%{x}<br>Total Deaths=%{y}<extra></extra>\",\"legendgroup\":\"Germany\",\"marker\":{\"color\":\"#19d3f3\",\"pattern\":{\"shape\":\"\"}},\"name\":\"Germany\",\"offsetgroup\":\"Germany\",\"orientation\":\"v\",\"showlegend\":true,\"textposition\":\"auto\",\"x\":[\"Germany\"],\"xaxis\":\"x\",\"y\":[1640691.0],\"yaxis\":\"y\",\"type\":\"bar\"},{\"alignmentgroup\":\"True\",\"hovertemplate\":\"Country=%{x}<br>Total Deaths=%{y}<extra></extra>\",\"legendgroup\":\"Turkey\",\"marker\":{\"color\":\"#FF6692\",\"pattern\":{\"shape\":\"\"}},\"name\":\"Turkey\",\"offsetgroup\":\"Turkey\",\"orientation\":\"v\",\"showlegend\":true,\"textposition\":\"auto\",\"x\":[\"Turkey\"],\"xaxis\":\"x\",\"y\":[1049757.0],\"yaxis\":\"y\",\"type\":\"bar\"},{\"alignmentgroup\":\"True\",\"hovertemplate\":\"Country=%{x}<br>Total Deaths=%{y}<extra></extra>\",\"legendgroup\":\"Saudi Arabia\",\"marker\":{\"color\":\"#B6E880\",\"pattern\":{\"shape\":\"\"}},\"name\":\"Saudi Arabia\",\"offsetgroup\":\"Saudi Arabia\",\"orientation\":\"v\",\"showlegend\":true,\"textposition\":\"auto\",\"x\":[\"Saudi Arabia\"],\"xaxis\":\"x\",\"y\":[442507.0],\"yaxis\":\"y\",\"type\":\"bar\"},{\"alignmentgroup\":\"True\",\"hovertemplate\":\"Country=%{x}<br>Total Deaths=%{y}<extra></extra>\",\"legendgroup\":\"Pakistan\",\"marker\":{\"color\":\"#FF97FF\",\"pattern\":{\"shape\":\"\"}},\"name\":\"Pakistan\",\"offsetgroup\":\"Pakistan\",\"orientation\":\"v\",\"showlegend\":true,\"textposition\":\"auto\",\"x\":[\"Pakistan\"],\"xaxis\":\"x\",\"y\":[789557.0],\"yaxis\":\"y\",\"type\":\"bar\"},{\"alignmentgroup\":\"True\",\"hovertemplate\":\"Country=%{x}<br>Total Deaths=%{y}<extra></extra>\",\"legendgroup\":\"Bangladesh\",\"marker\":{\"color\":\"#FECB52\",\"pattern\":{\"shape\":\"\"}},\"name\":\"Bangladesh\",\"offsetgroup\":\"Bangladesh\",\"orientation\":\"v\",\"showlegend\":true,\"textposition\":\"auto\",\"x\":[\"Bangladesh\"],\"xaxis\":\"x\",\"y\":[484534.0],\"yaxis\":\"y\",\"type\":\"bar\"},{\"alignmentgroup\":\"True\",\"hovertemplate\":\"Country=%{x}<br>Total Deaths=%{y}<extra></extra>\",\"legendgroup\":\"Iraq\",\"marker\":{\"color\":\"#636efa\",\"pattern\":{\"shape\":\"\"}},\"name\":\"Iraq\",\"offsetgroup\":\"Iraq\",\"orientation\":\"v\",\"showlegend\":true,\"textposition\":\"auto\",\"x\":[\"Iraq\"],\"xaxis\":\"x\",\"y\":[744253.0],\"yaxis\":\"y\",\"type\":\"bar\"},{\"alignmentgroup\":\"True\",\"hovertemplate\":\"Country=%{x}<br>Total Deaths=%{y}<extra></extra>\",\"legendgroup\":\"Philippines\",\"marker\":{\"color\":\"#EF553B\",\"pattern\":{\"shape\":\"\"}},\"name\":\"Philippines\",\"offsetgroup\":\"Philippines\",\"orientation\":\"v\",\"showlegend\":true,\"textposition\":\"auto\",\"x\":[\"Philippines\"],\"xaxis\":\"x\",\"y\":[448665.0],\"yaxis\":\"y\",\"type\":\"bar\"},{\"alignmentgroup\":\"True\",\"hovertemplate\":\"Country=%{x}<br>Total Deaths=%{y}<extra></extra>\",\"legendgroup\":\"China\",\"marker\":{\"color\":\"#00cc96\",\"pattern\":{\"shape\":\"\"}},\"name\":\"China\",\"offsetgroup\":\"China\",\"orientation\":\"v\",\"showlegend\":true,\"textposition\":\"auto\",\"x\":[\"China\"],\"xaxis\":\"x\",\"y\":[1066939.0],\"yaxis\":\"y\",\"type\":\"bar\"},{\"alignmentgroup\":\"True\",\"hovertemplate\":\"Country=%{x}<br>Total Deaths=%{y}<extra></extra>\",\"legendgroup\":\"Indonesia\",\"marker\":{\"color\":\"#ab63fa\",\"pattern\":{\"shape\":\"\"}},\"name\":\"Indonesia\",\"offsetgroup\":\"Indonesia\",\"orientation\":\"v\",\"showlegend\":true,\"textposition\":\"auto\",\"x\":[\"Indonesia\"],\"xaxis\":\"x\",\"y\":[916111.0],\"yaxis\":\"y\",\"type\":\"bar\"},{\"alignmentgroup\":\"True\",\"hovertemplate\":\"Country=%{x}<br>Total Deaths=%{y}<extra></extra>\",\"legendgroup\":\"Canada\",\"marker\":{\"color\":\"#FFA15A\",\"pattern\":{\"shape\":\"\"}},\"name\":\"Canada\",\"offsetgroup\":\"Canada\",\"orientation\":\"v\",\"showlegend\":true,\"textposition\":\"auto\",\"x\":[\"Canada\"],\"xaxis\":\"x\",\"y\":[1455549.0],\"yaxis\":\"y\",\"type\":\"bar\"},{\"alignmentgroup\":\"True\",\"hovertemplate\":\"Country=%{x}<br>Total Deaths=%{y}<extra></extra>\",\"legendgroup\":\"Qatar\",\"marker\":{\"color\":\"#19d3f3\",\"pattern\":{\"shape\":\"\"}},\"name\":\"Qatar\",\"offsetgroup\":\"Qatar\",\"orientation\":\"v\",\"showlegend\":true,\"textposition\":\"auto\",\"x\":[\"Qatar\"],\"xaxis\":\"x\",\"y\":[23820.0],\"yaxis\":\"y\",\"type\":\"bar\"},{\"alignmentgroup\":\"True\",\"hovertemplate\":\"Country=%{x}<br>Total Deaths=%{y}<extra></extra>\",\"legendgroup\":\"Israel\",\"marker\":{\"color\":\"#FF6692\",\"pattern\":{\"shape\":\"\"}},\"name\":\"Israel\",\"offsetgroup\":\"Israel\",\"orientation\":\"v\",\"showlegend\":true,\"textposition\":\"auto\",\"x\":[\"Israel\"],\"xaxis\":\"x\",\"y\":[126278.0],\"yaxis\":\"y\",\"type\":\"bar\"},{\"alignmentgroup\":\"True\",\"hovertemplate\":\"Country=%{x}<br>Total Deaths=%{y}<extra></extra>\",\"legendgroup\":\"Ukraine\",\"marker\":{\"color\":\"#B6E880\",\"pattern\":{\"shape\":\"\"}},\"name\":\"Ukraine\",\"offsetgroup\":\"Ukraine\",\"orientation\":\"v\",\"showlegend\":true,\"textposition\":\"auto\",\"x\":[\"Ukraine\"],\"xaxis\":\"x\",\"y\":[343334.0],\"yaxis\":\"y\",\"type\":\"bar\"},{\"alignmentgroup\":\"True\",\"hovertemplate\":\"Country=%{x}<br>Total Deaths=%{y}<extra></extra>\",\"legendgroup\":\"Belgium\",\"marker\":{\"color\":\"#FF97FF\",\"pattern\":{\"shape\":\"\"}},\"name\":\"Belgium\",\"offsetgroup\":\"Belgium\",\"orientation\":\"v\",\"showlegend\":true,\"textposition\":\"auto\",\"x\":[\"Belgium\"],\"xaxis\":\"x\",\"y\":[1798461.0],\"yaxis\":\"y\",\"type\":\"bar\"},{\"alignmentgroup\":\"True\",\"hovertemplate\":\"Country=%{x}<br>Total Deaths=%{y}<extra></extra>\",\"legendgroup\":\"Ecuador\",\"marker\":{\"color\":\"#FECB52\",\"pattern\":{\"shape\":\"\"}},\"name\":\"Ecuador\",\"offsetgroup\":\"Ecuador\",\"orientation\":\"v\",\"showlegend\":true,\"textposition\":\"auto\",\"x\":[\"Ecuador\"],\"xaxis\":\"x\",\"y\":[1083749.0],\"yaxis\":\"y\",\"type\":\"bar\"},{\"alignmentgroup\":\"True\",\"hovertemplate\":\"Country=%{x}<br>Total Deaths=%{y}<extra></extra>\",\"legendgroup\":\"Kazakhstan\",\"marker\":{\"color\":\"#636efa\",\"pattern\":{\"shape\":\"\"}},\"name\":\"Kazakhstan\",\"offsetgroup\":\"Kazakhstan\",\"orientation\":\"v\",\"showlegend\":true,\"textposition\":\"auto\",\"x\":[\"Kazakhstan\"],\"xaxis\":\"x\",\"y\":[161480.0],\"yaxis\":\"y\",\"type\":\"bar\"},{\"alignmentgroup\":\"True\",\"hovertemplate\":\"Country=%{x}<br>Total Deaths=%{y}<extra></extra>\",\"legendgroup\":\"Netherlands\",\"marker\":{\"color\":\"#EF553B\",\"pattern\":{\"shape\":\"\"}},\"name\":\"Netherlands\",\"offsetgroup\":\"Netherlands\",\"orientation\":\"v\",\"showlegend\":true,\"textposition\":\"auto\",\"x\":[\"Netherlands\"],\"xaxis\":\"x\",\"y\":[1142410.0],\"yaxis\":\"y\",\"type\":\"bar\"},{\"alignmentgroup\":\"True\",\"hovertemplate\":\"Country=%{x}<br>Total Deaths=%{y}<extra></extra>\",\"legendgroup\":\"Egypt\",\"marker\":{\"color\":\"#00cc96\",\"pattern\":{\"shape\":\"\"}},\"name\":\"Egypt\",\"offsetgroup\":\"Egypt\",\"orientation\":\"v\",\"showlegend\":true,\"textposition\":\"auto\",\"x\":[\"Egypt\"],\"xaxis\":\"x\",\"y\":[644416.0],\"yaxis\":\"y\",\"type\":\"bar\"},{\"alignmentgroup\":\"True\",\"hovertemplate\":\"Country=%{x}<br>Total Deaths=%{y}<extra></extra>\",\"legendgroup\":\"Sweden\",\"marker\":{\"color\":\"#ab63fa\",\"pattern\":{\"shape\":\"\"}},\"name\":\"Sweden\",\"offsetgroup\":\"Sweden\",\"orientation\":\"v\",\"showlegend\":true,\"textposition\":\"auto\",\"x\":[\"Sweden\"],\"xaxis\":\"x\",\"y\":[941063.0],\"yaxis\":\"y\",\"type\":\"bar\"},{\"alignmentgroup\":\"True\",\"hovertemplate\":\"Country=%{x}<br>Total Deaths=%{y}<extra></extra>\",\"legendgroup\":\"Bolivia\",\"marker\":{\"color\":\"#FFA15A\",\"pattern\":{\"shape\":\"\"}},\"name\":\"Bolivia\",\"offsetgroup\":\"Bolivia\",\"orientation\":\"v\",\"showlegend\":true,\"textposition\":\"auto\",\"x\":[\"Bolivia\"],\"xaxis\":\"x\",\"y\":[578559.0],\"yaxis\":\"y\",\"type\":\"bar\"},{\"alignmentgroup\":\"True\",\"hovertemplate\":\"Country=%{x}<br>Total Deaths=%{y}<extra></extra>\",\"legendgroup\":\"Romania\",\"marker\":{\"color\":\"#19d3f3\",\"pattern\":{\"shape\":\"\"}},\"name\":\"Romania\",\"offsetgroup\":\"Romania\",\"orientation\":\"v\",\"showlegend\":true,\"textposition\":\"auto\",\"x\":[\"Romania\"],\"xaxis\":\"x\",\"y\":[464952.0],\"yaxis\":\"y\",\"type\":\"bar\"},{\"alignmentgroup\":\"True\",\"hovertemplate\":\"Country=%{x}<br>Total Deaths=%{y}<extra></extra>\",\"legendgroup\":\"Dominican Republic\",\"marker\":{\"color\":\"#FF6692\",\"pattern\":{\"shape\":\"\"}},\"name\":\"Dominican Republic\",\"offsetgroup\":\"Dominican Republic\",\"orientation\":\"v\",\"showlegend\":true,\"textposition\":\"auto\",\"x\":[\"Dominican Republic\"],\"xaxis\":\"x\",\"y\":[209024.0],\"yaxis\":\"y\",\"type\":\"bar\"},{\"alignmentgroup\":\"True\",\"hovertemplate\":\"Country=%{x}<br>Total Deaths=%{y}<extra></extra>\",\"legendgroup\":\"Kuwait\",\"marker\":{\"color\":\"#B6E880\",\"pattern\":{\"shape\":\"\"}},\"name\":\"Kuwait\",\"offsetgroup\":\"Kuwait\",\"orientation\":\"v\",\"showlegend\":true,\"textposition\":\"auto\",\"x\":[\"Kuwait\"],\"xaxis\":\"x\",\"y\":[69104.0],\"yaxis\":\"y\",\"type\":\"bar\"},{\"alignmentgroup\":\"True\",\"hovertemplate\":\"Country=%{x}<br>Total Deaths=%{y}<extra></extra>\",\"legendgroup\":\"Belarus\",\"marker\":{\"color\":\"#FF97FF\",\"pattern\":{\"shape\":\"\"}},\"name\":\"Belarus\",\"offsetgroup\":\"Belarus\",\"orientation\":\"v\",\"showlegend\":true,\"textposition\":\"auto\",\"x\":[\"Belarus\"],\"xaxis\":\"x\",\"y\":[88409.0],\"yaxis\":\"y\",\"type\":\"bar\"},{\"alignmentgroup\":\"True\",\"hovertemplate\":\"Country=%{x}<br>Total Deaths=%{y}<extra></extra>\",\"legendgroup\":\"Panama\",\"marker\":{\"color\":\"#FECB52\",\"pattern\":{\"shape\":\"\"}},\"name\":\"Panama\",\"offsetgroup\":\"Panama\",\"orientation\":\"v\",\"showlegend\":true,\"textposition\":\"auto\",\"x\":[\"Panama\"],\"xaxis\":\"x\",\"y\":[222435.0],\"yaxis\":\"y\",\"type\":\"bar\"},{\"alignmentgroup\":\"True\",\"hovertemplate\":\"Country=%{x}<br>Total Deaths=%{y}<extra></extra>\",\"legendgroup\":\"United Arab Emirates\",\"marker\":{\"color\":\"#636efa\",\"pattern\":{\"shape\":\"\"}},\"name\":\"United Arab Emirates\",\"offsetgroup\":\"United Arab Emirates\",\"orientation\":\"v\",\"showlegend\":true,\"textposition\":\"auto\",\"x\":[\"United Arab Emirates\"],\"xaxis\":\"x\",\"y\":[58035.0],\"yaxis\":\"y\",\"type\":\"bar\"},{\"alignmentgroup\":\"True\",\"hovertemplate\":\"Country=%{x}<br>Total Deaths=%{y}<extra></extra>\",\"legendgroup\":\"Oman\",\"marker\":{\"color\":\"#EF553B\",\"pattern\":{\"shape\":\"\"}},\"name\":\"Oman\",\"offsetgroup\":\"Oman\",\"orientation\":\"v\",\"showlegend\":true,\"textposition\":\"auto\",\"x\":[\"Oman\"],\"xaxis\":\"x\",\"y\":[73391.0],\"yaxis\":\"y\",\"type\":\"bar\"},{\"alignmentgroup\":\"True\",\"hovertemplate\":\"Country=%{x}<br>Total Deaths=%{y}<extra></extra>\",\"legendgroup\":\"Portugal\",\"marker\":{\"color\":\"#00cc96\",\"pattern\":{\"shape\":\"\"}},\"name\":\"Portugal\",\"offsetgroup\":\"Portugal\",\"orientation\":\"v\",\"showlegend\":true,\"textposition\":\"auto\",\"x\":[\"Portugal\"],\"xaxis\":\"x\",\"y\":[302612.0],\"yaxis\":\"y\",\"type\":\"bar\"},{\"alignmentgroup\":\"True\",\"hovertemplate\":\"Country=%{x}<br>Total Deaths=%{y}<extra></extra>\",\"legendgroup\":\"Poland\",\"marker\":{\"color\":\"#ab63fa\",\"pattern\":{\"shape\":\"\"}},\"name\":\"Poland\",\"offsetgroup\":\"Poland\",\"orientation\":\"v\",\"showlegend\":true,\"textposition\":\"auto\",\"x\":[\"Poland\"],\"xaxis\":\"x\",\"y\":[304001.0],\"yaxis\":\"y\",\"type\":\"bar\"},{\"alignmentgroup\":\"True\",\"hovertemplate\":\"Country=%{x}<br>Total Deaths=%{y}<extra></extra>\",\"legendgroup\":\"Singapore\",\"marker\":{\"color\":\"#FFA15A\",\"pattern\":{\"shape\":\"\"}},\"name\":\"Singapore\",\"offsetgroup\":\"Singapore\",\"orientation\":\"v\",\"showlegend\":true,\"textposition\":\"auto\",\"x\":[\"Singapore\"],\"xaxis\":\"x\",\"y\":[4691.0],\"yaxis\":\"y\",\"type\":\"bar\"},{\"alignmentgroup\":\"True\",\"hovertemplate\":\"Country=%{x}<br>Total Deaths=%{y}<extra></extra>\",\"legendgroup\":\"Morocco\",\"marker\":{\"color\":\"#19d3f3\",\"pattern\":{\"shape\":\"\"}},\"name\":\"Morocco\",\"offsetgroup\":\"Morocco\",\"orientation\":\"v\",\"showlegend\":true,\"textposition\":\"auto\",\"x\":[\"Morocco\"],\"xaxis\":\"x\",\"y\":[142270.0],\"yaxis\":\"y\",\"type\":\"bar\"},{\"alignmentgroup\":\"True\",\"hovertemplate\":\"Country=%{x}<br>Total Deaths=%{y}<extra></extra>\",\"legendgroup\":\"Japan\",\"marker\":{\"color\":\"#FF6692\",\"pattern\":{\"shape\":\"\"}},\"name\":\"Japan\",\"offsetgroup\":\"Japan\",\"orientation\":\"v\",\"showlegend\":true,\"textposition\":\"auto\",\"x\":[\"Japan\"],\"xaxis\":\"x\",\"y\":[194918.0],\"yaxis\":\"y\",\"type\":\"bar\"},{\"alignmentgroup\":\"True\",\"hovertemplate\":\"Country=%{x}<br>Total Deaths=%{y}<extra></extra>\",\"legendgroup\":\"Guatemala\",\"marker\":{\"color\":\"#B6E880\",\"pattern\":{\"shape\":\"\"}},\"name\":\"Guatemala\",\"offsetgroup\":\"Guatemala\",\"orientation\":\"v\",\"showlegend\":true,\"textposition\":\"auto\",\"x\":[\"Guatemala\"],\"xaxis\":\"x\",\"y\":[281588.0],\"yaxis\":\"y\",\"type\":\"bar\"},{\"alignmentgroup\":\"True\",\"hovertemplate\":\"Country=%{x}<br>Total Deaths=%{y}<extra></extra>\",\"legendgroup\":\"Switzerland\",\"marker\":{\"color\":\"#FF97FF\",\"pattern\":{\"shape\":\"\"}},\"name\":\"Switzerland\",\"offsetgroup\":\"Switzerland\",\"orientation\":\"v\",\"showlegend\":true,\"textposition\":\"auto\",\"x\":[\"Switzerland\"],\"xaxis\":\"x\",\"y\":[320693.0],\"yaxis\":\"y\",\"type\":\"bar\"},{\"alignmentgroup\":\"True\",\"hovertemplate\":\"Country=%{x}<br>Total Deaths=%{y}<extra></extra>\",\"legendgroup\":\"Bahrain\",\"marker\":{\"color\":\"#FECB52\",\"pattern\":{\"shape\":\"\"}},\"name\":\"Bahrain\",\"offsetgroup\":\"Bahrain\",\"orientation\":\"v\",\"showlegend\":true,\"textposition\":\"auto\",\"x\":[\"Bahrain\"],\"xaxis\":\"x\",\"y\":[22413.0],\"yaxis\":\"y\",\"type\":\"bar\"},{\"alignmentgroup\":\"True\",\"hovertemplate\":\"Country=%{x}<br>Total Deaths=%{y}<extra></extra>\",\"legendgroup\":\"Honduras\",\"marker\":{\"color\":\"#636efa\",\"pattern\":{\"shape\":\"\"}},\"name\":\"Honduras\",\"offsetgroup\":\"Honduras\",\"orientation\":\"v\",\"showlegend\":true,\"textposition\":\"auto\",\"x\":[\"Honduras\"],\"xaxis\":\"x\",\"y\":[200844.0],\"yaxis\":\"y\",\"type\":\"bar\"},{\"alignmentgroup\":\"True\",\"hovertemplate\":\"Country=%{x}<br>Total Deaths=%{y}<extra></extra>\",\"legendgroup\":\"Nigeria\",\"marker\":{\"color\":\"#EF553B\",\"pattern\":{\"shape\":\"\"}},\"name\":\"Nigeria\",\"offsetgroup\":\"Nigeria\",\"orientation\":\"v\",\"showlegend\":true,\"textposition\":\"auto\",\"x\":[\"Nigeria\"],\"xaxis\":\"x\",\"y\":[125473.0],\"yaxis\":\"y\",\"type\":\"bar\"},{\"alignmentgroup\":\"True\",\"hovertemplate\":\"Country=%{x}<br>Total Deaths=%{y}<extra></extra>\",\"legendgroup\":\"Armenia\",\"marker\":{\"color\":\"#00cc96\",\"pattern\":{\"shape\":\"\"}},\"name\":\"Armenia\",\"offsetgroup\":\"Armenia\",\"orientation\":\"v\",\"showlegend\":true,\"textposition\":\"auto\",\"x\":[\"Armenia\"],\"xaxis\":\"x\",\"y\":[102039.0],\"yaxis\":\"y\",\"type\":\"bar\"},{\"alignmentgroup\":\"True\",\"hovertemplate\":\"Country=%{x}<br>Total Deaths=%{y}<extra></extra>\",\"legendgroup\":\"Nepal\",\"marker\":{\"color\":\"#ab63fa\",\"pattern\":{\"shape\":\"\"}},\"name\":\"Nepal\",\"offsetgroup\":\"Nepal\",\"orientation\":\"v\",\"showlegend\":true,\"textposition\":\"auto\",\"x\":[\"Nepal\"],\"xaxis\":\"x\",\"y\":[27737.0],\"yaxis\":\"y\",\"type\":\"bar\"},{\"alignmentgroup\":\"True\",\"hovertemplate\":\"Country=%{x}<br>Total Deaths=%{y}<extra></extra>\",\"legendgroup\":\"Ireland\",\"marker\":{\"color\":\"#FFA15A\",\"pattern\":{\"shape\":\"\"}},\"name\":\"Ireland\",\"offsetgroup\":\"Ireland\",\"orientation\":\"v\",\"showlegend\":true,\"textposition\":\"auto\",\"x\":[\"Ireland\"],\"xaxis\":\"x\",\"y\":[310201.0],\"yaxis\":\"y\",\"type\":\"bar\"},{\"alignmentgroup\":\"True\",\"hovertemplate\":\"Country=%{x}<br>Total Deaths=%{y}<extra></extra>\",\"legendgroup\":\"Czech Republic\",\"marker\":{\"color\":\"#19d3f3\",\"pattern\":{\"shape\":\"\"}},\"name\":\"Czech Republic\",\"offsetgroup\":\"Czech Republic\",\"orientation\":\"v\",\"showlegend\":true,\"textposition\":\"auto\",\"x\":[\"Czech Republic\"],\"xaxis\":\"x\",\"y\":[79880.0],\"yaxis\":\"y\",\"type\":\"bar\"},{\"alignmentgroup\":\"True\",\"hovertemplate\":\"Country=%{x}<br>Total Deaths=%{y}<extra></extra>\",\"legendgroup\":\"Afghanistan\",\"marker\":{\"color\":\"#FF6692\",\"pattern\":{\"shape\":\"\"}},\"name\":\"Afghanistan\",\"offsetgroup\":\"Afghanistan\",\"orientation\":\"v\",\"showlegend\":true,\"textposition\":\"auto\",\"x\":[\"Afghanistan\"],\"xaxis\":\"x\",\"y\":[165875.0],\"yaxis\":\"y\",\"type\":\"bar\"},{\"alignmentgroup\":\"True\",\"hovertemplate\":\"Country=%{x}<br>Total Deaths=%{y}<extra></extra>\",\"legendgroup\":\"Austria\",\"marker\":{\"color\":\"#B6E880\",\"pattern\":{\"shape\":\"\"}},\"name\":\"Austria\",\"offsetgroup\":\"Austria\",\"orientation\":\"v\",\"showlegend\":true,\"textposition\":\"auto\",\"x\":[\"Austria\"],\"xaxis\":\"x\",\"y\":[134945.0],\"yaxis\":\"y\",\"type\":\"bar\"},{\"alignmentgroup\":\"True\",\"hovertemplate\":\"Country=%{x}<br>Total Deaths=%{y}<extra></extra>\",\"legendgroup\":\"Ghana\",\"marker\":{\"color\":\"#FF97FF\",\"pattern\":{\"shape\":\"\"}},\"name\":\"Ghana\",\"offsetgroup\":\"Ghana\",\"orientation\":\"v\",\"showlegend\":true,\"textposition\":\"auto\",\"x\":[\"Ghana\"],\"xaxis\":\"x\",\"y\":[29143.0],\"yaxis\":\"y\",\"type\":\"bar\"},{\"alignmentgroup\":\"True\",\"hovertemplate\":\"Country=%{x}<br>Total Deaths=%{y}<extra></extra>\",\"legendgroup\":\"Algeria\",\"marker\":{\"color\":\"#FECB52\",\"pattern\":{\"shape\":\"\"}},\"name\":\"Algeria\",\"offsetgroup\":\"Algeria\",\"orientation\":\"v\",\"showlegend\":true,\"textposition\":\"auto\",\"x\":[\"Algeria\"],\"xaxis\":\"x\",\"y\":[206429.0],\"yaxis\":\"y\",\"type\":\"bar\"},{\"alignmentgroup\":\"True\",\"hovertemplate\":\"Country=%{x}<br>Total Deaths=%{y}<extra></extra>\",\"legendgroup\":\"Ethiopia\",\"marker\":{\"color\":\"#636efa\",\"pattern\":{\"shape\":\"\"}},\"name\":\"Ethiopia\",\"offsetgroup\":\"Ethiopia\",\"orientation\":\"v\",\"showlegend\":true,\"textposition\":\"auto\",\"x\":[\"Ethiopia\"],\"xaxis\":\"x\",\"y\":[77686.0],\"yaxis\":\"y\",\"type\":\"bar\"},{\"alignmentgroup\":\"True\",\"hovertemplate\":\"Country=%{x}<br>Total Deaths=%{y}<extra></extra>\",\"legendgroup\":\"Venezuela\",\"marker\":{\"color\":\"#EF553B\",\"pattern\":{\"shape\":\"\"}},\"name\":\"Venezuela\",\"offsetgroup\":\"Venezuela\",\"orientation\":\"v\",\"showlegend\":true,\"textposition\":\"auto\",\"x\":[\"Venezuela\"],\"xaxis\":\"x\",\"y\":[40840.0],\"yaxis\":\"y\",\"type\":\"bar\"},{\"alignmentgroup\":\"True\",\"hovertemplate\":\"Country=%{x}<br>Total Deaths=%{y}<extra></extra>\",\"legendgroup\":\"Moldova\",\"marker\":{\"color\":\"#00cc96\",\"pattern\":{\"shape\":\"\"}},\"name\":\"Moldova\",\"offsetgroup\":\"Moldova\",\"orientation\":\"v\",\"showlegend\":true,\"textposition\":\"auto\",\"x\":[\"Moldova\"],\"xaxis\":\"x\",\"y\":[129946.0],\"yaxis\":\"y\",\"type\":\"bar\"},{\"alignmentgroup\":\"True\",\"hovertemplate\":\"Country=%{x}<br>Total Deaths=%{y}<extra></extra>\",\"legendgroup\":\"Costa Rica\",\"marker\":{\"color\":\"#ab63fa\",\"pattern\":{\"shape\":\"\"}},\"name\":\"Costa Rica\",\"offsetgroup\":\"Costa Rica\",\"orientation\":\"v\",\"showlegend\":true,\"textposition\":\"auto\",\"x\":[\"Costa Rica\"],\"xaxis\":\"x\",\"y\":[50352.0],\"yaxis\":\"y\",\"type\":\"bar\"},{\"alignmentgroup\":\"True\",\"hovertemplate\":\"Country=%{x}<br>Total Deaths=%{y}<extra></extra>\",\"legendgroup\":\"Uzbekistan\",\"marker\":{\"color\":\"#FFA15A\",\"pattern\":{\"shape\":\"\"}},\"name\":\"Uzbekistan\",\"offsetgroup\":\"Uzbekistan\",\"orientation\":\"v\",\"showlegend\":true,\"textposition\":\"auto\",\"x\":[\"Uzbekistan\"],\"xaxis\":\"x\",\"y\":[31903.0],\"yaxis\":\"y\",\"type\":\"bar\"},{\"alignmentgroup\":\"True\",\"hovertemplate\":\"Country=%{x}<br>Total Deaths=%{y}<extra></extra>\",\"legendgroup\":\"Kyrgyzstan\",\"marker\":{\"color\":\"#19d3f3\",\"pattern\":{\"shape\":\"\"}},\"name\":\"Kyrgyzstan\",\"offsetgroup\":\"Kyrgyzstan\",\"orientation\":\"v\",\"showlegend\":true,\"textposition\":\"auto\",\"x\":[\"Kyrgyzstan\"],\"xaxis\":\"x\",\"y\":[114922.0],\"yaxis\":\"y\",\"type\":\"bar\"},{\"alignmentgroup\":\"True\",\"hovertemplate\":\"Country=%{x}<br>Total Deaths=%{y}<extra></extra>\",\"legendgroup\":\"Azerbaijan\",\"marker\":{\"color\":\"#FF6692\",\"pattern\":{\"shape\":\"\"}},\"name\":\"Azerbaijan\",\"offsetgroup\":\"Azerbaijan\",\"orientation\":\"v\",\"showlegend\":true,\"textposition\":\"auto\",\"x\":[\"Azerbaijan\"],\"xaxis\":\"x\",\"y\":[59495.0],\"yaxis\":\"y\",\"type\":\"bar\"},{\"alignmentgroup\":\"True\",\"hovertemplate\":\"Country=%{x}<br>Total Deaths=%{y}<extra></extra>\",\"legendgroup\":\"Serbia\",\"marker\":{\"color\":\"#B6E880\",\"pattern\":{\"shape\":\"\"}},\"name\":\"Serbia\",\"offsetgroup\":\"Serbia\",\"orientation\":\"v\",\"showlegend\":true,\"textposition\":\"auto\",\"x\":[\"Serbia\"],\"xaxis\":\"x\",\"y\":[87503.0],\"yaxis\":\"y\",\"type\":\"bar\"},{\"alignmentgroup\":\"True\",\"hovertemplate\":\"Country=%{x}<br>Total Deaths=%{y}<extra></extra>\",\"legendgroup\":\"Puerto Rico\",\"marker\":{\"color\":\"#FF97FF\",\"pattern\":{\"shape\":\"\"}},\"name\":\"Puerto Rico\",\"offsetgroup\":\"Puerto Rico\",\"orientation\":\"v\",\"showlegend\":true,\"textposition\":\"auto\",\"x\":[\"Puerto Rico\"],\"xaxis\":\"x\",\"y\":[54940.0],\"yaxis\":\"y\",\"type\":\"bar\"},{\"alignmentgroup\":\"True\",\"hovertemplate\":\"Country=%{x}<br>Total Deaths=%{y}<extra></extra>\",\"legendgroup\":\"South Korea\",\"marker\":{\"color\":\"#FECB52\",\"pattern\":{\"shape\":\"\"}},\"name\":\"South Korea\",\"offsetgroup\":\"South Korea\",\"orientation\":\"v\",\"showlegend\":true,\"textposition\":\"auto\",\"x\":[\"South Korea\"],\"xaxis\":\"x\",\"y\":[63333.0],\"yaxis\":\"y\",\"type\":\"bar\"},{\"alignmentgroup\":\"True\",\"hovertemplate\":\"Country=%{x}<br>Total Deaths=%{y}<extra></extra>\",\"legendgroup\":\"Kenya\",\"marker\":{\"color\":\"#636efa\",\"pattern\":{\"shape\":\"\"}},\"name\":\"Kenya\",\"offsetgroup\":\"Kenya\",\"orientation\":\"v\",\"showlegend\":true,\"textposition\":\"auto\",\"x\":[\"Kenya\"],\"xaxis\":\"x\",\"y\":[59485.0],\"yaxis\":\"y\",\"type\":\"bar\"},{\"alignmentgroup\":\"True\",\"hovertemplate\":\"Country=%{x}<br>Total Deaths=%{y}<extra></extra>\",\"legendgroup\":\"Palestine\",\"marker\":{\"color\":\"#EF553B\",\"pattern\":{\"shape\":\"\"}},\"name\":\"Palestine\",\"offsetgroup\":\"Palestine\",\"orientation\":\"v\",\"showlegend\":true,\"textposition\":\"auto\",\"x\":[\"Palestine\"],\"xaxis\":\"x\",\"y\":[21522.0],\"yaxis\":\"y\",\"type\":\"bar\"},{\"alignmentgroup\":\"True\",\"hovertemplate\":\"Country=%{x}<br>Total Deaths=%{y}<extra></extra>\",\"legendgroup\":\"Denmark\",\"marker\":{\"color\":\"#00cc96\",\"pattern\":{\"shape\":\"\"}},\"name\":\"Denmark\",\"offsetgroup\":\"Denmark\",\"orientation\":\"v\",\"showlegend\":true,\"textposition\":\"auto\",\"x\":[\"Denmark\"],\"xaxis\":\"x\",\"y\":[113280.0],\"yaxis\":\"y\",\"type\":\"bar\"},{\"alignmentgroup\":\"True\",\"hovertemplate\":\"Country=%{x}<br>Total Deaths=%{y}<extra></extra>\",\"legendgroup\":\"Australia\",\"marker\":{\"color\":\"#ab63fa\",\"pattern\":{\"shape\":\"\"}},\"name\":\"Australia\",\"offsetgroup\":\"Australia\",\"orientation\":\"v\",\"showlegend\":true,\"textposition\":\"auto\",\"x\":[\"Australia\"],\"xaxis\":\"x\",\"y\":[65029.0],\"yaxis\":\"y\",\"type\":\"bar\"},{\"alignmentgroup\":\"True\",\"hovertemplate\":\"Country=%{x}<br>Total Deaths=%{y}<extra></extra>\",\"legendgroup\":\"El Salvador\",\"marker\":{\"color\":\"#FFA15A\",\"pattern\":{\"shape\":\"\"}},\"name\":\"El Salvador\",\"offsetgroup\":\"El Salvador\",\"orientation\":\"v\",\"showlegend\":true,\"textposition\":\"auto\",\"x\":[\"El Salvador\"],\"xaxis\":\"x\",\"y\":[71957.0],\"yaxis\":\"y\",\"type\":\"bar\"},{\"alignmentgroup\":\"True\",\"hovertemplate\":\"Country=%{x}<br>Total Deaths=%{y}<extra></extra>\",\"legendgroup\":\"Cameroon\",\"marker\":{\"color\":\"#19d3f3\",\"pattern\":{\"shape\":\"\"}},\"name\":\"Cameroon\",\"offsetgroup\":\"Cameroon\",\"orientation\":\"v\",\"showlegend\":true,\"textposition\":\"auto\",\"x\":[\"Cameroon\"],\"xaxis\":\"x\",\"y\":[56606.0],\"yaxis\":\"y\",\"type\":\"bar\"},{\"alignmentgroup\":\"True\",\"hovertemplate\":\"Country=%{x}<br>Total Deaths=%{y}<extra></extra>\",\"legendgroup\":\"Paraguay\",\"marker\":{\"color\":\"#FF6692\",\"pattern\":{\"shape\":\"\"}},\"name\":\"Paraguay\",\"offsetgroup\":\"Paraguay\",\"orientation\":\"v\",\"showlegend\":true,\"textposition\":\"auto\",\"x\":[\"Paraguay\"],\"xaxis\":\"x\",\"y\":[42850.0],\"yaxis\":\"y\",\"type\":\"bar\"},{\"alignmentgroup\":\"True\",\"hovertemplate\":\"Country=%{x}<br>Total Deaths=%{y}<extra></extra>\",\"legendgroup\":\"Lebanon\",\"marker\":{\"color\":\"#B6E880\",\"pattern\":{\"shape\":\"\"}},\"name\":\"Lebanon\",\"offsetgroup\":\"Lebanon\",\"orientation\":\"v\",\"showlegend\":true,\"textposition\":\"auto\",\"x\":[\"Lebanon\"],\"xaxis\":\"x\",\"y\":[22983.0],\"yaxis\":\"y\",\"type\":\"bar\"},{\"alignmentgroup\":\"True\",\"hovertemplate\":\"Country=%{x}<br>Total Deaths=%{y}<extra></extra>\",\"legendgroup\":\"Bosnia and Herzegovina\",\"marker\":{\"color\":\"#FF97FF\",\"pattern\":{\"shape\":\"\"}},\"name\":\"Bosnia and Herzegovina\",\"offsetgroup\":\"Bosnia and Herzegovina\",\"orientation\":\"v\",\"showlegend\":true,\"textposition\":\"auto\",\"x\":[\"Bosnia and Herzegovina\"],\"xaxis\":\"x\",\"y\":[70578.0],\"yaxis\":\"y\",\"type\":\"bar\"},{\"alignmentgroup\":\"True\",\"hovertemplate\":\"Country=%{x}<br>Total Deaths=%{y}<extra></extra>\",\"legendgroup\":\"Cote d'Ivoire\",\"marker\":{\"color\":\"#FECB52\",\"pattern\":{\"shape\":\"\"}},\"name\":\"Cote d'Ivoire\",\"offsetgroup\":\"Cote d'Ivoire\",\"orientation\":\"v\",\"showlegend\":true,\"textposition\":\"auto\",\"x\":[\"Cote d'Ivoire\"],\"xaxis\":\"x\",\"y\":[14220.0],\"yaxis\":\"y\",\"type\":\"bar\"},{\"alignmentgroup\":\"True\",\"hovertemplate\":\"Country=%{x}<br>Total Deaths=%{y}<extra></extra>\",\"legendgroup\":\"Norway\",\"marker\":{\"color\":\"#636efa\",\"pattern\":{\"shape\":\"\"}},\"name\":\"Norway\",\"offsetgroup\":\"Norway\",\"orientation\":\"v\",\"showlegend\":true,\"textposition\":\"auto\",\"x\":[\"Norway\"],\"xaxis\":\"x\",\"y\":[47158.0],\"yaxis\":\"y\",\"type\":\"bar\"},{\"alignmentgroup\":\"True\",\"hovertemplate\":\"Country=%{x}<br>Total Deaths=%{y}<extra></extra>\",\"legendgroup\":\"Bulgaria\",\"marker\":{\"color\":\"#EF553B\",\"pattern\":{\"shape\":\"\"}},\"name\":\"Bulgaria\",\"offsetgroup\":\"Bulgaria\",\"orientation\":\"v\",\"showlegend\":true,\"textposition\":\"auto\",\"x\":[\"Bulgaria\"],\"xaxis\":\"x\",\"y\":[72850.0],\"yaxis\":\"y\",\"type\":\"bar\"},{\"alignmentgroup\":\"True\",\"hovertemplate\":\"Country=%{x}<br>Total Deaths=%{y}<extra></extra>\",\"legendgroup\":\"Libya\",\"marker\":{\"color\":\"#00cc96\",\"pattern\":{\"shape\":\"\"}},\"name\":\"Libya\",\"offsetgroup\":\"Libya\",\"orientation\":\"v\",\"showlegend\":true,\"textposition\":\"auto\",\"x\":[\"Libya\"],\"xaxis\":\"x\",\"y\":[29730.0],\"yaxis\":\"y\",\"type\":\"bar\"},{\"alignmentgroup\":\"True\",\"hovertemplate\":\"Country=%{x}<br>Total Deaths=%{y}<extra></extra>\",\"legendgroup\":\"Malaysia\",\"marker\":{\"color\":\"#ab63fa\",\"pattern\":{\"shape\":\"\"}},\"name\":\"Malaysia\",\"offsetgroup\":\"Malaysia\",\"orientation\":\"v\",\"showlegend\":true,\"textposition\":\"auto\",\"x\":[\"Malaysia\"],\"xaxis\":\"x\",\"y\":[24012.0],\"yaxis\":\"y\",\"type\":\"bar\"},{\"alignmentgroup\":\"True\",\"hovertemplate\":\"Country=%{x}<br>Total Deaths=%{y}<extra></extra>\",\"legendgroup\":\"Macedonia\",\"marker\":{\"color\":\"#FFA15A\",\"pattern\":{\"shape\":\"\"}},\"name\":\"Macedonia\",\"offsetgroup\":\"Macedonia\",\"orientation\":\"v\",\"showlegend\":true,\"textposition\":\"auto\",\"x\":[\"Macedonia\"],\"xaxis\":\"x\",\"y\":[74066.0],\"yaxis\":\"y\",\"type\":\"bar\"},{\"alignmentgroup\":\"True\",\"hovertemplate\":\"Country=%{x}<br>Total Deaths=%{y}<extra></extra>\",\"legendgroup\":\"Hungary\",\"marker\":{\"color\":\"#19d3f3\",\"pattern\":{\"shape\":\"\"}},\"name\":\"Hungary\",\"offsetgroup\":\"Hungary\",\"orientation\":\"v\",\"showlegend\":true,\"textposition\":\"auto\",\"x\":[\"Hungary\"],\"xaxis\":\"x\",\"y\":[110142.0],\"yaxis\":\"y\",\"type\":\"bar\"},{\"alignmentgroup\":\"True\",\"hovertemplate\":\"Country=%{x}<br>Total Deaths=%{y}<extra></extra>\",\"legendgroup\":\"Sudan\",\"marker\":{\"color\":\"#FF6692\",\"pattern\":{\"shape\":\"\"}},\"name\":\"Sudan\",\"offsetgroup\":\"Sudan\",\"orientation\":\"v\",\"showlegend\":true,\"textposition\":\"auto\",\"x\":[\"Sudan\"],\"xaxis\":\"x\",\"y\":[102825.0],\"yaxis\":\"y\",\"type\":\"bar\"},{\"alignmentgroup\":\"True\",\"hovertemplate\":\"Country=%{x}<br>Total Deaths=%{y}<extra></extra>\",\"legendgroup\":\"Senegal\",\"marker\":{\"color\":\"#B6E880\",\"pattern\":{\"shape\":\"\"}},\"name\":\"Senegal\",\"offsetgroup\":\"Senegal\",\"orientation\":\"v\",\"showlegend\":true,\"textposition\":\"auto\",\"x\":[\"Senegal\"],\"xaxis\":\"x\",\"y\":[30320.0],\"yaxis\":\"y\",\"type\":\"bar\"},{\"alignmentgroup\":\"True\",\"hovertemplate\":\"Country=%{x}<br>Total Deaths=%{y}<extra></extra>\",\"legendgroup\":\"Finland\",\"marker\":{\"color\":\"#FF97FF\",\"pattern\":{\"shape\":\"\"}},\"name\":\"Finland\",\"offsetgroup\":\"Finland\",\"orientation\":\"v\",\"showlegend\":true,\"textposition\":\"auto\",\"x\":[\"Finland\"],\"xaxis\":\"x\",\"y\":[58377.0],\"yaxis\":\"y\",\"type\":\"bar\"},{\"alignmentgroup\":\"True\",\"hovertemplate\":\"Country=%{x}<br>Total Deaths=%{y}<extra></extra>\",\"legendgroup\":\"Madagascar\",\"marker\":{\"color\":\"#FECB52\",\"pattern\":{\"shape\":\"\"}},\"name\":\"Madagascar\",\"offsetgroup\":\"Madagascar\",\"orientation\":\"v\",\"showlegend\":true,\"textposition\":\"auto\",\"x\":[\"Madagascar\"],\"xaxis\":\"x\",\"y\":[17744.0],\"yaxis\":\"y\",\"type\":\"bar\"},{\"alignmentgroup\":\"True\",\"hovertemplate\":\"Country=%{x}<br>Total Deaths=%{y}<extra></extra>\",\"legendgroup\":\"Greece\",\"marker\":{\"color\":\"#636efa\",\"pattern\":{\"shape\":\"\"}},\"name\":\"Greece\",\"offsetgroup\":\"Greece\",\"orientation\":\"v\",\"showlegend\":true,\"textposition\":\"auto\",\"x\":[\"Greece\"],\"xaxis\":\"x\",\"y\":[44805.0],\"yaxis\":\"y\",\"type\":\"bar\"},{\"alignmentgroup\":\"True\",\"hovertemplate\":\"Country=%{x}<br>Total Deaths=%{y}<extra></extra>\",\"legendgroup\":\"Kosovo\",\"marker\":{\"color\":\"#EF553B\",\"pattern\":{\"shape\":\"\"}},\"name\":\"Kosovo\",\"offsetgroup\":\"Kosovo\",\"orientation\":\"v\",\"showlegend\":true,\"textposition\":\"auto\",\"x\":[\"Kosovo\"],\"xaxis\":\"x\",\"y\":[47571.0],\"yaxis\":\"y\",\"type\":\"bar\"},{\"alignmentgroup\":\"True\",\"hovertemplate\":\"Country=%{x}<br>Total Deaths=%{y}<extra></extra>\",\"legendgroup\":\"Croatia\",\"marker\":{\"color\":\"#00cc96\",\"pattern\":{\"shape\":\"\"}},\"name\":\"Croatia\",\"offsetgroup\":\"Croatia\",\"orientation\":\"v\",\"showlegend\":true,\"textposition\":\"auto\",\"x\":[\"Croatia\"],\"xaxis\":\"x\",\"y\":[28757.0],\"yaxis\":\"y\",\"type\":\"bar\"},{\"alignmentgroup\":\"True\",\"hovertemplate\":\"Country=%{x}<br>Total Deaths=%{y}<extra></extra>\",\"legendgroup\":\"Democratic Republic of Congo\",\"marker\":{\"color\":\"#ab63fa\",\"pattern\":{\"shape\":\"\"}},\"name\":\"Democratic Republic of Congo\",\"offsetgroup\":\"Democratic Republic of Congo\",\"orientation\":\"v\",\"showlegend\":true,\"textposition\":\"auto\",\"x\":[\"Democratic Republic of Congo\"],\"xaxis\":\"x\",\"y\":[32040.0],\"yaxis\":\"y\",\"type\":\"bar\"},{\"alignmentgroup\":\"True\",\"hovertemplate\":\"Country=%{x}<br>Total Deaths=%{y}<extra></extra>\",\"legendgroup\":\"Guinea\",\"marker\":{\"color\":\"#FFA15A\",\"pattern\":{\"shape\":\"\"}},\"name\":\"Guinea\",\"offsetgroup\":\"Guinea\",\"orientation\":\"v\",\"showlegend\":true,\"textposition\":\"auto\",\"x\":[\"Guinea\"],\"xaxis\":\"x\",\"y\":[7283.0],\"yaxis\":\"y\",\"type\":\"bar\"},{\"alignmentgroup\":\"True\",\"hovertemplate\":\"Country=%{x}<br>Total Deaths=%{y}<extra></extra>\",\"legendgroup\":\"Luxembourg\",\"marker\":{\"color\":\"#19d3f3\",\"pattern\":{\"shape\":\"\"}},\"name\":\"Luxembourg\",\"offsetgroup\":\"Luxembourg\",\"orientation\":\"v\",\"showlegend\":true,\"textposition\":\"auto\",\"x\":[\"Luxembourg\"],\"xaxis\":\"x\",\"y\":[21907.0],\"yaxis\":\"y\",\"type\":\"bar\"},{\"alignmentgroup\":\"True\",\"hovertemplate\":\"Country=%{x}<br>Total Deaths=%{y}<extra></extra>\",\"legendgroup\":\"Zambia\",\"marker\":{\"color\":\"#FF6692\",\"pattern\":{\"shape\":\"\"}},\"name\":\"Zambia\",\"offsetgroup\":\"Zambia\",\"orientation\":\"v\",\"showlegend\":true,\"textposition\":\"auto\",\"x\":[\"Zambia\"],\"xaxis\":\"x\",\"y\":[26475.0],\"yaxis\":\"y\",\"type\":\"bar\"},{\"alignmentgroup\":\"True\",\"hovertemplate\":\"Country=%{x}<br>Total Deaths=%{y}<extra></extra>\",\"legendgroup\":\"Tajikistan\",\"marker\":{\"color\":\"#B6E880\",\"pattern\":{\"shape\":\"\"}},\"name\":\"Tajikistan\",\"offsetgroup\":\"Tajikistan\",\"orientation\":\"v\",\"showlegend\":true,\"textposition\":\"auto\",\"x\":[\"Tajikistan\"],\"xaxis\":\"x\",\"y\":[9730.0],\"yaxis\":\"y\",\"type\":\"bar\"},{\"alignmentgroup\":\"True\",\"hovertemplate\":\"Country=%{x}<br>Total Deaths=%{y}<extra></extra>\",\"legendgroup\":\"Albania\",\"marker\":{\"color\":\"#FF97FF\",\"pattern\":{\"shape\":\"\"}},\"name\":\"Albania\",\"offsetgroup\":\"Albania\",\"orientation\":\"v\",\"showlegend\":true,\"textposition\":\"auto\",\"x\":[\"Albania\"],\"xaxis\":\"x\",\"y\":[31056.0],\"yaxis\":\"y\",\"type\":\"bar\"},{\"alignmentgroup\":\"True\",\"hovertemplate\":\"Country=%{x}<br>Total Deaths=%{y}<extra></extra>\",\"legendgroup\":\"Gabon\",\"marker\":{\"color\":\"#FECB52\",\"pattern\":{\"shape\":\"\"}},\"name\":\"Gabon\",\"offsetgroup\":\"Gabon\",\"orientation\":\"v\",\"showlegend\":true,\"textposition\":\"auto\",\"x\":[\"Gabon\"],\"xaxis\":\"x\",\"y\":[6877.0],\"yaxis\":\"y\",\"type\":\"bar\"},{\"alignmentgroup\":\"True\",\"hovertemplate\":\"Country=%{x}<br>Total Deaths=%{y}<extra></extra>\",\"legendgroup\":\"Haiti\",\"marker\":{\"color\":\"#636efa\",\"pattern\":{\"shape\":\"\"}},\"name\":\"Haiti\",\"offsetgroup\":\"Haiti\",\"orientation\":\"v\",\"showlegend\":true,\"textposition\":\"auto\",\"x\":[\"Haiti\"],\"xaxis\":\"x\",\"y\":[23891.0],\"yaxis\":\"y\",\"type\":\"bar\"},{\"alignmentgroup\":\"True\",\"hovertemplate\":\"Country=%{x}<br>Total Deaths=%{y}<extra></extra>\",\"legendgroup\":\"Tunisia\",\"marker\":{\"color\":\"#EF553B\",\"pattern\":{\"shape\":\"\"}},\"name\":\"Tunisia\",\"offsetgroup\":\"Tunisia\",\"orientation\":\"v\",\"showlegend\":true,\"textposition\":\"auto\",\"x\":[\"Tunisia\"],\"xaxis\":\"x\",\"y\":[19025.0],\"yaxis\":\"y\",\"type\":\"bar\"},{\"alignmentgroup\":\"True\",\"hovertemplate\":\"Country=%{x}<br>Total Deaths=%{y}<extra></extra>\",\"legendgroup\":\"Maldives\",\"marker\":{\"color\":\"#00cc96\",\"pattern\":{\"shape\":\"\"}},\"name\":\"Maldives\",\"offsetgroup\":\"Maldives\",\"orientation\":\"v\",\"showlegend\":true,\"textposition\":\"auto\",\"x\":[\"Maldives\"],\"xaxis\":\"x\",\"y\":[3054.0],\"yaxis\":\"y\",\"type\":\"bar\"},{\"alignmentgroup\":\"True\",\"hovertemplate\":\"Country=%{x}<br>Total Deaths=%{y}<extra></extra>\",\"legendgroup\":\"Mauritania\",\"marker\":{\"color\":\"#ab63fa\",\"pattern\":{\"shape\":\"\"}},\"name\":\"Mauritania\",\"offsetgroup\":\"Mauritania\",\"orientation\":\"v\",\"showlegend\":true,\"textposition\":\"auto\",\"x\":[\"Mauritania\"],\"xaxis\":\"x\",\"y\":[19810.0],\"yaxis\":\"y\",\"type\":\"bar\"},{\"alignmentgroup\":\"True\",\"hovertemplate\":\"Country=%{x}<br>Total Deaths=%{y}<extra></extra>\",\"legendgroup\":\"Slovakia\",\"marker\":{\"color\":\"#FFA15A\",\"pattern\":{\"shape\":\"\"}},\"name\":\"Slovakia\",\"offsetgroup\":\"Slovakia\",\"orientation\":\"v\",\"showlegend\":true,\"textposition\":\"auto\",\"x\":[\"Slovakia\"],\"xaxis\":\"x\",\"y\":[6055.0],\"yaxis\":\"y\",\"type\":\"bar\"},{\"alignmentgroup\":\"True\",\"hovertemplate\":\"Country=%{x}<br>Total Deaths=%{y}<extra></extra>\",\"legendgroup\":\"Djibouti\",\"marker\":{\"color\":\"#19d3f3\",\"pattern\":{\"shape\":\"\"}},\"name\":\"Djibouti\",\"offsetgroup\":\"Djibouti\",\"orientation\":\"v\",\"showlegend\":true,\"textposition\":\"auto\",\"x\":[\"Djibouti\"],\"xaxis\":\"x\",\"y\":[8006.0],\"yaxis\":\"y\",\"type\":\"bar\"},{\"alignmentgroup\":\"True\",\"hovertemplate\":\"Country=%{x}<br>Total Deaths=%{y}<extra></extra>\",\"legendgroup\":\"Jordan\",\"marker\":{\"color\":\"#FF6692\",\"pattern\":{\"shape\":\"\"}},\"name\":\"Jordan\",\"offsetgroup\":\"Jordan\",\"orientation\":\"v\",\"showlegend\":true,\"textposition\":\"auto\",\"x\":[\"Jordan\"],\"xaxis\":\"x\",\"y\":[5653.0],\"yaxis\":\"y\",\"type\":\"bar\"},{\"alignmentgroup\":\"True\",\"hovertemplate\":\"Country=%{x}<br>Total Deaths=%{y}<extra></extra>\",\"legendgroup\":\"Namibia\",\"marker\":{\"color\":\"#B6E880\",\"pattern\":{\"shape\":\"\"}},\"name\":\"Namibia\",\"offsetgroup\":\"Namibia\",\"orientation\":\"v\",\"showlegend\":true,\"textposition\":\"auto\",\"x\":[\"Namibia\"],\"xaxis\":\"x\",\"y\":[6634.0],\"yaxis\":\"y\",\"type\":\"bar\"},{\"alignmentgroup\":\"True\",\"hovertemplate\":\"Country=%{x}<br>Total Deaths=%{y}<extra></extra>\",\"legendgroup\":\"Montenegro\",\"marker\":{\"color\":\"#FF97FF\",\"pattern\":{\"shape\":\"\"}},\"name\":\"Montenegro\",\"offsetgroup\":\"Montenegro\",\"orientation\":\"v\",\"showlegend\":true,\"textposition\":\"auto\",\"x\":[\"Montenegro\"],\"xaxis\":\"x\",\"y\":[11356.0],\"yaxis\":\"y\",\"type\":\"bar\"},{\"alignmentgroup\":\"True\",\"hovertemplate\":\"Country=%{x}<br>Total Deaths=%{y}<extra></extra>\",\"legendgroup\":\"Thailand\",\"marker\":{\"color\":\"#FECB52\",\"pattern\":{\"shape\":\"\"}},\"name\":\"Thailand\",\"offsetgroup\":\"Thailand\",\"orientation\":\"v\",\"showlegend\":true,\"textposition\":\"auto\",\"x\":[\"Thailand\"],\"xaxis\":\"x\",\"y\":[11162.0],\"yaxis\":\"y\",\"type\":\"bar\"},{\"alignmentgroup\":\"True\",\"hovertemplate\":\"Country=%{x}<br>Total Deaths=%{y}<extra></extra>\",\"legendgroup\":\"Myanmar\",\"marker\":{\"color\":\"#636efa\",\"pattern\":{\"shape\":\"\"}},\"name\":\"Myanmar\",\"offsetgroup\":\"Myanmar\",\"orientation\":\"v\",\"showlegend\":true,\"textposition\":\"auto\",\"x\":[\"Myanmar\"],\"xaxis\":\"x\",\"y\":[13973.0],\"yaxis\":\"y\",\"type\":\"bar\"},{\"alignmentgroup\":\"True\",\"hovertemplate\":\"Country=%{x}<br>Total Deaths=%{y}<extra></extra>\",\"legendgroup\":\"Zimbabwe\",\"marker\":{\"color\":\"#EF553B\",\"pattern\":{\"shape\":\"\"}},\"name\":\"Zimbabwe\",\"offsetgroup\":\"Zimbabwe\",\"orientation\":\"v\",\"showlegend\":true,\"textposition\":\"auto\",\"x\":[\"Zimbabwe\"],\"xaxis\":\"x\",\"y\":[15984.0],\"yaxis\":\"y\",\"type\":\"bar\"},{\"alignmentgroup\":\"True\",\"hovertemplate\":\"Country=%{x}<br>Total Deaths=%{y}<extra></extra>\",\"legendgroup\":\"Central African Republic\",\"marker\":{\"color\":\"#00cc96\",\"pattern\":{\"shape\":\"\"}},\"name\":\"Central African Republic\",\"offsetgroup\":\"Central African Republic\",\"orientation\":\"v\",\"showlegend\":true,\"textposition\":\"auto\",\"x\":[\"Central African Republic\"],\"xaxis\":\"x\",\"y\":[7108.0],\"yaxis\":\"y\",\"type\":\"bar\"},{\"alignmentgroup\":\"True\",\"hovertemplate\":\"Country=%{x}<br>Total Deaths=%{y}<extra></extra>\",\"legendgroup\":\"Cuba\",\"marker\":{\"color\":\"#ab63fa\",\"pattern\":{\"shape\":\"\"}},\"name\":\"Cuba\",\"offsetgroup\":\"Cuba\",\"orientation\":\"v\",\"showlegend\":true,\"textposition\":\"auto\",\"x\":[\"Cuba\"],\"xaxis\":\"x\",\"y\":[16774.0],\"yaxis\":\"y\",\"type\":\"bar\"},{\"alignmentgroup\":\"True\",\"hovertemplate\":\"Country=%{x}<br>Total Deaths=%{y}<extra></extra>\",\"legendgroup\":\"Equatorial Guinea\",\"marker\":{\"color\":\"#FFA15A\",\"pattern\":{\"shape\":\"\"}},\"name\":\"Equatorial Guinea\",\"offsetgroup\":\"Equatorial Guinea\",\"orientation\":\"v\",\"showlegend\":true,\"textposition\":\"auto\",\"x\":[\"Equatorial Guinea\"],\"xaxis\":\"x\",\"y\":[8947.0],\"yaxis\":\"y\",\"type\":\"bar\"},{\"alignmentgroup\":\"True\",\"hovertemplate\":\"Country=%{x}<br>Total Deaths=%{y}<extra></extra>\",\"legendgroup\":\"Slovenia\",\"marker\":{\"color\":\"#19d3f3\",\"pattern\":{\"shape\":\"\"}},\"name\":\"Slovenia\",\"offsetgroup\":\"Slovenia\",\"orientation\":\"v\",\"showlegend\":true,\"textposition\":\"auto\",\"x\":[\"Slovenia\"],\"xaxis\":\"x\",\"y\":[22165.0],\"yaxis\":\"y\",\"type\":\"bar\"},{\"alignmentgroup\":\"True\",\"hovertemplate\":\"Country=%{x}<br>Total Deaths=%{y}<extra></extra>\",\"legendgroup\":\"Malawi\",\"marker\":{\"color\":\"#FF6692\",\"pattern\":{\"shape\":\"\"}},\"name\":\"Malawi\",\"offsetgroup\":\"Malawi\",\"orientation\":\"v\",\"showlegend\":true,\"textposition\":\"auto\",\"x\":[\"Malawi\"],\"xaxis\":\"x\",\"y\":[15480.0],\"yaxis\":\"y\",\"type\":\"bar\"},{\"alignmentgroup\":\"True\",\"hovertemplate\":\"Country=%{x}<br>Total Deaths=%{y}<extra></extra>\",\"legendgroup\":\"Nicaragua\",\"marker\":{\"color\":\"#B6E880\",\"pattern\":{\"shape\":\"\"}},\"name\":\"Nicaragua\",\"offsetgroup\":\"Nicaragua\",\"orientation\":\"v\",\"showlegend\":true,\"textposition\":\"auto\",\"x\":[\"Nicaragua\"],\"xaxis\":\"x\",\"y\":[16410.0],\"yaxis\":\"y\",\"type\":\"bar\"},{\"alignmentgroup\":\"True\",\"hovertemplate\":\"Country=%{x}<br>Total Deaths=%{y}<extra></extra>\",\"legendgroup\":\"Mozambique\",\"marker\":{\"color\":\"#FF97FF\",\"pattern\":{\"shape\":\"\"}},\"name\":\"Mozambique\",\"offsetgroup\":\"Mozambique\",\"orientation\":\"v\",\"showlegend\":true,\"textposition\":\"auto\",\"x\":[\"Mozambique\"],\"xaxis\":\"x\",\"y\":[3396.0],\"yaxis\":\"y\",\"type\":\"bar\"},{\"alignmentgroup\":\"True\",\"hovertemplate\":\"Country=%{x}<br>Total Deaths=%{y}<extra></extra>\",\"legendgroup\":\"Somalia\",\"marker\":{\"color\":\"#FECB52\",\"pattern\":{\"shape\":\"\"}},\"name\":\"Somalia\",\"offsetgroup\":\"Somalia\",\"orientation\":\"v\",\"showlegend\":true,\"textposition\":\"auto\",\"x\":[\"Somalia\"],\"xaxis\":\"x\",\"y\":[15001.0],\"yaxis\":\"y\",\"type\":\"bar\"},{\"alignmentgroup\":\"True\",\"hovertemplate\":\"Country=%{x}<br>Total Deaths=%{y}<extra></extra>\",\"legendgroup\":\"Lithuania\",\"marker\":{\"color\":\"#636efa\",\"pattern\":{\"shape\":\"\"}},\"name\":\"Lithuania\",\"offsetgroup\":\"Lithuania\",\"orientation\":\"v\",\"showlegend\":true,\"textposition\":\"auto\",\"x\":[\"Lithuania\"],\"xaxis\":\"x\",\"y\":[14345.0],\"yaxis\":\"y\",\"type\":\"bar\"},{\"alignmentgroup\":\"True\",\"hovertemplate\":\"Country=%{x}<br>Total Deaths=%{y}<extra></extra>\",\"legendgroup\":\"Congo\",\"marker\":{\"color\":\"#EF553B\",\"pattern\":{\"shape\":\"\"}},\"name\":\"Congo\",\"offsetgroup\":\"Congo\",\"orientation\":\"v\",\"showlegend\":true,\"textposition\":\"auto\",\"x\":[\"Congo\"],\"xaxis\":\"x\",\"y\":[9298.0],\"yaxis\":\"y\",\"type\":\"bar\"},{\"alignmentgroup\":\"True\",\"hovertemplate\":\"Country=%{x}<br>Total Deaths=%{y}<extra></extra>\",\"legendgroup\":\"Cape Verde\",\"marker\":{\"color\":\"#00cc96\",\"pattern\":{\"shape\":\"\"}},\"name\":\"Cape Verde\",\"offsetgroup\":\"Cape Verde\",\"orientation\":\"v\",\"showlegend\":true,\"textposition\":\"auto\",\"x\":[\"Cape Verde\"],\"xaxis\":\"x\",\"y\":[4749.0],\"yaxis\":\"y\",\"type\":\"bar\"},{\"alignmentgroup\":\"True\",\"hovertemplate\":\"Country=%{x}<br>Total Deaths=%{y}<extra></extra>\",\"legendgroup\":\"Uganda\",\"marker\":{\"color\":\"#ab63fa\",\"pattern\":{\"shape\":\"\"}},\"name\":\"Uganda\",\"offsetgroup\":\"Uganda\",\"orientation\":\"v\",\"showlegend\":true,\"textposition\":\"auto\",\"x\":[\"Uganda\"],\"xaxis\":\"x\",\"y\":[3748.0],\"yaxis\":\"y\",\"type\":\"bar\"},{\"alignmentgroup\":\"True\",\"hovertemplate\":\"Country=%{x}<br>Total Deaths=%{y}<extra></extra>\",\"legendgroup\":\"Sri Lanka\",\"marker\":{\"color\":\"#FFA15A\",\"pattern\":{\"shape\":\"\"}},\"name\":\"Sri Lanka\",\"offsetgroup\":\"Sri Lanka\",\"orientation\":\"v\",\"showlegend\":true,\"textposition\":\"auto\",\"x\":[\"Sri Lanka\"],\"xaxis\":\"x\",\"y\":[2108.0],\"yaxis\":\"y\",\"type\":\"bar\"},{\"alignmentgroup\":\"True\",\"hovertemplate\":\"Country=%{x}<br>Total Deaths=%{y}<extra></extra>\",\"legendgroup\":\"Estonia\",\"marker\":{\"color\":\"#19d3f3\",\"pattern\":{\"shape\":\"\"}},\"name\":\"Estonia\",\"offsetgroup\":\"Estonia\",\"orientation\":\"v\",\"showlegend\":true,\"textposition\":\"auto\",\"x\":[\"Estonia\"],\"xaxis\":\"x\",\"y\":[11802.0],\"yaxis\":\"y\",\"type\":\"bar\"},{\"alignmentgroup\":\"True\",\"hovertemplate\":\"Country=%{x}<br>Total Deaths=%{y}<extra></extra>\",\"legendgroup\":\"Swaziland\",\"marker\":{\"color\":\"#FF6692\",\"pattern\":{\"shape\":\"\"}},\"name\":\"Swaziland\",\"offsetgroup\":\"Swaziland\",\"orientation\":\"v\",\"showlegend\":true,\"textposition\":\"auto\",\"x\":[\"Swaziland\"],\"xaxis\":\"x\",\"y\":[8179.0],\"yaxis\":\"y\",\"type\":\"bar\"},{\"alignmentgroup\":\"True\",\"hovertemplate\":\"Country=%{x}<br>Total Deaths=%{y}<extra></extra>\",\"legendgroup\":\"Georgia\",\"marker\":{\"color\":\"#B6E880\",\"pattern\":{\"shape\":\"\"}},\"name\":\"Georgia\",\"offsetgroup\":\"Georgia\",\"orientation\":\"v\",\"showlegend\":true,\"textposition\":\"auto\",\"x\":[\"Georgia\"],\"xaxis\":\"x\",\"y\":[4013.0],\"yaxis\":\"y\",\"type\":\"bar\"},{\"alignmentgroup\":\"True\",\"hovertemplate\":\"Country=%{x}<br>Total Deaths=%{y}<extra></extra>\",\"legendgroup\":\"Iceland\",\"marker\":{\"color\":\"#FF97FF\",\"pattern\":{\"shape\":\"\"}},\"name\":\"Iceland\",\"offsetgroup\":\"Iceland\",\"orientation\":\"v\",\"showlegend\":true,\"textposition\":\"auto\",\"x\":[\"Iceland\"],\"xaxis\":\"x\",\"y\":[1968.0],\"yaxis\":\"y\",\"type\":\"bar\"},{\"alignmentgroup\":\"True\",\"hovertemplate\":\"Country=%{x}<br>Total Deaths=%{y}<extra></extra>\",\"legendgroup\":\"Mali\",\"marker\":{\"color\":\"#FECB52\",\"pattern\":{\"shape\":\"\"}},\"name\":\"Mali\",\"offsetgroup\":\"Mali\",\"orientation\":\"v\",\"showlegend\":true,\"textposition\":\"auto\",\"x\":[\"Mali\"],\"xaxis\":\"x\",\"y\":[18813.0],\"yaxis\":\"y\",\"type\":\"bar\"},{\"alignmentgroup\":\"True\",\"hovertemplate\":\"Country=%{x}<br>Total Deaths=%{y}<extra></extra>\",\"legendgroup\":\"Rwanda\",\"marker\":{\"color\":\"#636efa\",\"pattern\":{\"shape\":\"\"}},\"name\":\"Rwanda\",\"offsetgroup\":\"Rwanda\",\"orientation\":\"v\",\"showlegend\":true,\"textposition\":\"auto\",\"x\":[\"Rwanda\"],\"xaxis\":\"x\",\"y\":[1744.0],\"yaxis\":\"y\",\"type\":\"bar\"},{\"alignmentgroup\":\"True\",\"hovertemplate\":\"Country=%{x}<br>Total Deaths=%{y}<extra></extra>\",\"legendgroup\":\"Jamaica\",\"marker\":{\"color\":\"#EF553B\",\"pattern\":{\"shape\":\"\"}},\"name\":\"Jamaica\",\"offsetgroup\":\"Jamaica\",\"orientation\":\"v\",\"showlegend\":true,\"textposition\":\"auto\",\"x\":[\"Jamaica\"],\"xaxis\":\"x\",\"y\":[5653.0],\"yaxis\":\"y\",\"type\":\"bar\"},{\"alignmentgroup\":\"True\",\"hovertemplate\":\"Country=%{x}<br>Total Deaths=%{y}<extra></extra>\",\"legendgroup\":\"Suriname\",\"marker\":{\"color\":\"#00cc96\",\"pattern\":{\"shape\":\"\"}},\"name\":\"Suriname\",\"offsetgroup\":\"Suriname\",\"orientation\":\"v\",\"showlegend\":true,\"textposition\":\"auto\",\"x\":[\"Suriname\"],\"xaxis\":\"x\",\"y\":[6961.0],\"yaxis\":\"y\",\"type\":\"bar\"},{\"alignmentgroup\":\"True\",\"hovertemplate\":\"Country=%{x}<br>Total Deaths=%{y}<extra></extra>\",\"legendgroup\":\"South Sudan\",\"marker\":{\"color\":\"#ab63fa\",\"pattern\":{\"shape\":\"\"}},\"name\":\"South Sudan\",\"offsetgroup\":\"South Sudan\",\"orientation\":\"v\",\"showlegend\":true,\"textposition\":\"auto\",\"x\":[\"South Sudan\"],\"xaxis\":\"x\",\"y\":[6063.0],\"yaxis\":\"y\",\"type\":\"bar\"},{\"alignmentgroup\":\"True\",\"hovertemplate\":\"Country=%{x}<br>Total Deaths=%{y}<extra></extra>\",\"legendgroup\":\"Guinea-Bissau\",\"marker\":{\"color\":\"#FFA15A\",\"pattern\":{\"shape\":\"\"}},\"name\":\"Guinea-Bissau\",\"offsetgroup\":\"Guinea-Bissau\",\"orientation\":\"v\",\"showlegend\":true,\"textposition\":\"auto\",\"x\":[\"Guinea-Bissau\"],\"xaxis\":\"x\",\"y\":[4199.0],\"yaxis\":\"y\",\"type\":\"bar\"},{\"alignmentgroup\":\"True\",\"hovertemplate\":\"Country=%{x}<br>Total Deaths=%{y}<extra></extra>\",\"legendgroup\":\"Angola\",\"marker\":{\"color\":\"#19d3f3\",\"pattern\":{\"shape\":\"\"}},\"name\":\"Angola\",\"offsetgroup\":\"Angola\",\"orientation\":\"v\",\"showlegend\":true,\"textposition\":\"auto\",\"x\":[\"Angola\"],\"xaxis\":\"x\",\"y\":[11820.0],\"yaxis\":\"y\",\"type\":\"bar\"},{\"alignmentgroup\":\"True\",\"hovertemplate\":\"Country=%{x}<br>Total Deaths=%{y}<extra></extra>\",\"legendgroup\":\"Sierra Leone\",\"marker\":{\"color\":\"#FF6692\",\"pattern\":{\"shape\":\"\"}},\"name\":\"Sierra Leone\",\"offsetgroup\":\"Sierra Leone\",\"orientation\":\"v\",\"showlegend\":true,\"textposition\":\"auto\",\"x\":[\"Sierra Leone\"],\"xaxis\":\"x\",\"y\":[10036.0],\"yaxis\":\"y\",\"type\":\"bar\"},{\"alignmentgroup\":\"True\",\"hovertemplate\":\"Country=%{x}<br>Total Deaths=%{y}<extra></extra>\",\"legendgroup\":\"Syria\",\"marker\":{\"color\":\"#B6E880\",\"pattern\":{\"shape\":\"\"}},\"name\":\"Syria\",\"offsetgroup\":\"Syria\",\"orientation\":\"v\",\"showlegend\":true,\"textposition\":\"auto\",\"x\":[\"Syria\"],\"xaxis\":\"x\",\"y\":[12098.0],\"yaxis\":\"y\",\"type\":\"bar\"},{\"alignmentgroup\":\"True\",\"hovertemplate\":\"Country=%{x}<br>Total Deaths=%{y}<extra></extra>\",\"legendgroup\":\"Latvia\",\"marker\":{\"color\":\"#FF97FF\",\"pattern\":{\"shape\":\"\"}},\"name\":\"Latvia\",\"offsetgroup\":\"Latvia\",\"orientation\":\"v\",\"showlegend\":true,\"textposition\":\"auto\",\"x\":[\"Latvia\"],\"xaxis\":\"x\",\"y\":[5376.0],\"yaxis\":\"y\",\"type\":\"bar\"},{\"alignmentgroup\":\"True\",\"hovertemplate\":\"Country=%{x}<br>Total Deaths=%{y}<extra></extra>\",\"legendgroup\":\"New Zealand\",\"marker\":{\"color\":\"#FECB52\",\"pattern\":{\"shape\":\"\"}},\"name\":\"New Zealand\",\"offsetgroup\":\"New Zealand\",\"orientation\":\"v\",\"showlegend\":true,\"textposition\":\"auto\",\"x\":[\"New Zealand\"],\"xaxis\":\"x\",\"y\":[4145.0],\"yaxis\":\"y\",\"type\":\"bar\"},{\"alignmentgroup\":\"True\",\"hovertemplate\":\"Country=%{x}<br>Total Deaths=%{y}<extra></extra>\",\"legendgroup\":\"Malta\",\"marker\":{\"color\":\"#636efa\",\"pattern\":{\"shape\":\"\"}},\"name\":\"Malta\",\"offsetgroup\":\"Malta\",\"orientation\":\"v\",\"showlegend\":true,\"textposition\":\"auto\",\"x\":[\"Malta\"],\"xaxis\":\"x\",\"y\":[2409.0],\"yaxis\":\"y\",\"type\":\"bar\"},{\"alignmentgroup\":\"True\",\"hovertemplate\":\"Country=%{x}<br>Total Deaths=%{y}<extra></extra>\",\"legendgroup\":\"Benin\",\"marker\":{\"color\":\"#EF553B\",\"pattern\":{\"shape\":\"\"}},\"name\":\"Benin\",\"offsetgroup\":\"Benin\",\"orientation\":\"v\",\"showlegend\":true,\"textposition\":\"auto\",\"x\":[\"Benin\"],\"xaxis\":\"x\",\"y\":[4374.0],\"yaxis\":\"y\",\"type\":\"bar\"},{\"alignmentgroup\":\"True\",\"hovertemplate\":\"Country=%{x}<br>Total Deaths=%{y}<extra></extra>\",\"legendgroup\":\"Uruguay\",\"marker\":{\"color\":\"#00cc96\",\"pattern\":{\"shape\":\"\"}},\"name\":\"Uruguay\",\"offsetgroup\":\"Uruguay\",\"orientation\":\"v\",\"showlegend\":true,\"textposition\":\"auto\",\"x\":[\"Uruguay\"],\"xaxis\":\"x\",\"y\":[6083.0],\"yaxis\":\"y\",\"type\":\"bar\"},{\"alignmentgroup\":\"True\",\"hovertemplate\":\"Country=%{x}<br>Total Deaths=%{y}<extra></extra>\",\"legendgroup\":\"Bahamas\",\"marker\":{\"color\":\"#ab63fa\",\"pattern\":{\"shape\":\"\"}},\"name\":\"Bahamas\",\"offsetgroup\":\"Bahamas\",\"orientation\":\"v\",\"showlegend\":true,\"textposition\":\"auto\",\"x\":[\"Bahamas\"],\"xaxis\":\"x\",\"y\":[5998.0],\"yaxis\":\"y\",\"type\":\"bar\"},{\"alignmentgroup\":\"True\",\"hovertemplate\":\"Country=%{x}<br>Total Deaths=%{y}<extra></extra>\",\"legendgroup\":\"Cyprus\",\"marker\":{\"color\":\"#FFA15A\",\"pattern\":{\"shape\":\"\"}},\"name\":\"Cyprus\",\"offsetgroup\":\"Cyprus\",\"orientation\":\"v\",\"showlegend\":true,\"textposition\":\"auto\",\"x\":[\"Cyprus\"],\"xaxis\":\"x\",\"y\":[3735.0],\"yaxis\":\"y\",\"type\":\"bar\"},{\"alignmentgroup\":\"True\",\"hovertemplate\":\"Country=%{x}<br>Total Deaths=%{y}<extra></extra>\",\"legendgroup\":\"Burkina Faso\",\"marker\":{\"color\":\"#19d3f3\",\"pattern\":{\"shape\":\"\"}},\"name\":\"Burkina Faso\",\"offsetgroup\":\"Burkina Faso\",\"orientation\":\"v\",\"showlegend\":true,\"textposition\":\"auto\",\"x\":[\"Burkina Faso\"],\"xaxis\":\"x\",\"y\":[10248.0],\"yaxis\":\"y\",\"type\":\"bar\"},{\"alignmentgroup\":\"True\",\"hovertemplate\":\"Country=%{x}<br>Total Deaths=%{y}<extra></extra>\",\"legendgroup\":\"Gambia\",\"marker\":{\"color\":\"#FF6692\",\"pattern\":{\"shape\":\"\"}},\"name\":\"Gambia\",\"offsetgroup\":\"Gambia\",\"orientation\":\"v\",\"showlegend\":true,\"textposition\":\"auto\",\"x\":[\"Gambia\"],\"xaxis\":\"x\",\"y\":[7201.0],\"yaxis\":\"y\",\"type\":\"bar\"},{\"alignmentgroup\":\"True\",\"hovertemplate\":\"Country=%{x}<br>Total Deaths=%{y}<extra></extra>\",\"legendgroup\":\"Yemen\",\"marker\":{\"color\":\"#B6E880\",\"pattern\":{\"shape\":\"\"}},\"name\":\"Yemen\",\"offsetgroup\":\"Yemen\",\"orientation\":\"v\",\"showlegend\":true,\"textposition\":\"auto\",\"x\":[\"Yemen\"],\"xaxis\":\"x\",\"y\":[64304.0],\"yaxis\":\"y\",\"type\":\"bar\"},{\"alignmentgroup\":\"True\",\"hovertemplate\":\"Country=%{x}<br>Total Deaths=%{y}<extra></extra>\",\"legendgroup\":\"Trinidad and Tobago\",\"marker\":{\"color\":\"#FF97FF\",\"pattern\":{\"shape\":\"\"}},\"name\":\"Trinidad and Tobago\",\"offsetgroup\":\"Trinidad and Tobago\",\"orientation\":\"v\",\"showlegend\":true,\"textposition\":\"auto\",\"x\":[\"Trinidad and Tobago\"],\"xaxis\":\"x\",\"y\":[4519.0],\"yaxis\":\"y\",\"type\":\"bar\"},{\"alignmentgroup\":\"True\",\"hovertemplate\":\"Country=%{x}<br>Total Deaths=%{y}<extra></extra>\",\"legendgroup\":\"Andorra\",\"marker\":{\"color\":\"#FECB52\",\"pattern\":{\"shape\":\"\"}},\"name\":\"Andorra\",\"offsetgroup\":\"Andorra\",\"orientation\":\"v\",\"showlegend\":true,\"textposition\":\"auto\",\"x\":[\"Andorra\"],\"xaxis\":\"x\",\"y\":[9850.0],\"yaxis\":\"y\",\"type\":\"bar\"},{\"alignmentgroup\":\"True\",\"hovertemplate\":\"Country=%{x}<br>Total Deaths=%{y}<extra></extra>\",\"legendgroup\":\"Aruba\",\"marker\":{\"color\":\"#636efa\",\"pattern\":{\"shape\":\"\"}},\"name\":\"Aruba\",\"offsetgroup\":\"Aruba\",\"orientation\":\"v\",\"showlegend\":true,\"textposition\":\"auto\",\"x\":[\"Aruba\"],\"xaxis\":\"x\",\"y\":[1624.0],\"yaxis\":\"y\",\"type\":\"bar\"},{\"alignmentgroup\":\"True\",\"hovertemplate\":\"Country=%{x}<br>Total Deaths=%{y}<extra></extra>\",\"legendgroup\":\"Botswana\",\"marker\":{\"color\":\"#EF553B\",\"pattern\":{\"shape\":\"\"}},\"name\":\"Botswana\",\"offsetgroup\":\"Botswana\",\"orientation\":\"v\",\"showlegend\":true,\"textposition\":\"auto\",\"x\":[\"Botswana\"],\"xaxis\":\"x\",\"y\":[895.0],\"yaxis\":\"y\",\"type\":\"bar\"},{\"alignmentgroup\":\"True\",\"hovertemplate\":\"Country=%{x}<br>Total Deaths=%{y}<extra></extra>\",\"legendgroup\":\"Niger\",\"marker\":{\"color\":\"#00cc96\",\"pattern\":{\"shape\":\"\"}},\"name\":\"Niger\",\"offsetgroup\":\"Niger\",\"orientation\":\"v\",\"showlegend\":true,\"textposition\":\"auto\",\"x\":[\"Niger\"],\"xaxis\":\"x\",\"y\":[11676.0],\"yaxis\":\"y\",\"type\":\"bar\"},{\"alignmentgroup\":\"True\",\"hovertemplate\":\"Country=%{x}<br>Total Deaths=%{y}<extra></extra>\",\"legendgroup\":\"Togo\",\"marker\":{\"color\":\"#ab63fa\",\"pattern\":{\"shape\":\"\"}},\"name\":\"Togo\",\"offsetgroup\":\"Togo\",\"orientation\":\"v\",\"showlegend\":true,\"textposition\":\"auto\",\"x\":[\"Togo\"],\"xaxis\":\"x\",\"y\":[4197.0],\"yaxis\":\"y\",\"type\":\"bar\"},{\"alignmentgroup\":\"True\",\"hovertemplate\":\"Country=%{x}<br>Total Deaths=%{y}<extra></extra>\",\"legendgroup\":\"Guyana\",\"marker\":{\"color\":\"#FFA15A\",\"pattern\":{\"shape\":\"\"}},\"name\":\"Guyana\",\"offsetgroup\":\"Guyana\",\"orientation\":\"v\",\"showlegend\":true,\"textposition\":\"auto\",\"x\":[\"Guyana\"],\"xaxis\":\"x\",\"y\":[5783.0],\"yaxis\":\"y\",\"type\":\"bar\"},{\"alignmentgroup\":\"True\",\"hovertemplate\":\"Country=%{x}<br>Total Deaths=%{y}<extra></extra>\",\"legendgroup\":\"Guam\",\"marker\":{\"color\":\"#19d3f3\",\"pattern\":{\"shape\":\"\"}},\"name\":\"Guam\",\"offsetgroup\":\"Guam\",\"orientation\":\"v\",\"showlegend\":true,\"textposition\":\"auto\",\"x\":[\"Guam\"],\"xaxis\":\"x\",\"y\":[2715.0],\"yaxis\":\"y\",\"type\":\"bar\"},{\"alignmentgroup\":\"True\",\"hovertemplate\":\"Country=%{x}<br>Total Deaths=%{y}<extra></extra>\",\"legendgroup\":\"Liberia\",\"marker\":{\"color\":\"#FF6692\",\"pattern\":{\"shape\":\"\"}},\"name\":\"Liberia\",\"offsetgroup\":\"Liberia\",\"orientation\":\"v\",\"showlegend\":true,\"textposition\":\"auto\",\"x\":[\"Liberia\"],\"xaxis\":\"x\",\"y\":[10087.0],\"yaxis\":\"y\",\"type\":\"bar\"},{\"alignmentgroup\":\"True\",\"hovertemplate\":\"Country=%{x}<br>Total Deaths=%{y}<extra></extra>\",\"legendgroup\":\"Chad\",\"marker\":{\"color\":\"#B6E880\",\"pattern\":{\"shape\":\"\"}},\"name\":\"Chad\",\"offsetgroup\":\"Chad\",\"orientation\":\"v\",\"showlegend\":true,\"textposition\":\"auto\",\"x\":[\"Chad\"],\"xaxis\":\"x\",\"y\":[12212.0],\"yaxis\":\"y\",\"type\":\"bar\"},{\"alignmentgroup\":\"True\",\"hovertemplate\":\"Country=%{x}<br>Total Deaths=%{y}<extra></extra>\",\"legendgroup\":\"San Marino\",\"marker\":{\"color\":\"#FF97FF\",\"pattern\":{\"shape\":\"\"}},\"name\":\"San Marino\",\"offsetgroup\":\"San Marino\",\"orientation\":\"v\",\"showlegend\":true,\"textposition\":\"auto\",\"x\":[\"San Marino\"],\"xaxis\":\"x\",\"y\":[8596.0],\"yaxis\":\"y\",\"type\":\"bar\"},{\"alignmentgroup\":\"True\",\"hovertemplate\":\"Country=%{x}<br>Total Deaths=%{y}<extra></extra>\",\"legendgroup\":\"Vietnam\",\"marker\":{\"color\":\"#FECB52\",\"pattern\":{\"shape\":\"\"}},\"name\":\"Vietnam\",\"offsetgroup\":\"Vietnam\",\"orientation\":\"v\",\"showlegend\":true,\"textposition\":\"auto\",\"x\":[\"Vietnam\"],\"xaxis\":\"x\",\"y\":[2318.0],\"yaxis\":\"y\",\"type\":\"bar\"},{\"alignmentgroup\":\"True\",\"hovertemplate\":\"Country=%{x}<br>Total Deaths=%{y}<extra></extra>\",\"legendgroup\":\"Sao Tome and Principe\",\"marker\":{\"color\":\"#636efa\",\"pattern\":{\"shape\":\"\"}},\"name\":\"Sao Tome and Principe\",\"offsetgroup\":\"Sao Tome and Principe\",\"orientation\":\"v\",\"showlegend\":true,\"textposition\":\"auto\",\"x\":[\"Sao Tome and Principe\"],\"xaxis\":\"x\",\"y\":[2198.0],\"yaxis\":\"y\",\"type\":\"bar\"},{\"alignmentgroup\":\"True\",\"hovertemplate\":\"Country=%{x}<br>Total Deaths=%{y}<extra></extra>\",\"legendgroup\":\"Lesotho\",\"marker\":{\"color\":\"#EF553B\",\"pattern\":{\"shape\":\"\"}},\"name\":\"Lesotho\",\"offsetgroup\":\"Lesotho\",\"orientation\":\"v\",\"showlegend\":true,\"textposition\":\"auto\",\"x\":[\"Lesotho\"],\"xaxis\":\"x\",\"y\":[2680.0],\"yaxis\":\"y\",\"type\":\"bar\"},{\"alignmentgroup\":\"True\",\"hovertemplate\":\"Country=%{x}<br>Total Deaths=%{y}<extra></extra>\",\"legendgroup\":\"Belize\",\"marker\":{\"color\":\"#00cc96\",\"pattern\":{\"shape\":\"\"}},\"name\":\"Belize\",\"offsetgroup\":\"Belize\",\"orientation\":\"v\",\"showlegend\":true,\"textposition\":\"auto\",\"x\":[\"Belize\"],\"xaxis\":\"x\",\"y\":[1613.0],\"yaxis\":\"y\",\"type\":\"bar\"},{\"alignmentgroup\":\"True\",\"hovertemplate\":\"Country=%{x}<br>Total Deaths=%{y}<extra></extra>\",\"legendgroup\":\"United States Virgin Islands\",\"marker\":{\"color\":\"#ab63fa\",\"pattern\":{\"shape\":\"\"}},\"name\":\"United States Virgin Islands\",\"offsetgroup\":\"United States Virgin Islands\",\"orientation\":\"v\",\"showlegend\":true,\"textposition\":\"auto\",\"x\":[\"United States Virgin Islands\"],\"xaxis\":\"x\",\"y\":[1833.0],\"yaxis\":\"y\",\"type\":\"bar\"},{\"alignmentgroup\":\"True\",\"hovertemplate\":\"Country=%{x}<br>Total Deaths=%{y}<extra></extra>\",\"legendgroup\":\"Taiwan\",\"marker\":{\"color\":\"#FFA15A\",\"pattern\":{\"shape\":\"\"}},\"name\":\"Taiwan\",\"offsetgroup\":\"Taiwan\",\"orientation\":\"v\",\"showlegend\":true,\"textposition\":\"auto\",\"x\":[\"Taiwan\"],\"xaxis\":\"x\",\"y\":[1423.0],\"yaxis\":\"y\",\"type\":\"bar\"},{\"alignmentgroup\":\"True\",\"hovertemplate\":\"Country=%{x}<br>Total Deaths=%{y}<extra></extra>\",\"legendgroup\":\"French Polynesia\",\"marker\":{\"color\":\"#19d3f3\",\"pattern\":{\"shape\":\"\"}},\"name\":\"French Polynesia\",\"offsetgroup\":\"French Polynesia\",\"orientation\":\"v\",\"showlegend\":true,\"textposition\":\"auto\",\"x\":[\"French Polynesia\"],\"xaxis\":\"x\",\"y\":[260.0],\"yaxis\":\"y\",\"type\":\"bar\"},{\"alignmentgroup\":\"True\",\"hovertemplate\":\"Country=%{x}<br>Total Deaths=%{y}<extra></extra>\",\"legendgroup\":\"Tanzania\",\"marker\":{\"color\":\"#FF6692\",\"pattern\":{\"shape\":\"\"}},\"name\":\"Tanzania\",\"offsetgroup\":\"Tanzania\",\"orientation\":\"v\",\"showlegend\":true,\"textposition\":\"auto\",\"x\":[\"Tanzania\"],\"xaxis\":\"x\",\"y\":[3733.0],\"yaxis\":\"y\",\"type\":\"bar\"},{\"alignmentgroup\":\"True\",\"hovertemplate\":\"Country=%{x}<br>Total Deaths=%{y}<extra></extra>\",\"legendgroup\":\"Mauritius\",\"marker\":{\"color\":\"#B6E880\",\"pattern\":{\"shape\":\"\"}},\"name\":\"Mauritius\",\"offsetgroup\":\"Mauritius\",\"orientation\":\"v\",\"showlegend\":true,\"textposition\":\"auto\",\"x\":[\"Mauritius\"],\"xaxis\":\"x\",\"y\":[1988.0],\"yaxis\":\"y\",\"type\":\"bar\"},{\"alignmentgroup\":\"True\",\"hovertemplate\":\"Country=%{x}<br>Total Deaths=%{y}<extra></extra>\",\"legendgroup\":\"Jersey\",\"marker\":{\"color\":\"#FF97FF\",\"pattern\":{\"shape\":\"\"}},\"name\":\"Jersey\",\"offsetgroup\":\"Jersey\",\"orientation\":\"v\",\"showlegend\":true,\"textposition\":\"auto\",\"x\":[\"Jersey\"],\"xaxis\":\"x\",\"y\":[5527.0],\"yaxis\":\"y\",\"type\":\"bar\"},{\"alignmentgroup\":\"True\",\"hovertemplate\":\"Country=%{x}<br>Total Deaths=%{y}<extra></extra>\",\"legendgroup\":\"Isle of Man\",\"marker\":{\"color\":\"#FECB52\",\"pattern\":{\"shape\":\"\"}},\"name\":\"Isle of Man\",\"offsetgroup\":\"Isle of Man\",\"orientation\":\"v\",\"showlegend\":true,\"textposition\":\"auto\",\"x\":[\"Isle of Man\"],\"xaxis\":\"x\",\"y\":[4310.0],\"yaxis\":\"y\",\"type\":\"bar\"},{\"alignmentgroup\":\"True\",\"hovertemplate\":\"Country=%{x}<br>Total Deaths=%{y}<extra></extra>\",\"legendgroup\":\"Faeroe Islands\",\"marker\":{\"color\":\"#636efa\",\"pattern\":{\"shape\":\"\"}},\"name\":\"Faeroe Islands\",\"offsetgroup\":\"Faeroe Islands\",\"orientation\":\"v\",\"showlegend\":true,\"textposition\":\"auto\",\"x\":[\"Faeroe Islands\"],\"xaxis\":\"x\",\"y\":[0.0],\"yaxis\":\"y\",\"type\":\"bar\"},{\"alignmentgroup\":\"True\",\"hovertemplate\":\"Country=%{x}<br>Total Deaths=%{y}<extra></extra>\",\"legendgroup\":\"Comoros\",\"marker\":{\"color\":\"#EF553B\",\"pattern\":{\"shape\":\"\"}},\"name\":\"Comoros\",\"offsetgroup\":\"Comoros\",\"orientation\":\"v\",\"showlegend\":true,\"textposition\":\"auto\",\"x\":[\"Comoros\"],\"xaxis\":\"x\",\"y\":[920.0],\"yaxis\":\"y\",\"type\":\"bar\"},{\"alignmentgroup\":\"True\",\"hovertemplate\":\"Country=%{x}<br>Total Deaths=%{y}<extra></extra>\",\"legendgroup\":\"Guernsey\",\"marker\":{\"color\":\"#00cc96\",\"pattern\":{\"shape\":\"\"}},\"name\":\"Guernsey\",\"offsetgroup\":\"Guernsey\",\"orientation\":\"v\",\"showlegend\":true,\"textposition\":\"auto\",\"x\":[\"Guernsey\"],\"xaxis\":\"x\",\"y\":[2450.0],\"yaxis\":\"y\",\"type\":\"bar\"},{\"alignmentgroup\":\"True\",\"hovertemplate\":\"Country=%{x}<br>Total Deaths=%{y}<extra></extra>\",\"legendgroup\":\"Burundi\",\"marker\":{\"color\":\"#ab63fa\",\"pattern\":{\"shape\":\"\"}},\"name\":\"Burundi\",\"offsetgroup\":\"Burundi\",\"orientation\":\"v\",\"showlegend\":true,\"textposition\":\"auto\",\"x\":[\"Burundi\"],\"xaxis\":\"x\",\"y\":[188.0],\"yaxis\":\"y\",\"type\":\"bar\"},{\"alignmentgroup\":\"True\",\"hovertemplate\":\"Country=%{x}<br>Total Deaths=%{y}<extra></extra>\",\"legendgroup\":\"Sint Maarten (Dutch part)\",\"marker\":{\"color\":\"#FFA15A\",\"pattern\":{\"shape\":\"\"}},\"name\":\"Sint Maarten (Dutch part)\",\"offsetgroup\":\"Sint Maarten (Dutch part)\",\"orientation\":\"v\",\"showlegend\":true,\"textposition\":\"auto\",\"x\":[\"Sint Maarten (Dutch part)\"],\"xaxis\":\"x\",\"y\":[3146.0],\"yaxis\":\"y\",\"type\":\"bar\"},{\"alignmentgroup\":\"True\",\"hovertemplate\":\"Country=%{x}<br>Total Deaths=%{y}<extra></extra>\",\"legendgroup\":\"Gibraltar\",\"marker\":{\"color\":\"#19d3f3\",\"pattern\":{\"shape\":\"\"}},\"name\":\"Gibraltar\",\"offsetgroup\":\"Gibraltar\",\"orientation\":\"v\",\"showlegend\":true,\"textposition\":\"auto\",\"x\":[\"Gibraltar\"],\"xaxis\":\"x\",\"y\":[0.0],\"yaxis\":\"y\",\"type\":\"bar\"},{\"alignmentgroup\":\"True\",\"hovertemplate\":\"Country=%{x}<br>Total Deaths=%{y}<extra></extra>\",\"legendgroup\":\"Turks and Caicos Islands\",\"marker\":{\"color\":\"#FF6692\",\"pattern\":{\"shape\":\"\"}},\"name\":\"Turks and Caicos Islands\",\"offsetgroup\":\"Turks and Caicos Islands\",\"orientation\":\"v\",\"showlegend\":true,\"textposition\":\"auto\",\"x\":[\"Turks and Caicos Islands\"],\"xaxis\":\"x\",\"y\":[476.0],\"yaxis\":\"y\",\"type\":\"bar\"},{\"alignmentgroup\":\"True\",\"hovertemplate\":\"Country=%{x}<br>Total Deaths=%{y}<extra></extra>\",\"legendgroup\":\"Mongolia\",\"marker\":{\"color\":\"#B6E880\",\"pattern\":{\"shape\":\"\"}},\"name\":\"Mongolia\",\"offsetgroup\":\"Mongolia\",\"orientation\":\"v\",\"showlegend\":true,\"textposition\":\"auto\",\"x\":[\"Mongolia\"],\"xaxis\":\"x\",\"y\":[0.0],\"yaxis\":\"y\",\"type\":\"bar\"},{\"alignmentgroup\":\"True\",\"hovertemplate\":\"Country=%{x}<br>Total Deaths=%{y}<extra></extra>\",\"legendgroup\":\"Eritrea\",\"marker\":{\"color\":\"#FF97FF\",\"pattern\":{\"shape\":\"\"}},\"name\":\"Eritrea\",\"offsetgroup\":\"Eritrea\",\"orientation\":\"v\",\"showlegend\":true,\"textposition\":\"auto\",\"x\":[\"Eritrea\"],\"xaxis\":\"x\",\"y\":[0.0],\"yaxis\":\"y\",\"type\":\"bar\"},{\"alignmentgroup\":\"True\",\"hovertemplate\":\"Country=%{x}<br>Total Deaths=%{y}<extra></extra>\",\"legendgroup\":\"Cambodia\",\"marker\":{\"color\":\"#FECB52\",\"pattern\":{\"shape\":\"\"}},\"name\":\"Cambodia\",\"offsetgroup\":\"Cambodia\",\"orientation\":\"v\",\"showlegend\":true,\"textposition\":\"auto\",\"x\":[\"Cambodia\"],\"xaxis\":\"x\",\"y\":[0.0],\"yaxis\":\"y\",\"type\":\"bar\"},{\"alignmentgroup\":\"True\",\"hovertemplate\":\"Country=%{x}<br>Total Deaths=%{y}<extra></extra>\",\"legendgroup\":\"Papua New Guinea\",\"marker\":{\"color\":\"#636efa\",\"pattern\":{\"shape\":\"\"}},\"name\":\"Papua New Guinea\",\"offsetgroup\":\"Papua New Guinea\",\"orientation\":\"v\",\"showlegend\":true,\"textposition\":\"auto\",\"x\":[\"Papua New Guinea\"],\"xaxis\":\"x\",\"y\":[417.0],\"yaxis\":\"y\",\"type\":\"bar\"},{\"alignmentgroup\":\"True\",\"hovertemplate\":\"Country=%{x}<br>Total Deaths=%{y}<extra></extra>\",\"legendgroup\":\"Cayman Islands\",\"marker\":{\"color\":\"#EF553B\",\"pattern\":{\"shape\":\"\"}},\"name\":\"Cayman Islands\",\"offsetgroup\":\"Cayman Islands\",\"orientation\":\"v\",\"showlegend\":true,\"textposition\":\"auto\",\"x\":[\"Cayman Islands\"],\"xaxis\":\"x\",\"y\":[213.0],\"yaxis\":\"y\",\"type\":\"bar\"},{\"alignmentgroup\":\"True\",\"hovertemplate\":\"Country=%{x}<br>Total Deaths=%{y}<extra></extra>\",\"legendgroup\":\"Brunei\",\"marker\":{\"color\":\"#00cc96\",\"pattern\":{\"shape\":\"\"}},\"name\":\"Brunei\",\"offsetgroup\":\"Brunei\",\"orientation\":\"v\",\"showlegend\":true,\"textposition\":\"auto\",\"x\":[\"Brunei\"],\"xaxis\":\"x\",\"y\":[475.0],\"yaxis\":\"y\",\"type\":\"bar\"},{\"alignmentgroup\":\"True\",\"hovertemplate\":\"Country=%{x}<br>Total Deaths=%{y}<extra></extra>\",\"legendgroup\":\"Bermuda\",\"marker\":{\"color\":\"#ab63fa\",\"pattern\":{\"shape\":\"\"}},\"name\":\"Bermuda\",\"offsetgroup\":\"Bermuda\",\"orientation\":\"v\",\"showlegend\":true,\"textposition\":\"auto\",\"x\":[\"Bermuda\"],\"xaxis\":\"x\",\"y\":[1631.0],\"yaxis\":\"y\",\"type\":\"bar\"},{\"alignmentgroup\":\"True\",\"hovertemplate\":\"Country=%{x}<br>Total Deaths=%{y}<extra></extra>\",\"legendgroup\":\"Barbados\",\"marker\":{\"color\":\"#FFA15A\",\"pattern\":{\"shape\":\"\"}},\"name\":\"Barbados\",\"offsetgroup\":\"Barbados\",\"orientation\":\"v\",\"showlegend\":true,\"textposition\":\"auto\",\"x\":[\"Barbados\"],\"xaxis\":\"x\",\"y\":[1321.0],\"yaxis\":\"y\",\"type\":\"bar\"},{\"alignmentgroup\":\"True\",\"hovertemplate\":\"Country=%{x}<br>Total Deaths=%{y}<extra></extra>\",\"legendgroup\":\"Bhutan\",\"marker\":{\"color\":\"#19d3f3\",\"pattern\":{\"shape\":\"\"}},\"name\":\"Bhutan\",\"offsetgroup\":\"Bhutan\",\"orientation\":\"v\",\"showlegend\":true,\"textposition\":\"auto\",\"x\":[\"Bhutan\"],\"xaxis\":\"x\",\"y\":[0.0],\"yaxis\":\"y\",\"type\":\"bar\"},{\"alignmentgroup\":\"True\",\"hovertemplate\":\"Country=%{x}<br>Total Deaths=%{y}<extra></extra>\",\"legendgroup\":\"Monaco\",\"marker\":{\"color\":\"#FF6692\",\"pattern\":{\"shape\":\"\"}},\"name\":\"Monaco\",\"offsetgroup\":\"Monaco\",\"orientation\":\"v\",\"showlegend\":true,\"textposition\":\"auto\",\"x\":[\"Monaco\"],\"xaxis\":\"x\",\"y\":[192.0],\"yaxis\":\"y\",\"type\":\"bar\"},{\"alignmentgroup\":\"True\",\"hovertemplate\":\"Country=%{x}<br>Total Deaths=%{y}<extra></extra>\",\"legendgroup\":\"Liechtenstein\",\"marker\":{\"color\":\"#B6E880\",\"pattern\":{\"shape\":\"\"}},\"name\":\"Liechtenstein\",\"offsetgroup\":\"Liechtenstein\",\"orientation\":\"v\",\"showlegend\":true,\"textposition\":\"auto\",\"x\":[\"Liechtenstein\"],\"xaxis\":\"x\",\"y\":[198.0],\"yaxis\":\"y\",\"type\":\"bar\"},{\"alignmentgroup\":\"True\",\"hovertemplate\":\"Country=%{x}<br>Total Deaths=%{y}<extra></extra>\",\"legendgroup\":\"Curacao\",\"marker\":{\"color\":\"#FF97FF\",\"pattern\":{\"shape\":\"\"}},\"name\":\"Curacao\",\"offsetgroup\":\"Curacao\",\"orientation\":\"v\",\"showlegend\":true,\"textposition\":\"auto\",\"x\":[\"Curacao\"],\"xaxis\":\"x\",\"y\":[207.0],\"yaxis\":\"y\",\"type\":\"bar\"},{\"alignmentgroup\":\"True\",\"hovertemplate\":\"Country=%{x}<br>Total Deaths=%{y}<extra></extra>\",\"legendgroup\":\"Seychelles\",\"marker\":{\"color\":\"#FECB52\",\"pattern\":{\"shape\":\"\"}},\"name\":\"Seychelles\",\"offsetgroup\":\"Seychelles\",\"orientation\":\"v\",\"showlegend\":true,\"textposition\":\"auto\",\"x\":[\"Seychelles\"],\"xaxis\":\"x\",\"y\":[0.0],\"yaxis\":\"y\",\"type\":\"bar\"},{\"alignmentgroup\":\"True\",\"hovertemplate\":\"Country=%{x}<br>Total Deaths=%{y}<extra></extra>\",\"legendgroup\":\"Antigua and Barbuda\",\"marker\":{\"color\":\"#636efa\",\"pattern\":{\"shape\":\"\"}},\"name\":\"Antigua and Barbuda\",\"offsetgroup\":\"Antigua and Barbuda\",\"orientation\":\"v\",\"showlegend\":true,\"textposition\":\"auto\",\"x\":[\"Antigua and Barbuda\"],\"xaxis\":\"x\",\"y\":[568.0],\"yaxis\":\"y\",\"type\":\"bar\"},{\"alignmentgroup\":\"True\",\"hovertemplate\":\"Country=%{x}<br>Total Deaths=%{y}<extra></extra>\",\"legendgroup\":\"Saint Vincent and the Grenadines\",\"marker\":{\"color\":\"#EF553B\",\"pattern\":{\"shape\":\"\"}},\"name\":\"Saint Vincent and the Grenadines\",\"offsetgroup\":\"Saint Vincent and the Grenadines\",\"orientation\":\"v\",\"showlegend\":true,\"textposition\":\"auto\",\"x\":[\"Saint Vincent and the Grenadines\"],\"xaxis\":\"x\",\"y\":[0.0],\"yaxis\":\"y\",\"type\":\"bar\"},{\"alignmentgroup\":\"True\",\"hovertemplate\":\"Country=%{x}<br>Total Deaths=%{y}<extra></extra>\",\"legendgroup\":\"Northern Mariana Islands\",\"marker\":{\"color\":\"#00cc96\",\"pattern\":{\"shape\":\"\"}},\"name\":\"Northern Mariana Islands\",\"offsetgroup\":\"Northern Mariana Islands\",\"orientation\":\"v\",\"showlegend\":true,\"textposition\":\"auto\",\"x\":[\"Northern Mariana Islands\"],\"xaxis\":\"x\",\"y\":[396.0],\"yaxis\":\"y\",\"type\":\"bar\"},{\"alignmentgroup\":\"True\",\"hovertemplate\":\"Country=%{x}<br>Total Deaths=%{y}<extra></extra>\",\"legendgroup\":\"Bonaire Sint Eustatius and Saba\",\"marker\":{\"color\":\"#ab63fa\",\"pattern\":{\"shape\":\"\"}},\"name\":\"Bonaire Sint Eustatius and Saba\",\"offsetgroup\":\"Bonaire Sint Eustatius and Saba\",\"orientation\":\"v\",\"showlegend\":true,\"textposition\":\"auto\",\"x\":[\"Bonaire Sint Eustatius and Saba\"],\"xaxis\":\"x\",\"y\":[48.0],\"yaxis\":\"y\",\"type\":\"bar\"},{\"alignmentgroup\":\"True\",\"hovertemplate\":\"Country=%{x}<br>Total Deaths=%{y}<extra></extra>\",\"legendgroup\":\"Fiji\",\"marker\":{\"color\":\"#FFA15A\",\"pattern\":{\"shape\":\"\"}},\"name\":\"Fiji\",\"offsetgroup\":\"Fiji\",\"orientation\":\"v\",\"showlegend\":true,\"textposition\":\"auto\",\"x\":[\"Fiji\"],\"xaxis\":\"x\",\"y\":[132.0],\"yaxis\":\"y\",\"type\":\"bar\"},{\"alignmentgroup\":\"True\",\"hovertemplate\":\"Country=%{x}<br>Total Deaths=%{y}<extra></extra>\",\"legendgroup\":\"Timor\",\"marker\":{\"color\":\"#19d3f3\",\"pattern\":{\"shape\":\"\"}},\"name\":\"Timor\",\"offsetgroup\":\"Timor\",\"orientation\":\"v\",\"showlegend\":true,\"textposition\":\"auto\",\"x\":[\"Timor\"],\"xaxis\":\"x\",\"y\":[0.0],\"yaxis\":\"y\",\"type\":\"bar\"},{\"alignmentgroup\":\"True\",\"hovertemplate\":\"Country=%{x}<br>Total Deaths=%{y}<extra></extra>\",\"legendgroup\":\"British Virgin Islands\",\"marker\":{\"color\":\"#FF6692\",\"pattern\":{\"shape\":\"\"}},\"name\":\"British Virgin Islands\",\"offsetgroup\":\"British Virgin Islands\",\"orientation\":\"v\",\"showlegend\":true,\"textposition\":\"auto\",\"x\":[\"British Virgin Islands\"],\"xaxis\":\"x\",\"y\":[183.0],\"yaxis\":\"y\",\"type\":\"bar\"},{\"alignmentgroup\":\"True\",\"hovertemplate\":\"Country=%{x}<br>Total Deaths=%{y}<extra></extra>\",\"legendgroup\":\"New Caledonia\",\"marker\":{\"color\":\"#B6E880\",\"pattern\":{\"shape\":\"\"}},\"name\":\"New Caledonia\",\"offsetgroup\":\"New Caledonia\",\"orientation\":\"v\",\"showlegend\":true,\"textposition\":\"auto\",\"x\":[\"New Caledonia\"],\"xaxis\":\"x\",\"y\":[0.0],\"yaxis\":\"y\",\"type\":\"bar\"},{\"alignmentgroup\":\"True\",\"hovertemplate\":\"Country=%{x}<br>Total Deaths=%{y}<extra></extra>\",\"legendgroup\":\"Grenada\",\"marker\":{\"color\":\"#FF97FF\",\"pattern\":{\"shape\":\"\"}},\"name\":\"Grenada\",\"offsetgroup\":\"Grenada\",\"orientation\":\"v\",\"showlegend\":true,\"textposition\":\"auto\",\"x\":[\"Grenada\"],\"xaxis\":\"x\",\"y\":[0.0],\"yaxis\":\"y\",\"type\":\"bar\"},{\"alignmentgroup\":\"True\",\"hovertemplate\":\"Country=%{x}<br>Total Deaths=%{y}<extra></extra>\",\"legendgroup\":\"Saint Lucia\",\"marker\":{\"color\":\"#FECB52\",\"pattern\":{\"shape\":\"\"}},\"name\":\"Saint Lucia\",\"offsetgroup\":\"Saint Lucia\",\"orientation\":\"v\",\"showlegend\":true,\"textposition\":\"auto\",\"x\":[\"Saint Lucia\"],\"xaxis\":\"x\",\"y\":[0.0],\"yaxis\":\"y\",\"type\":\"bar\"},{\"alignmentgroup\":\"True\",\"hovertemplate\":\"Country=%{x}<br>Total Deaths=%{y}<extra></extra>\",\"legendgroup\":\"Laos\",\"marker\":{\"color\":\"#636efa\",\"pattern\":{\"shape\":\"\"}},\"name\":\"Laos\",\"offsetgroup\":\"Laos\",\"orientation\":\"v\",\"showlegend\":true,\"textposition\":\"auto\",\"x\":[\"Laos\"],\"xaxis\":\"x\",\"y\":[0.0],\"yaxis\":\"y\",\"type\":\"bar\"},{\"alignmentgroup\":\"True\",\"hovertemplate\":\"Country=%{x}<br>Total Deaths=%{y}<extra></extra>\",\"legendgroup\":\"Dominica\",\"marker\":{\"color\":\"#EF553B\",\"pattern\":{\"shape\":\"\"}},\"name\":\"Dominica\",\"offsetgroup\":\"Dominica\",\"orientation\":\"v\",\"showlegend\":true,\"textposition\":\"auto\",\"x\":[\"Dominica\"],\"xaxis\":\"x\",\"y\":[0.0],\"yaxis\":\"y\",\"type\":\"bar\"},{\"alignmentgroup\":\"True\",\"hovertemplate\":\"Country=%{x}<br>Total Deaths=%{y}<extra></extra>\",\"legendgroup\":\"Saint Kitts and Nevis\",\"marker\":{\"color\":\"#00cc96\",\"pattern\":{\"shape\":\"\"}},\"name\":\"Saint Kitts and Nevis\",\"offsetgroup\":\"Saint Kitts and Nevis\",\"orientation\":\"v\",\"showlegend\":true,\"textposition\":\"auto\",\"x\":[\"Saint Kitts and Nevis\"],\"xaxis\":\"x\",\"y\":[0.0],\"yaxis\":\"y\",\"type\":\"bar\"},{\"alignmentgroup\":\"True\",\"hovertemplate\":\"Country=%{x}<br>Total Deaths=%{y}<extra></extra>\",\"legendgroup\":\"Greenland\",\"marker\":{\"color\":\"#ab63fa\",\"pattern\":{\"shape\":\"\"}},\"name\":\"Greenland\",\"offsetgroup\":\"Greenland\",\"orientation\":\"v\",\"showlegend\":true,\"textposition\":\"auto\",\"x\":[\"Greenland\"],\"xaxis\":\"x\",\"y\":[0.0],\"yaxis\":\"y\",\"type\":\"bar\"},{\"alignmentgroup\":\"True\",\"hovertemplate\":\"Country=%{x}<br>Total Deaths=%{y}<extra></extra>\",\"legendgroup\":\"Falkland Islands\",\"marker\":{\"color\":\"#FFA15A\",\"pattern\":{\"shape\":\"\"}},\"name\":\"Falkland Islands\",\"offsetgroup\":\"Falkland Islands\",\"orientation\":\"v\",\"showlegend\":true,\"textposition\":\"auto\",\"x\":[\"Falkland Islands\"],\"xaxis\":\"x\",\"y\":[0.0],\"yaxis\":\"y\",\"type\":\"bar\"},{\"alignmentgroup\":\"True\",\"hovertemplate\":\"Country=%{x}<br>Total Deaths=%{y}<extra></extra>\",\"legendgroup\":\"Vatican\",\"marker\":{\"color\":\"#19d3f3\",\"pattern\":{\"shape\":\"\"}},\"name\":\"Vatican\",\"offsetgroup\":\"Vatican\",\"orientation\":\"v\",\"showlegend\":true,\"textposition\":\"auto\",\"x\":[\"Vatican\"],\"xaxis\":\"x\",\"y\":[0.0],\"yaxis\":\"y\",\"type\":\"bar\"},{\"alignmentgroup\":\"True\",\"hovertemplate\":\"Country=%{x}<br>Total Deaths=%{y}<extra></extra>\",\"legendgroup\":\"Montserrat\",\"marker\":{\"color\":\"#FF6692\",\"pattern\":{\"shape\":\"\"}},\"name\":\"Montserrat\",\"offsetgroup\":\"Montserrat\",\"orientation\":\"v\",\"showlegend\":true,\"textposition\":\"auto\",\"x\":[\"Montserrat\"],\"xaxis\":\"x\",\"y\":[177.0],\"yaxis\":\"y\",\"type\":\"bar\"},{\"alignmentgroup\":\"True\",\"hovertemplate\":\"Country=%{x}<br>Total Deaths=%{y}<extra></extra>\",\"legendgroup\":\"Anguilla\",\"marker\":{\"color\":\"#B6E880\",\"pattern\":{\"shape\":\"\"}},\"name\":\"Anguilla\",\"offsetgroup\":\"Anguilla\",\"orientation\":\"v\",\"showlegend\":true,\"textposition\":\"auto\",\"x\":[\"Anguilla\"],\"xaxis\":\"x\",\"y\":[0.0],\"yaxis\":\"y\",\"type\":\"bar\"},{\"alignmentgroup\":\"True\",\"hovertemplate\":\"Country=%{x}<br>Total Deaths=%{y}<extra></extra>\",\"legendgroup\":\"Solomon Islands\",\"marker\":{\"color\":\"#FF97FF\",\"pattern\":{\"shape\":\"\"}},\"name\":\"Solomon Islands\",\"offsetgroup\":\"Solomon Islands\",\"orientation\":\"v\",\"showlegend\":true,\"textposition\":\"auto\",\"x\":[\"Solomon Islands\"],\"xaxis\":\"x\",\"y\":[0.0],\"yaxis\":\"y\",\"type\":\"bar\"},{\"alignmentgroup\":\"True\",\"hovertemplate\":\"Country=%{x}<br>Total Deaths=%{y}<extra></extra>\",\"legendgroup\":\"Hong Kong\",\"marker\":{\"color\":\"#FECB52\",\"pattern\":{\"shape\":\"\"}},\"name\":\"Hong Kong\",\"offsetgroup\":\"Hong Kong\",\"orientation\":\"v\",\"showlegend\":true,\"textposition\":\"auto\",\"x\":[\"Hong Kong\"],\"xaxis\":\"x\",\"y\":[0.0],\"yaxis\":\"y\",\"type\":\"bar\"}],                        {\"template\":{\"data\":{\"bar\":[{\"error_x\":{\"color\":\"#2a3f5f\"},\"error_y\":{\"color\":\"#2a3f5f\"},\"marker\":{\"line\":{\"color\":\"#E5ECF6\",\"width\":0.5},\"pattern\":{\"fillmode\":\"overlay\",\"size\":10,\"solidity\":0.2}},\"type\":\"bar\"}],\"barpolar\":[{\"marker\":{\"line\":{\"color\":\"#E5ECF6\",\"width\":0.5},\"pattern\":{\"fillmode\":\"overlay\",\"size\":10,\"solidity\":0.2}},\"type\":\"barpolar\"}],\"carpet\":[{\"aaxis\":{\"endlinecolor\":\"#2a3f5f\",\"gridcolor\":\"white\",\"linecolor\":\"white\",\"minorgridcolor\":\"white\",\"startlinecolor\":\"#2a3f5f\"},\"baxis\":{\"endlinecolor\":\"#2a3f5f\",\"gridcolor\":\"white\",\"linecolor\":\"white\",\"minorgridcolor\":\"white\",\"startlinecolor\":\"#2a3f5f\"},\"type\":\"carpet\"}],\"choropleth\":[{\"colorbar\":{\"outlinewidth\":0,\"ticks\":\"\"},\"type\":\"choropleth\"}],\"contour\":[{\"colorbar\":{\"outlinewidth\":0,\"ticks\":\"\"},\"colorscale\":[[0.0,\"#0d0887\"],[0.1111111111111111,\"#46039f\"],[0.2222222222222222,\"#7201a8\"],[0.3333333333333333,\"#9c179e\"],[0.4444444444444444,\"#bd3786\"],[0.5555555555555556,\"#d8576b\"],[0.6666666666666666,\"#ed7953\"],[0.7777777777777778,\"#fb9f3a\"],[0.8888888888888888,\"#fdca26\"],[1.0,\"#f0f921\"]],\"type\":\"contour\"}],\"contourcarpet\":[{\"colorbar\":{\"outlinewidth\":0,\"ticks\":\"\"},\"type\":\"contourcarpet\"}],\"heatmap\":[{\"colorbar\":{\"outlinewidth\":0,\"ticks\":\"\"},\"colorscale\":[[0.0,\"#0d0887\"],[0.1111111111111111,\"#46039f\"],[0.2222222222222222,\"#7201a8\"],[0.3333333333333333,\"#9c179e\"],[0.4444444444444444,\"#bd3786\"],[0.5555555555555556,\"#d8576b\"],[0.6666666666666666,\"#ed7953\"],[0.7777777777777778,\"#fb9f3a\"],[0.8888888888888888,\"#fdca26\"],[1.0,\"#f0f921\"]],\"type\":\"heatmap\"}],\"heatmapgl\":[{\"colorbar\":{\"outlinewidth\":0,\"ticks\":\"\"},\"colorscale\":[[0.0,\"#0d0887\"],[0.1111111111111111,\"#46039f\"],[0.2222222222222222,\"#7201a8\"],[0.3333333333333333,\"#9c179e\"],[0.4444444444444444,\"#bd3786\"],[0.5555555555555556,\"#d8576b\"],[0.6666666666666666,\"#ed7953\"],[0.7777777777777778,\"#fb9f3a\"],[0.8888888888888888,\"#fdca26\"],[1.0,\"#f0f921\"]],\"type\":\"heatmapgl\"}],\"histogram\":[{\"marker\":{\"pattern\":{\"fillmode\":\"overlay\",\"size\":10,\"solidity\":0.2}},\"type\":\"histogram\"}],\"histogram2d\":[{\"colorbar\":{\"outlinewidth\":0,\"ticks\":\"\"},\"colorscale\":[[0.0,\"#0d0887\"],[0.1111111111111111,\"#46039f\"],[0.2222222222222222,\"#7201a8\"],[0.3333333333333333,\"#9c179e\"],[0.4444444444444444,\"#bd3786\"],[0.5555555555555556,\"#d8576b\"],[0.6666666666666666,\"#ed7953\"],[0.7777777777777778,\"#fb9f3a\"],[0.8888888888888888,\"#fdca26\"],[1.0,\"#f0f921\"]],\"type\":\"histogram2d\"}],\"histogram2dcontour\":[{\"colorbar\":{\"outlinewidth\":0,\"ticks\":\"\"},\"colorscale\":[[0.0,\"#0d0887\"],[0.1111111111111111,\"#46039f\"],[0.2222222222222222,\"#7201a8\"],[0.3333333333333333,\"#9c179e\"],[0.4444444444444444,\"#bd3786\"],[0.5555555555555556,\"#d8576b\"],[0.6666666666666666,\"#ed7953\"],[0.7777777777777778,\"#fb9f3a\"],[0.8888888888888888,\"#fdca26\"],[1.0,\"#f0f921\"]],\"type\":\"histogram2dcontour\"}],\"mesh3d\":[{\"colorbar\":{\"outlinewidth\":0,\"ticks\":\"\"},\"type\":\"mesh3d\"}],\"parcoords\":[{\"line\":{\"colorbar\":{\"outlinewidth\":0,\"ticks\":\"\"}},\"type\":\"parcoords\"}],\"pie\":[{\"automargin\":true,\"type\":\"pie\"}],\"scatter\":[{\"marker\":{\"colorbar\":{\"outlinewidth\":0,\"ticks\":\"\"}},\"type\":\"scatter\"}],\"scatter3d\":[{\"line\":{\"colorbar\":{\"outlinewidth\":0,\"ticks\":\"\"}},\"marker\":{\"colorbar\":{\"outlinewidth\":0,\"ticks\":\"\"}},\"type\":\"scatter3d\"}],\"scattercarpet\":[{\"marker\":{\"colorbar\":{\"outlinewidth\":0,\"ticks\":\"\"}},\"type\":\"scattercarpet\"}],\"scattergeo\":[{\"marker\":{\"colorbar\":{\"outlinewidth\":0,\"ticks\":\"\"}},\"type\":\"scattergeo\"}],\"scattergl\":[{\"marker\":{\"colorbar\":{\"outlinewidth\":0,\"ticks\":\"\"}},\"type\":\"scattergl\"}],\"scattermapbox\":[{\"marker\":{\"colorbar\":{\"outlinewidth\":0,\"ticks\":\"\"}},\"type\":\"scattermapbox\"}],\"scatterpolar\":[{\"marker\":{\"colorbar\":{\"outlinewidth\":0,\"ticks\":\"\"}},\"type\":\"scatterpolar\"}],\"scatterpolargl\":[{\"marker\":{\"colorbar\":{\"outlinewidth\":0,\"ticks\":\"\"}},\"type\":\"scatterpolargl\"}],\"scatterternary\":[{\"marker\":{\"colorbar\":{\"outlinewidth\":0,\"ticks\":\"\"}},\"type\":\"scatterternary\"}],\"surface\":[{\"colorbar\":{\"outlinewidth\":0,\"ticks\":\"\"},\"colorscale\":[[0.0,\"#0d0887\"],[0.1111111111111111,\"#46039f\"],[0.2222222222222222,\"#7201a8\"],[0.3333333333333333,\"#9c179e\"],[0.4444444444444444,\"#bd3786\"],[0.5555555555555556,\"#d8576b\"],[0.6666666666666666,\"#ed7953\"],[0.7777777777777778,\"#fb9f3a\"],[0.8888888888888888,\"#fdca26\"],[1.0,\"#f0f921\"]],\"type\":\"surface\"}],\"table\":[{\"cells\":{\"fill\":{\"color\":\"#EBF0F8\"},\"line\":{\"color\":\"white\"}},\"header\":{\"fill\":{\"color\":\"#C8D4E3\"},\"line\":{\"color\":\"white\"}},\"type\":\"table\"}]},\"layout\":{\"annotationdefaults\":{\"arrowcolor\":\"#2a3f5f\",\"arrowhead\":0,\"arrowwidth\":1},\"autotypenumbers\":\"strict\",\"coloraxis\":{\"colorbar\":{\"outlinewidth\":0,\"ticks\":\"\"}},\"colorscale\":{\"diverging\":[[0,\"#8e0152\"],[0.1,\"#c51b7d\"],[0.2,\"#de77ae\"],[0.3,\"#f1b6da\"],[0.4,\"#fde0ef\"],[0.5,\"#f7f7f7\"],[0.6,\"#e6f5d0\"],[0.7,\"#b8e186\"],[0.8,\"#7fbc41\"],[0.9,\"#4d9221\"],[1,\"#276419\"]],\"sequential\":[[0.0,\"#0d0887\"],[0.1111111111111111,\"#46039f\"],[0.2222222222222222,\"#7201a8\"],[0.3333333333333333,\"#9c179e\"],[0.4444444444444444,\"#bd3786\"],[0.5555555555555556,\"#d8576b\"],[0.6666666666666666,\"#ed7953\"],[0.7777777777777778,\"#fb9f3a\"],[0.8888888888888888,\"#fdca26\"],[1.0,\"#f0f921\"]],\"sequentialminus\":[[0.0,\"#0d0887\"],[0.1111111111111111,\"#46039f\"],[0.2222222222222222,\"#7201a8\"],[0.3333333333333333,\"#9c179e\"],[0.4444444444444444,\"#bd3786\"],[0.5555555555555556,\"#d8576b\"],[0.6666666666666666,\"#ed7953\"],[0.7777777777777778,\"#fb9f3a\"],[0.8888888888888888,\"#fdca26\"],[1.0,\"#f0f921\"]]},\"colorway\":[\"#636efa\",\"#EF553B\",\"#00cc96\",\"#ab63fa\",\"#FFA15A\",\"#19d3f3\",\"#FF6692\",\"#B6E880\",\"#FF97FF\",\"#FECB52\"],\"font\":{\"color\":\"#2a3f5f\"},\"geo\":{\"bgcolor\":\"white\",\"lakecolor\":\"white\",\"landcolor\":\"#E5ECF6\",\"showlakes\":true,\"showland\":true,\"subunitcolor\":\"white\"},\"hoverlabel\":{\"align\":\"left\"},\"hovermode\":\"closest\",\"mapbox\":{\"style\":\"light\"},\"paper_bgcolor\":\"white\",\"plot_bgcolor\":\"#E5ECF6\",\"polar\":{\"angularaxis\":{\"gridcolor\":\"white\",\"linecolor\":\"white\",\"ticks\":\"\"},\"bgcolor\":\"#E5ECF6\",\"radialaxis\":{\"gridcolor\":\"white\",\"linecolor\":\"white\",\"ticks\":\"\"}},\"scene\":{\"xaxis\":{\"backgroundcolor\":\"#E5ECF6\",\"gridcolor\":\"white\",\"gridwidth\":2,\"linecolor\":\"white\",\"showbackground\":true,\"ticks\":\"\",\"zerolinecolor\":\"white\"},\"yaxis\":{\"backgroundcolor\":\"#E5ECF6\",\"gridcolor\":\"white\",\"gridwidth\":2,\"linecolor\":\"white\",\"showbackground\":true,\"ticks\":\"\",\"zerolinecolor\":\"white\"},\"zaxis\":{\"backgroundcolor\":\"#E5ECF6\",\"gridcolor\":\"white\",\"gridwidth\":2,\"linecolor\":\"white\",\"showbackground\":true,\"ticks\":\"\",\"zerolinecolor\":\"white\"}},\"shapedefaults\":{\"line\":{\"color\":\"#2a3f5f\"}},\"ternary\":{\"aaxis\":{\"gridcolor\":\"white\",\"linecolor\":\"white\",\"ticks\":\"\"},\"baxis\":{\"gridcolor\":\"white\",\"linecolor\":\"white\",\"ticks\":\"\"},\"bgcolor\":\"#E5ECF6\",\"caxis\":{\"gridcolor\":\"white\",\"linecolor\":\"white\",\"ticks\":\"\"}},\"title\":{\"x\":0.05},\"xaxis\":{\"automargin\":true,\"gridcolor\":\"white\",\"linecolor\":\"white\",\"ticks\":\"\",\"title\":{\"standoff\":15},\"zerolinecolor\":\"white\",\"zerolinewidth\":2},\"yaxis\":{\"automargin\":true,\"gridcolor\":\"white\",\"linecolor\":\"white\",\"ticks\":\"\",\"title\":{\"standoff\":15},\"zerolinecolor\":\"white\",\"zerolinewidth\":2}}},\"xaxis\":{\"anchor\":\"y\",\"domain\":[0.0,1.0],\"title\":{\"text\":\"Country\"},\"categoryorder\":\"array\",\"categoryarray\":[\"United States\",\"Brazil\",\"India\",\"Russia\",\"Peru\",\"Mexico\",\"Spain\",\"South Africa\",\"Colombia\",\"United Kingdom\",\"Iran\",\"Chile\",\"Italy\",\"France\",\"Argentina\",\"Germany\",\"Turkey\",\"Saudi Arabia\",\"Pakistan\",\"Bangladesh\",\"Iraq\",\"Philippines\",\"China\",\"Indonesia\",\"Canada\",\"Qatar\",\"Israel\",\"Ukraine\",\"Belgium\",\"Ecuador\",\"Kazakhstan\",\"Netherlands\",\"Egypt\",\"Sweden\",\"Bolivia\",\"Romania\",\"Dominican Republic\",\"Kuwait\",\"Belarus\",\"Panama\",\"United Arab Emirates\",\"Oman\",\"Portugal\",\"Poland\",\"Singapore\",\"Morocco\",\"Japan\",\"Guatemala\",\"Switzerland\",\"Bahrain\",\"Honduras\",\"Nigeria\",\"Armenia\",\"Nepal\",\"Ireland\",\"Czech Republic\",\"Afghanistan\",\"Austria\",\"Ghana\",\"Algeria\",\"Ethiopia\",\"Venezuela\",\"Moldova\",\"Costa Rica\",\"Uzbekistan\",\"Kyrgyzstan\",\"Azerbaijan\",\"Serbia\",\"Puerto Rico\",\"South Korea\",\"Kenya\",\"Palestine\",\"Denmark\",\"Australia\",\"El Salvador\",\"Cameroon\",\"Paraguay\",\"Lebanon\",\"Bosnia and Herzegovina\",\"Cote d'Ivoire\",\"Norway\",\"Bulgaria\",\"Libya\",\"Malaysia\",\"Macedonia\",\"Hungary\",\"Sudan\",\"Senegal\",\"Finland\",\"Madagascar\",\"Greece\",\"Kosovo\",\"Croatia\",\"Democratic Republic of Congo\",\"Guinea\",\"Luxembourg\",\"Zambia\",\"Tajikistan\",\"Albania\",\"Gabon\",\"Haiti\",\"Tunisia\",\"Maldives\",\"Mauritania\",\"Slovakia\",\"Djibouti\",\"Jordan\",\"Namibia\",\"Montenegro\",\"Thailand\",\"Myanmar\",\"Zimbabwe\",\"Central African Republic\",\"Cuba\",\"Equatorial Guinea\",\"Slovenia\",\"Malawi\",\"Nicaragua\",\"Mozambique\",\"Somalia\",\"Lithuania\",\"Congo\",\"Cape Verde\",\"Uganda\",\"Sri Lanka\",\"Estonia\",\"Swaziland\",\"Georgia\",\"Iceland\",\"Mali\",\"Rwanda\",\"Jamaica\",\"Suriname\",\"South Sudan\",\"Guinea-Bissau\",\"Angola\",\"Sierra Leone\",\"Syria\",\"Latvia\",\"New Zealand\",\"Malta\",\"Benin\",\"Uruguay\",\"Bahamas\",\"Cyprus\",\"Burkina Faso\",\"Gambia\",\"Yemen\",\"Trinidad and Tobago\",\"Andorra\",\"Aruba\",\"Botswana\",\"Niger\",\"Togo\",\"Guyana\",\"Guam\",\"Liberia\",\"Chad\",\"San Marino\",\"Vietnam\",\"Sao Tome and Principe\",\"Lesotho\",\"Belize\",\"United States Virgin Islands\",\"Taiwan\",\"French Polynesia\",\"Tanzania\",\"Mauritius\",\"Jersey\",\"Isle of Man\",\"Faeroe Islands\",\"Comoros\",\"Guernsey\",\"Burundi\",\"Sint Maarten (Dutch part)\",\"Gibraltar\",\"Turks and Caicos Islands\",\"Mongolia\",\"Eritrea\",\"Cambodia\",\"Papua New Guinea\",\"Cayman Islands\",\"Brunei\",\"Bermuda\",\"Barbados\",\"Bhutan\",\"Monaco\",\"Liechtenstein\",\"Curacao\",\"Seychelles\",\"Antigua and Barbuda\",\"Saint Vincent and the Grenadines\",\"Northern Mariana Islands\",\"Bonaire Sint Eustatius and Saba\",\"Fiji\",\"Timor\",\"British Virgin Islands\",\"New Caledonia\",\"Grenada\",\"Saint Lucia\",\"Laos\",\"Dominica\",\"Saint Kitts and Nevis\",\"Greenland\",\"Falkland Islands\",\"Vatican\",\"Montserrat\",\"Anguilla\",\"Solomon Islands\",\"Hong Kong\"]},\"yaxis\":{\"anchor\":\"x\",\"domain\":[0.0,1.0],\"title\":{\"text\":\"Total Deaths\"}},\"legend\":{\"title\":{\"text\":\"Country\"},\"tracegroupgap\":0},\"title\":{\"text\":\"Countries with Highest Deaths\"},\"barmode\":\"relative\",\"width\":1000},                        {\"responsive\": true}                    ).then(function(){\n",
       "                            \n",
       "var gd = document.getElementById('6bd523a1-7e17-41bd-a1eb-48a8e23609a3');\n",
       "var x = new MutationObserver(function (mutations, observer) {{\n",
       "        var display = window.getComputedStyle(gd).display;\n",
       "        if (!display || display === 'none') {{\n",
       "            console.log([gd, 'removed!']);\n",
       "            Plotly.purge(gd);\n",
       "            observer.disconnect();\n",
       "        }}\n",
       "}});\n",
       "\n",
       "// Listen for the removal of the full notebook cells\n",
       "var notebookContainer = gd.closest('#notebook-container');\n",
       "if (notebookContainer) {{\n",
       "    x.observe(notebookContainer, {childList: true});\n",
       "}}\n",
       "\n",
       "// Listen for the clearing of the current output cell\n",
       "var outputEl = gd.closest('.output');\n",
       "if (outputEl) {{\n",
       "    x.observe(outputEl, {childList: true});\n",
       "}}\n",
       "\n",
       "                        })                };                });            </script>        </div>"
      ]
     },
     "metadata": {},
     "output_type": "display_data"
    }
   ],
   "source": [
    "# Countries with the highest death cases.\n",
    "fg = px.bar(transf, y='Total Deaths', x='Country', width=1000,  color=\"Country\", title=\"Countries with Highest Deaths\")\n",
    "fg.show()"
   ]
  },
  {
   "cell_type": "markdown",
   "id": "e099d93b",
   "metadata": {},
   "source": [
    "Similarly to the total number of Covid-19 Cases, the USA is leading in the deaths, with Brazil and India in the second and third places.Unlike the covid cases the death rate in India, Russia and South Africa is comparatively low."
   ]
  },
  {
   "cell_type": "code",
   "execution_count": 38,
   "id": "b528cd3e",
   "metadata": {},
   "outputs": [
    {
     "data": {
      "application/vnd.plotly.v1+json": {
       "config": {
        "plotlyServerURL": "https://plot.ly"
       },
       "data": [
        {
         "marker": {
          "color": "Green"
         },
         "name": "Total Cases",
         "type": "bar",
         "x": [
          "United States",
          "Brazil",
          "India",
          "Russia",
          "Peru",
          "Mexico",
          "Spain",
          "South Africa",
          "Colombia",
          "United Kingdom",
          "Iran",
          "Chile",
          "Italy",
          "France",
          "Argentina",
          "Germany",
          "Turkey",
          "Saudi Arabia",
          "Pakistan",
          "Bangladesh",
          "Iraq",
          "Philippines",
          "China",
          "Indonesia",
          "Canada",
          "Qatar",
          "Israel",
          "Ukraine",
          "Belgium",
          "Ecuador",
          "Kazakhstan",
          "Netherlands",
          "Egypt",
          "Sweden",
          "Bolivia",
          "Romania",
          "Dominican Republic",
          "Kuwait",
          "Belarus",
          "Panama",
          "United Arab Emirates",
          "Oman",
          "Portugal",
          "Poland",
          "Singapore",
          "Morocco",
          "Japan",
          "Guatemala",
          "Switzerland",
          "Bahrain",
          "Honduras",
          "Nigeria",
          "Armenia",
          "Nepal",
          "Ireland",
          "Czech Republic",
          "Afghanistan",
          "Austria",
          "Ghana",
          "Algeria",
          "Ethiopia",
          "Venezuela",
          "Moldova",
          "Costa Rica",
          "Uzbekistan",
          "Kyrgyzstan",
          "Azerbaijan",
          "Serbia",
          "Puerto Rico",
          "South Korea",
          "Kenya",
          "Palestine",
          "Denmark",
          "Australia",
          "El Salvador",
          "Cameroon",
          "Paraguay",
          "Lebanon",
          "Bosnia and Herzegovina",
          "Cote d'Ivoire",
          "Norway",
          "Bulgaria",
          "Libya",
          "Malaysia",
          "Macedonia",
          "Hungary",
          "Sudan",
          "Senegal",
          "Finland",
          "Madagascar",
          "Greece",
          "Kosovo",
          "Croatia",
          "Democratic Republic of Congo",
          "Guinea",
          "Luxembourg",
          "Zambia",
          "Tajikistan",
          "Albania",
          "Gabon",
          "Haiti",
          "Tunisia",
          "Maldives",
          "Mauritania",
          "Slovakia",
          "Djibouti",
          "Jordan",
          "Namibia",
          "Montenegro",
          "Thailand",
          "Myanmar",
          "Zimbabwe",
          "Central African Republic",
          "Cuba",
          "Equatorial Guinea",
          "Slovenia",
          "Malawi",
          "Nicaragua",
          "Mozambique",
          "Somalia",
          "Lithuania",
          "Congo",
          "Cape Verde",
          "Uganda",
          "Sri Lanka",
          "Estonia",
          "Swaziland",
          "Georgia",
          "Iceland",
          "Mali",
          "Rwanda",
          "Jamaica",
          "Suriname",
          "South Sudan",
          "Guinea-Bissau",
          "Angola",
          "Sierra Leone",
          "Syria",
          "Latvia",
          "New Zealand",
          "Malta",
          "Benin",
          "Uruguay",
          "Bahamas",
          "Cyprus",
          "Burkina Faso",
          "Gambia",
          "Yemen",
          "Trinidad and Tobago",
          "Andorra",
          "Aruba",
          "Botswana",
          "Niger",
          "Togo",
          "Guyana",
          "Guam",
          "Liberia",
          "Chad",
          "San Marino",
          "Vietnam",
          "Sao Tome and Principe",
          "Lesotho",
          "Belize",
          "United States Virgin Islands",
          "Taiwan",
          "French Polynesia",
          "Tanzania",
          "Mauritius",
          "Jersey",
          "Isle of Man",
          "Faeroe Islands",
          "Comoros",
          "Guernsey",
          "Burundi",
          "Sint Maarten (Dutch part)",
          "Gibraltar",
          "Turks and Caicos Islands",
          "Mongolia",
          "Eritrea",
          "Cambodia",
          "Papua New Guinea",
          "Cayman Islands",
          "Brunei",
          "Bermuda",
          "Barbados",
          "Bhutan",
          "Monaco",
          "Liechtenstein",
          "Curacao",
          "Seychelles",
          "Antigua and Barbuda",
          "Saint Vincent and the Grenadines",
          "Northern Mariana Islands",
          "Bonaire Sint Eustatius and Saba",
          "Fiji",
          "Timor",
          "British Virgin Islands",
          "New Caledonia",
          "Grenada",
          "Saint Lucia",
          "Laos",
          "Dominica",
          "Saint Kitts and Nevis",
          "Greenland",
          "Falkland Islands",
          "Vatican",
          "Montserrat",
          "Anguilla",
          "Solomon Islands",
          "Hong Kong"
         ],
         "y": [
          746014098,
          425704517,
          407771615,
          132888951,
          74882695,
          74347548,
          73717676,
          63027659,
          60543682,
          59475032,
          52421884,
          51268034,
          50752853,
          50084335,
          47155234,
          42447678,
          41431948,
          38585191,
          37738077,
          35266178,
          25280332,
          22409936,
          21632319,
          21570149,
          20902374,
          16351440,
          16202474,
          15805665,
          15192468,
          14408757,
          13194863,
          13026629,
          12422845,
          11910109,
          11858838,
          10672859,
          10649646,
          10622205,
          10595186,
          10371724,
          10247326,
          10060093,
          9266263,
          9239657,
          8191161,
          7839270,
          7659484,
          7644426,
          7552067,
          6549995,
          6545499,
          6107371,
          5474629,
          5243653,
          5239798,
          5213980,
          5126433,
          4909197,
          4900649,
          4893999,
          4876417,
          4839834,
          4632482,
          4631835,
          4421215,
          4287847,
          4236782,
          3984174,
          3586463,
          3333075,
          3277734,
          3249458,
          3030088,
          3012377,
          2573206,
          2476502,
          2265640,
          2220699,
          2200057,
          2132883,
          1985889,
          1890380,
          1817274,
          1774181,
          1724220,
          1708798,
          1663545,
          1586747,
          1458484,
          1443321,
          1421470,
          1345940,
          1314031,
          1271391,
          1195836,
          1146724,
          1129913,
          1117391,
          1071951,
          1031803,
          1023155,
          1000626,
          844040,
          799222,
          798665,
          781771,
          716514,
          681299,
          675912,
          655703,
          644209,
          593699,
          593048,
          581546,
          557355,
          547075,
          536447,
          524410,
          510578,
          491145,
          488057,
          473368,
          463888,
          448728,
          446643,
          445402,
          444238,
          431689,
          421210,
          390637,
          388775,
          370890,
          358632,
          333500,
          306564,
          304005,
          268396,
          267902,
          255964,
          253203,
          251261,
          245893,
          239884,
          237908,
          236673,
          231452,
          229521,
          228925,
          225550,
          223576,
          215110,
          205758,
          199978,
          169903,
          166917,
          160975,
          159880,
          154173,
          134994,
          122618,
          121909,
          107948,
          106383,
          98536,
          97074,
          95388,
          91526,
          69524,
          66777,
          64935,
          56893,
          52437,
          49814,
          49745,
          48026,
          45340,
          44432,
          42465,
          40026,
          39539,
          35966,
          33173,
          30140,
          28876,
          24998,
          22847,
          21511,
          19885,
          19777,
          14701,
          12619,
          7824,
          7784,
          5080,
          4742,
          4697,
          4605,
          4495,
          4470,
          4450,
          4039,
          3977,
          3246,
          2678,
          2467,
          2415,
          2383,
          614,
          11,
          0
         ]
        },
        {
         "marker": {
          "color": "Yellow"
         },
         "name": "Total Deaths",
         "type": "bar",
         "x": [
          "United States",
          "Brazil",
          "India",
          "Russia",
          "Peru",
          "Mexico",
          "Spain",
          "South Africa",
          "Colombia",
          "United Kingdom",
          "Iran",
          "Chile",
          "Italy",
          "France",
          "Argentina",
          "Germany",
          "Turkey",
          "Saudi Arabia",
          "Pakistan",
          "Bangladesh",
          "Iraq",
          "Philippines",
          "China",
          "Indonesia",
          "Canada",
          "Qatar",
          "Israel",
          "Ukraine",
          "Belgium",
          "Ecuador",
          "Kazakhstan",
          "Netherlands",
          "Egypt",
          "Sweden",
          "Bolivia",
          "Romania",
          "Dominican Republic",
          "Kuwait",
          "Belarus",
          "Panama",
          "United Arab Emirates",
          "Oman",
          "Portugal",
          "Poland",
          "Singapore",
          "Morocco",
          "Japan",
          "Guatemala",
          "Switzerland",
          "Bahrain",
          "Honduras",
          "Nigeria",
          "Armenia",
          "Nepal",
          "Ireland",
          "Czech Republic",
          "Afghanistan",
          "Austria",
          "Ghana",
          "Algeria",
          "Ethiopia",
          "Venezuela",
          "Moldova",
          "Costa Rica",
          "Uzbekistan",
          "Kyrgyzstan",
          "Azerbaijan",
          "Serbia",
          "Puerto Rico",
          "South Korea",
          "Kenya",
          "Palestine",
          "Denmark",
          "Australia",
          "El Salvador",
          "Cameroon",
          "Paraguay",
          "Lebanon",
          "Bosnia and Herzegovina",
          "Cote d'Ivoire",
          "Norway",
          "Bulgaria",
          "Libya",
          "Malaysia",
          "Macedonia",
          "Hungary",
          "Sudan",
          "Senegal",
          "Finland",
          "Madagascar",
          "Greece",
          "Kosovo",
          "Croatia",
          "Democratic Republic of Congo",
          "Guinea",
          "Luxembourg",
          "Zambia",
          "Tajikistan",
          "Albania",
          "Gabon",
          "Haiti",
          "Tunisia",
          "Maldives",
          "Mauritania",
          "Slovakia",
          "Djibouti",
          "Jordan",
          "Namibia",
          "Montenegro",
          "Thailand",
          "Myanmar",
          "Zimbabwe",
          "Central African Republic",
          "Cuba",
          "Equatorial Guinea",
          "Slovenia",
          "Malawi",
          "Nicaragua",
          "Mozambique",
          "Somalia",
          "Lithuania",
          "Congo",
          "Cape Verde",
          "Uganda",
          "Sri Lanka",
          "Estonia",
          "Swaziland",
          "Georgia",
          "Iceland",
          "Mali",
          "Rwanda",
          "Jamaica",
          "Suriname",
          "South Sudan",
          "Guinea-Bissau",
          "Angola",
          "Sierra Leone",
          "Syria",
          "Latvia",
          "New Zealand",
          "Malta",
          "Benin",
          "Uruguay",
          "Bahamas",
          "Cyprus",
          "Burkina Faso",
          "Gambia",
          "Yemen",
          "Trinidad and Tobago",
          "Andorra",
          "Aruba",
          "Botswana",
          "Niger",
          "Togo",
          "Guyana",
          "Guam",
          "Liberia",
          "Chad",
          "San Marino",
          "Vietnam",
          "Sao Tome and Principe",
          "Lesotho",
          "Belize",
          "United States Virgin Islands",
          "Taiwan",
          "French Polynesia",
          "Tanzania",
          "Mauritius",
          "Jersey",
          "Isle of Man",
          "Faeroe Islands",
          "Comoros",
          "Guernsey",
          "Burundi",
          "Sint Maarten (Dutch part)",
          "Gibraltar",
          "Turks and Caicos Islands",
          "Mongolia",
          "Eritrea",
          "Cambodia",
          "Papua New Guinea",
          "Cayman Islands",
          "Brunei",
          "Bermuda",
          "Barbados",
          "Bhutan",
          "Monaco",
          "Liechtenstein",
          "Curacao",
          "Seychelles",
          "Antigua and Barbuda",
          "Saint Vincent and the Grenadines",
          "Northern Mariana Islands",
          "Bonaire Sint Eustatius and Saba",
          "Fiji",
          "Timor",
          "British Virgin Islands",
          "New Caledonia",
          "Grenada",
          "Saint Lucia",
          "Laos",
          "Dominica",
          "Saint Kitts and Nevis",
          "Greenland",
          "Falkland Islands",
          "Vatican",
          "Montserrat",
          "Anguilla",
          "Solomon Islands",
          "Hong Kong"
         ],
         "y": [
          26477574,
          14340567,
          7247327,
          2131571,
          3020038,
          7295850,
          5510624,
          1357682,
          1936134,
          7249573,
          2914070,
          1283880,
          6664225,
          5633444,
          1077426,
          1640691,
          1049757,
          442507,
          789557,
          484534,
          744253,
          448665,
          1066939,
          916111,
          1455549,
          23820,
          126278,
          343334,
          1798461,
          1083749,
          161480,
          1142410,
          644416,
          941063,
          578559,
          464952,
          209024,
          69104,
          88409,
          222435,
          58035,
          73391,
          302612,
          304001,
          4691,
          142270,
          194918,
          281588,
          320693,
          22413,
          200844,
          125473,
          102039,
          27737,
          310201,
          79880,
          165875,
          134945,
          29143,
          206429,
          77686,
          40840,
          129946,
          50352,
          31903,
          114922,
          59495,
          87503,
          54940,
          63333,
          59485,
          21522,
          113280,
          65029,
          71957,
          56606,
          42850,
          22983,
          70578,
          14220,
          47158,
          72850,
          29730,
          24012,
          74066,
          110142,
          102825,
          30320,
          58377,
          17744,
          44805,
          47571,
          28757,
          32040,
          7283,
          21907,
          26475,
          9730,
          31056,
          6877,
          23891,
          19025,
          3054,
          19810,
          6055,
          8006,
          5653,
          6634,
          11356,
          11162,
          13973,
          15984,
          7108,
          16774,
          8947,
          22165,
          15480,
          16410,
          3396,
          15001,
          14345,
          9298,
          4749,
          3748,
          2108,
          11802,
          8179,
          4013,
          1968,
          18813,
          1744,
          5653,
          6961,
          6063,
          4199,
          11820,
          10036,
          12098,
          5376,
          4145,
          2409,
          4374,
          6083,
          5998,
          3735,
          10248,
          7201,
          64304,
          4519,
          9850,
          1624,
          895,
          11676,
          4197,
          5783,
          2715,
          10087,
          12212,
          8596,
          2318,
          2198,
          2680,
          1613,
          1833,
          1423,
          260,
          3733,
          1988,
          5527,
          4310,
          0,
          920,
          2450,
          188,
          3146,
          0,
          476,
          0,
          0,
          0,
          417,
          213,
          475,
          1631,
          1321,
          0,
          192,
          198,
          207,
          0,
          568,
          0,
          396,
          48,
          132,
          0,
          183,
          0,
          0,
          0,
          0,
          0,
          0,
          0,
          0,
          0,
          177,
          0,
          0,
          0
         ]
        }
       ],
       "layout": {
        "barmode": "group",
        "template": {
         "data": {
          "bar": [
           {
            "error_x": {
             "color": "#2a3f5f"
            },
            "error_y": {
             "color": "#2a3f5f"
            },
            "marker": {
             "line": {
              "color": "#E5ECF6",
              "width": 0.5
             },
             "pattern": {
              "fillmode": "overlay",
              "size": 10,
              "solidity": 0.2
             }
            },
            "type": "bar"
           }
          ],
          "barpolar": [
           {
            "marker": {
             "line": {
              "color": "#E5ECF6",
              "width": 0.5
             },
             "pattern": {
              "fillmode": "overlay",
              "size": 10,
              "solidity": 0.2
             }
            },
            "type": "barpolar"
           }
          ],
          "carpet": [
           {
            "aaxis": {
             "endlinecolor": "#2a3f5f",
             "gridcolor": "white",
             "linecolor": "white",
             "minorgridcolor": "white",
             "startlinecolor": "#2a3f5f"
            },
            "baxis": {
             "endlinecolor": "#2a3f5f",
             "gridcolor": "white",
             "linecolor": "white",
             "minorgridcolor": "white",
             "startlinecolor": "#2a3f5f"
            },
            "type": "carpet"
           }
          ],
          "choropleth": [
           {
            "colorbar": {
             "outlinewidth": 0,
             "ticks": ""
            },
            "type": "choropleth"
           }
          ],
          "contour": [
           {
            "colorbar": {
             "outlinewidth": 0,
             "ticks": ""
            },
            "colorscale": [
             [
              0,
              "#0d0887"
             ],
             [
              0.1111111111111111,
              "#46039f"
             ],
             [
              0.2222222222222222,
              "#7201a8"
             ],
             [
              0.3333333333333333,
              "#9c179e"
             ],
             [
              0.4444444444444444,
              "#bd3786"
             ],
             [
              0.5555555555555556,
              "#d8576b"
             ],
             [
              0.6666666666666666,
              "#ed7953"
             ],
             [
              0.7777777777777778,
              "#fb9f3a"
             ],
             [
              0.8888888888888888,
              "#fdca26"
             ],
             [
              1,
              "#f0f921"
             ]
            ],
            "type": "contour"
           }
          ],
          "contourcarpet": [
           {
            "colorbar": {
             "outlinewidth": 0,
             "ticks": ""
            },
            "type": "contourcarpet"
           }
          ],
          "heatmap": [
           {
            "colorbar": {
             "outlinewidth": 0,
             "ticks": ""
            },
            "colorscale": [
             [
              0,
              "#0d0887"
             ],
             [
              0.1111111111111111,
              "#46039f"
             ],
             [
              0.2222222222222222,
              "#7201a8"
             ],
             [
              0.3333333333333333,
              "#9c179e"
             ],
             [
              0.4444444444444444,
              "#bd3786"
             ],
             [
              0.5555555555555556,
              "#d8576b"
             ],
             [
              0.6666666666666666,
              "#ed7953"
             ],
             [
              0.7777777777777778,
              "#fb9f3a"
             ],
             [
              0.8888888888888888,
              "#fdca26"
             ],
             [
              1,
              "#f0f921"
             ]
            ],
            "type": "heatmap"
           }
          ],
          "heatmapgl": [
           {
            "colorbar": {
             "outlinewidth": 0,
             "ticks": ""
            },
            "colorscale": [
             [
              0,
              "#0d0887"
             ],
             [
              0.1111111111111111,
              "#46039f"
             ],
             [
              0.2222222222222222,
              "#7201a8"
             ],
             [
              0.3333333333333333,
              "#9c179e"
             ],
             [
              0.4444444444444444,
              "#bd3786"
             ],
             [
              0.5555555555555556,
              "#d8576b"
             ],
             [
              0.6666666666666666,
              "#ed7953"
             ],
             [
              0.7777777777777778,
              "#fb9f3a"
             ],
             [
              0.8888888888888888,
              "#fdca26"
             ],
             [
              1,
              "#f0f921"
             ]
            ],
            "type": "heatmapgl"
           }
          ],
          "histogram": [
           {
            "marker": {
             "pattern": {
              "fillmode": "overlay",
              "size": 10,
              "solidity": 0.2
             }
            },
            "type": "histogram"
           }
          ],
          "histogram2d": [
           {
            "colorbar": {
             "outlinewidth": 0,
             "ticks": ""
            },
            "colorscale": [
             [
              0,
              "#0d0887"
             ],
             [
              0.1111111111111111,
              "#46039f"
             ],
             [
              0.2222222222222222,
              "#7201a8"
             ],
             [
              0.3333333333333333,
              "#9c179e"
             ],
             [
              0.4444444444444444,
              "#bd3786"
             ],
             [
              0.5555555555555556,
              "#d8576b"
             ],
             [
              0.6666666666666666,
              "#ed7953"
             ],
             [
              0.7777777777777778,
              "#fb9f3a"
             ],
             [
              0.8888888888888888,
              "#fdca26"
             ],
             [
              1,
              "#f0f921"
             ]
            ],
            "type": "histogram2d"
           }
          ],
          "histogram2dcontour": [
           {
            "colorbar": {
             "outlinewidth": 0,
             "ticks": ""
            },
            "colorscale": [
             [
              0,
              "#0d0887"
             ],
             [
              0.1111111111111111,
              "#46039f"
             ],
             [
              0.2222222222222222,
              "#7201a8"
             ],
             [
              0.3333333333333333,
              "#9c179e"
             ],
             [
              0.4444444444444444,
              "#bd3786"
             ],
             [
              0.5555555555555556,
              "#d8576b"
             ],
             [
              0.6666666666666666,
              "#ed7953"
             ],
             [
              0.7777777777777778,
              "#fb9f3a"
             ],
             [
              0.8888888888888888,
              "#fdca26"
             ],
             [
              1,
              "#f0f921"
             ]
            ],
            "type": "histogram2dcontour"
           }
          ],
          "mesh3d": [
           {
            "colorbar": {
             "outlinewidth": 0,
             "ticks": ""
            },
            "type": "mesh3d"
           }
          ],
          "parcoords": [
           {
            "line": {
             "colorbar": {
              "outlinewidth": 0,
              "ticks": ""
             }
            },
            "type": "parcoords"
           }
          ],
          "pie": [
           {
            "automargin": true,
            "type": "pie"
           }
          ],
          "scatter": [
           {
            "marker": {
             "colorbar": {
              "outlinewidth": 0,
              "ticks": ""
             }
            },
            "type": "scatter"
           }
          ],
          "scatter3d": [
           {
            "line": {
             "colorbar": {
              "outlinewidth": 0,
              "ticks": ""
             }
            },
            "marker": {
             "colorbar": {
              "outlinewidth": 0,
              "ticks": ""
             }
            },
            "type": "scatter3d"
           }
          ],
          "scattercarpet": [
           {
            "marker": {
             "colorbar": {
              "outlinewidth": 0,
              "ticks": ""
             }
            },
            "type": "scattercarpet"
           }
          ],
          "scattergeo": [
           {
            "marker": {
             "colorbar": {
              "outlinewidth": 0,
              "ticks": ""
             }
            },
            "type": "scattergeo"
           }
          ],
          "scattergl": [
           {
            "marker": {
             "colorbar": {
              "outlinewidth": 0,
              "ticks": ""
             }
            },
            "type": "scattergl"
           }
          ],
          "scattermapbox": [
           {
            "marker": {
             "colorbar": {
              "outlinewidth": 0,
              "ticks": ""
             }
            },
            "type": "scattermapbox"
           }
          ],
          "scatterpolar": [
           {
            "marker": {
             "colorbar": {
              "outlinewidth": 0,
              "ticks": ""
             }
            },
            "type": "scatterpolar"
           }
          ],
          "scatterpolargl": [
           {
            "marker": {
             "colorbar": {
              "outlinewidth": 0,
              "ticks": ""
             }
            },
            "type": "scatterpolargl"
           }
          ],
          "scatterternary": [
           {
            "marker": {
             "colorbar": {
              "outlinewidth": 0,
              "ticks": ""
             }
            },
            "type": "scatterternary"
           }
          ],
          "surface": [
           {
            "colorbar": {
             "outlinewidth": 0,
             "ticks": ""
            },
            "colorscale": [
             [
              0,
              "#0d0887"
             ],
             [
              0.1111111111111111,
              "#46039f"
             ],
             [
              0.2222222222222222,
              "#7201a8"
             ],
             [
              0.3333333333333333,
              "#9c179e"
             ],
             [
              0.4444444444444444,
              "#bd3786"
             ],
             [
              0.5555555555555556,
              "#d8576b"
             ],
             [
              0.6666666666666666,
              "#ed7953"
             ],
             [
              0.7777777777777778,
              "#fb9f3a"
             ],
             [
              0.8888888888888888,
              "#fdca26"
             ],
             [
              1,
              "#f0f921"
             ]
            ],
            "type": "surface"
           }
          ],
          "table": [
           {
            "cells": {
             "fill": {
              "color": "#EBF0F8"
             },
             "line": {
              "color": "white"
             }
            },
            "header": {
             "fill": {
              "color": "#C8D4E3"
             },
             "line": {
              "color": "white"
             }
            },
            "type": "table"
           }
          ]
         },
         "layout": {
          "annotationdefaults": {
           "arrowcolor": "#2a3f5f",
           "arrowhead": 0,
           "arrowwidth": 1
          },
          "autotypenumbers": "strict",
          "coloraxis": {
           "colorbar": {
            "outlinewidth": 0,
            "ticks": ""
           }
          },
          "colorscale": {
           "diverging": [
            [
             0,
             "#8e0152"
            ],
            [
             0.1,
             "#c51b7d"
            ],
            [
             0.2,
             "#de77ae"
            ],
            [
             0.3,
             "#f1b6da"
            ],
            [
             0.4,
             "#fde0ef"
            ],
            [
             0.5,
             "#f7f7f7"
            ],
            [
             0.6,
             "#e6f5d0"
            ],
            [
             0.7,
             "#b8e186"
            ],
            [
             0.8,
             "#7fbc41"
            ],
            [
             0.9,
             "#4d9221"
            ],
            [
             1,
             "#276419"
            ]
           ],
           "sequential": [
            [
             0,
             "#0d0887"
            ],
            [
             0.1111111111111111,
             "#46039f"
            ],
            [
             0.2222222222222222,
             "#7201a8"
            ],
            [
             0.3333333333333333,
             "#9c179e"
            ],
            [
             0.4444444444444444,
             "#bd3786"
            ],
            [
             0.5555555555555556,
             "#d8576b"
            ],
            [
             0.6666666666666666,
             "#ed7953"
            ],
            [
             0.7777777777777778,
             "#fb9f3a"
            ],
            [
             0.8888888888888888,
             "#fdca26"
            ],
            [
             1,
             "#f0f921"
            ]
           ],
           "sequentialminus": [
            [
             0,
             "#0d0887"
            ],
            [
             0.1111111111111111,
             "#46039f"
            ],
            [
             0.2222222222222222,
             "#7201a8"
            ],
            [
             0.3333333333333333,
             "#9c179e"
            ],
            [
             0.4444444444444444,
             "#bd3786"
            ],
            [
             0.5555555555555556,
             "#d8576b"
            ],
            [
             0.6666666666666666,
             "#ed7953"
            ],
            [
             0.7777777777777778,
             "#fb9f3a"
            ],
            [
             0.8888888888888888,
             "#fdca26"
            ],
            [
             1,
             "#f0f921"
            ]
           ]
          },
          "colorway": [
           "#636efa",
           "#EF553B",
           "#00cc96",
           "#ab63fa",
           "#FFA15A",
           "#19d3f3",
           "#FF6692",
           "#B6E880",
           "#FF97FF",
           "#FECB52"
          ],
          "font": {
           "color": "#2a3f5f"
          },
          "geo": {
           "bgcolor": "white",
           "lakecolor": "white",
           "landcolor": "#E5ECF6",
           "showlakes": true,
           "showland": true,
           "subunitcolor": "white"
          },
          "hoverlabel": {
           "align": "left"
          },
          "hovermode": "closest",
          "mapbox": {
           "style": "light"
          },
          "paper_bgcolor": "white",
          "plot_bgcolor": "#E5ECF6",
          "polar": {
           "angularaxis": {
            "gridcolor": "white",
            "linecolor": "white",
            "ticks": ""
           },
           "bgcolor": "#E5ECF6",
           "radialaxis": {
            "gridcolor": "white",
            "linecolor": "white",
            "ticks": ""
           }
          },
          "scene": {
           "xaxis": {
            "backgroundcolor": "#E5ECF6",
            "gridcolor": "white",
            "gridwidth": 2,
            "linecolor": "white",
            "showbackground": true,
            "ticks": "",
            "zerolinecolor": "white"
           },
           "yaxis": {
            "backgroundcolor": "#E5ECF6",
            "gridcolor": "white",
            "gridwidth": 2,
            "linecolor": "white",
            "showbackground": true,
            "ticks": "",
            "zerolinecolor": "white"
           },
           "zaxis": {
            "backgroundcolor": "#E5ECF6",
            "gridcolor": "white",
            "gridwidth": 2,
            "linecolor": "white",
            "showbackground": true,
            "ticks": "",
            "zerolinecolor": "white"
           }
          },
          "shapedefaults": {
           "line": {
            "color": "#2a3f5f"
           }
          },
          "ternary": {
           "aaxis": {
            "gridcolor": "white",
            "linecolor": "white",
            "ticks": ""
           },
           "baxis": {
            "gridcolor": "white",
            "linecolor": "white",
            "ticks": ""
           },
           "bgcolor": "#E5ECF6",
           "caxis": {
            "gridcolor": "white",
            "linecolor": "white",
            "ticks": ""
           }
          },
          "title": {
           "x": 0.05
          },
          "xaxis": {
           "automargin": true,
           "gridcolor": "white",
           "linecolor": "white",
           "ticks": "",
           "title": {
            "standoff": 15
           },
           "zerolinecolor": "white",
           "zerolinewidth": 2
          },
          "yaxis": {
           "automargin": true,
           "gridcolor": "white",
           "linecolor": "white",
           "ticks": "",
           "title": {
            "standoff": 15
           },
           "zerolinecolor": "white",
           "zerolinewidth": 2
          }
         }
        },
        "width": 900,
        "xaxis": {
         "tickangle": -45
        }
       }
      },
      "text/html": [
       "<div>                            <div id=\"83702fc0-74f7-4d7f-be21-120e2750e26b\" class=\"plotly-graph-div\" style=\"height:525px; width:900px;\"></div>            <script type=\"text/javascript\">                require([\"plotly\"], function(Plotly) {                    window.PLOTLYENV=window.PLOTLYENV || {};                                    if (document.getElementById(\"83702fc0-74f7-4d7f-be21-120e2750e26b\")) {                    Plotly.newPlot(                        \"83702fc0-74f7-4d7f-be21-120e2750e26b\",                        [{\"marker\":{\"color\":\"Green\"},\"name\":\"Total Cases\",\"x\":[\"United States\",\"Brazil\",\"India\",\"Russia\",\"Peru\",\"Mexico\",\"Spain\",\"South Africa\",\"Colombia\",\"United Kingdom\",\"Iran\",\"Chile\",\"Italy\",\"France\",\"Argentina\",\"Germany\",\"Turkey\",\"Saudi Arabia\",\"Pakistan\",\"Bangladesh\",\"Iraq\",\"Philippines\",\"China\",\"Indonesia\",\"Canada\",\"Qatar\",\"Israel\",\"Ukraine\",\"Belgium\",\"Ecuador\",\"Kazakhstan\",\"Netherlands\",\"Egypt\",\"Sweden\",\"Bolivia\",\"Romania\",\"Dominican Republic\",\"Kuwait\",\"Belarus\",\"Panama\",\"United Arab Emirates\",\"Oman\",\"Portugal\",\"Poland\",\"Singapore\",\"Morocco\",\"Japan\",\"Guatemala\",\"Switzerland\",\"Bahrain\",\"Honduras\",\"Nigeria\",\"Armenia\",\"Nepal\",\"Ireland\",\"Czech Republic\",\"Afghanistan\",\"Austria\",\"Ghana\",\"Algeria\",\"Ethiopia\",\"Venezuela\",\"Moldova\",\"Costa Rica\",\"Uzbekistan\",\"Kyrgyzstan\",\"Azerbaijan\",\"Serbia\",\"Puerto Rico\",\"South Korea\",\"Kenya\",\"Palestine\",\"Denmark\",\"Australia\",\"El Salvador\",\"Cameroon\",\"Paraguay\",\"Lebanon\",\"Bosnia and Herzegovina\",\"Cote d'Ivoire\",\"Norway\",\"Bulgaria\",\"Libya\",\"Malaysia\",\"Macedonia\",\"Hungary\",\"Sudan\",\"Senegal\",\"Finland\",\"Madagascar\",\"Greece\",\"Kosovo\",\"Croatia\",\"Democratic Republic of Congo\",\"Guinea\",\"Luxembourg\",\"Zambia\",\"Tajikistan\",\"Albania\",\"Gabon\",\"Haiti\",\"Tunisia\",\"Maldives\",\"Mauritania\",\"Slovakia\",\"Djibouti\",\"Jordan\",\"Namibia\",\"Montenegro\",\"Thailand\",\"Myanmar\",\"Zimbabwe\",\"Central African Republic\",\"Cuba\",\"Equatorial Guinea\",\"Slovenia\",\"Malawi\",\"Nicaragua\",\"Mozambique\",\"Somalia\",\"Lithuania\",\"Congo\",\"Cape Verde\",\"Uganda\",\"Sri Lanka\",\"Estonia\",\"Swaziland\",\"Georgia\",\"Iceland\",\"Mali\",\"Rwanda\",\"Jamaica\",\"Suriname\",\"South Sudan\",\"Guinea-Bissau\",\"Angola\",\"Sierra Leone\",\"Syria\",\"Latvia\",\"New Zealand\",\"Malta\",\"Benin\",\"Uruguay\",\"Bahamas\",\"Cyprus\",\"Burkina Faso\",\"Gambia\",\"Yemen\",\"Trinidad and Tobago\",\"Andorra\",\"Aruba\",\"Botswana\",\"Niger\",\"Togo\",\"Guyana\",\"Guam\",\"Liberia\",\"Chad\",\"San Marino\",\"Vietnam\",\"Sao Tome and Principe\",\"Lesotho\",\"Belize\",\"United States Virgin Islands\",\"Taiwan\",\"French Polynesia\",\"Tanzania\",\"Mauritius\",\"Jersey\",\"Isle of Man\",\"Faeroe Islands\",\"Comoros\",\"Guernsey\",\"Burundi\",\"Sint Maarten (Dutch part)\",\"Gibraltar\",\"Turks and Caicos Islands\",\"Mongolia\",\"Eritrea\",\"Cambodia\",\"Papua New Guinea\",\"Cayman Islands\",\"Brunei\",\"Bermuda\",\"Barbados\",\"Bhutan\",\"Monaco\",\"Liechtenstein\",\"Curacao\",\"Seychelles\",\"Antigua and Barbuda\",\"Saint Vincent and the Grenadines\",\"Northern Mariana Islands\",\"Bonaire Sint Eustatius and Saba\",\"Fiji\",\"Timor\",\"British Virgin Islands\",\"New Caledonia\",\"Grenada\",\"Saint Lucia\",\"Laos\",\"Dominica\",\"Saint Kitts and Nevis\",\"Greenland\",\"Falkland Islands\",\"Vatican\",\"Montserrat\",\"Anguilla\",\"Solomon Islands\",\"Hong Kong\"],\"y\":[746014098.0,425704517.0,407771615.0,132888951.0,74882695.0,74347548.0,73717676.0,63027659.0,60543682.0,59475032.0,52421884.0,51268034.0,50752853.0,50084335.0,47155234.0,42447678.0,41431948.0,38585191.0,37738077.0,35266178.0,25280332.0,22409936.0,21632319.0,21570149.0,20902374.0,16351440.0,16202474.0,15805665.0,15192468.0,14408757.0,13194863.0,13026629.0,12422845.0,11910109.0,11858838.0,10672859.0,10649646.0,10622205.0,10595186.0,10371724.0,10247326.0,10060093.0,9266263.0,9239657.0,8191161.0,7839270.0,7659484.0,7644426.0,7552067.0,6549995.0,6545499.0,6107371.0,5474629.0,5243653.0,5239798.0,5213980.0,5126433.0,4909197.0,4900649.0,4893999.0,4876417.0,4839834.0,4632482.0,4631835.0,4421215.0,4287847.0,4236782.0,3984174.0,3586463.0,3333075.0,3277734.0,3249458.0,3030088.0,3012377.0,2573206.0,2476502.0,2265640.0,2220699.0,2200057.0,2132883.0,1985889.0,1890380.0,1817274.0,1774181.0,1724220.0,1708798.0,1663545.0,1586747.0,1458484.0,1443321.0,1421470.0,1345940.0,1314031.0,1271391.0,1195836.0,1146724.0,1129913.0,1117391.0,1071951.0,1031803.0,1023155.0,1000626.0,844040.0,799222.0,798665.0,781771.0,716514.0,681299.0,675912.0,655703.0,644209.0,593699.0,593048.0,581546.0,557355.0,547075.0,536447.0,524410.0,510578.0,491145.0,488057.0,473368.0,463888.0,448728.0,446643.0,445402.0,444238.0,431689.0,421210.0,390637.0,388775.0,370890.0,358632.0,333500.0,306564.0,304005.0,268396.0,267902.0,255964.0,253203.0,251261.0,245893.0,239884.0,237908.0,236673.0,231452.0,229521.0,228925.0,225550.0,223576.0,215110.0,205758.0,199978.0,169903.0,166917.0,160975.0,159880.0,154173.0,134994.0,122618.0,121909.0,107948.0,106383.0,98536.0,97074.0,95388.0,91526.0,69524.0,66777.0,64935.0,56893.0,52437.0,49814.0,49745.0,48026.0,45340.0,44432.0,42465.0,40026.0,39539.0,35966.0,33173.0,30140.0,28876.0,24998.0,22847.0,21511.0,19885.0,19777.0,14701.0,12619.0,7824.0,7784.0,5080.0,4742.0,4697.0,4605.0,4495.0,4470.0,4450.0,4039.0,3977.0,3246.0,2678.0,2467.0,2415.0,2383.0,614.0,11.0,0.0],\"type\":\"bar\"},{\"marker\":{\"color\":\"Yellow\"},\"name\":\"Total Deaths\",\"x\":[\"United States\",\"Brazil\",\"India\",\"Russia\",\"Peru\",\"Mexico\",\"Spain\",\"South Africa\",\"Colombia\",\"United Kingdom\",\"Iran\",\"Chile\",\"Italy\",\"France\",\"Argentina\",\"Germany\",\"Turkey\",\"Saudi Arabia\",\"Pakistan\",\"Bangladesh\",\"Iraq\",\"Philippines\",\"China\",\"Indonesia\",\"Canada\",\"Qatar\",\"Israel\",\"Ukraine\",\"Belgium\",\"Ecuador\",\"Kazakhstan\",\"Netherlands\",\"Egypt\",\"Sweden\",\"Bolivia\",\"Romania\",\"Dominican Republic\",\"Kuwait\",\"Belarus\",\"Panama\",\"United Arab Emirates\",\"Oman\",\"Portugal\",\"Poland\",\"Singapore\",\"Morocco\",\"Japan\",\"Guatemala\",\"Switzerland\",\"Bahrain\",\"Honduras\",\"Nigeria\",\"Armenia\",\"Nepal\",\"Ireland\",\"Czech Republic\",\"Afghanistan\",\"Austria\",\"Ghana\",\"Algeria\",\"Ethiopia\",\"Venezuela\",\"Moldova\",\"Costa Rica\",\"Uzbekistan\",\"Kyrgyzstan\",\"Azerbaijan\",\"Serbia\",\"Puerto Rico\",\"South Korea\",\"Kenya\",\"Palestine\",\"Denmark\",\"Australia\",\"El Salvador\",\"Cameroon\",\"Paraguay\",\"Lebanon\",\"Bosnia and Herzegovina\",\"Cote d'Ivoire\",\"Norway\",\"Bulgaria\",\"Libya\",\"Malaysia\",\"Macedonia\",\"Hungary\",\"Sudan\",\"Senegal\",\"Finland\",\"Madagascar\",\"Greece\",\"Kosovo\",\"Croatia\",\"Democratic Republic of Congo\",\"Guinea\",\"Luxembourg\",\"Zambia\",\"Tajikistan\",\"Albania\",\"Gabon\",\"Haiti\",\"Tunisia\",\"Maldives\",\"Mauritania\",\"Slovakia\",\"Djibouti\",\"Jordan\",\"Namibia\",\"Montenegro\",\"Thailand\",\"Myanmar\",\"Zimbabwe\",\"Central African Republic\",\"Cuba\",\"Equatorial Guinea\",\"Slovenia\",\"Malawi\",\"Nicaragua\",\"Mozambique\",\"Somalia\",\"Lithuania\",\"Congo\",\"Cape Verde\",\"Uganda\",\"Sri Lanka\",\"Estonia\",\"Swaziland\",\"Georgia\",\"Iceland\",\"Mali\",\"Rwanda\",\"Jamaica\",\"Suriname\",\"South Sudan\",\"Guinea-Bissau\",\"Angola\",\"Sierra Leone\",\"Syria\",\"Latvia\",\"New Zealand\",\"Malta\",\"Benin\",\"Uruguay\",\"Bahamas\",\"Cyprus\",\"Burkina Faso\",\"Gambia\",\"Yemen\",\"Trinidad and Tobago\",\"Andorra\",\"Aruba\",\"Botswana\",\"Niger\",\"Togo\",\"Guyana\",\"Guam\",\"Liberia\",\"Chad\",\"San Marino\",\"Vietnam\",\"Sao Tome and Principe\",\"Lesotho\",\"Belize\",\"United States Virgin Islands\",\"Taiwan\",\"French Polynesia\",\"Tanzania\",\"Mauritius\",\"Jersey\",\"Isle of Man\",\"Faeroe Islands\",\"Comoros\",\"Guernsey\",\"Burundi\",\"Sint Maarten (Dutch part)\",\"Gibraltar\",\"Turks and Caicos Islands\",\"Mongolia\",\"Eritrea\",\"Cambodia\",\"Papua New Guinea\",\"Cayman Islands\",\"Brunei\",\"Bermuda\",\"Barbados\",\"Bhutan\",\"Monaco\",\"Liechtenstein\",\"Curacao\",\"Seychelles\",\"Antigua and Barbuda\",\"Saint Vincent and the Grenadines\",\"Northern Mariana Islands\",\"Bonaire Sint Eustatius and Saba\",\"Fiji\",\"Timor\",\"British Virgin Islands\",\"New Caledonia\",\"Grenada\",\"Saint Lucia\",\"Laos\",\"Dominica\",\"Saint Kitts and Nevis\",\"Greenland\",\"Falkland Islands\",\"Vatican\",\"Montserrat\",\"Anguilla\",\"Solomon Islands\",\"Hong Kong\"],\"y\":[26477574.0,14340567.0,7247327.0,2131571.0,3020038.0,7295850.0,5510624.0,1357682.0,1936134.0,7249573.0,2914070.0,1283880.0,6664225.0,5633444.0,1077426.0,1640691.0,1049757.0,442507.0,789557.0,484534.0,744253.0,448665.0,1066939.0,916111.0,1455549.0,23820.0,126278.0,343334.0,1798461.0,1083749.0,161480.0,1142410.0,644416.0,941063.0,578559.0,464952.0,209024.0,69104.0,88409.0,222435.0,58035.0,73391.0,302612.0,304001.0,4691.0,142270.0,194918.0,281588.0,320693.0,22413.0,200844.0,125473.0,102039.0,27737.0,310201.0,79880.0,165875.0,134945.0,29143.0,206429.0,77686.0,40840.0,129946.0,50352.0,31903.0,114922.0,59495.0,87503.0,54940.0,63333.0,59485.0,21522.0,113280.0,65029.0,71957.0,56606.0,42850.0,22983.0,70578.0,14220.0,47158.0,72850.0,29730.0,24012.0,74066.0,110142.0,102825.0,30320.0,58377.0,17744.0,44805.0,47571.0,28757.0,32040.0,7283.0,21907.0,26475.0,9730.0,31056.0,6877.0,23891.0,19025.0,3054.0,19810.0,6055.0,8006.0,5653.0,6634.0,11356.0,11162.0,13973.0,15984.0,7108.0,16774.0,8947.0,22165.0,15480.0,16410.0,3396.0,15001.0,14345.0,9298.0,4749.0,3748.0,2108.0,11802.0,8179.0,4013.0,1968.0,18813.0,1744.0,5653.0,6961.0,6063.0,4199.0,11820.0,10036.0,12098.0,5376.0,4145.0,2409.0,4374.0,6083.0,5998.0,3735.0,10248.0,7201.0,64304.0,4519.0,9850.0,1624.0,895.0,11676.0,4197.0,5783.0,2715.0,10087.0,12212.0,8596.0,2318.0,2198.0,2680.0,1613.0,1833.0,1423.0,260.0,3733.0,1988.0,5527.0,4310.0,0.0,920.0,2450.0,188.0,3146.0,0.0,476.0,0.0,0.0,0.0,417.0,213.0,475.0,1631.0,1321.0,0.0,192.0,198.0,207.0,0.0,568.0,0.0,396.0,48.0,132.0,0.0,183.0,0.0,0.0,0.0,0.0,0.0,0.0,0.0,0.0,0.0,177.0,0.0,0.0,0.0],\"type\":\"bar\"}],                        {\"template\":{\"data\":{\"bar\":[{\"error_x\":{\"color\":\"#2a3f5f\"},\"error_y\":{\"color\":\"#2a3f5f\"},\"marker\":{\"line\":{\"color\":\"#E5ECF6\",\"width\":0.5},\"pattern\":{\"fillmode\":\"overlay\",\"size\":10,\"solidity\":0.2}},\"type\":\"bar\"}],\"barpolar\":[{\"marker\":{\"line\":{\"color\":\"#E5ECF6\",\"width\":0.5},\"pattern\":{\"fillmode\":\"overlay\",\"size\":10,\"solidity\":0.2}},\"type\":\"barpolar\"}],\"carpet\":[{\"aaxis\":{\"endlinecolor\":\"#2a3f5f\",\"gridcolor\":\"white\",\"linecolor\":\"white\",\"minorgridcolor\":\"white\",\"startlinecolor\":\"#2a3f5f\"},\"baxis\":{\"endlinecolor\":\"#2a3f5f\",\"gridcolor\":\"white\",\"linecolor\":\"white\",\"minorgridcolor\":\"white\",\"startlinecolor\":\"#2a3f5f\"},\"type\":\"carpet\"}],\"choropleth\":[{\"colorbar\":{\"outlinewidth\":0,\"ticks\":\"\"},\"type\":\"choropleth\"}],\"contour\":[{\"colorbar\":{\"outlinewidth\":0,\"ticks\":\"\"},\"colorscale\":[[0.0,\"#0d0887\"],[0.1111111111111111,\"#46039f\"],[0.2222222222222222,\"#7201a8\"],[0.3333333333333333,\"#9c179e\"],[0.4444444444444444,\"#bd3786\"],[0.5555555555555556,\"#d8576b\"],[0.6666666666666666,\"#ed7953\"],[0.7777777777777778,\"#fb9f3a\"],[0.8888888888888888,\"#fdca26\"],[1.0,\"#f0f921\"]],\"type\":\"contour\"}],\"contourcarpet\":[{\"colorbar\":{\"outlinewidth\":0,\"ticks\":\"\"},\"type\":\"contourcarpet\"}],\"heatmap\":[{\"colorbar\":{\"outlinewidth\":0,\"ticks\":\"\"},\"colorscale\":[[0.0,\"#0d0887\"],[0.1111111111111111,\"#46039f\"],[0.2222222222222222,\"#7201a8\"],[0.3333333333333333,\"#9c179e\"],[0.4444444444444444,\"#bd3786\"],[0.5555555555555556,\"#d8576b\"],[0.6666666666666666,\"#ed7953\"],[0.7777777777777778,\"#fb9f3a\"],[0.8888888888888888,\"#fdca26\"],[1.0,\"#f0f921\"]],\"type\":\"heatmap\"}],\"heatmapgl\":[{\"colorbar\":{\"outlinewidth\":0,\"ticks\":\"\"},\"colorscale\":[[0.0,\"#0d0887\"],[0.1111111111111111,\"#46039f\"],[0.2222222222222222,\"#7201a8\"],[0.3333333333333333,\"#9c179e\"],[0.4444444444444444,\"#bd3786\"],[0.5555555555555556,\"#d8576b\"],[0.6666666666666666,\"#ed7953\"],[0.7777777777777778,\"#fb9f3a\"],[0.8888888888888888,\"#fdca26\"],[1.0,\"#f0f921\"]],\"type\":\"heatmapgl\"}],\"histogram\":[{\"marker\":{\"pattern\":{\"fillmode\":\"overlay\",\"size\":10,\"solidity\":0.2}},\"type\":\"histogram\"}],\"histogram2d\":[{\"colorbar\":{\"outlinewidth\":0,\"ticks\":\"\"},\"colorscale\":[[0.0,\"#0d0887\"],[0.1111111111111111,\"#46039f\"],[0.2222222222222222,\"#7201a8\"],[0.3333333333333333,\"#9c179e\"],[0.4444444444444444,\"#bd3786\"],[0.5555555555555556,\"#d8576b\"],[0.6666666666666666,\"#ed7953\"],[0.7777777777777778,\"#fb9f3a\"],[0.8888888888888888,\"#fdca26\"],[1.0,\"#f0f921\"]],\"type\":\"histogram2d\"}],\"histogram2dcontour\":[{\"colorbar\":{\"outlinewidth\":0,\"ticks\":\"\"},\"colorscale\":[[0.0,\"#0d0887\"],[0.1111111111111111,\"#46039f\"],[0.2222222222222222,\"#7201a8\"],[0.3333333333333333,\"#9c179e\"],[0.4444444444444444,\"#bd3786\"],[0.5555555555555556,\"#d8576b\"],[0.6666666666666666,\"#ed7953\"],[0.7777777777777778,\"#fb9f3a\"],[0.8888888888888888,\"#fdca26\"],[1.0,\"#f0f921\"]],\"type\":\"histogram2dcontour\"}],\"mesh3d\":[{\"colorbar\":{\"outlinewidth\":0,\"ticks\":\"\"},\"type\":\"mesh3d\"}],\"parcoords\":[{\"line\":{\"colorbar\":{\"outlinewidth\":0,\"ticks\":\"\"}},\"type\":\"parcoords\"}],\"pie\":[{\"automargin\":true,\"type\":\"pie\"}],\"scatter\":[{\"marker\":{\"colorbar\":{\"outlinewidth\":0,\"ticks\":\"\"}},\"type\":\"scatter\"}],\"scatter3d\":[{\"line\":{\"colorbar\":{\"outlinewidth\":0,\"ticks\":\"\"}},\"marker\":{\"colorbar\":{\"outlinewidth\":0,\"ticks\":\"\"}},\"type\":\"scatter3d\"}],\"scattercarpet\":[{\"marker\":{\"colorbar\":{\"outlinewidth\":0,\"ticks\":\"\"}},\"type\":\"scattercarpet\"}],\"scattergeo\":[{\"marker\":{\"colorbar\":{\"outlinewidth\":0,\"ticks\":\"\"}},\"type\":\"scattergeo\"}],\"scattergl\":[{\"marker\":{\"colorbar\":{\"outlinewidth\":0,\"ticks\":\"\"}},\"type\":\"scattergl\"}],\"scattermapbox\":[{\"marker\":{\"colorbar\":{\"outlinewidth\":0,\"ticks\":\"\"}},\"type\":\"scattermapbox\"}],\"scatterpolar\":[{\"marker\":{\"colorbar\":{\"outlinewidth\":0,\"ticks\":\"\"}},\"type\":\"scatterpolar\"}],\"scatterpolargl\":[{\"marker\":{\"colorbar\":{\"outlinewidth\":0,\"ticks\":\"\"}},\"type\":\"scatterpolargl\"}],\"scatterternary\":[{\"marker\":{\"colorbar\":{\"outlinewidth\":0,\"ticks\":\"\"}},\"type\":\"scatterternary\"}],\"surface\":[{\"colorbar\":{\"outlinewidth\":0,\"ticks\":\"\"},\"colorscale\":[[0.0,\"#0d0887\"],[0.1111111111111111,\"#46039f\"],[0.2222222222222222,\"#7201a8\"],[0.3333333333333333,\"#9c179e\"],[0.4444444444444444,\"#bd3786\"],[0.5555555555555556,\"#d8576b\"],[0.6666666666666666,\"#ed7953\"],[0.7777777777777778,\"#fb9f3a\"],[0.8888888888888888,\"#fdca26\"],[1.0,\"#f0f921\"]],\"type\":\"surface\"}],\"table\":[{\"cells\":{\"fill\":{\"color\":\"#EBF0F8\"},\"line\":{\"color\":\"white\"}},\"header\":{\"fill\":{\"color\":\"#C8D4E3\"},\"line\":{\"color\":\"white\"}},\"type\":\"table\"}]},\"layout\":{\"annotationdefaults\":{\"arrowcolor\":\"#2a3f5f\",\"arrowhead\":0,\"arrowwidth\":1},\"autotypenumbers\":\"strict\",\"coloraxis\":{\"colorbar\":{\"outlinewidth\":0,\"ticks\":\"\"}},\"colorscale\":{\"diverging\":[[0,\"#8e0152\"],[0.1,\"#c51b7d\"],[0.2,\"#de77ae\"],[0.3,\"#f1b6da\"],[0.4,\"#fde0ef\"],[0.5,\"#f7f7f7\"],[0.6,\"#e6f5d0\"],[0.7,\"#b8e186\"],[0.8,\"#7fbc41\"],[0.9,\"#4d9221\"],[1,\"#276419\"]],\"sequential\":[[0.0,\"#0d0887\"],[0.1111111111111111,\"#46039f\"],[0.2222222222222222,\"#7201a8\"],[0.3333333333333333,\"#9c179e\"],[0.4444444444444444,\"#bd3786\"],[0.5555555555555556,\"#d8576b\"],[0.6666666666666666,\"#ed7953\"],[0.7777777777777778,\"#fb9f3a\"],[0.8888888888888888,\"#fdca26\"],[1.0,\"#f0f921\"]],\"sequentialminus\":[[0.0,\"#0d0887\"],[0.1111111111111111,\"#46039f\"],[0.2222222222222222,\"#7201a8\"],[0.3333333333333333,\"#9c179e\"],[0.4444444444444444,\"#bd3786\"],[0.5555555555555556,\"#d8576b\"],[0.6666666666666666,\"#ed7953\"],[0.7777777777777778,\"#fb9f3a\"],[0.8888888888888888,\"#fdca26\"],[1.0,\"#f0f921\"]]},\"colorway\":[\"#636efa\",\"#EF553B\",\"#00cc96\",\"#ab63fa\",\"#FFA15A\",\"#19d3f3\",\"#FF6692\",\"#B6E880\",\"#FF97FF\",\"#FECB52\"],\"font\":{\"color\":\"#2a3f5f\"},\"geo\":{\"bgcolor\":\"white\",\"lakecolor\":\"white\",\"landcolor\":\"#E5ECF6\",\"showlakes\":true,\"showland\":true,\"subunitcolor\":\"white\"},\"hoverlabel\":{\"align\":\"left\"},\"hovermode\":\"closest\",\"mapbox\":{\"style\":\"light\"},\"paper_bgcolor\":\"white\",\"plot_bgcolor\":\"#E5ECF6\",\"polar\":{\"angularaxis\":{\"gridcolor\":\"white\",\"linecolor\":\"white\",\"ticks\":\"\"},\"bgcolor\":\"#E5ECF6\",\"radialaxis\":{\"gridcolor\":\"white\",\"linecolor\":\"white\",\"ticks\":\"\"}},\"scene\":{\"xaxis\":{\"backgroundcolor\":\"#E5ECF6\",\"gridcolor\":\"white\",\"gridwidth\":2,\"linecolor\":\"white\",\"showbackground\":true,\"ticks\":\"\",\"zerolinecolor\":\"white\"},\"yaxis\":{\"backgroundcolor\":\"#E5ECF6\",\"gridcolor\":\"white\",\"gridwidth\":2,\"linecolor\":\"white\",\"showbackground\":true,\"ticks\":\"\",\"zerolinecolor\":\"white\"},\"zaxis\":{\"backgroundcolor\":\"#E5ECF6\",\"gridcolor\":\"white\",\"gridwidth\":2,\"linecolor\":\"white\",\"showbackground\":true,\"ticks\":\"\",\"zerolinecolor\":\"white\"}},\"shapedefaults\":{\"line\":{\"color\":\"#2a3f5f\"}},\"ternary\":{\"aaxis\":{\"gridcolor\":\"white\",\"linecolor\":\"white\",\"ticks\":\"\"},\"baxis\":{\"gridcolor\":\"white\",\"linecolor\":\"white\",\"ticks\":\"\"},\"bgcolor\":\"#E5ECF6\",\"caxis\":{\"gridcolor\":\"white\",\"linecolor\":\"white\",\"ticks\":\"\"}},\"title\":{\"x\":0.05},\"xaxis\":{\"automargin\":true,\"gridcolor\":\"white\",\"linecolor\":\"white\",\"ticks\":\"\",\"title\":{\"standoff\":15},\"zerolinecolor\":\"white\",\"zerolinewidth\":2},\"yaxis\":{\"automargin\":true,\"gridcolor\":\"white\",\"linecolor\":\"white\",\"ticks\":\"\",\"title\":{\"standoff\":15},\"zerolinecolor\":\"white\",\"zerolinewidth\":2}}},\"xaxis\":{\"tickangle\":-45},\"barmode\":\"group\",\"width\":900},                        {\"responsive\": true}                    ).then(function(){\n",
       "                            \n",
       "var gd = document.getElementById('83702fc0-74f7-4d7f-be21-120e2750e26b');\n",
       "var x = new MutationObserver(function (mutations, observer) {{\n",
       "        var display = window.getComputedStyle(gd).display;\n",
       "        if (!display || display === 'none') {{\n",
       "            console.log([gd, 'removed!']);\n",
       "            Plotly.purge(gd);\n",
       "            observer.disconnect();\n",
       "        }}\n",
       "}});\n",
       "\n",
       "// Listen for the removal of the full notebook cells\n",
       "var notebookContainer = gd.closest('#notebook-container');\n",
       "if (notebookContainer) {{\n",
       "    x.observe(notebookContainer, {childList: true});\n",
       "}}\n",
       "\n",
       "// Listen for the clearing of the current output cell\n",
       "var outputEl = gd.closest('.output');\n",
       "if (outputEl) {{\n",
       "    x.observe(outputEl, {childList: true});\n",
       "}}\n",
       "\n",
       "                        })                };                });            </script>        </div>"
      ]
     },
     "metadata": {},
     "output_type": "display_data"
    }
   ],
   "source": [
    "# Comparing the total cases and total deaths in these countries.\n",
    "fg = go.Figure()\n",
    "fg.add_trace(go.Bar(x=transf[\"Country\"], y=transf[\"Total Cases\"], name='Total Cases', marker_color='Green'))\n",
    "fg.add_trace(go.Bar(x=transf[\"Country\"], y=transf[\"Total Deaths\"], name='Total Deaths', marker_color='Yellow'))\n",
    "fg.update_layout(barmode='group', xaxis_tickangle=-45, width=900)\n",
    "fg.show()\n"
   ]
  },
  {
   "cell_type": "code",
   "execution_count": 33,
   "id": "39b36799",
   "metadata": {},
   "outputs": [
    {
     "data": {
      "application/vnd.plotly.v1+json": {
       "config": {
        "plotlyServerURL": "https://plot.ly"
       },
       "data": [
        {
         "domain": {
          "x": [
           0,
           1
          ],
          "y": [
           0,
           1
          ]
         },
         "hovertemplate": "label=%{label}<br>value=%{value}<extra></extra>",
         "labels": [
          "Total Cases",
          "Total Deaths"
         ],
         "legendgroup": "",
         "name": "",
         "showlegend": true,
         "type": "pie",
         "values": [
          3133760956,
          116851104
         ]
        }
       ],
       "layout": {
        "legend": {
         "tracegroupgap": 0
        },
        "template": {
         "data": {
          "bar": [
           {
            "error_x": {
             "color": "#2a3f5f"
            },
            "error_y": {
             "color": "#2a3f5f"
            },
            "marker": {
             "line": {
              "color": "#E5ECF6",
              "width": 0.5
             },
             "pattern": {
              "fillmode": "overlay",
              "size": 10,
              "solidity": 0.2
             }
            },
            "type": "bar"
           }
          ],
          "barpolar": [
           {
            "marker": {
             "line": {
              "color": "#E5ECF6",
              "width": 0.5
             },
             "pattern": {
              "fillmode": "overlay",
              "size": 10,
              "solidity": 0.2
             }
            },
            "type": "barpolar"
           }
          ],
          "carpet": [
           {
            "aaxis": {
             "endlinecolor": "#2a3f5f",
             "gridcolor": "white",
             "linecolor": "white",
             "minorgridcolor": "white",
             "startlinecolor": "#2a3f5f"
            },
            "baxis": {
             "endlinecolor": "#2a3f5f",
             "gridcolor": "white",
             "linecolor": "white",
             "minorgridcolor": "white",
             "startlinecolor": "#2a3f5f"
            },
            "type": "carpet"
           }
          ],
          "choropleth": [
           {
            "colorbar": {
             "outlinewidth": 0,
             "ticks": ""
            },
            "type": "choropleth"
           }
          ],
          "contour": [
           {
            "colorbar": {
             "outlinewidth": 0,
             "ticks": ""
            },
            "colorscale": [
             [
              0,
              "#0d0887"
             ],
             [
              0.1111111111111111,
              "#46039f"
             ],
             [
              0.2222222222222222,
              "#7201a8"
             ],
             [
              0.3333333333333333,
              "#9c179e"
             ],
             [
              0.4444444444444444,
              "#bd3786"
             ],
             [
              0.5555555555555556,
              "#d8576b"
             ],
             [
              0.6666666666666666,
              "#ed7953"
             ],
             [
              0.7777777777777778,
              "#fb9f3a"
             ],
             [
              0.8888888888888888,
              "#fdca26"
             ],
             [
              1,
              "#f0f921"
             ]
            ],
            "type": "contour"
           }
          ],
          "contourcarpet": [
           {
            "colorbar": {
             "outlinewidth": 0,
             "ticks": ""
            },
            "type": "contourcarpet"
           }
          ],
          "heatmap": [
           {
            "colorbar": {
             "outlinewidth": 0,
             "ticks": ""
            },
            "colorscale": [
             [
              0,
              "#0d0887"
             ],
             [
              0.1111111111111111,
              "#46039f"
             ],
             [
              0.2222222222222222,
              "#7201a8"
             ],
             [
              0.3333333333333333,
              "#9c179e"
             ],
             [
              0.4444444444444444,
              "#bd3786"
             ],
             [
              0.5555555555555556,
              "#d8576b"
             ],
             [
              0.6666666666666666,
              "#ed7953"
             ],
             [
              0.7777777777777778,
              "#fb9f3a"
             ],
             [
              0.8888888888888888,
              "#fdca26"
             ],
             [
              1,
              "#f0f921"
             ]
            ],
            "type": "heatmap"
           }
          ],
          "heatmapgl": [
           {
            "colorbar": {
             "outlinewidth": 0,
             "ticks": ""
            },
            "colorscale": [
             [
              0,
              "#0d0887"
             ],
             [
              0.1111111111111111,
              "#46039f"
             ],
             [
              0.2222222222222222,
              "#7201a8"
             ],
             [
              0.3333333333333333,
              "#9c179e"
             ],
             [
              0.4444444444444444,
              "#bd3786"
             ],
             [
              0.5555555555555556,
              "#d8576b"
             ],
             [
              0.6666666666666666,
              "#ed7953"
             ],
             [
              0.7777777777777778,
              "#fb9f3a"
             ],
             [
              0.8888888888888888,
              "#fdca26"
             ],
             [
              1,
              "#f0f921"
             ]
            ],
            "type": "heatmapgl"
           }
          ],
          "histogram": [
           {
            "marker": {
             "pattern": {
              "fillmode": "overlay",
              "size": 10,
              "solidity": 0.2
             }
            },
            "type": "histogram"
           }
          ],
          "histogram2d": [
           {
            "colorbar": {
             "outlinewidth": 0,
             "ticks": ""
            },
            "colorscale": [
             [
              0,
              "#0d0887"
             ],
             [
              0.1111111111111111,
              "#46039f"
             ],
             [
              0.2222222222222222,
              "#7201a8"
             ],
             [
              0.3333333333333333,
              "#9c179e"
             ],
             [
              0.4444444444444444,
              "#bd3786"
             ],
             [
              0.5555555555555556,
              "#d8576b"
             ],
             [
              0.6666666666666666,
              "#ed7953"
             ],
             [
              0.7777777777777778,
              "#fb9f3a"
             ],
             [
              0.8888888888888888,
              "#fdca26"
             ],
             [
              1,
              "#f0f921"
             ]
            ],
            "type": "histogram2d"
           }
          ],
          "histogram2dcontour": [
           {
            "colorbar": {
             "outlinewidth": 0,
             "ticks": ""
            },
            "colorscale": [
             [
              0,
              "#0d0887"
             ],
             [
              0.1111111111111111,
              "#46039f"
             ],
             [
              0.2222222222222222,
              "#7201a8"
             ],
             [
              0.3333333333333333,
              "#9c179e"
             ],
             [
              0.4444444444444444,
              "#bd3786"
             ],
             [
              0.5555555555555556,
              "#d8576b"
             ],
             [
              0.6666666666666666,
              "#ed7953"
             ],
             [
              0.7777777777777778,
              "#fb9f3a"
             ],
             [
              0.8888888888888888,
              "#fdca26"
             ],
             [
              1,
              "#f0f921"
             ]
            ],
            "type": "histogram2dcontour"
           }
          ],
          "mesh3d": [
           {
            "colorbar": {
             "outlinewidth": 0,
             "ticks": ""
            },
            "type": "mesh3d"
           }
          ],
          "parcoords": [
           {
            "line": {
             "colorbar": {
              "outlinewidth": 0,
              "ticks": ""
             }
            },
            "type": "parcoords"
           }
          ],
          "pie": [
           {
            "automargin": true,
            "type": "pie"
           }
          ],
          "scatter": [
           {
            "marker": {
             "colorbar": {
              "outlinewidth": 0,
              "ticks": ""
             }
            },
            "type": "scatter"
           }
          ],
          "scatter3d": [
           {
            "line": {
             "colorbar": {
              "outlinewidth": 0,
              "ticks": ""
             }
            },
            "marker": {
             "colorbar": {
              "outlinewidth": 0,
              "ticks": ""
             }
            },
            "type": "scatter3d"
           }
          ],
          "scattercarpet": [
           {
            "marker": {
             "colorbar": {
              "outlinewidth": 0,
              "ticks": ""
             }
            },
            "type": "scattercarpet"
           }
          ],
          "scattergeo": [
           {
            "marker": {
             "colorbar": {
              "outlinewidth": 0,
              "ticks": ""
             }
            },
            "type": "scattergeo"
           }
          ],
          "scattergl": [
           {
            "marker": {
             "colorbar": {
              "outlinewidth": 0,
              "ticks": ""
             }
            },
            "type": "scattergl"
           }
          ],
          "scattermapbox": [
           {
            "marker": {
             "colorbar": {
              "outlinewidth": 0,
              "ticks": ""
             }
            },
            "type": "scattermapbox"
           }
          ],
          "scatterpolar": [
           {
            "marker": {
             "colorbar": {
              "outlinewidth": 0,
              "ticks": ""
             }
            },
            "type": "scatterpolar"
           }
          ],
          "scatterpolargl": [
           {
            "marker": {
             "colorbar": {
              "outlinewidth": 0,
              "ticks": ""
             }
            },
            "type": "scatterpolargl"
           }
          ],
          "scatterternary": [
           {
            "marker": {
             "colorbar": {
              "outlinewidth": 0,
              "ticks": ""
             }
            },
            "type": "scatterternary"
           }
          ],
          "surface": [
           {
            "colorbar": {
             "outlinewidth": 0,
             "ticks": ""
            },
            "colorscale": [
             [
              0,
              "#0d0887"
             ],
             [
              0.1111111111111111,
              "#46039f"
             ],
             [
              0.2222222222222222,
              "#7201a8"
             ],
             [
              0.3333333333333333,
              "#9c179e"
             ],
             [
              0.4444444444444444,
              "#bd3786"
             ],
             [
              0.5555555555555556,
              "#d8576b"
             ],
             [
              0.6666666666666666,
              "#ed7953"
             ],
             [
              0.7777777777777778,
              "#fb9f3a"
             ],
             [
              0.8888888888888888,
              "#fdca26"
             ],
             [
              1,
              "#f0f921"
             ]
            ],
            "type": "surface"
           }
          ],
          "table": [
           {
            "cells": {
             "fill": {
              "color": "#EBF0F8"
             },
             "line": {
              "color": "white"
             }
            },
            "header": {
             "fill": {
              "color": "#C8D4E3"
             },
             "line": {
              "color": "white"
             }
            },
            "type": "table"
           }
          ]
         },
         "layout": {
          "annotationdefaults": {
           "arrowcolor": "#2a3f5f",
           "arrowhead": 0,
           "arrowwidth": 1
          },
          "autotypenumbers": "strict",
          "coloraxis": {
           "colorbar": {
            "outlinewidth": 0,
            "ticks": ""
           }
          },
          "colorscale": {
           "diverging": [
            [
             0,
             "#8e0152"
            ],
            [
             0.1,
             "#c51b7d"
            ],
            [
             0.2,
             "#de77ae"
            ],
            [
             0.3,
             "#f1b6da"
            ],
            [
             0.4,
             "#fde0ef"
            ],
            [
             0.5,
             "#f7f7f7"
            ],
            [
             0.6,
             "#e6f5d0"
            ],
            [
             0.7,
             "#b8e186"
            ],
            [
             0.8,
             "#7fbc41"
            ],
            [
             0.9,
             "#4d9221"
            ],
            [
             1,
             "#276419"
            ]
           ],
           "sequential": [
            [
             0,
             "#0d0887"
            ],
            [
             0.1111111111111111,
             "#46039f"
            ],
            [
             0.2222222222222222,
             "#7201a8"
            ],
            [
             0.3333333333333333,
             "#9c179e"
            ],
            [
             0.4444444444444444,
             "#bd3786"
            ],
            [
             0.5555555555555556,
             "#d8576b"
            ],
            [
             0.6666666666666666,
             "#ed7953"
            ],
            [
             0.7777777777777778,
             "#fb9f3a"
            ],
            [
             0.8888888888888888,
             "#fdca26"
            ],
            [
             1,
             "#f0f921"
            ]
           ],
           "sequentialminus": [
            [
             0,
             "#0d0887"
            ],
            [
             0.1111111111111111,
             "#46039f"
            ],
            [
             0.2222222222222222,
             "#7201a8"
            ],
            [
             0.3333333333333333,
             "#9c179e"
            ],
            [
             0.4444444444444444,
             "#bd3786"
            ],
            [
             0.5555555555555556,
             "#d8576b"
            ],
            [
             0.6666666666666666,
             "#ed7953"
            ],
            [
             0.7777777777777778,
             "#fb9f3a"
            ],
            [
             0.8888888888888888,
             "#fdca26"
            ],
            [
             1,
             "#f0f921"
            ]
           ]
          },
          "colorway": [
           "#636efa",
           "#EF553B",
           "#00cc96",
           "#ab63fa",
           "#FFA15A",
           "#19d3f3",
           "#FF6692",
           "#B6E880",
           "#FF97FF",
           "#FECB52"
          ],
          "font": {
           "color": "#2a3f5f"
          },
          "geo": {
           "bgcolor": "white",
           "lakecolor": "white",
           "landcolor": "#E5ECF6",
           "showlakes": true,
           "showland": true,
           "subunitcolor": "white"
          },
          "hoverlabel": {
           "align": "left"
          },
          "hovermode": "closest",
          "mapbox": {
           "style": "light"
          },
          "paper_bgcolor": "white",
          "plot_bgcolor": "#E5ECF6",
          "polar": {
           "angularaxis": {
            "gridcolor": "white",
            "linecolor": "white",
            "ticks": ""
           },
           "bgcolor": "#E5ECF6",
           "radialaxis": {
            "gridcolor": "white",
            "linecolor": "white",
            "ticks": ""
           }
          },
          "scene": {
           "xaxis": {
            "backgroundcolor": "#E5ECF6",
            "gridcolor": "white",
            "gridwidth": 2,
            "linecolor": "white",
            "showbackground": true,
            "ticks": "",
            "zerolinecolor": "white"
           },
           "yaxis": {
            "backgroundcolor": "#E5ECF6",
            "gridcolor": "white",
            "gridwidth": 2,
            "linecolor": "white",
            "showbackground": true,
            "ticks": "",
            "zerolinecolor": "white"
           },
           "zaxis": {
            "backgroundcolor": "#E5ECF6",
            "gridcolor": "white",
            "gridwidth": 2,
            "linecolor": "white",
            "showbackground": true,
            "ticks": "",
            "zerolinecolor": "white"
           }
          },
          "shapedefaults": {
           "line": {
            "color": "#2a3f5f"
           }
          },
          "ternary": {
           "aaxis": {
            "gridcolor": "white",
            "linecolor": "white",
            "ticks": ""
           },
           "baxis": {
            "gridcolor": "white",
            "linecolor": "white",
            "ticks": ""
           },
           "bgcolor": "#E5ECF6",
           "caxis": {
            "gridcolor": "white",
            "linecolor": "white",
            "ticks": ""
           }
          },
          "title": {
           "x": 0.05
          },
          "xaxis": {
           "automargin": true,
           "gridcolor": "white",
           "linecolor": "white",
           "ticks": "",
           "title": {
            "standoff": 15
           },
           "zerolinecolor": "white",
           "zerolinewidth": 2
          },
          "yaxis": {
           "automargin": true,
           "gridcolor": "white",
           "linecolor": "white",
           "ticks": "",
           "title": {
            "standoff": 15
           },
           "zerolinecolor": "white",
           "zerolinewidth": 2
          }
         }
        },
        "title": {
         "text": "Percentage of Total Cases and Deaths"
        }
       }
      },
      "text/html": [
       "<div>                            <div id=\"237a24d9-3334-4587-856b-716c779025f0\" class=\"plotly-graph-div\" style=\"height:525px; width:100%;\"></div>            <script type=\"text/javascript\">                require([\"plotly\"], function(Plotly) {                    window.PLOTLYENV=window.PLOTLYENV || {};                                    if (document.getElementById(\"237a24d9-3334-4587-856b-716c779025f0\")) {                    Plotly.newPlot(                        \"237a24d9-3334-4587-856b-716c779025f0\",                        [{\"domain\":{\"x\":[0.0,1.0],\"y\":[0.0,1.0]},\"hovertemplate\":\"label=%{label}<br>value=%{value}<extra></extra>\",\"labels\":[\"Total Cases\",\"Total Deaths\"],\"legendgroup\":\"\",\"name\":\"\",\"showlegend\":true,\"values\":[3133760956.0,116851104.0],\"type\":\"pie\"}],                        {\"template\":{\"data\":{\"bar\":[{\"error_x\":{\"color\":\"#2a3f5f\"},\"error_y\":{\"color\":\"#2a3f5f\"},\"marker\":{\"line\":{\"color\":\"#E5ECF6\",\"width\":0.5},\"pattern\":{\"fillmode\":\"overlay\",\"size\":10,\"solidity\":0.2}},\"type\":\"bar\"}],\"barpolar\":[{\"marker\":{\"line\":{\"color\":\"#E5ECF6\",\"width\":0.5},\"pattern\":{\"fillmode\":\"overlay\",\"size\":10,\"solidity\":0.2}},\"type\":\"barpolar\"}],\"carpet\":[{\"aaxis\":{\"endlinecolor\":\"#2a3f5f\",\"gridcolor\":\"white\",\"linecolor\":\"white\",\"minorgridcolor\":\"white\",\"startlinecolor\":\"#2a3f5f\"},\"baxis\":{\"endlinecolor\":\"#2a3f5f\",\"gridcolor\":\"white\",\"linecolor\":\"white\",\"minorgridcolor\":\"white\",\"startlinecolor\":\"#2a3f5f\"},\"type\":\"carpet\"}],\"choropleth\":[{\"colorbar\":{\"outlinewidth\":0,\"ticks\":\"\"},\"type\":\"choropleth\"}],\"contour\":[{\"colorbar\":{\"outlinewidth\":0,\"ticks\":\"\"},\"colorscale\":[[0.0,\"#0d0887\"],[0.1111111111111111,\"#46039f\"],[0.2222222222222222,\"#7201a8\"],[0.3333333333333333,\"#9c179e\"],[0.4444444444444444,\"#bd3786\"],[0.5555555555555556,\"#d8576b\"],[0.6666666666666666,\"#ed7953\"],[0.7777777777777778,\"#fb9f3a\"],[0.8888888888888888,\"#fdca26\"],[1.0,\"#f0f921\"]],\"type\":\"contour\"}],\"contourcarpet\":[{\"colorbar\":{\"outlinewidth\":0,\"ticks\":\"\"},\"type\":\"contourcarpet\"}],\"heatmap\":[{\"colorbar\":{\"outlinewidth\":0,\"ticks\":\"\"},\"colorscale\":[[0.0,\"#0d0887\"],[0.1111111111111111,\"#46039f\"],[0.2222222222222222,\"#7201a8\"],[0.3333333333333333,\"#9c179e\"],[0.4444444444444444,\"#bd3786\"],[0.5555555555555556,\"#d8576b\"],[0.6666666666666666,\"#ed7953\"],[0.7777777777777778,\"#fb9f3a\"],[0.8888888888888888,\"#fdca26\"],[1.0,\"#f0f921\"]],\"type\":\"heatmap\"}],\"heatmapgl\":[{\"colorbar\":{\"outlinewidth\":0,\"ticks\":\"\"},\"colorscale\":[[0.0,\"#0d0887\"],[0.1111111111111111,\"#46039f\"],[0.2222222222222222,\"#7201a8\"],[0.3333333333333333,\"#9c179e\"],[0.4444444444444444,\"#bd3786\"],[0.5555555555555556,\"#d8576b\"],[0.6666666666666666,\"#ed7953\"],[0.7777777777777778,\"#fb9f3a\"],[0.8888888888888888,\"#fdca26\"],[1.0,\"#f0f921\"]],\"type\":\"heatmapgl\"}],\"histogram\":[{\"marker\":{\"pattern\":{\"fillmode\":\"overlay\",\"size\":10,\"solidity\":0.2}},\"type\":\"histogram\"}],\"histogram2d\":[{\"colorbar\":{\"outlinewidth\":0,\"ticks\":\"\"},\"colorscale\":[[0.0,\"#0d0887\"],[0.1111111111111111,\"#46039f\"],[0.2222222222222222,\"#7201a8\"],[0.3333333333333333,\"#9c179e\"],[0.4444444444444444,\"#bd3786\"],[0.5555555555555556,\"#d8576b\"],[0.6666666666666666,\"#ed7953\"],[0.7777777777777778,\"#fb9f3a\"],[0.8888888888888888,\"#fdca26\"],[1.0,\"#f0f921\"]],\"type\":\"histogram2d\"}],\"histogram2dcontour\":[{\"colorbar\":{\"outlinewidth\":0,\"ticks\":\"\"},\"colorscale\":[[0.0,\"#0d0887\"],[0.1111111111111111,\"#46039f\"],[0.2222222222222222,\"#7201a8\"],[0.3333333333333333,\"#9c179e\"],[0.4444444444444444,\"#bd3786\"],[0.5555555555555556,\"#d8576b\"],[0.6666666666666666,\"#ed7953\"],[0.7777777777777778,\"#fb9f3a\"],[0.8888888888888888,\"#fdca26\"],[1.0,\"#f0f921\"]],\"type\":\"histogram2dcontour\"}],\"mesh3d\":[{\"colorbar\":{\"outlinewidth\":0,\"ticks\":\"\"},\"type\":\"mesh3d\"}],\"parcoords\":[{\"line\":{\"colorbar\":{\"outlinewidth\":0,\"ticks\":\"\"}},\"type\":\"parcoords\"}],\"pie\":[{\"automargin\":true,\"type\":\"pie\"}],\"scatter\":[{\"marker\":{\"colorbar\":{\"outlinewidth\":0,\"ticks\":\"\"}},\"type\":\"scatter\"}],\"scatter3d\":[{\"line\":{\"colorbar\":{\"outlinewidth\":0,\"ticks\":\"\"}},\"marker\":{\"colorbar\":{\"outlinewidth\":0,\"ticks\":\"\"}},\"type\":\"scatter3d\"}],\"scattercarpet\":[{\"marker\":{\"colorbar\":{\"outlinewidth\":0,\"ticks\":\"\"}},\"type\":\"scattercarpet\"}],\"scattergeo\":[{\"marker\":{\"colorbar\":{\"outlinewidth\":0,\"ticks\":\"\"}},\"type\":\"scattergeo\"}],\"scattergl\":[{\"marker\":{\"colorbar\":{\"outlinewidth\":0,\"ticks\":\"\"}},\"type\":\"scattergl\"}],\"scattermapbox\":[{\"marker\":{\"colorbar\":{\"outlinewidth\":0,\"ticks\":\"\"}},\"type\":\"scattermapbox\"}],\"scatterpolar\":[{\"marker\":{\"colorbar\":{\"outlinewidth\":0,\"ticks\":\"\"}},\"type\":\"scatterpolar\"}],\"scatterpolargl\":[{\"marker\":{\"colorbar\":{\"outlinewidth\":0,\"ticks\":\"\"}},\"type\":\"scatterpolargl\"}],\"scatterternary\":[{\"marker\":{\"colorbar\":{\"outlinewidth\":0,\"ticks\":\"\"}},\"type\":\"scatterternary\"}],\"surface\":[{\"colorbar\":{\"outlinewidth\":0,\"ticks\":\"\"},\"colorscale\":[[0.0,\"#0d0887\"],[0.1111111111111111,\"#46039f\"],[0.2222222222222222,\"#7201a8\"],[0.3333333333333333,\"#9c179e\"],[0.4444444444444444,\"#bd3786\"],[0.5555555555555556,\"#d8576b\"],[0.6666666666666666,\"#ed7953\"],[0.7777777777777778,\"#fb9f3a\"],[0.8888888888888888,\"#fdca26\"],[1.0,\"#f0f921\"]],\"type\":\"surface\"}],\"table\":[{\"cells\":{\"fill\":{\"color\":\"#EBF0F8\"},\"line\":{\"color\":\"white\"}},\"header\":{\"fill\":{\"color\":\"#C8D4E3\"},\"line\":{\"color\":\"white\"}},\"type\":\"table\"}]},\"layout\":{\"annotationdefaults\":{\"arrowcolor\":\"#2a3f5f\",\"arrowhead\":0,\"arrowwidth\":1},\"autotypenumbers\":\"strict\",\"coloraxis\":{\"colorbar\":{\"outlinewidth\":0,\"ticks\":\"\"}},\"colorscale\":{\"diverging\":[[0,\"#8e0152\"],[0.1,\"#c51b7d\"],[0.2,\"#de77ae\"],[0.3,\"#f1b6da\"],[0.4,\"#fde0ef\"],[0.5,\"#f7f7f7\"],[0.6,\"#e6f5d0\"],[0.7,\"#b8e186\"],[0.8,\"#7fbc41\"],[0.9,\"#4d9221\"],[1,\"#276419\"]],\"sequential\":[[0.0,\"#0d0887\"],[0.1111111111111111,\"#46039f\"],[0.2222222222222222,\"#7201a8\"],[0.3333333333333333,\"#9c179e\"],[0.4444444444444444,\"#bd3786\"],[0.5555555555555556,\"#d8576b\"],[0.6666666666666666,\"#ed7953\"],[0.7777777777777778,\"#fb9f3a\"],[0.8888888888888888,\"#fdca26\"],[1.0,\"#f0f921\"]],\"sequentialminus\":[[0.0,\"#0d0887\"],[0.1111111111111111,\"#46039f\"],[0.2222222222222222,\"#7201a8\"],[0.3333333333333333,\"#9c179e\"],[0.4444444444444444,\"#bd3786\"],[0.5555555555555556,\"#d8576b\"],[0.6666666666666666,\"#ed7953\"],[0.7777777777777778,\"#fb9f3a\"],[0.8888888888888888,\"#fdca26\"],[1.0,\"#f0f921\"]]},\"colorway\":[\"#636efa\",\"#EF553B\",\"#00cc96\",\"#ab63fa\",\"#FFA15A\",\"#19d3f3\",\"#FF6692\",\"#B6E880\",\"#FF97FF\",\"#FECB52\"],\"font\":{\"color\":\"#2a3f5f\"},\"geo\":{\"bgcolor\":\"white\",\"lakecolor\":\"white\",\"landcolor\":\"#E5ECF6\",\"showlakes\":true,\"showland\":true,\"subunitcolor\":\"white\"},\"hoverlabel\":{\"align\":\"left\"},\"hovermode\":\"closest\",\"mapbox\":{\"style\":\"light\"},\"paper_bgcolor\":\"white\",\"plot_bgcolor\":\"#E5ECF6\",\"polar\":{\"angularaxis\":{\"gridcolor\":\"white\",\"linecolor\":\"white\",\"ticks\":\"\"},\"bgcolor\":\"#E5ECF6\",\"radialaxis\":{\"gridcolor\":\"white\",\"linecolor\":\"white\",\"ticks\":\"\"}},\"scene\":{\"xaxis\":{\"backgroundcolor\":\"#E5ECF6\",\"gridcolor\":\"white\",\"gridwidth\":2,\"linecolor\":\"white\",\"showbackground\":true,\"ticks\":\"\",\"zerolinecolor\":\"white\"},\"yaxis\":{\"backgroundcolor\":\"#E5ECF6\",\"gridcolor\":\"white\",\"gridwidth\":2,\"linecolor\":\"white\",\"showbackground\":true,\"ticks\":\"\",\"zerolinecolor\":\"white\"},\"zaxis\":{\"backgroundcolor\":\"#E5ECF6\",\"gridcolor\":\"white\",\"gridwidth\":2,\"linecolor\":\"white\",\"showbackground\":true,\"ticks\":\"\",\"zerolinecolor\":\"white\"}},\"shapedefaults\":{\"line\":{\"color\":\"#2a3f5f\"}},\"ternary\":{\"aaxis\":{\"gridcolor\":\"white\",\"linecolor\":\"white\",\"ticks\":\"\"},\"baxis\":{\"gridcolor\":\"white\",\"linecolor\":\"white\",\"ticks\":\"\"},\"bgcolor\":\"#E5ECF6\",\"caxis\":{\"gridcolor\":\"white\",\"linecolor\":\"white\",\"ticks\":\"\"}},\"title\":{\"x\":0.05},\"xaxis\":{\"automargin\":true,\"gridcolor\":\"white\",\"linecolor\":\"white\",\"ticks\":\"\",\"title\":{\"standoff\":15},\"zerolinecolor\":\"white\",\"zerolinewidth\":2},\"yaxis\":{\"automargin\":true,\"gridcolor\":\"white\",\"linecolor\":\"white\",\"ticks\":\"\",\"title\":{\"standoff\":15},\"zerolinecolor\":\"white\",\"zerolinewidth\":2}}},\"legend\":{\"tracegroupgap\":0},\"title\":{\"text\":\"Percentage of Total Cases and Deaths\"}},                        {\"responsive\": true}                    ).then(function(){\n",
       "                            \n",
       "var gd = document.getElementById('237a24d9-3334-4587-856b-716c779025f0');\n",
       "var x = new MutationObserver(function (mutations, observer) {{\n",
       "        var display = window.getComputedStyle(gd).display;\n",
       "        if (!display || display === 'none') {{\n",
       "            console.log([gd, 'removed!']);\n",
       "            Plotly.purge(gd);\n",
       "            observer.disconnect();\n",
       "        }}\n",
       "}});\n",
       "\n",
       "// Listen for the removal of the full notebook cells\n",
       "var notebookContainer = gd.closest('#notebook-container');\n",
       "if (notebookContainer) {{\n",
       "    x.observe(notebookContainer, {childList: true});\n",
       "}}\n",
       "\n",
       "// Listen for the clearing of the current output cell\n",
       "var outputEl = gd.closest('.output');\n",
       "if (outputEl) {{\n",
       "    x.observe(outputEl, {childList: true});\n",
       "}}\n",
       "\n",
       "                        })                };                });            </script>        </div>"
      ]
     },
     "metadata": {},
     "output_type": "display_data"
    }
   ],
   "source": [
    "# Percentage of total case and deaths\n",
    "cases = transf[\"Total Cases\"].sum()\n",
    "deaths = transf[\"Total Deaths\"].sum()\n",
    "\n",
    "labels = [\"Total Cases\", \"Total Deaths\"]\n",
    "values = [cases, deaths]\n",
    "\n",
    "fig = px.pie(transf, values = values, names = labels,title = 'Percentage of Total Cases and Deaths')\n",
    "\n",
    "fig.show()"
   ]
  },
  {
   "cell_type": "code",
   "execution_count": 34,
   "id": "1540b27c",
   "metadata": {},
   "outputs": [
    {
     "data": {
      "text/plain": [
       "3.728781666523514"
      ]
     },
     "execution_count": 34,
     "metadata": {},
     "output_type": "execute_result"
    }
   ],
   "source": [
    "#Death Rate\n",
    "death_rate = (transf[\"Total Deaths\"].sum() / transf[\"Total Cases\"].sum())*100\n",
    "\n",
    "death_rate"
   ]
  },
  {
   "cell_type": "code",
   "execution_count": 37,
   "id": "12774079",
   "metadata": {},
   "outputs": [
    {
     "data": {
      "application/vnd.plotly.v1+json": {
       "config": {
        "plotlyServerURL": "https://plot.ly"
       },
       "data": [
        {
         "alignmentgroup": "True",
         "customdata": [
          [
           19.61763693,
           26477574
          ],
          [
           19.17473208,
           14340567
          ],
          [
           21.04535251,
           7247327
          ],
          [
           18.79866817,
           2131571
          ],
          [
           17.3111646,
           3020038
          ],
          [
           18.67480153,
           7295850
          ],
          [
           17.66042712,
           5510624
          ],
          [
           17.8982664,
           1357682
          ],
          [
           17.74503716,
           1936134
          ],
          [
           18.03334044,
           7249573
          ],
          [
           18.24624346,
           2914070
          ],
          [
           16.76604717,
           1283880
          ],
          [
           17.91752278,
           6664225
          ],
          [
           17.99409688,
           5633444
          ],
          [
           17.62651421,
           1077426
          ],
          [
           18.24375196,
           1640691
          ],
          [
           18.25035574,
           1049757
          ],
          [
           17.36552634,
           442507
          ],
          [
           19.21318595,
           789557
          ],
          [
           18.91957173,
           484534
          ],
          [
           17.50993717,
           744253
          ],
          [
           18.51217534,
           448665
          ],
          [
           21.08743924,
           1066939
          ],
          [
           19.42689854,
           916111
          ],
          [
           17.44628825,
           1455549
          ],
          [
           14.87366884,
           23820
          ],
          [
           15.97371025,
           126278
          ],
          [
           17.59363088,
           343334
          ],
          [
           16.26562008,
           1798461
          ],
          [
           16.68585306,
           1083749
          ],
          [
           16.74812767,
           161480
          ],
          [
           16.6566263,
           1142410
          ],
          [
           18.44375647,
           644416
          ],
          [
           16.1279737,
           941063
          ],
          [
           16.27279152,
           578559
          ],
          [
           16.77238152,
           464952
          ],
          [
           16.19948244,
           209024
          ],
          [
           15.26725623,
           69104
          ],
          [
           16.06145345,
           88409
          ],
          [
           15.27755412,
           222435
          ],
          [
           16.10707515,
           58035
          ],
          [
           15.44604869,
           73391
          ],
          [
           16.13757538,
           302612
          ],
          [
           17.44905184,
           304001
          ],
          [
           15.58201085,
           4691
          ],
          [
           17.42400819,
           142270
          ],
          [
           18.65556675,
           194918
          ],
          [
           16.70118056,
           281588
          ],
          [
           15.97360361,
           320693
          ],
          [
           14.34706955,
           22413
          ],
          [
           16.10851066,
           200844
          ],
          [
           19.1440641,
           125473
          ],
          [
           14.9017918,
           102039
          ],
          [
           17.18751281,
           27737
          ],
          [
           15.41242964,
           310201
          ],
          [
           16.18659339,
           79880
          ],
          [
           17.4772331,
           165875
          ],
          [
           16.01344599,
           134945
          ],
          [
           17.25184806,
           29143
          ],
          [
           17.59630906,
           206429
          ],
          [
           18.56012597,
           77686
          ],
          [
           17.1631645,
           40840
          ],
          [
           15.21025983,
           129946
          ],
          [
           15.44359631,
           50352
          ],
          [
           17.32613614,
           31903
          ],
          [
           15.69102752,
           114922
          ],
          [
           16.13191719,
           59495
          ],
          [
           15.73310882,
           87503
          ],
          [
           14.86662585,
           54940
          ],
          [
           17.75260041,
           63333
          ],
          [
           17.80025043,
           59485
          ],
          [
           15.44502871,
           21522
          ],
          [
           15.57202326,
           113280
          ],
          [
           17.05418434,
           65029
          ],
          [
           15.68518756,
           71957
          ],
          [
           17.09438451,
           56606
          ],
          [
           15.78017657,
           42850
          ],
          [
           15.73616766,
           22983
          ],
          [
           15.00360243,
           70578
          ],
          [
           17.08805131,
           14220
          ],
          [
           15.5058355,
           47158
          ],
          [
           15.75402845,
           72850
          ],
          [
           15.74286198,
           29730
          ],
          [
           17.29261899,
           24012
          ],
          [
           14.54950213,
           74066
          ],
          [
           16.08354044,
           110142
          ],
          [
           17.59626861,
           102825
          ],
          [
           16.63354636,
           30320
          ],
          [
           15.52763465,
           58377
          ],
          [
           17.13661869,
           17744
          ],
          [
           16.15953083,
           44805
          ],
          [
           14.47446683,
           47571
          ],
          [
           15.22778158,
           28757
          ],
          [
           18.31043503,
           32040
          ],
          [
           16.39062287,
           7283
          ],
          [
           13.34706731,
           21907
          ],
          [
           16.72698889,
           26475
          ],
          [
           16.07075684,
           9730
          ],
          [
           14.87253667,
           31056
          ],
          [
           14.61559461,
           6877
          ],
          [
           16.24934608,
           23891
          ],
          [
           16.28518664,
           19025
          ],
          [
           13.20032762,
           3054
          ],
          [
           15.35230466,
           19810
          ],
          [
           15.51289396,
           6055
          ],
          [
           13.80344,
           8006
          ],
          [
           16.13820607,
           5653
          ],
          [
           14.7480352,
           6634
          ],
          [
           13.35039417,
           11356
          ],
          [
           18.06114425,
           11162
          ],
          [
           17.81205473,
           13973
          ],
          [
           16.51438055,
           15984
          ],
          [
           15.39030816,
           7108
          ],
          [
           16.24266591,
           16774
          ],
          [
           14.15411267,
           8947
          ],
          [
           14.54736486,
           22165
          ],
          [
           16.76676599,
           15480
          ],
          [
           15.70629361,
           16410
          ],
          [
           17.25770384,
           3396
          ],
          [
           16.5814031,
           15001
          ],
          [
           14.81698436,
           14345
          ],
          [
           15.52354271,
           9298
          ],
          [
           13.22850199,
           4749
          ],
          [
           17.63850561,
           3748
          ],
          [
           16.87952045,
           2108
          ],
          [
           14.09808385,
           11802
          ],
          [
           13.96407193,
           8179
          ],
          [
           15.199095,
           4013
          ],
          [
           12.74037063,
           1968
          ],
          [
           16.82370654,
           18813
          ],
          [
           16.37677691,
           1744
          ],
          [
           14.90109198,
           5653
          ],
          [
           13.28215639,
           6961
          ],
          [
           16.23086427,
           6063
          ],
          [
           14.49252734,
           4199
          ],
          [
           17.3079574,
           11820
          ],
          [
           15.89207108,
           10036
          ],
          [
           16.67774898,
           12098
          ],
          [
           14.45007584,
           5376
          ],
          [
           15.38874766,
           4145
          ],
          [
           12.99802163,
           2409
          ],
          [
           16.31063137,
           4374
          ],
          [
           15.06073864,
           6083
          ],
          [
           12.88219574,
           5998
          ],
          [
           13.68300607,
           3735
          ],
          [
           16.85541655,
           10248
          ],
          [
           14.69789863,
           7201
          ],
          [
           17.21088998,
           64304
          ],
          [
           14.15161916,
           4519
          ],
          [
           11.25499635,
           9850
          ],
          [
           11.5783948,
           1624
          ],
          [
           14.67061714,
           895
          ],
          [
           17.00213737,
           11676
          ],
          [
           15.92920098,
           4197
          ],
          [
           13.57542301,
           5783
          ],
          [
           12.03636915,
           2715
          ],
          [
           15.43641784,
           10087
          ],
          [
           16.61436742,
           12212
          ],
          [
           10.43229061,
           8596
          ],
          [
           18.39370601,
           2318
          ],
          [
           12.2975619,
           2198
          ],
          [
           14.57736817,
           2680
          ],
          [
           12.89325457,
           1613
          ],
          [
           11.55620524,
           1833
          ],
          [
           16.98590072,
           1423
          ],
          [
           12.54576825,
           260
          ],
          [
           17.9054155,
           3733
          ],
          [
           14.05591783,
           1988
          ],
          [
           11.52359831,
           5527
          ],
          [
           11.35078294,
           4310
          ],
          [
           10.79681667,
           0
          ],
          [
           13.67578287,
           920
          ],
          [
           11.11322372,
           2450
          ],
          [
           16.29127395,
           188
          ],
          [
           10.66620744,
           3146
          ],
          [
           10.42498602,
           0
          ],
          [
           10.56405989,
           476
          ],
          [
           15.00283311,
           0
          ],
          [
           15.08145118,
           0
          ],
          [
           16.63205462,
           0
          ],
          [
           16.00683186,
           417
          ],
          [
           11.09315857,
           213
          ],
          [
           12.98879313,
           475
          ],
          [
           11.03928322,
           1631
          ],
          [
           12.56852934,
           1321
          ],
          [
           13.55623711,
           0
          ],
          [
           10.57755385,
           192
          ],
          [
           10.54894022,
           198
          ],
          [
           12.00823128,
           207
          ],
          [
           11.49618614,
           0
          ],
          [
           11.49198779,
           568
          ],
          [
           11.61680789,
           0
          ],
          [
           10.96053104,
           396
          ],
          [
           10.1743159,
           48
          ],
          [
           13.7061911,
           132
          ],
          [
           14.09196129,
           0
          ],
          [
           10.31682162,
           183
          ],
          [
           12.56196578,
           0
          ],
          [
           11.63087738,
           0
          ],
          [
           12.1206727,
           0
          ],
          [
           15.80003079,
           0
          ],
          [
           11.18429639,
           0
          ],
          [
           10.88166329,
           0
          ],
          [
           10.94679853,
           0
          ],
          [
           8.15564927,
           0
          ],
          [
           6.695798917,
           0
          ],
          [
           8.516993171,
           177
          ],
          [
           9.615938805,
           0
          ],
          [
           13.43991197,
           0
          ],
          [
           15.8300119,
           0
          ]
         ],
         "hovertemplate": "Country=%{x}<br>Total Cases=%{y}<br>Population=%{customdata[0]}<br>Total Deaths=%{customdata[1]}<br>Stringency Index=%{marker.color}<extra></extra>",
         "legendgroup": "",
         "marker": {
          "color": [
           3.3509486690850343,
           3.136027957462585,
           3.6105521148129256,
           3.380088191482993,
           3.4301264381156464,
           3.0192894045204084,
           3.393922273142857,
           3.3643329908979593,
           3.3579230454251703,
           3.3538831399625852,
           3.207064113278912,
           2.989193634731293,
           3.629838088122449,
           3.3857936759115645,
           3.4754380163809526,
           3.28451614412585,
           3.0414184019965984,
           3.2633605816360545,
           3.38580207355102,
           3.186409532867346,
           3.6382597844795925,
           3.67810238272449,
           3.8925538979353735,
           3.6401493643061213,
           3.286389158969388,
           3.561580438853742,
           3.5793130338673467,
           3.0981180947312925,
           3.4200551236938774,
           3.4756814307823136,
           3.279181903081632,
           2.922922530493197,
           3.079215255792518,
           2.75164141155102,
           3.2593630045034017,
           3.3440225178673466,
           3.329886860812925,
           3.6756516780068034,
           1.7777885856122446,
           3.347952237411565,
           3.2094847001292517,
           3.730139465272109,
           3.266071855346939,
           2.854065180411564,
           3.7307369099183667,
           3.2886413599217685,
           3.178413736503401,
           3.4795448106666664,
           3.12802378279932,
           3.672654081911565,
           3.310703392435374,
           3.504160797792516,
           0,
           3.677210356482993,
           3.3750440923061227,
           3.2069219557006803,
           3.0496734543605446,
           2.999125721982993,
           2.845124538520408,
           3.195168482772109,
           3.106953683829932,
           3.235751674234694,
           2.9956552940374146,
           3.052990643608844,
           3.130970957227891,
           3.1833747295,
           3.5610048554761904,
           3.0738407065272106,
           3.0402436258537415,
           3.422536914673469,
           3.332929539568027,
           3.2563697529931965,
           3.069241891969387,
           3.6220902177993195,
           3.228307817353741,
           2.9765738832653064,
           3.171279047295919,
           3.4019439833571425,
           3.0345279388299318,
           2.8512348956428575,
           3.1960380252551017,
           2.8532486089081637,
           3.411850270965986,
           3.6216474627346935,
           0,
           3.01363418397619,
           3.196909016653061,
           2.66599380340136,
           3.101641431479592,
           2.957421466741496,
           3.1346855279761905,
           3.1763816652925168,
           3.1440618902551023,
           3.0745801085034015,
           3.0001857734659865,
           2.905672398506803,
           2.645104184595238,
           2.240074461547619,
           3.0056236545748294,
           3.1221241128979584,
           2.7754449377074826,
           2.8630195453367344,
           0,
           2.6605094333877557,
           2.8965280817040817,
           2.910019280119047,
           3.179010039955782,
           2.996030525765306,
           0,
           3.060495103527211,
           3.1433438754523806,
           3.1611319515748297,
           2.9648505104047618,
           3.1526094456394556,
           0,
           3.0012790250646257,
           2.7483170985986396,
           1.7787903315544213,
           2.8819963542414953,
           2.5585456688027213,
           2.79028876255102,
           3.029772100969388,
           2.988857297673469,
           3.177188289904762,
           3.2125340412482988,
           2.5380262833979588,
           3.061297157204082,
           3.6389395285034007,
           3.174260733585034,
           2.7711030407380943,
           3.0920467206394555,
           3.239694818312925,
           3.167167094068027,
           2.71822275794898,
           0,
           2.965559714153062,
           2.5651667428537417,
           2.829461847836735,
           3.0254631613775507,
           3.233197103585034,
           0,
           2.7188522499115644,
           2.777736691469387,
           0,
           3.110623018248299,
           2.8844738915544217,
           3.1054073187108853,
           2.3695679034965984,
           3.0174295116428564,
           2.6776539695340142,
           2.7689076071326535,
           2.8325677352210885,
           2.2517598853673464,
           2.9374114366496604,
           3.139448600384354,
           2.8180347343673473,
           3.148329587809524,
           2.983968134125851,
           3.080051874061225,
           3.710868429755102,
           0,
           2.2233248549795923,
           2.8959699335272107,
           0,
           2.963287182741497,
           0,
           2.402485587190476,
           2.5070728676870746,
           0,
           0,
           0,
           0,
           0,
           1.689712130088435,
           0,
           2.2786489774285714,
           2.2971052494115645,
           3.0700195609013603,
           3.2501682509489793,
           2.875571929306122,
           2.67551761532653,
           1.5389167769829932,
           2.8664489886020412,
           2.846286835465986,
           2.9471776484217687,
           3.187371286312924,
           0,
           0,
           0,
           2.5486704868707477,
           0,
           0,
           0,
           0,
           3.427270103061224,
           2.5767618823639458,
           2.2406592542244894,
           0,
           0,
           0,
           2.516711985833333,
           2.6819666489727885,
           0,
           2.5884353651666667,
           2.1229575531768705,
           0,
           2.477076521632654,
           2.3261806732925168,
           0,
           0.6439803426292516
          ],
          "coloraxis": "coloraxis",
          "pattern": {
           "shape": ""
          }
         },
         "name": "",
         "offsetgroup": "",
         "orientation": "v",
         "showlegend": false,
         "textposition": "auto",
         "type": "bar",
         "x": [
          "United States",
          "Brazil",
          "India",
          "Russia",
          "Peru",
          "Mexico",
          "Spain",
          "South Africa",
          "Colombia",
          "United Kingdom",
          "Iran",
          "Chile",
          "Italy",
          "France",
          "Argentina",
          "Germany",
          "Turkey",
          "Saudi Arabia",
          "Pakistan",
          "Bangladesh",
          "Iraq",
          "Philippines",
          "China",
          "Indonesia",
          "Canada",
          "Qatar",
          "Israel",
          "Ukraine",
          "Belgium",
          "Ecuador",
          "Kazakhstan",
          "Netherlands",
          "Egypt",
          "Sweden",
          "Bolivia",
          "Romania",
          "Dominican Republic",
          "Kuwait",
          "Belarus",
          "Panama",
          "United Arab Emirates",
          "Oman",
          "Portugal",
          "Poland",
          "Singapore",
          "Morocco",
          "Japan",
          "Guatemala",
          "Switzerland",
          "Bahrain",
          "Honduras",
          "Nigeria",
          "Armenia",
          "Nepal",
          "Ireland",
          "Czech Republic",
          "Afghanistan",
          "Austria",
          "Ghana",
          "Algeria",
          "Ethiopia",
          "Venezuela",
          "Moldova",
          "Costa Rica",
          "Uzbekistan",
          "Kyrgyzstan",
          "Azerbaijan",
          "Serbia",
          "Puerto Rico",
          "South Korea",
          "Kenya",
          "Palestine",
          "Denmark",
          "Australia",
          "El Salvador",
          "Cameroon",
          "Paraguay",
          "Lebanon",
          "Bosnia and Herzegovina",
          "Cote d'Ivoire",
          "Norway",
          "Bulgaria",
          "Libya",
          "Malaysia",
          "Macedonia",
          "Hungary",
          "Sudan",
          "Senegal",
          "Finland",
          "Madagascar",
          "Greece",
          "Kosovo",
          "Croatia",
          "Democratic Republic of Congo",
          "Guinea",
          "Luxembourg",
          "Zambia",
          "Tajikistan",
          "Albania",
          "Gabon",
          "Haiti",
          "Tunisia",
          "Maldives",
          "Mauritania",
          "Slovakia",
          "Djibouti",
          "Jordan",
          "Namibia",
          "Montenegro",
          "Thailand",
          "Myanmar",
          "Zimbabwe",
          "Central African Republic",
          "Cuba",
          "Equatorial Guinea",
          "Slovenia",
          "Malawi",
          "Nicaragua",
          "Mozambique",
          "Somalia",
          "Lithuania",
          "Congo",
          "Cape Verde",
          "Uganda",
          "Sri Lanka",
          "Estonia",
          "Swaziland",
          "Georgia",
          "Iceland",
          "Mali",
          "Rwanda",
          "Jamaica",
          "Suriname",
          "South Sudan",
          "Guinea-Bissau",
          "Angola",
          "Sierra Leone",
          "Syria",
          "Latvia",
          "New Zealand",
          "Malta",
          "Benin",
          "Uruguay",
          "Bahamas",
          "Cyprus",
          "Burkina Faso",
          "Gambia",
          "Yemen",
          "Trinidad and Tobago",
          "Andorra",
          "Aruba",
          "Botswana",
          "Niger",
          "Togo",
          "Guyana",
          "Guam",
          "Liberia",
          "Chad",
          "San Marino",
          "Vietnam",
          "Sao Tome and Principe",
          "Lesotho",
          "Belize",
          "United States Virgin Islands",
          "Taiwan",
          "French Polynesia",
          "Tanzania",
          "Mauritius",
          "Jersey",
          "Isle of Man",
          "Faeroe Islands",
          "Comoros",
          "Guernsey",
          "Burundi",
          "Sint Maarten (Dutch part)",
          "Gibraltar",
          "Turks and Caicos Islands",
          "Mongolia",
          "Eritrea",
          "Cambodia",
          "Papua New Guinea",
          "Cayman Islands",
          "Brunei",
          "Bermuda",
          "Barbados",
          "Bhutan",
          "Monaco",
          "Liechtenstein",
          "Curacao",
          "Seychelles",
          "Antigua and Barbuda",
          "Saint Vincent and the Grenadines",
          "Northern Mariana Islands",
          "Bonaire Sint Eustatius and Saba",
          "Fiji",
          "Timor",
          "British Virgin Islands",
          "New Caledonia",
          "Grenada",
          "Saint Lucia",
          "Laos",
          "Dominica",
          "Saint Kitts and Nevis",
          "Greenland",
          "Falkland Islands",
          "Vatican",
          "Montserrat",
          "Anguilla",
          "Solomon Islands",
          "Hong Kong"
         ],
         "xaxis": "x",
         "y": [
          746014098,
          425704517,
          407771615,
          132888951,
          74882695,
          74347548,
          73717676,
          63027659,
          60543682,
          59475032,
          52421884,
          51268034,
          50752853,
          50084335,
          47155234,
          42447678,
          41431948,
          38585191,
          37738077,
          35266178,
          25280332,
          22409936,
          21632319,
          21570149,
          20902374,
          16351440,
          16202474,
          15805665,
          15192468,
          14408757,
          13194863,
          13026629,
          12422845,
          11910109,
          11858838,
          10672859,
          10649646,
          10622205,
          10595186,
          10371724,
          10247326,
          10060093,
          9266263,
          9239657,
          8191161,
          7839270,
          7659484,
          7644426,
          7552067,
          6549995,
          6545499,
          6107371,
          5474629,
          5243653,
          5239798,
          5213980,
          5126433,
          4909197,
          4900649,
          4893999,
          4876417,
          4839834,
          4632482,
          4631835,
          4421215,
          4287847,
          4236782,
          3984174,
          3586463,
          3333075,
          3277734,
          3249458,
          3030088,
          3012377,
          2573206,
          2476502,
          2265640,
          2220699,
          2200057,
          2132883,
          1985889,
          1890380,
          1817274,
          1774181,
          1724220,
          1708798,
          1663545,
          1586747,
          1458484,
          1443321,
          1421470,
          1345940,
          1314031,
          1271391,
          1195836,
          1146724,
          1129913,
          1117391,
          1071951,
          1031803,
          1023155,
          1000626,
          844040,
          799222,
          798665,
          781771,
          716514,
          681299,
          675912,
          655703,
          644209,
          593699,
          593048,
          581546,
          557355,
          547075,
          536447,
          524410,
          510578,
          491145,
          488057,
          473368,
          463888,
          448728,
          446643,
          445402,
          444238,
          431689,
          421210,
          390637,
          388775,
          370890,
          358632,
          333500,
          306564,
          304005,
          268396,
          267902,
          255964,
          253203,
          251261,
          245893,
          239884,
          237908,
          236673,
          231452,
          229521,
          228925,
          225550,
          223576,
          215110,
          205758,
          199978,
          169903,
          166917,
          160975,
          159880,
          154173,
          134994,
          122618,
          121909,
          107948,
          106383,
          98536,
          97074,
          95388,
          91526,
          69524,
          66777,
          64935,
          56893,
          52437,
          49814,
          49745,
          48026,
          45340,
          44432,
          42465,
          40026,
          39539,
          35966,
          33173,
          30140,
          28876,
          24998,
          22847,
          21511,
          19885,
          19777,
          14701,
          12619,
          7824,
          7784,
          5080,
          4742,
          4697,
          4605,
          4495,
          4470,
          4450,
          4039,
          3977,
          3246,
          2678,
          2467,
          2415,
          2383,
          614,
          11,
          0
         ],
         "yaxis": "y"
        }
       ],
       "layout": {
        "barmode": "relative",
        "coloraxis": {
         "colorbar": {
          "title": {
           "text": "Stringency Index"
          }
         },
         "colorscale": [
          [
           0,
           "#0d0887"
          ],
          [
           0.1111111111111111,
           "#46039f"
          ],
          [
           0.2222222222222222,
           "#7201a8"
          ],
          [
           0.3333333333333333,
           "#9c179e"
          ],
          [
           0.4444444444444444,
           "#bd3786"
          ],
          [
           0.5555555555555556,
           "#d8576b"
          ],
          [
           0.6666666666666666,
           "#ed7953"
          ],
          [
           0.7777777777777778,
           "#fb9f3a"
          ],
          [
           0.8888888888888888,
           "#fdca26"
          ],
          [
           1,
           "#f0f921"
          ]
         ]
        },
        "height": 600,
        "legend": {
         "tracegroupgap": 0
        },
        "template": {
         "data": {
          "bar": [
           {
            "error_x": {
             "color": "#2a3f5f"
            },
            "error_y": {
             "color": "#2a3f5f"
            },
            "marker": {
             "line": {
              "color": "#E5ECF6",
              "width": 0.5
             },
             "pattern": {
              "fillmode": "overlay",
              "size": 10,
              "solidity": 0.2
             }
            },
            "type": "bar"
           }
          ],
          "barpolar": [
           {
            "marker": {
             "line": {
              "color": "#E5ECF6",
              "width": 0.5
             },
             "pattern": {
              "fillmode": "overlay",
              "size": 10,
              "solidity": 0.2
             }
            },
            "type": "barpolar"
           }
          ],
          "carpet": [
           {
            "aaxis": {
             "endlinecolor": "#2a3f5f",
             "gridcolor": "white",
             "linecolor": "white",
             "minorgridcolor": "white",
             "startlinecolor": "#2a3f5f"
            },
            "baxis": {
             "endlinecolor": "#2a3f5f",
             "gridcolor": "white",
             "linecolor": "white",
             "minorgridcolor": "white",
             "startlinecolor": "#2a3f5f"
            },
            "type": "carpet"
           }
          ],
          "choropleth": [
           {
            "colorbar": {
             "outlinewidth": 0,
             "ticks": ""
            },
            "type": "choropleth"
           }
          ],
          "contour": [
           {
            "colorbar": {
             "outlinewidth": 0,
             "ticks": ""
            },
            "colorscale": [
             [
              0,
              "#0d0887"
             ],
             [
              0.1111111111111111,
              "#46039f"
             ],
             [
              0.2222222222222222,
              "#7201a8"
             ],
             [
              0.3333333333333333,
              "#9c179e"
             ],
             [
              0.4444444444444444,
              "#bd3786"
             ],
             [
              0.5555555555555556,
              "#d8576b"
             ],
             [
              0.6666666666666666,
              "#ed7953"
             ],
             [
              0.7777777777777778,
              "#fb9f3a"
             ],
             [
              0.8888888888888888,
              "#fdca26"
             ],
             [
              1,
              "#f0f921"
             ]
            ],
            "type": "contour"
           }
          ],
          "contourcarpet": [
           {
            "colorbar": {
             "outlinewidth": 0,
             "ticks": ""
            },
            "type": "contourcarpet"
           }
          ],
          "heatmap": [
           {
            "colorbar": {
             "outlinewidth": 0,
             "ticks": ""
            },
            "colorscale": [
             [
              0,
              "#0d0887"
             ],
             [
              0.1111111111111111,
              "#46039f"
             ],
             [
              0.2222222222222222,
              "#7201a8"
             ],
             [
              0.3333333333333333,
              "#9c179e"
             ],
             [
              0.4444444444444444,
              "#bd3786"
             ],
             [
              0.5555555555555556,
              "#d8576b"
             ],
             [
              0.6666666666666666,
              "#ed7953"
             ],
             [
              0.7777777777777778,
              "#fb9f3a"
             ],
             [
              0.8888888888888888,
              "#fdca26"
             ],
             [
              1,
              "#f0f921"
             ]
            ],
            "type": "heatmap"
           }
          ],
          "heatmapgl": [
           {
            "colorbar": {
             "outlinewidth": 0,
             "ticks": ""
            },
            "colorscale": [
             [
              0,
              "#0d0887"
             ],
             [
              0.1111111111111111,
              "#46039f"
             ],
             [
              0.2222222222222222,
              "#7201a8"
             ],
             [
              0.3333333333333333,
              "#9c179e"
             ],
             [
              0.4444444444444444,
              "#bd3786"
             ],
             [
              0.5555555555555556,
              "#d8576b"
             ],
             [
              0.6666666666666666,
              "#ed7953"
             ],
             [
              0.7777777777777778,
              "#fb9f3a"
             ],
             [
              0.8888888888888888,
              "#fdca26"
             ],
             [
              1,
              "#f0f921"
             ]
            ],
            "type": "heatmapgl"
           }
          ],
          "histogram": [
           {
            "marker": {
             "pattern": {
              "fillmode": "overlay",
              "size": 10,
              "solidity": 0.2
             }
            },
            "type": "histogram"
           }
          ],
          "histogram2d": [
           {
            "colorbar": {
             "outlinewidth": 0,
             "ticks": ""
            },
            "colorscale": [
             [
              0,
              "#0d0887"
             ],
             [
              0.1111111111111111,
              "#46039f"
             ],
             [
              0.2222222222222222,
              "#7201a8"
             ],
             [
              0.3333333333333333,
              "#9c179e"
             ],
             [
              0.4444444444444444,
              "#bd3786"
             ],
             [
              0.5555555555555556,
              "#d8576b"
             ],
             [
              0.6666666666666666,
              "#ed7953"
             ],
             [
              0.7777777777777778,
              "#fb9f3a"
             ],
             [
              0.8888888888888888,
              "#fdca26"
             ],
             [
              1,
              "#f0f921"
             ]
            ],
            "type": "histogram2d"
           }
          ],
          "histogram2dcontour": [
           {
            "colorbar": {
             "outlinewidth": 0,
             "ticks": ""
            },
            "colorscale": [
             [
              0,
              "#0d0887"
             ],
             [
              0.1111111111111111,
              "#46039f"
             ],
             [
              0.2222222222222222,
              "#7201a8"
             ],
             [
              0.3333333333333333,
              "#9c179e"
             ],
             [
              0.4444444444444444,
              "#bd3786"
             ],
             [
              0.5555555555555556,
              "#d8576b"
             ],
             [
              0.6666666666666666,
              "#ed7953"
             ],
             [
              0.7777777777777778,
              "#fb9f3a"
             ],
             [
              0.8888888888888888,
              "#fdca26"
             ],
             [
              1,
              "#f0f921"
             ]
            ],
            "type": "histogram2dcontour"
           }
          ],
          "mesh3d": [
           {
            "colorbar": {
             "outlinewidth": 0,
             "ticks": ""
            },
            "type": "mesh3d"
           }
          ],
          "parcoords": [
           {
            "line": {
             "colorbar": {
              "outlinewidth": 0,
              "ticks": ""
             }
            },
            "type": "parcoords"
           }
          ],
          "pie": [
           {
            "automargin": true,
            "type": "pie"
           }
          ],
          "scatter": [
           {
            "marker": {
             "colorbar": {
              "outlinewidth": 0,
              "ticks": ""
             }
            },
            "type": "scatter"
           }
          ],
          "scatter3d": [
           {
            "line": {
             "colorbar": {
              "outlinewidth": 0,
              "ticks": ""
             }
            },
            "marker": {
             "colorbar": {
              "outlinewidth": 0,
              "ticks": ""
             }
            },
            "type": "scatter3d"
           }
          ],
          "scattercarpet": [
           {
            "marker": {
             "colorbar": {
              "outlinewidth": 0,
              "ticks": ""
             }
            },
            "type": "scattercarpet"
           }
          ],
          "scattergeo": [
           {
            "marker": {
             "colorbar": {
              "outlinewidth": 0,
              "ticks": ""
             }
            },
            "type": "scattergeo"
           }
          ],
          "scattergl": [
           {
            "marker": {
             "colorbar": {
              "outlinewidth": 0,
              "ticks": ""
             }
            },
            "type": "scattergl"
           }
          ],
          "scattermapbox": [
           {
            "marker": {
             "colorbar": {
              "outlinewidth": 0,
              "ticks": ""
             }
            },
            "type": "scattermapbox"
           }
          ],
          "scatterpolar": [
           {
            "marker": {
             "colorbar": {
              "outlinewidth": 0,
              "ticks": ""
             }
            },
            "type": "scatterpolar"
           }
          ],
          "scatterpolargl": [
           {
            "marker": {
             "colorbar": {
              "outlinewidth": 0,
              "ticks": ""
             }
            },
            "type": "scatterpolargl"
           }
          ],
          "scatterternary": [
           {
            "marker": {
             "colorbar": {
              "outlinewidth": 0,
              "ticks": ""
             }
            },
            "type": "scatterternary"
           }
          ],
          "surface": [
           {
            "colorbar": {
             "outlinewidth": 0,
             "ticks": ""
            },
            "colorscale": [
             [
              0,
              "#0d0887"
             ],
             [
              0.1111111111111111,
              "#46039f"
             ],
             [
              0.2222222222222222,
              "#7201a8"
             ],
             [
              0.3333333333333333,
              "#9c179e"
             ],
             [
              0.4444444444444444,
              "#bd3786"
             ],
             [
              0.5555555555555556,
              "#d8576b"
             ],
             [
              0.6666666666666666,
              "#ed7953"
             ],
             [
              0.7777777777777778,
              "#fb9f3a"
             ],
             [
              0.8888888888888888,
              "#fdca26"
             ],
             [
              1,
              "#f0f921"
             ]
            ],
            "type": "surface"
           }
          ],
          "table": [
           {
            "cells": {
             "fill": {
              "color": "#EBF0F8"
             },
             "line": {
              "color": "white"
             }
            },
            "header": {
             "fill": {
              "color": "#C8D4E3"
             },
             "line": {
              "color": "white"
             }
            },
            "type": "table"
           }
          ]
         },
         "layout": {
          "annotationdefaults": {
           "arrowcolor": "#2a3f5f",
           "arrowhead": 0,
           "arrowwidth": 1
          },
          "autotypenumbers": "strict",
          "coloraxis": {
           "colorbar": {
            "outlinewidth": 0,
            "ticks": ""
           }
          },
          "colorscale": {
           "diverging": [
            [
             0,
             "#8e0152"
            ],
            [
             0.1,
             "#c51b7d"
            ],
            [
             0.2,
             "#de77ae"
            ],
            [
             0.3,
             "#f1b6da"
            ],
            [
             0.4,
             "#fde0ef"
            ],
            [
             0.5,
             "#f7f7f7"
            ],
            [
             0.6,
             "#e6f5d0"
            ],
            [
             0.7,
             "#b8e186"
            ],
            [
             0.8,
             "#7fbc41"
            ],
            [
             0.9,
             "#4d9221"
            ],
            [
             1,
             "#276419"
            ]
           ],
           "sequential": [
            [
             0,
             "#0d0887"
            ],
            [
             0.1111111111111111,
             "#46039f"
            ],
            [
             0.2222222222222222,
             "#7201a8"
            ],
            [
             0.3333333333333333,
             "#9c179e"
            ],
            [
             0.4444444444444444,
             "#bd3786"
            ],
            [
             0.5555555555555556,
             "#d8576b"
            ],
            [
             0.6666666666666666,
             "#ed7953"
            ],
            [
             0.7777777777777778,
             "#fb9f3a"
            ],
            [
             0.8888888888888888,
             "#fdca26"
            ],
            [
             1,
             "#f0f921"
            ]
           ],
           "sequentialminus": [
            [
             0,
             "#0d0887"
            ],
            [
             0.1111111111111111,
             "#46039f"
            ],
            [
             0.2222222222222222,
             "#7201a8"
            ],
            [
             0.3333333333333333,
             "#9c179e"
            ],
            [
             0.4444444444444444,
             "#bd3786"
            ],
            [
             0.5555555555555556,
             "#d8576b"
            ],
            [
             0.6666666666666666,
             "#ed7953"
            ],
            [
             0.7777777777777778,
             "#fb9f3a"
            ],
            [
             0.8888888888888888,
             "#fdca26"
            ],
            [
             1,
             "#f0f921"
            ]
           ]
          },
          "colorway": [
           "#636efa",
           "#EF553B",
           "#00cc96",
           "#ab63fa",
           "#FFA15A",
           "#19d3f3",
           "#FF6692",
           "#B6E880",
           "#FF97FF",
           "#FECB52"
          ],
          "font": {
           "color": "#2a3f5f"
          },
          "geo": {
           "bgcolor": "white",
           "lakecolor": "white",
           "landcolor": "#E5ECF6",
           "showlakes": true,
           "showland": true,
           "subunitcolor": "white"
          },
          "hoverlabel": {
           "align": "left"
          },
          "hovermode": "closest",
          "mapbox": {
           "style": "light"
          },
          "paper_bgcolor": "white",
          "plot_bgcolor": "#E5ECF6",
          "polar": {
           "angularaxis": {
            "gridcolor": "white",
            "linecolor": "white",
            "ticks": ""
           },
           "bgcolor": "#E5ECF6",
           "radialaxis": {
            "gridcolor": "white",
            "linecolor": "white",
            "ticks": ""
           }
          },
          "scene": {
           "xaxis": {
            "backgroundcolor": "#E5ECF6",
            "gridcolor": "white",
            "gridwidth": 2,
            "linecolor": "white",
            "showbackground": true,
            "ticks": "",
            "zerolinecolor": "white"
           },
           "yaxis": {
            "backgroundcolor": "#E5ECF6",
            "gridcolor": "white",
            "gridwidth": 2,
            "linecolor": "white",
            "showbackground": true,
            "ticks": "",
            "zerolinecolor": "white"
           },
           "zaxis": {
            "backgroundcolor": "#E5ECF6",
            "gridcolor": "white",
            "gridwidth": 2,
            "linecolor": "white",
            "showbackground": true,
            "ticks": "",
            "zerolinecolor": "white"
           }
          },
          "shapedefaults": {
           "line": {
            "color": "#2a3f5f"
           }
          },
          "ternary": {
           "aaxis": {
            "gridcolor": "white",
            "linecolor": "white",
            "ticks": ""
           },
           "baxis": {
            "gridcolor": "white",
            "linecolor": "white",
            "ticks": ""
           },
           "bgcolor": "#E5ECF6",
           "caxis": {
            "gridcolor": "white",
            "linecolor": "white",
            "ticks": ""
           }
          },
          "title": {
           "x": 0.05
          },
          "xaxis": {
           "automargin": true,
           "gridcolor": "white",
           "linecolor": "white",
           "ticks": "",
           "title": {
            "standoff": 15
           },
           "zerolinecolor": "white",
           "zerolinewidth": 2
          },
          "yaxis": {
           "automargin": true,
           "gridcolor": "white",
           "linecolor": "white",
           "ticks": "",
           "title": {
            "standoff": 15
           },
           "zerolinecolor": "white",
           "zerolinewidth": 2
          }
         }
        },
        "title": {
         "text": "Stringency Index during Covid-19"
        },
        "width": 900,
        "xaxis": {
         "anchor": "y",
         "domain": [
          0,
          1
         ],
         "title": {
          "text": "Country"
         }
        },
        "yaxis": {
         "anchor": "x",
         "domain": [
          0,
          1
         ],
         "title": {
          "text": "Total Cases"
         }
        }
       }
      },
      "text/html": [
       "<div>                            <div id=\"9b4c90e3-ba57-463a-b568-033142bf4c23\" class=\"plotly-graph-div\" style=\"height:600px; width:900px;\"></div>            <script type=\"text/javascript\">                require([\"plotly\"], function(Plotly) {                    window.PLOTLYENV=window.PLOTLYENV || {};                                    if (document.getElementById(\"9b4c90e3-ba57-463a-b568-033142bf4c23\")) {                    Plotly.newPlot(                        \"9b4c90e3-ba57-463a-b568-033142bf4c23\",                        [{\"alignmentgroup\":\"True\",\"customdata\":[[19.61763693,26477574.0],[19.17473208,14340567.0],[21.04535251,7247327.0],[18.79866817,2131571.0],[17.3111646,3020038.0],[18.67480153,7295850.0],[17.66042712,5510624.0],[17.8982664,1357682.0],[17.74503716,1936134.0],[18.03334044,7249573.0],[18.24624346,2914070.0],[16.76604717,1283880.0],[17.91752278,6664225.0],[17.99409688,5633444.0],[17.62651421,1077426.0],[18.24375196,1640691.0],[18.25035574,1049757.0],[17.36552634,442507.0],[19.21318595,789557.0],[18.91957173,484534.0],[17.50993717,744253.0],[18.51217534,448665.0],[21.08743924,1066939.0],[19.42689854,916111.0],[17.44628825,1455549.0],[14.87366884,23820.0],[15.97371025,126278.0],[17.59363088,343334.0],[16.26562008,1798461.0],[16.68585306,1083749.0],[16.74812767,161480.0],[16.6566263,1142410.0],[18.44375647,644416.0],[16.1279737,941063.0],[16.27279152,578559.0],[16.77238152,464952.0],[16.19948244,209024.0],[15.26725623,69104.0],[16.06145345,88409.0],[15.27755412,222435.0],[16.10707515,58035.0],[15.44604869,73391.0],[16.13757538,302612.0],[17.44905184,304001.0],[15.58201085,4691.0],[17.42400819,142270.0],[18.65556675,194918.0],[16.70118056,281588.0],[15.97360361,320693.0],[14.34706955,22413.0],[16.10851066,200844.0],[19.1440641,125473.0],[14.9017918,102039.0],[17.18751281,27737.0],[15.41242964,310201.0],[16.18659339,79880.0],[17.4772331,165875.0],[16.01344599,134945.0],[17.25184806,29143.0],[17.59630906,206429.0],[18.56012597,77686.0],[17.1631645,40840.0],[15.21025983,129946.0],[15.44359631,50352.0],[17.32613614,31903.0],[15.69102752,114922.0],[16.13191719,59495.0],[15.73310882,87503.0],[14.86662585,54940.0],[17.75260041,63333.0],[17.80025043,59485.0],[15.44502871,21522.0],[15.57202326,113280.0],[17.05418434,65029.0],[15.68518756,71957.0],[17.09438451,56606.0],[15.78017657,42850.0],[15.73616766,22983.0],[15.00360243,70578.0],[17.08805131,14220.0],[15.5058355,47158.0],[15.75402845,72850.0],[15.74286198,29730.0],[17.29261899,24012.0],[14.54950213,74066.0],[16.08354044,110142.0],[17.59626861,102825.0],[16.63354636,30320.0],[15.52763465,58377.0],[17.13661869,17744.0],[16.15953083,44805.0],[14.47446683,47571.0],[15.22778158,28757.0],[18.31043503,32040.0],[16.39062287,7283.0],[13.34706731,21907.0],[16.72698889,26475.0],[16.07075684,9730.0],[14.87253667,31056.0],[14.61559461,6877.0],[16.24934608,23891.0],[16.28518664,19025.0],[13.20032762,3054.0],[15.35230466,19810.0],[15.51289396,6055.0],[13.80344,8006.0],[16.13820607,5653.0],[14.7480352,6634.0],[13.35039417,11356.0],[18.06114425,11162.0],[17.81205473,13973.0],[16.51438055,15984.0],[15.39030816,7108.0],[16.24266591,16774.0],[14.15411267,8947.0],[14.54736486,22165.0],[16.76676599,15480.0],[15.70629361,16410.0],[17.25770384,3396.0],[16.5814031,15001.0],[14.81698436,14345.0],[15.52354271,9298.0],[13.22850199,4749.0],[17.63850561,3748.0],[16.87952045,2108.0],[14.09808385,11802.0],[13.96407193,8179.0],[15.199095,4013.0],[12.74037063,1968.0],[16.82370654,18813.0],[16.37677691,1744.0],[14.90109198,5653.0],[13.28215639,6961.0],[16.23086427,6063.0],[14.49252734,4199.0],[17.3079574,11820.0],[15.89207108,10036.0],[16.67774898,12098.0],[14.45007584,5376.0],[15.38874766,4145.0],[12.99802163,2409.0],[16.31063137,4374.0],[15.06073864,6083.0],[12.88219574,5998.0],[13.68300607,3735.0],[16.85541655,10248.0],[14.69789863,7201.0],[17.21088998,64304.0],[14.15161916,4519.0],[11.25499635,9850.0],[11.5783948,1624.0],[14.67061714,895.0],[17.00213737,11676.0],[15.92920098,4197.0],[13.57542301,5783.0],[12.03636915,2715.0],[15.43641784,10087.0],[16.61436742,12212.0],[10.43229061,8596.0],[18.39370601,2318.0],[12.2975619,2198.0],[14.57736817,2680.0],[12.89325457,1613.0],[11.55620524,1833.0],[16.98590072,1423.0],[12.54576825,260.0],[17.9054155,3733.0],[14.05591783,1988.0],[11.52359831,5527.0],[11.35078294,4310.0],[10.79681667,0.0],[13.67578287,920.0],[11.11322372,2450.0],[16.29127395,188.0],[10.66620744,3146.0],[10.42498602,0.0],[10.56405989,476.0],[15.00283311,0.0],[15.08145118,0.0],[16.63205462,0.0],[16.00683186,417.0],[11.09315857,213.0],[12.98879313,475.0],[11.03928322,1631.0],[12.56852934,1321.0],[13.55623711,0.0],[10.57755385,192.0],[10.54894022,198.0],[12.00823128,207.0],[11.49618614,0.0],[11.49198779,568.0],[11.61680789,0.0],[10.96053104,396.0],[10.1743159,48.0],[13.7061911,132.0],[14.09196129,0.0],[10.31682162,183.0],[12.56196578,0.0],[11.63087738,0.0],[12.1206727,0.0],[15.80003079,0.0],[11.18429639,0.0],[10.88166329,0.0],[10.94679853,0.0],[8.15564927,0.0],[6.695798917,0.0],[8.516993171,177.0],[9.615938805,0.0],[13.43991197,0.0],[15.8300119,0.0]],\"hovertemplate\":\"Country=%{x}<br>Total Cases=%{y}<br>Population=%{customdata[0]}<br>Total Deaths=%{customdata[1]}<br>Stringency Index=%{marker.color}<extra></extra>\",\"legendgroup\":\"\",\"marker\":{\"color\":[3.3509486690850343,3.136027957462585,3.6105521148129256,3.380088191482993,3.4301264381156464,3.0192894045204084,3.393922273142857,3.3643329908979593,3.3579230454251703,3.3538831399625852,3.207064113278912,2.989193634731293,3.629838088122449,3.3857936759115645,3.4754380163809526,3.28451614412585,3.0414184019965984,3.2633605816360545,3.38580207355102,3.186409532867346,3.6382597844795925,3.67810238272449,3.8925538979353735,3.6401493643061213,3.286389158969388,3.561580438853742,3.5793130338673467,3.0981180947312925,3.4200551236938774,3.4756814307823136,3.279181903081632,2.922922530493197,3.079215255792518,2.75164141155102,3.2593630045034017,3.3440225178673466,3.329886860812925,3.6756516780068034,1.7777885856122446,3.347952237411565,3.2094847001292517,3.730139465272109,3.266071855346939,2.854065180411564,3.7307369099183667,3.2886413599217685,3.178413736503401,3.4795448106666664,3.12802378279932,3.672654081911565,3.310703392435374,3.504160797792516,0.0,3.677210356482993,3.3750440923061227,3.2069219557006803,3.0496734543605446,2.999125721982993,2.845124538520408,3.195168482772109,3.106953683829932,3.235751674234694,2.9956552940374146,3.052990643608844,3.130970957227891,3.1833747295,3.5610048554761904,3.0738407065272106,3.0402436258537415,3.422536914673469,3.332929539568027,3.2563697529931965,3.069241891969387,3.6220902177993195,3.228307817353741,2.9765738832653064,3.171279047295919,3.4019439833571425,3.0345279388299318,2.8512348956428575,3.1960380252551017,2.8532486089081637,3.411850270965986,3.6216474627346935,0.0,3.01363418397619,3.196909016653061,2.66599380340136,3.101641431479592,2.957421466741496,3.1346855279761905,3.1763816652925168,3.1440618902551023,3.0745801085034015,3.0001857734659865,2.905672398506803,2.645104184595238,2.240074461547619,3.0056236545748294,3.1221241128979584,2.7754449377074826,2.8630195453367344,0.0,2.6605094333877557,2.8965280817040817,2.910019280119047,3.179010039955782,2.996030525765306,0.0,3.060495103527211,3.1433438754523806,3.1611319515748297,2.9648505104047618,3.1526094456394556,0.0,3.0012790250646257,2.7483170985986396,1.7787903315544213,2.8819963542414953,2.5585456688027213,2.79028876255102,3.029772100969388,2.988857297673469,3.177188289904762,3.2125340412482988,2.5380262833979588,3.061297157204082,3.6389395285034007,3.174260733585034,2.7711030407380943,3.0920467206394555,3.239694818312925,3.167167094068027,2.71822275794898,0.0,2.965559714153062,2.5651667428537417,2.829461847836735,3.0254631613775507,3.233197103585034,0.0,2.7188522499115644,2.777736691469387,0.0,3.110623018248299,2.8844738915544217,3.1054073187108853,2.3695679034965984,3.0174295116428564,2.6776539695340142,2.7689076071326535,2.8325677352210885,2.2517598853673464,2.9374114366496604,3.139448600384354,2.8180347343673473,3.148329587809524,2.983968134125851,3.080051874061225,3.710868429755102,0.0,2.2233248549795923,2.8959699335272107,0.0,2.963287182741497,0.0,2.402485587190476,2.5070728676870746,0.0,0.0,0.0,0.0,0.0,1.689712130088435,0.0,2.2786489774285714,2.2971052494115645,3.0700195609013603,3.2501682509489793,2.875571929306122,2.67551761532653,1.5389167769829932,2.8664489886020412,2.846286835465986,2.9471776484217687,3.187371286312924,0.0,0.0,0.0,2.5486704868707477,0.0,0.0,0.0,0.0,3.427270103061224,2.5767618823639458,2.2406592542244894,0.0,0.0,0.0,2.516711985833333,2.6819666489727885,0.0,2.5884353651666667,2.1229575531768705,0.0,2.477076521632654,2.3261806732925168,0.0,0.6439803426292516],\"coloraxis\":\"coloraxis\",\"pattern\":{\"shape\":\"\"}},\"name\":\"\",\"offsetgroup\":\"\",\"orientation\":\"v\",\"showlegend\":false,\"textposition\":\"auto\",\"x\":[\"United States\",\"Brazil\",\"India\",\"Russia\",\"Peru\",\"Mexico\",\"Spain\",\"South Africa\",\"Colombia\",\"United Kingdom\",\"Iran\",\"Chile\",\"Italy\",\"France\",\"Argentina\",\"Germany\",\"Turkey\",\"Saudi Arabia\",\"Pakistan\",\"Bangladesh\",\"Iraq\",\"Philippines\",\"China\",\"Indonesia\",\"Canada\",\"Qatar\",\"Israel\",\"Ukraine\",\"Belgium\",\"Ecuador\",\"Kazakhstan\",\"Netherlands\",\"Egypt\",\"Sweden\",\"Bolivia\",\"Romania\",\"Dominican Republic\",\"Kuwait\",\"Belarus\",\"Panama\",\"United Arab Emirates\",\"Oman\",\"Portugal\",\"Poland\",\"Singapore\",\"Morocco\",\"Japan\",\"Guatemala\",\"Switzerland\",\"Bahrain\",\"Honduras\",\"Nigeria\",\"Armenia\",\"Nepal\",\"Ireland\",\"Czech Republic\",\"Afghanistan\",\"Austria\",\"Ghana\",\"Algeria\",\"Ethiopia\",\"Venezuela\",\"Moldova\",\"Costa Rica\",\"Uzbekistan\",\"Kyrgyzstan\",\"Azerbaijan\",\"Serbia\",\"Puerto Rico\",\"South Korea\",\"Kenya\",\"Palestine\",\"Denmark\",\"Australia\",\"El Salvador\",\"Cameroon\",\"Paraguay\",\"Lebanon\",\"Bosnia and Herzegovina\",\"Cote d'Ivoire\",\"Norway\",\"Bulgaria\",\"Libya\",\"Malaysia\",\"Macedonia\",\"Hungary\",\"Sudan\",\"Senegal\",\"Finland\",\"Madagascar\",\"Greece\",\"Kosovo\",\"Croatia\",\"Democratic Republic of Congo\",\"Guinea\",\"Luxembourg\",\"Zambia\",\"Tajikistan\",\"Albania\",\"Gabon\",\"Haiti\",\"Tunisia\",\"Maldives\",\"Mauritania\",\"Slovakia\",\"Djibouti\",\"Jordan\",\"Namibia\",\"Montenegro\",\"Thailand\",\"Myanmar\",\"Zimbabwe\",\"Central African Republic\",\"Cuba\",\"Equatorial Guinea\",\"Slovenia\",\"Malawi\",\"Nicaragua\",\"Mozambique\",\"Somalia\",\"Lithuania\",\"Congo\",\"Cape Verde\",\"Uganda\",\"Sri Lanka\",\"Estonia\",\"Swaziland\",\"Georgia\",\"Iceland\",\"Mali\",\"Rwanda\",\"Jamaica\",\"Suriname\",\"South Sudan\",\"Guinea-Bissau\",\"Angola\",\"Sierra Leone\",\"Syria\",\"Latvia\",\"New Zealand\",\"Malta\",\"Benin\",\"Uruguay\",\"Bahamas\",\"Cyprus\",\"Burkina Faso\",\"Gambia\",\"Yemen\",\"Trinidad and Tobago\",\"Andorra\",\"Aruba\",\"Botswana\",\"Niger\",\"Togo\",\"Guyana\",\"Guam\",\"Liberia\",\"Chad\",\"San Marino\",\"Vietnam\",\"Sao Tome and Principe\",\"Lesotho\",\"Belize\",\"United States Virgin Islands\",\"Taiwan\",\"French Polynesia\",\"Tanzania\",\"Mauritius\",\"Jersey\",\"Isle of Man\",\"Faeroe Islands\",\"Comoros\",\"Guernsey\",\"Burundi\",\"Sint Maarten (Dutch part)\",\"Gibraltar\",\"Turks and Caicos Islands\",\"Mongolia\",\"Eritrea\",\"Cambodia\",\"Papua New Guinea\",\"Cayman Islands\",\"Brunei\",\"Bermuda\",\"Barbados\",\"Bhutan\",\"Monaco\",\"Liechtenstein\",\"Curacao\",\"Seychelles\",\"Antigua and Barbuda\",\"Saint Vincent and the Grenadines\",\"Northern Mariana Islands\",\"Bonaire Sint Eustatius and Saba\",\"Fiji\",\"Timor\",\"British Virgin Islands\",\"New Caledonia\",\"Grenada\",\"Saint Lucia\",\"Laos\",\"Dominica\",\"Saint Kitts and Nevis\",\"Greenland\",\"Falkland Islands\",\"Vatican\",\"Montserrat\",\"Anguilla\",\"Solomon Islands\",\"Hong Kong\"],\"xaxis\":\"x\",\"y\":[746014098.0,425704517.0,407771615.0,132888951.0,74882695.0,74347548.0,73717676.0,63027659.0,60543682.0,59475032.0,52421884.0,51268034.0,50752853.0,50084335.0,47155234.0,42447678.0,41431948.0,38585191.0,37738077.0,35266178.0,25280332.0,22409936.0,21632319.0,21570149.0,20902374.0,16351440.0,16202474.0,15805665.0,15192468.0,14408757.0,13194863.0,13026629.0,12422845.0,11910109.0,11858838.0,10672859.0,10649646.0,10622205.0,10595186.0,10371724.0,10247326.0,10060093.0,9266263.0,9239657.0,8191161.0,7839270.0,7659484.0,7644426.0,7552067.0,6549995.0,6545499.0,6107371.0,5474629.0,5243653.0,5239798.0,5213980.0,5126433.0,4909197.0,4900649.0,4893999.0,4876417.0,4839834.0,4632482.0,4631835.0,4421215.0,4287847.0,4236782.0,3984174.0,3586463.0,3333075.0,3277734.0,3249458.0,3030088.0,3012377.0,2573206.0,2476502.0,2265640.0,2220699.0,2200057.0,2132883.0,1985889.0,1890380.0,1817274.0,1774181.0,1724220.0,1708798.0,1663545.0,1586747.0,1458484.0,1443321.0,1421470.0,1345940.0,1314031.0,1271391.0,1195836.0,1146724.0,1129913.0,1117391.0,1071951.0,1031803.0,1023155.0,1000626.0,844040.0,799222.0,798665.0,781771.0,716514.0,681299.0,675912.0,655703.0,644209.0,593699.0,593048.0,581546.0,557355.0,547075.0,536447.0,524410.0,510578.0,491145.0,488057.0,473368.0,463888.0,448728.0,446643.0,445402.0,444238.0,431689.0,421210.0,390637.0,388775.0,370890.0,358632.0,333500.0,306564.0,304005.0,268396.0,267902.0,255964.0,253203.0,251261.0,245893.0,239884.0,237908.0,236673.0,231452.0,229521.0,228925.0,225550.0,223576.0,215110.0,205758.0,199978.0,169903.0,166917.0,160975.0,159880.0,154173.0,134994.0,122618.0,121909.0,107948.0,106383.0,98536.0,97074.0,95388.0,91526.0,69524.0,66777.0,64935.0,56893.0,52437.0,49814.0,49745.0,48026.0,45340.0,44432.0,42465.0,40026.0,39539.0,35966.0,33173.0,30140.0,28876.0,24998.0,22847.0,21511.0,19885.0,19777.0,14701.0,12619.0,7824.0,7784.0,5080.0,4742.0,4697.0,4605.0,4495.0,4470.0,4450.0,4039.0,3977.0,3246.0,2678.0,2467.0,2415.0,2383.0,614.0,11.0,0.0],\"yaxis\":\"y\",\"type\":\"bar\"}],                        {\"template\":{\"data\":{\"bar\":[{\"error_x\":{\"color\":\"#2a3f5f\"},\"error_y\":{\"color\":\"#2a3f5f\"},\"marker\":{\"line\":{\"color\":\"#E5ECF6\",\"width\":0.5},\"pattern\":{\"fillmode\":\"overlay\",\"size\":10,\"solidity\":0.2}},\"type\":\"bar\"}],\"barpolar\":[{\"marker\":{\"line\":{\"color\":\"#E5ECF6\",\"width\":0.5},\"pattern\":{\"fillmode\":\"overlay\",\"size\":10,\"solidity\":0.2}},\"type\":\"barpolar\"}],\"carpet\":[{\"aaxis\":{\"endlinecolor\":\"#2a3f5f\",\"gridcolor\":\"white\",\"linecolor\":\"white\",\"minorgridcolor\":\"white\",\"startlinecolor\":\"#2a3f5f\"},\"baxis\":{\"endlinecolor\":\"#2a3f5f\",\"gridcolor\":\"white\",\"linecolor\":\"white\",\"minorgridcolor\":\"white\",\"startlinecolor\":\"#2a3f5f\"},\"type\":\"carpet\"}],\"choropleth\":[{\"colorbar\":{\"outlinewidth\":0,\"ticks\":\"\"},\"type\":\"choropleth\"}],\"contour\":[{\"colorbar\":{\"outlinewidth\":0,\"ticks\":\"\"},\"colorscale\":[[0.0,\"#0d0887\"],[0.1111111111111111,\"#46039f\"],[0.2222222222222222,\"#7201a8\"],[0.3333333333333333,\"#9c179e\"],[0.4444444444444444,\"#bd3786\"],[0.5555555555555556,\"#d8576b\"],[0.6666666666666666,\"#ed7953\"],[0.7777777777777778,\"#fb9f3a\"],[0.8888888888888888,\"#fdca26\"],[1.0,\"#f0f921\"]],\"type\":\"contour\"}],\"contourcarpet\":[{\"colorbar\":{\"outlinewidth\":0,\"ticks\":\"\"},\"type\":\"contourcarpet\"}],\"heatmap\":[{\"colorbar\":{\"outlinewidth\":0,\"ticks\":\"\"},\"colorscale\":[[0.0,\"#0d0887\"],[0.1111111111111111,\"#46039f\"],[0.2222222222222222,\"#7201a8\"],[0.3333333333333333,\"#9c179e\"],[0.4444444444444444,\"#bd3786\"],[0.5555555555555556,\"#d8576b\"],[0.6666666666666666,\"#ed7953\"],[0.7777777777777778,\"#fb9f3a\"],[0.8888888888888888,\"#fdca26\"],[1.0,\"#f0f921\"]],\"type\":\"heatmap\"}],\"heatmapgl\":[{\"colorbar\":{\"outlinewidth\":0,\"ticks\":\"\"},\"colorscale\":[[0.0,\"#0d0887\"],[0.1111111111111111,\"#46039f\"],[0.2222222222222222,\"#7201a8\"],[0.3333333333333333,\"#9c179e\"],[0.4444444444444444,\"#bd3786\"],[0.5555555555555556,\"#d8576b\"],[0.6666666666666666,\"#ed7953\"],[0.7777777777777778,\"#fb9f3a\"],[0.8888888888888888,\"#fdca26\"],[1.0,\"#f0f921\"]],\"type\":\"heatmapgl\"}],\"histogram\":[{\"marker\":{\"pattern\":{\"fillmode\":\"overlay\",\"size\":10,\"solidity\":0.2}},\"type\":\"histogram\"}],\"histogram2d\":[{\"colorbar\":{\"outlinewidth\":0,\"ticks\":\"\"},\"colorscale\":[[0.0,\"#0d0887\"],[0.1111111111111111,\"#46039f\"],[0.2222222222222222,\"#7201a8\"],[0.3333333333333333,\"#9c179e\"],[0.4444444444444444,\"#bd3786\"],[0.5555555555555556,\"#d8576b\"],[0.6666666666666666,\"#ed7953\"],[0.7777777777777778,\"#fb9f3a\"],[0.8888888888888888,\"#fdca26\"],[1.0,\"#f0f921\"]],\"type\":\"histogram2d\"}],\"histogram2dcontour\":[{\"colorbar\":{\"outlinewidth\":0,\"ticks\":\"\"},\"colorscale\":[[0.0,\"#0d0887\"],[0.1111111111111111,\"#46039f\"],[0.2222222222222222,\"#7201a8\"],[0.3333333333333333,\"#9c179e\"],[0.4444444444444444,\"#bd3786\"],[0.5555555555555556,\"#d8576b\"],[0.6666666666666666,\"#ed7953\"],[0.7777777777777778,\"#fb9f3a\"],[0.8888888888888888,\"#fdca26\"],[1.0,\"#f0f921\"]],\"type\":\"histogram2dcontour\"}],\"mesh3d\":[{\"colorbar\":{\"outlinewidth\":0,\"ticks\":\"\"},\"type\":\"mesh3d\"}],\"parcoords\":[{\"line\":{\"colorbar\":{\"outlinewidth\":0,\"ticks\":\"\"}},\"type\":\"parcoords\"}],\"pie\":[{\"automargin\":true,\"type\":\"pie\"}],\"scatter\":[{\"marker\":{\"colorbar\":{\"outlinewidth\":0,\"ticks\":\"\"}},\"type\":\"scatter\"}],\"scatter3d\":[{\"line\":{\"colorbar\":{\"outlinewidth\":0,\"ticks\":\"\"}},\"marker\":{\"colorbar\":{\"outlinewidth\":0,\"ticks\":\"\"}},\"type\":\"scatter3d\"}],\"scattercarpet\":[{\"marker\":{\"colorbar\":{\"outlinewidth\":0,\"ticks\":\"\"}},\"type\":\"scattercarpet\"}],\"scattergeo\":[{\"marker\":{\"colorbar\":{\"outlinewidth\":0,\"ticks\":\"\"}},\"type\":\"scattergeo\"}],\"scattergl\":[{\"marker\":{\"colorbar\":{\"outlinewidth\":0,\"ticks\":\"\"}},\"type\":\"scattergl\"}],\"scattermapbox\":[{\"marker\":{\"colorbar\":{\"outlinewidth\":0,\"ticks\":\"\"}},\"type\":\"scattermapbox\"}],\"scatterpolar\":[{\"marker\":{\"colorbar\":{\"outlinewidth\":0,\"ticks\":\"\"}},\"type\":\"scatterpolar\"}],\"scatterpolargl\":[{\"marker\":{\"colorbar\":{\"outlinewidth\":0,\"ticks\":\"\"}},\"type\":\"scatterpolargl\"}],\"scatterternary\":[{\"marker\":{\"colorbar\":{\"outlinewidth\":0,\"ticks\":\"\"}},\"type\":\"scatterternary\"}],\"surface\":[{\"colorbar\":{\"outlinewidth\":0,\"ticks\":\"\"},\"colorscale\":[[0.0,\"#0d0887\"],[0.1111111111111111,\"#46039f\"],[0.2222222222222222,\"#7201a8\"],[0.3333333333333333,\"#9c179e\"],[0.4444444444444444,\"#bd3786\"],[0.5555555555555556,\"#d8576b\"],[0.6666666666666666,\"#ed7953\"],[0.7777777777777778,\"#fb9f3a\"],[0.8888888888888888,\"#fdca26\"],[1.0,\"#f0f921\"]],\"type\":\"surface\"}],\"table\":[{\"cells\":{\"fill\":{\"color\":\"#EBF0F8\"},\"line\":{\"color\":\"white\"}},\"header\":{\"fill\":{\"color\":\"#C8D4E3\"},\"line\":{\"color\":\"white\"}},\"type\":\"table\"}]},\"layout\":{\"annotationdefaults\":{\"arrowcolor\":\"#2a3f5f\",\"arrowhead\":0,\"arrowwidth\":1},\"autotypenumbers\":\"strict\",\"coloraxis\":{\"colorbar\":{\"outlinewidth\":0,\"ticks\":\"\"}},\"colorscale\":{\"diverging\":[[0,\"#8e0152\"],[0.1,\"#c51b7d\"],[0.2,\"#de77ae\"],[0.3,\"#f1b6da\"],[0.4,\"#fde0ef\"],[0.5,\"#f7f7f7\"],[0.6,\"#e6f5d0\"],[0.7,\"#b8e186\"],[0.8,\"#7fbc41\"],[0.9,\"#4d9221\"],[1,\"#276419\"]],\"sequential\":[[0.0,\"#0d0887\"],[0.1111111111111111,\"#46039f\"],[0.2222222222222222,\"#7201a8\"],[0.3333333333333333,\"#9c179e\"],[0.4444444444444444,\"#bd3786\"],[0.5555555555555556,\"#d8576b\"],[0.6666666666666666,\"#ed7953\"],[0.7777777777777778,\"#fb9f3a\"],[0.8888888888888888,\"#fdca26\"],[1.0,\"#f0f921\"]],\"sequentialminus\":[[0.0,\"#0d0887\"],[0.1111111111111111,\"#46039f\"],[0.2222222222222222,\"#7201a8\"],[0.3333333333333333,\"#9c179e\"],[0.4444444444444444,\"#bd3786\"],[0.5555555555555556,\"#d8576b\"],[0.6666666666666666,\"#ed7953\"],[0.7777777777777778,\"#fb9f3a\"],[0.8888888888888888,\"#fdca26\"],[1.0,\"#f0f921\"]]},\"colorway\":[\"#636efa\",\"#EF553B\",\"#00cc96\",\"#ab63fa\",\"#FFA15A\",\"#19d3f3\",\"#FF6692\",\"#B6E880\",\"#FF97FF\",\"#FECB52\"],\"font\":{\"color\":\"#2a3f5f\"},\"geo\":{\"bgcolor\":\"white\",\"lakecolor\":\"white\",\"landcolor\":\"#E5ECF6\",\"showlakes\":true,\"showland\":true,\"subunitcolor\":\"white\"},\"hoverlabel\":{\"align\":\"left\"},\"hovermode\":\"closest\",\"mapbox\":{\"style\":\"light\"},\"paper_bgcolor\":\"white\",\"plot_bgcolor\":\"#E5ECF6\",\"polar\":{\"angularaxis\":{\"gridcolor\":\"white\",\"linecolor\":\"white\",\"ticks\":\"\"},\"bgcolor\":\"#E5ECF6\",\"radialaxis\":{\"gridcolor\":\"white\",\"linecolor\":\"white\",\"ticks\":\"\"}},\"scene\":{\"xaxis\":{\"backgroundcolor\":\"#E5ECF6\",\"gridcolor\":\"white\",\"gridwidth\":2,\"linecolor\":\"white\",\"showbackground\":true,\"ticks\":\"\",\"zerolinecolor\":\"white\"},\"yaxis\":{\"backgroundcolor\":\"#E5ECF6\",\"gridcolor\":\"white\",\"gridwidth\":2,\"linecolor\":\"white\",\"showbackground\":true,\"ticks\":\"\",\"zerolinecolor\":\"white\"},\"zaxis\":{\"backgroundcolor\":\"#E5ECF6\",\"gridcolor\":\"white\",\"gridwidth\":2,\"linecolor\":\"white\",\"showbackground\":true,\"ticks\":\"\",\"zerolinecolor\":\"white\"}},\"shapedefaults\":{\"line\":{\"color\":\"#2a3f5f\"}},\"ternary\":{\"aaxis\":{\"gridcolor\":\"white\",\"linecolor\":\"white\",\"ticks\":\"\"},\"baxis\":{\"gridcolor\":\"white\",\"linecolor\":\"white\",\"ticks\":\"\"},\"bgcolor\":\"#E5ECF6\",\"caxis\":{\"gridcolor\":\"white\",\"linecolor\":\"white\",\"ticks\":\"\"}},\"title\":{\"x\":0.05},\"xaxis\":{\"automargin\":true,\"gridcolor\":\"white\",\"linecolor\":\"white\",\"ticks\":\"\",\"title\":{\"standoff\":15},\"zerolinecolor\":\"white\",\"zerolinewidth\":2},\"yaxis\":{\"automargin\":true,\"gridcolor\":\"white\",\"linecolor\":\"white\",\"ticks\":\"\",\"title\":{\"standoff\":15},\"zerolinecolor\":\"white\",\"zerolinewidth\":2}}},\"xaxis\":{\"anchor\":\"y\",\"domain\":[0.0,1.0],\"title\":{\"text\":\"Country\"}},\"yaxis\":{\"anchor\":\"x\",\"domain\":[0.0,1.0],\"title\":{\"text\":\"Total Cases\"}},\"coloraxis\":{\"colorbar\":{\"title\":{\"text\":\"Stringency Index\"}},\"colorscale\":[[0.0,\"#0d0887\"],[0.1111111111111111,\"#46039f\"],[0.2222222222222222,\"#7201a8\"],[0.3333333333333333,\"#9c179e\"],[0.4444444444444444,\"#bd3786\"],[0.5555555555555556,\"#d8576b\"],[0.6666666666666666,\"#ed7953\"],[0.7777777777777778,\"#fb9f3a\"],[0.8888888888888888,\"#fdca26\"],[1.0,\"#f0f921\"]]},\"legend\":{\"tracegroupgap\":0},\"title\":{\"text\":\"Stringency Index during Covid-19\"},\"barmode\":\"relative\",\"height\":600,\"width\":900},                        {\"responsive\": true}                    ).then(function(){\n",
       "                            \n",
       "var gd = document.getElementById('9b4c90e3-ba57-463a-b568-033142bf4c23');\n",
       "var x = new MutationObserver(function (mutations, observer) {{\n",
       "        var display = window.getComputedStyle(gd).display;\n",
       "        if (!display || display === 'none') {{\n",
       "            console.log([gd, 'removed!']);\n",
       "            Plotly.purge(gd);\n",
       "            observer.disconnect();\n",
       "        }}\n",
       "}});\n",
       "\n",
       "// Listen for the removal of the full notebook cells\n",
       "var notebookContainer = gd.closest('#notebook-container');\n",
       "if (notebookContainer) {{\n",
       "    x.observe(notebookContainer, {childList: true});\n",
       "}}\n",
       "\n",
       "// Listen for the clearing of the current output cell\n",
       "var outputEl = gd.closest('.output');\n",
       "if (outputEl) {{\n",
       "    x.observe(outputEl, {childList: true});\n",
       "}}\n",
       "\n",
       "                        })                };                });            </script>        </div>"
      ]
     },
     "metadata": {},
     "output_type": "display_data"
    }
   ],
   "source": [
    "#Stringency Index of countries.\n",
    "\n",
    "fr = px.bar(transf, x='Country', y='Total Cases', color='Stringency Index', hover_data=['Population', 'Total Deaths'], height= 600, width=900,  title=\"Stringency Index during Covid-19\")\n",
    "\n",
    "fr.show()"
   ]
  },
  {
   "cell_type": "markdown",
   "id": "6609bd0b",
   "metadata": {},
   "source": [
    "We can see that India and Brazil are performing well in the stringency index during the outbreak of covid-19.\n",
    "\n",
    "Stringency index is basically a measure of response indicators, including school closures, workplace closure, restriction of movement and travel bans.It show how strictly countries are following these measures to control the spread of covid-19."
   ]
  },
  {
   "cell_type": "markdown",
   "id": "e45d05b0",
   "metadata": {},
   "source": [
    "# Analyzing Covid-19 Impacts on Economy."
   ]
  },
  {
   "cell_type": "code",
   "execution_count": 36,
   "id": "611083fd",
   "metadata": {},
   "outputs": [
    {
     "data": {
      "application/vnd.plotly.v1+json": {
       "config": {
        "plotlyServerURL": "https://plot.ly"
       },
       "data": [
        {
         "alignmentgroup": "True",
         "customdata": [
          [
           19.61763693,
           26477574
          ],
          [
           19.17473208,
           14340567
          ],
          [
           21.04535251,
           7247327
          ],
          [
           18.79866817,
           2131571
          ],
          [
           17.3111646,
           3020038
          ],
          [
           18.67480153,
           7295850
          ],
          [
           17.66042712,
           5510624
          ],
          [
           17.8982664,
           1357682
          ],
          [
           17.74503716,
           1936134
          ],
          [
           18.03334044,
           7249573
          ],
          [
           18.24624346,
           2914070
          ],
          [
           16.76604717,
           1283880
          ],
          [
           17.91752278,
           6664225
          ],
          [
           17.99409688,
           5633444
          ],
          [
           17.62651421,
           1077426
          ],
          [
           18.24375196,
           1640691
          ],
          [
           18.25035574,
           1049757
          ],
          [
           17.36552634,
           442507
          ],
          [
           19.21318595,
           789557
          ],
          [
           18.91957173,
           484534
          ],
          [
           17.50993717,
           744253
          ],
          [
           18.51217534,
           448665
          ],
          [
           21.08743924,
           1066939
          ],
          [
           19.42689854,
           916111
          ],
          [
           17.44628825,
           1455549
          ],
          [
           14.87366884,
           23820
          ],
          [
           15.97371025,
           126278
          ],
          [
           17.59363088,
           343334
          ],
          [
           16.26562008,
           1798461
          ],
          [
           16.68585306,
           1083749
          ],
          [
           16.74812767,
           161480
          ],
          [
           16.6566263,
           1142410
          ],
          [
           18.44375647,
           644416
          ],
          [
           16.1279737,
           941063
          ],
          [
           16.27279152,
           578559
          ],
          [
           16.77238152,
           464952
          ],
          [
           16.19948244,
           209024
          ],
          [
           15.26725623,
           69104
          ],
          [
           16.06145345,
           88409
          ],
          [
           15.27755412,
           222435
          ],
          [
           16.10707515,
           58035
          ],
          [
           15.44604869,
           73391
          ],
          [
           16.13757538,
           302612
          ],
          [
           17.44905184,
           304001
          ],
          [
           15.58201085,
           4691
          ],
          [
           17.42400819,
           142270
          ],
          [
           18.65556675,
           194918
          ],
          [
           16.70118056,
           281588
          ],
          [
           15.97360361,
           320693
          ],
          [
           14.34706955,
           22413
          ],
          [
           16.10851066,
           200844
          ],
          [
           19.1440641,
           125473
          ],
          [
           14.9017918,
           102039
          ],
          [
           17.18751281,
           27737
          ],
          [
           15.41242964,
           310201
          ],
          [
           16.18659339,
           79880
          ],
          [
           17.4772331,
           165875
          ],
          [
           16.01344599,
           134945
          ],
          [
           17.25184806,
           29143
          ],
          [
           17.59630906,
           206429
          ],
          [
           18.56012597,
           77686
          ],
          [
           17.1631645,
           40840
          ],
          [
           15.21025983,
           129946
          ],
          [
           15.44359631,
           50352
          ],
          [
           17.32613614,
           31903
          ],
          [
           15.69102752,
           114922
          ],
          [
           16.13191719,
           59495
          ],
          [
           15.73310882,
           87503
          ],
          [
           14.86662585,
           54940
          ],
          [
           17.75260041,
           63333
          ],
          [
           17.80025043,
           59485
          ],
          [
           15.44502871,
           21522
          ],
          [
           15.57202326,
           113280
          ],
          [
           17.05418434,
           65029
          ],
          [
           15.68518756,
           71957
          ],
          [
           17.09438451,
           56606
          ],
          [
           15.78017657,
           42850
          ],
          [
           15.73616766,
           22983
          ],
          [
           15.00360243,
           70578
          ],
          [
           17.08805131,
           14220
          ],
          [
           15.5058355,
           47158
          ],
          [
           15.75402845,
           72850
          ],
          [
           15.74286198,
           29730
          ],
          [
           17.29261899,
           24012
          ],
          [
           14.54950213,
           74066
          ],
          [
           16.08354044,
           110142
          ],
          [
           17.59626861,
           102825
          ],
          [
           16.63354636,
           30320
          ],
          [
           15.52763465,
           58377
          ],
          [
           17.13661869,
           17744
          ],
          [
           16.15953083,
           44805
          ],
          [
           14.47446683,
           47571
          ],
          [
           15.22778158,
           28757
          ],
          [
           18.31043503,
           32040
          ],
          [
           16.39062287,
           7283
          ],
          [
           13.34706731,
           21907
          ],
          [
           16.72698889,
           26475
          ],
          [
           16.07075684,
           9730
          ],
          [
           14.87253667,
           31056
          ],
          [
           14.61559461,
           6877
          ],
          [
           16.24934608,
           23891
          ],
          [
           16.28518664,
           19025
          ],
          [
           13.20032762,
           3054
          ],
          [
           15.35230466,
           19810
          ],
          [
           15.51289396,
           6055
          ],
          [
           13.80344,
           8006
          ],
          [
           16.13820607,
           5653
          ],
          [
           14.7480352,
           6634
          ],
          [
           13.35039417,
           11356
          ],
          [
           18.06114425,
           11162
          ],
          [
           17.81205473,
           13973
          ],
          [
           16.51438055,
           15984
          ],
          [
           15.39030816,
           7108
          ],
          [
           16.24266591,
           16774
          ],
          [
           14.15411267,
           8947
          ],
          [
           14.54736486,
           22165
          ],
          [
           16.76676599,
           15480
          ],
          [
           15.70629361,
           16410
          ],
          [
           17.25770384,
           3396
          ],
          [
           16.5814031,
           15001
          ],
          [
           14.81698436,
           14345
          ],
          [
           15.52354271,
           9298
          ],
          [
           13.22850199,
           4749
          ],
          [
           17.63850561,
           3748
          ],
          [
           16.87952045,
           2108
          ],
          [
           14.09808385,
           11802
          ],
          [
           13.96407193,
           8179
          ],
          [
           15.199095,
           4013
          ],
          [
           12.74037063,
           1968
          ],
          [
           16.82370654,
           18813
          ],
          [
           16.37677691,
           1744
          ],
          [
           14.90109198,
           5653
          ],
          [
           13.28215639,
           6961
          ],
          [
           16.23086427,
           6063
          ],
          [
           14.49252734,
           4199
          ],
          [
           17.3079574,
           11820
          ],
          [
           15.89207108,
           10036
          ],
          [
           16.67774898,
           12098
          ],
          [
           14.45007584,
           5376
          ],
          [
           15.38874766,
           4145
          ],
          [
           12.99802163,
           2409
          ],
          [
           16.31063137,
           4374
          ],
          [
           15.06073864,
           6083
          ],
          [
           12.88219574,
           5998
          ],
          [
           13.68300607,
           3735
          ],
          [
           16.85541655,
           10248
          ],
          [
           14.69789863,
           7201
          ],
          [
           17.21088998,
           64304
          ],
          [
           14.15161916,
           4519
          ],
          [
           11.25499635,
           9850
          ],
          [
           11.5783948,
           1624
          ],
          [
           14.67061714,
           895
          ],
          [
           17.00213737,
           11676
          ],
          [
           15.92920098,
           4197
          ],
          [
           13.57542301,
           5783
          ],
          [
           12.03636915,
           2715
          ],
          [
           15.43641784,
           10087
          ],
          [
           16.61436742,
           12212
          ],
          [
           10.43229061,
           8596
          ],
          [
           18.39370601,
           2318
          ],
          [
           12.2975619,
           2198
          ],
          [
           14.57736817,
           2680
          ],
          [
           12.89325457,
           1613
          ],
          [
           11.55620524,
           1833
          ],
          [
           16.98590072,
           1423
          ],
          [
           12.54576825,
           260
          ],
          [
           17.9054155,
           3733
          ],
          [
           14.05591783,
           1988
          ],
          [
           11.52359831,
           5527
          ],
          [
           11.35078294,
           4310
          ],
          [
           10.79681667,
           0
          ],
          [
           13.67578287,
           920
          ],
          [
           11.11322372,
           2450
          ],
          [
           16.29127395,
           188
          ],
          [
           10.66620744,
           3146
          ],
          [
           10.42498602,
           0
          ],
          [
           10.56405989,
           476
          ],
          [
           15.00283311,
           0
          ],
          [
           15.08145118,
           0
          ],
          [
           16.63205462,
           0
          ],
          [
           16.00683186,
           417
          ],
          [
           11.09315857,
           213
          ],
          [
           12.98879313,
           475
          ],
          [
           11.03928322,
           1631
          ],
          [
           12.56852934,
           1321
          ],
          [
           13.55623711,
           0
          ],
          [
           10.57755385,
           192
          ],
          [
           10.54894022,
           198
          ],
          [
           12.00823128,
           207
          ],
          [
           11.49618614,
           0
          ],
          [
           11.49198779,
           568
          ],
          [
           11.61680789,
           0
          ],
          [
           10.96053104,
           396
          ],
          [
           10.1743159,
           48
          ],
          [
           13.7061911,
           132
          ],
          [
           14.09196129,
           0
          ],
          [
           10.31682162,
           183
          ],
          [
           12.56196578,
           0
          ],
          [
           11.63087738,
           0
          ],
          [
           12.1206727,
           0
          ],
          [
           15.80003079,
           0
          ],
          [
           11.18429639,
           0
          ],
          [
           10.88166329,
           0
          ],
          [
           10.94679853,
           0
          ],
          [
           8.15564927,
           0
          ],
          [
           6.695798917,
           0
          ],
          [
           8.516993171,
           177
          ],
          [
           9.615938805,
           0
          ],
          [
           13.43991197,
           0
          ],
          [
           15.8300119,
           0
          ]
         ],
         "hovertemplate": "Country=%{x}<br>Total Cases=%{y}<br>Population=%{customdata[0]}<br>Total Deaths=%{customdata[1]}<br>GDP Before Covid=%{marker.color}<extra></extra>",
         "legendgroup": "",
         "marker": {
          "color": [
           65279.53,
           8897.49,
           2100.75,
           11497.65,
           7027.61,
           9946.03,
           29564.74,
           6001.4,
           6424.98,
           42354.41,
           18909.459,
           18909.459,
           18909.459,
           18909.459,
           18909.459,
           18909.459,
           18909.459,
           18909.459,
           18909.459,
           18909.459,
           18909.459,
           18909.459,
           18909.459,
           18909.459,
           18909.459,
           18909.459,
           18909.459,
           18909.459,
           18909.459,
           18909.459,
           18909.459,
           18909.459,
           18909.459,
           18909.459,
           18909.459,
           18909.459,
           18909.459,
           18909.459,
           18909.459,
           18909.459,
           18909.459,
           18909.459,
           18909.459,
           18909.459,
           18909.459,
           18909.459,
           18909.459,
           18909.459,
           18909.459,
           18909.459,
           18909.459,
           18909.459,
           18909.459,
           18909.459,
           18909.459,
           18909.459,
           18909.459,
           18909.459,
           18909.459,
           18909.459,
           18909.459,
           18909.459,
           18909.459,
           18909.459,
           18909.459,
           18909.459,
           18909.459,
           18909.459,
           18909.459,
           18909.459,
           18909.459,
           18909.459,
           18909.459,
           18909.459,
           18909.459,
           18909.459,
           18909.459,
           18909.459,
           18909.459,
           18909.459,
           18909.459,
           18909.459,
           18909.459,
           18909.459,
           18909.459,
           18909.459,
           18909.459,
           18909.459,
           18909.459,
           18909.459,
           18909.459,
           18909.459,
           18909.459,
           18909.459,
           18909.459,
           18909.459,
           18909.459,
           18909.459,
           18909.459,
           18909.459,
           18909.459,
           18909.459,
           18909.459,
           18909.459,
           18909.459,
           18909.459,
           18909.459,
           18909.459,
           18909.459,
           18909.459,
           18909.459,
           18909.459,
           18909.459,
           18909.459,
           18909.459,
           18909.459,
           18909.459,
           18909.459,
           18909.459,
           18909.459,
           18909.459,
           18909.459,
           18909.459,
           18909.459,
           18909.459,
           18909.459,
           18909.459,
           18909.459,
           18909.459,
           18909.459,
           18909.459,
           18909.459,
           18909.459,
           18909.459,
           18909.459,
           18909.459,
           18909.459,
           18909.459,
           18909.459,
           18909.459,
           18909.459,
           18909.459,
           18909.459,
           18909.459,
           18909.459,
           18909.459,
           18909.459,
           18909.459,
           18909.459,
           18909.459,
           18909.459,
           18909.459,
           18909.459,
           18909.459,
           18909.459,
           18909.459,
           18909.459,
           18909.459,
           18909.459,
           18909.459,
           18909.459,
           18909.459,
           18909.459,
           18909.459,
           18909.459,
           18909.459,
           18909.459,
           18909.459,
           18909.459,
           18909.459,
           18909.459,
           18909.459,
           18909.459,
           18909.459,
           18909.459,
           18909.459,
           18909.459,
           18909.459,
           18909.459,
           18909.459,
           18909.459,
           18909.459,
           18909.459,
           18909.459,
           18909.459,
           18909.459,
           18909.459,
           18909.459,
           18909.459,
           18909.459,
           18909.459,
           18909.459,
           18909.459,
           18909.459,
           18909.459,
           18909.459,
           18909.459,
           18909.459,
           18909.459,
           18909.459,
           18909.459,
           18909.459,
           18909.459,
           18909.459,
           18909.459,
           18909.459,
           18909.459,
           18909.459,
           18909.459,
           18909.459
          ],
          "coloraxis": "coloraxis",
          "pattern": {
           "shape": ""
          }
         },
         "name": "",
         "offsetgroup": "",
         "orientation": "v",
         "showlegend": false,
         "textposition": "auto",
         "type": "bar",
         "x": [
          "United States",
          "Brazil",
          "India",
          "Russia",
          "Peru",
          "Mexico",
          "Spain",
          "South Africa",
          "Colombia",
          "United Kingdom",
          "Iran",
          "Chile",
          "Italy",
          "France",
          "Argentina",
          "Germany",
          "Turkey",
          "Saudi Arabia",
          "Pakistan",
          "Bangladesh",
          "Iraq",
          "Philippines",
          "China",
          "Indonesia",
          "Canada",
          "Qatar",
          "Israel",
          "Ukraine",
          "Belgium",
          "Ecuador",
          "Kazakhstan",
          "Netherlands",
          "Egypt",
          "Sweden",
          "Bolivia",
          "Romania",
          "Dominican Republic",
          "Kuwait",
          "Belarus",
          "Panama",
          "United Arab Emirates",
          "Oman",
          "Portugal",
          "Poland",
          "Singapore",
          "Morocco",
          "Japan",
          "Guatemala",
          "Switzerland",
          "Bahrain",
          "Honduras",
          "Nigeria",
          "Armenia",
          "Nepal",
          "Ireland",
          "Czech Republic",
          "Afghanistan",
          "Austria",
          "Ghana",
          "Algeria",
          "Ethiopia",
          "Venezuela",
          "Moldova",
          "Costa Rica",
          "Uzbekistan",
          "Kyrgyzstan",
          "Azerbaijan",
          "Serbia",
          "Puerto Rico",
          "South Korea",
          "Kenya",
          "Palestine",
          "Denmark",
          "Australia",
          "El Salvador",
          "Cameroon",
          "Paraguay",
          "Lebanon",
          "Bosnia and Herzegovina",
          "Cote d'Ivoire",
          "Norway",
          "Bulgaria",
          "Libya",
          "Malaysia",
          "Macedonia",
          "Hungary",
          "Sudan",
          "Senegal",
          "Finland",
          "Madagascar",
          "Greece",
          "Kosovo",
          "Croatia",
          "Democratic Republic of Congo",
          "Guinea",
          "Luxembourg",
          "Zambia",
          "Tajikistan",
          "Albania",
          "Gabon",
          "Haiti",
          "Tunisia",
          "Maldives",
          "Mauritania",
          "Slovakia",
          "Djibouti",
          "Jordan",
          "Namibia",
          "Montenegro",
          "Thailand",
          "Myanmar",
          "Zimbabwe",
          "Central African Republic",
          "Cuba",
          "Equatorial Guinea",
          "Slovenia",
          "Malawi",
          "Nicaragua",
          "Mozambique",
          "Somalia",
          "Lithuania",
          "Congo",
          "Cape Verde",
          "Uganda",
          "Sri Lanka",
          "Estonia",
          "Swaziland",
          "Georgia",
          "Iceland",
          "Mali",
          "Rwanda",
          "Jamaica",
          "Suriname",
          "South Sudan",
          "Guinea-Bissau",
          "Angola",
          "Sierra Leone",
          "Syria",
          "Latvia",
          "New Zealand",
          "Malta",
          "Benin",
          "Uruguay",
          "Bahamas",
          "Cyprus",
          "Burkina Faso",
          "Gambia",
          "Yemen",
          "Trinidad and Tobago",
          "Andorra",
          "Aruba",
          "Botswana",
          "Niger",
          "Togo",
          "Guyana",
          "Guam",
          "Liberia",
          "Chad",
          "San Marino",
          "Vietnam",
          "Sao Tome and Principe",
          "Lesotho",
          "Belize",
          "United States Virgin Islands",
          "Taiwan",
          "French Polynesia",
          "Tanzania",
          "Mauritius",
          "Jersey",
          "Isle of Man",
          "Faeroe Islands",
          "Comoros",
          "Guernsey",
          "Burundi",
          "Sint Maarten (Dutch part)",
          "Gibraltar",
          "Turks and Caicos Islands",
          "Mongolia",
          "Eritrea",
          "Cambodia",
          "Papua New Guinea",
          "Cayman Islands",
          "Brunei",
          "Bermuda",
          "Barbados",
          "Bhutan",
          "Monaco",
          "Liechtenstein",
          "Curacao",
          "Seychelles",
          "Antigua and Barbuda",
          "Saint Vincent and the Grenadines",
          "Northern Mariana Islands",
          "Bonaire Sint Eustatius and Saba",
          "Fiji",
          "Timor",
          "British Virgin Islands",
          "New Caledonia",
          "Grenada",
          "Saint Lucia",
          "Laos",
          "Dominica",
          "Saint Kitts and Nevis",
          "Greenland",
          "Falkland Islands",
          "Vatican",
          "Montserrat",
          "Anguilla",
          "Solomon Islands",
          "Hong Kong"
         ],
         "xaxis": "x",
         "y": [
          746014098,
          425704517,
          407771615,
          132888951,
          74882695,
          74347548,
          73717676,
          63027659,
          60543682,
          59475032,
          52421884,
          51268034,
          50752853,
          50084335,
          47155234,
          42447678,
          41431948,
          38585191,
          37738077,
          35266178,
          25280332,
          22409936,
          21632319,
          21570149,
          20902374,
          16351440,
          16202474,
          15805665,
          15192468,
          14408757,
          13194863,
          13026629,
          12422845,
          11910109,
          11858838,
          10672859,
          10649646,
          10622205,
          10595186,
          10371724,
          10247326,
          10060093,
          9266263,
          9239657,
          8191161,
          7839270,
          7659484,
          7644426,
          7552067,
          6549995,
          6545499,
          6107371,
          5474629,
          5243653,
          5239798,
          5213980,
          5126433,
          4909197,
          4900649,
          4893999,
          4876417,
          4839834,
          4632482,
          4631835,
          4421215,
          4287847,
          4236782,
          3984174,
          3586463,
          3333075,
          3277734,
          3249458,
          3030088,
          3012377,
          2573206,
          2476502,
          2265640,
          2220699,
          2200057,
          2132883,
          1985889,
          1890380,
          1817274,
          1774181,
          1724220,
          1708798,
          1663545,
          1586747,
          1458484,
          1443321,
          1421470,
          1345940,
          1314031,
          1271391,
          1195836,
          1146724,
          1129913,
          1117391,
          1071951,
          1031803,
          1023155,
          1000626,
          844040,
          799222,
          798665,
          781771,
          716514,
          681299,
          675912,
          655703,
          644209,
          593699,
          593048,
          581546,
          557355,
          547075,
          536447,
          524410,
          510578,
          491145,
          488057,
          473368,
          463888,
          448728,
          446643,
          445402,
          444238,
          431689,
          421210,
          390637,
          388775,
          370890,
          358632,
          333500,
          306564,
          304005,
          268396,
          267902,
          255964,
          253203,
          251261,
          245893,
          239884,
          237908,
          236673,
          231452,
          229521,
          228925,
          225550,
          223576,
          215110,
          205758,
          199978,
          169903,
          166917,
          160975,
          159880,
          154173,
          134994,
          122618,
          121909,
          107948,
          106383,
          98536,
          97074,
          95388,
          91526,
          69524,
          66777,
          64935,
          56893,
          52437,
          49814,
          49745,
          48026,
          45340,
          44432,
          42465,
          40026,
          39539,
          35966,
          33173,
          30140,
          28876,
          24998,
          22847,
          21511,
          19885,
          19777,
          14701,
          12619,
          7824,
          7784,
          5080,
          4742,
          4697,
          4605,
          4495,
          4470,
          4450,
          4039,
          3977,
          3246,
          2678,
          2467,
          2415,
          2383,
          614,
          11,
          0
         ],
         "yaxis": "y"
        }
       ],
       "layout": {
        "barmode": "relative",
        "coloraxis": {
         "colorbar": {
          "title": {
           "text": "GDP Before Covid"
          }
         },
         "colorscale": [
          [
           0,
           "#0d0887"
          ],
          [
           0.1111111111111111,
           "#46039f"
          ],
          [
           0.2222222222222222,
           "#7201a8"
          ],
          [
           0.3333333333333333,
           "#9c179e"
          ],
          [
           0.4444444444444444,
           "#bd3786"
          ],
          [
           0.5555555555555556,
           "#d8576b"
          ],
          [
           0.6666666666666666,
           "#ed7953"
          ],
          [
           0.7777777777777778,
           "#fb9f3a"
          ],
          [
           0.8888888888888888,
           "#fdca26"
          ],
          [
           1,
           "#f0f921"
          ]
         ]
        },
        "height": 600,
        "legend": {
         "tracegroupgap": 0
        },
        "template": {
         "data": {
          "bar": [
           {
            "error_x": {
             "color": "#2a3f5f"
            },
            "error_y": {
             "color": "#2a3f5f"
            },
            "marker": {
             "line": {
              "color": "#E5ECF6",
              "width": 0.5
             },
             "pattern": {
              "fillmode": "overlay",
              "size": 10,
              "solidity": 0.2
             }
            },
            "type": "bar"
           }
          ],
          "barpolar": [
           {
            "marker": {
             "line": {
              "color": "#E5ECF6",
              "width": 0.5
             },
             "pattern": {
              "fillmode": "overlay",
              "size": 10,
              "solidity": 0.2
             }
            },
            "type": "barpolar"
           }
          ],
          "carpet": [
           {
            "aaxis": {
             "endlinecolor": "#2a3f5f",
             "gridcolor": "white",
             "linecolor": "white",
             "minorgridcolor": "white",
             "startlinecolor": "#2a3f5f"
            },
            "baxis": {
             "endlinecolor": "#2a3f5f",
             "gridcolor": "white",
             "linecolor": "white",
             "minorgridcolor": "white",
             "startlinecolor": "#2a3f5f"
            },
            "type": "carpet"
           }
          ],
          "choropleth": [
           {
            "colorbar": {
             "outlinewidth": 0,
             "ticks": ""
            },
            "type": "choropleth"
           }
          ],
          "contour": [
           {
            "colorbar": {
             "outlinewidth": 0,
             "ticks": ""
            },
            "colorscale": [
             [
              0,
              "#0d0887"
             ],
             [
              0.1111111111111111,
              "#46039f"
             ],
             [
              0.2222222222222222,
              "#7201a8"
             ],
             [
              0.3333333333333333,
              "#9c179e"
             ],
             [
              0.4444444444444444,
              "#bd3786"
             ],
             [
              0.5555555555555556,
              "#d8576b"
             ],
             [
              0.6666666666666666,
              "#ed7953"
             ],
             [
              0.7777777777777778,
              "#fb9f3a"
             ],
             [
              0.8888888888888888,
              "#fdca26"
             ],
             [
              1,
              "#f0f921"
             ]
            ],
            "type": "contour"
           }
          ],
          "contourcarpet": [
           {
            "colorbar": {
             "outlinewidth": 0,
             "ticks": ""
            },
            "type": "contourcarpet"
           }
          ],
          "heatmap": [
           {
            "colorbar": {
             "outlinewidth": 0,
             "ticks": ""
            },
            "colorscale": [
             [
              0,
              "#0d0887"
             ],
             [
              0.1111111111111111,
              "#46039f"
             ],
             [
              0.2222222222222222,
              "#7201a8"
             ],
             [
              0.3333333333333333,
              "#9c179e"
             ],
             [
              0.4444444444444444,
              "#bd3786"
             ],
             [
              0.5555555555555556,
              "#d8576b"
             ],
             [
              0.6666666666666666,
              "#ed7953"
             ],
             [
              0.7777777777777778,
              "#fb9f3a"
             ],
             [
              0.8888888888888888,
              "#fdca26"
             ],
             [
              1,
              "#f0f921"
             ]
            ],
            "type": "heatmap"
           }
          ],
          "heatmapgl": [
           {
            "colorbar": {
             "outlinewidth": 0,
             "ticks": ""
            },
            "colorscale": [
             [
              0,
              "#0d0887"
             ],
             [
              0.1111111111111111,
              "#46039f"
             ],
             [
              0.2222222222222222,
              "#7201a8"
             ],
             [
              0.3333333333333333,
              "#9c179e"
             ],
             [
              0.4444444444444444,
              "#bd3786"
             ],
             [
              0.5555555555555556,
              "#d8576b"
             ],
             [
              0.6666666666666666,
              "#ed7953"
             ],
             [
              0.7777777777777778,
              "#fb9f3a"
             ],
             [
              0.8888888888888888,
              "#fdca26"
             ],
             [
              1,
              "#f0f921"
             ]
            ],
            "type": "heatmapgl"
           }
          ],
          "histogram": [
           {
            "marker": {
             "pattern": {
              "fillmode": "overlay",
              "size": 10,
              "solidity": 0.2
             }
            },
            "type": "histogram"
           }
          ],
          "histogram2d": [
           {
            "colorbar": {
             "outlinewidth": 0,
             "ticks": ""
            },
            "colorscale": [
             [
              0,
              "#0d0887"
             ],
             [
              0.1111111111111111,
              "#46039f"
             ],
             [
              0.2222222222222222,
              "#7201a8"
             ],
             [
              0.3333333333333333,
              "#9c179e"
             ],
             [
              0.4444444444444444,
              "#bd3786"
             ],
             [
              0.5555555555555556,
              "#d8576b"
             ],
             [
              0.6666666666666666,
              "#ed7953"
             ],
             [
              0.7777777777777778,
              "#fb9f3a"
             ],
             [
              0.8888888888888888,
              "#fdca26"
             ],
             [
              1,
              "#f0f921"
             ]
            ],
            "type": "histogram2d"
           }
          ],
          "histogram2dcontour": [
           {
            "colorbar": {
             "outlinewidth": 0,
             "ticks": ""
            },
            "colorscale": [
             [
              0,
              "#0d0887"
             ],
             [
              0.1111111111111111,
              "#46039f"
             ],
             [
              0.2222222222222222,
              "#7201a8"
             ],
             [
              0.3333333333333333,
              "#9c179e"
             ],
             [
              0.4444444444444444,
              "#bd3786"
             ],
             [
              0.5555555555555556,
              "#d8576b"
             ],
             [
              0.6666666666666666,
              "#ed7953"
             ],
             [
              0.7777777777777778,
              "#fb9f3a"
             ],
             [
              0.8888888888888888,
              "#fdca26"
             ],
             [
              1,
              "#f0f921"
             ]
            ],
            "type": "histogram2dcontour"
           }
          ],
          "mesh3d": [
           {
            "colorbar": {
             "outlinewidth": 0,
             "ticks": ""
            },
            "type": "mesh3d"
           }
          ],
          "parcoords": [
           {
            "line": {
             "colorbar": {
              "outlinewidth": 0,
              "ticks": ""
             }
            },
            "type": "parcoords"
           }
          ],
          "pie": [
           {
            "automargin": true,
            "type": "pie"
           }
          ],
          "scatter": [
           {
            "marker": {
             "colorbar": {
              "outlinewidth": 0,
              "ticks": ""
             }
            },
            "type": "scatter"
           }
          ],
          "scatter3d": [
           {
            "line": {
             "colorbar": {
              "outlinewidth": 0,
              "ticks": ""
             }
            },
            "marker": {
             "colorbar": {
              "outlinewidth": 0,
              "ticks": ""
             }
            },
            "type": "scatter3d"
           }
          ],
          "scattercarpet": [
           {
            "marker": {
             "colorbar": {
              "outlinewidth": 0,
              "ticks": ""
             }
            },
            "type": "scattercarpet"
           }
          ],
          "scattergeo": [
           {
            "marker": {
             "colorbar": {
              "outlinewidth": 0,
              "ticks": ""
             }
            },
            "type": "scattergeo"
           }
          ],
          "scattergl": [
           {
            "marker": {
             "colorbar": {
              "outlinewidth": 0,
              "ticks": ""
             }
            },
            "type": "scattergl"
           }
          ],
          "scattermapbox": [
           {
            "marker": {
             "colorbar": {
              "outlinewidth": 0,
              "ticks": ""
             }
            },
            "type": "scattermapbox"
           }
          ],
          "scatterpolar": [
           {
            "marker": {
             "colorbar": {
              "outlinewidth": 0,
              "ticks": ""
             }
            },
            "type": "scatterpolar"
           }
          ],
          "scatterpolargl": [
           {
            "marker": {
             "colorbar": {
              "outlinewidth": 0,
              "ticks": ""
             }
            },
            "type": "scatterpolargl"
           }
          ],
          "scatterternary": [
           {
            "marker": {
             "colorbar": {
              "outlinewidth": 0,
              "ticks": ""
             }
            },
            "type": "scatterternary"
           }
          ],
          "surface": [
           {
            "colorbar": {
             "outlinewidth": 0,
             "ticks": ""
            },
            "colorscale": [
             [
              0,
              "#0d0887"
             ],
             [
              0.1111111111111111,
              "#46039f"
             ],
             [
              0.2222222222222222,
              "#7201a8"
             ],
             [
              0.3333333333333333,
              "#9c179e"
             ],
             [
              0.4444444444444444,
              "#bd3786"
             ],
             [
              0.5555555555555556,
              "#d8576b"
             ],
             [
              0.6666666666666666,
              "#ed7953"
             ],
             [
              0.7777777777777778,
              "#fb9f3a"
             ],
             [
              0.8888888888888888,
              "#fdca26"
             ],
             [
              1,
              "#f0f921"
             ]
            ],
            "type": "surface"
           }
          ],
          "table": [
           {
            "cells": {
             "fill": {
              "color": "#EBF0F8"
             },
             "line": {
              "color": "white"
             }
            },
            "header": {
             "fill": {
              "color": "#C8D4E3"
             },
             "line": {
              "color": "white"
             }
            },
            "type": "table"
           }
          ]
         },
         "layout": {
          "annotationdefaults": {
           "arrowcolor": "#2a3f5f",
           "arrowhead": 0,
           "arrowwidth": 1
          },
          "autotypenumbers": "strict",
          "coloraxis": {
           "colorbar": {
            "outlinewidth": 0,
            "ticks": ""
           }
          },
          "colorscale": {
           "diverging": [
            [
             0,
             "#8e0152"
            ],
            [
             0.1,
             "#c51b7d"
            ],
            [
             0.2,
             "#de77ae"
            ],
            [
             0.3,
             "#f1b6da"
            ],
            [
             0.4,
             "#fde0ef"
            ],
            [
             0.5,
             "#f7f7f7"
            ],
            [
             0.6,
             "#e6f5d0"
            ],
            [
             0.7,
             "#b8e186"
            ],
            [
             0.8,
             "#7fbc41"
            ],
            [
             0.9,
             "#4d9221"
            ],
            [
             1,
             "#276419"
            ]
           ],
           "sequential": [
            [
             0,
             "#0d0887"
            ],
            [
             0.1111111111111111,
             "#46039f"
            ],
            [
             0.2222222222222222,
             "#7201a8"
            ],
            [
             0.3333333333333333,
             "#9c179e"
            ],
            [
             0.4444444444444444,
             "#bd3786"
            ],
            [
             0.5555555555555556,
             "#d8576b"
            ],
            [
             0.6666666666666666,
             "#ed7953"
            ],
            [
             0.7777777777777778,
             "#fb9f3a"
            ],
            [
             0.8888888888888888,
             "#fdca26"
            ],
            [
             1,
             "#f0f921"
            ]
           ],
           "sequentialminus": [
            [
             0,
             "#0d0887"
            ],
            [
             0.1111111111111111,
             "#46039f"
            ],
            [
             0.2222222222222222,
             "#7201a8"
            ],
            [
             0.3333333333333333,
             "#9c179e"
            ],
            [
             0.4444444444444444,
             "#bd3786"
            ],
            [
             0.5555555555555556,
             "#d8576b"
            ],
            [
             0.6666666666666666,
             "#ed7953"
            ],
            [
             0.7777777777777778,
             "#fb9f3a"
            ],
            [
             0.8888888888888888,
             "#fdca26"
            ],
            [
             1,
             "#f0f921"
            ]
           ]
          },
          "colorway": [
           "#636efa",
           "#EF553B",
           "#00cc96",
           "#ab63fa",
           "#FFA15A",
           "#19d3f3",
           "#FF6692",
           "#B6E880",
           "#FF97FF",
           "#FECB52"
          ],
          "font": {
           "color": "#2a3f5f"
          },
          "geo": {
           "bgcolor": "white",
           "lakecolor": "white",
           "landcolor": "#E5ECF6",
           "showlakes": true,
           "showland": true,
           "subunitcolor": "white"
          },
          "hoverlabel": {
           "align": "left"
          },
          "hovermode": "closest",
          "mapbox": {
           "style": "light"
          },
          "paper_bgcolor": "white",
          "plot_bgcolor": "#E5ECF6",
          "polar": {
           "angularaxis": {
            "gridcolor": "white",
            "linecolor": "white",
            "ticks": ""
           },
           "bgcolor": "#E5ECF6",
           "radialaxis": {
            "gridcolor": "white",
            "linecolor": "white",
            "ticks": ""
           }
          },
          "scene": {
           "xaxis": {
            "backgroundcolor": "#E5ECF6",
            "gridcolor": "white",
            "gridwidth": 2,
            "linecolor": "white",
            "showbackground": true,
            "ticks": "",
            "zerolinecolor": "white"
           },
           "yaxis": {
            "backgroundcolor": "#E5ECF6",
            "gridcolor": "white",
            "gridwidth": 2,
            "linecolor": "white",
            "showbackground": true,
            "ticks": "",
            "zerolinecolor": "white"
           },
           "zaxis": {
            "backgroundcolor": "#E5ECF6",
            "gridcolor": "white",
            "gridwidth": 2,
            "linecolor": "white",
            "showbackground": true,
            "ticks": "",
            "zerolinecolor": "white"
           }
          },
          "shapedefaults": {
           "line": {
            "color": "#2a3f5f"
           }
          },
          "ternary": {
           "aaxis": {
            "gridcolor": "white",
            "linecolor": "white",
            "ticks": ""
           },
           "baxis": {
            "gridcolor": "white",
            "linecolor": "white",
            "ticks": ""
           },
           "bgcolor": "#E5ECF6",
           "caxis": {
            "gridcolor": "white",
            "linecolor": "white",
            "ticks": ""
           }
          },
          "title": {
           "x": 0.05
          },
          "xaxis": {
           "automargin": true,
           "gridcolor": "white",
           "linecolor": "white",
           "ticks": "",
           "title": {
            "standoff": 15
           },
           "zerolinecolor": "white",
           "zerolinewidth": 2
          },
          "yaxis": {
           "automargin": true,
           "gridcolor": "white",
           "linecolor": "white",
           "ticks": "",
           "title": {
            "standoff": 15
           },
           "zerolinecolor": "white",
           "zerolinewidth": 2
          }
         }
        },
        "title": {
         "text": "GDP Per Capita Before Covid-19"
        },
        "xaxis": {
         "anchor": "y",
         "domain": [
          0,
          1
         ],
         "title": {
          "text": "Country"
         }
        },
        "yaxis": {
         "anchor": "x",
         "domain": [
          0,
          1
         ],
         "title": {
          "text": "Total Cases"
         }
        }
       }
      },
      "text/html": [
       "<div>                            <div id=\"cee70d63-ac92-43fa-bc07-a675e47b0984\" class=\"plotly-graph-div\" style=\"height:600px; width:100%;\"></div>            <script type=\"text/javascript\">                require([\"plotly\"], function(Plotly) {                    window.PLOTLYENV=window.PLOTLYENV || {};                                    if (document.getElementById(\"cee70d63-ac92-43fa-bc07-a675e47b0984\")) {                    Plotly.newPlot(                        \"cee70d63-ac92-43fa-bc07-a675e47b0984\",                        [{\"alignmentgroup\":\"True\",\"customdata\":[[19.61763693,26477574.0],[19.17473208,14340567.0],[21.04535251,7247327.0],[18.79866817,2131571.0],[17.3111646,3020038.0],[18.67480153,7295850.0],[17.66042712,5510624.0],[17.8982664,1357682.0],[17.74503716,1936134.0],[18.03334044,7249573.0],[18.24624346,2914070.0],[16.76604717,1283880.0],[17.91752278,6664225.0],[17.99409688,5633444.0],[17.62651421,1077426.0],[18.24375196,1640691.0],[18.25035574,1049757.0],[17.36552634,442507.0],[19.21318595,789557.0],[18.91957173,484534.0],[17.50993717,744253.0],[18.51217534,448665.0],[21.08743924,1066939.0],[19.42689854,916111.0],[17.44628825,1455549.0],[14.87366884,23820.0],[15.97371025,126278.0],[17.59363088,343334.0],[16.26562008,1798461.0],[16.68585306,1083749.0],[16.74812767,161480.0],[16.6566263,1142410.0],[18.44375647,644416.0],[16.1279737,941063.0],[16.27279152,578559.0],[16.77238152,464952.0],[16.19948244,209024.0],[15.26725623,69104.0],[16.06145345,88409.0],[15.27755412,222435.0],[16.10707515,58035.0],[15.44604869,73391.0],[16.13757538,302612.0],[17.44905184,304001.0],[15.58201085,4691.0],[17.42400819,142270.0],[18.65556675,194918.0],[16.70118056,281588.0],[15.97360361,320693.0],[14.34706955,22413.0],[16.10851066,200844.0],[19.1440641,125473.0],[14.9017918,102039.0],[17.18751281,27737.0],[15.41242964,310201.0],[16.18659339,79880.0],[17.4772331,165875.0],[16.01344599,134945.0],[17.25184806,29143.0],[17.59630906,206429.0],[18.56012597,77686.0],[17.1631645,40840.0],[15.21025983,129946.0],[15.44359631,50352.0],[17.32613614,31903.0],[15.69102752,114922.0],[16.13191719,59495.0],[15.73310882,87503.0],[14.86662585,54940.0],[17.75260041,63333.0],[17.80025043,59485.0],[15.44502871,21522.0],[15.57202326,113280.0],[17.05418434,65029.0],[15.68518756,71957.0],[17.09438451,56606.0],[15.78017657,42850.0],[15.73616766,22983.0],[15.00360243,70578.0],[17.08805131,14220.0],[15.5058355,47158.0],[15.75402845,72850.0],[15.74286198,29730.0],[17.29261899,24012.0],[14.54950213,74066.0],[16.08354044,110142.0],[17.59626861,102825.0],[16.63354636,30320.0],[15.52763465,58377.0],[17.13661869,17744.0],[16.15953083,44805.0],[14.47446683,47571.0],[15.22778158,28757.0],[18.31043503,32040.0],[16.39062287,7283.0],[13.34706731,21907.0],[16.72698889,26475.0],[16.07075684,9730.0],[14.87253667,31056.0],[14.61559461,6877.0],[16.24934608,23891.0],[16.28518664,19025.0],[13.20032762,3054.0],[15.35230466,19810.0],[15.51289396,6055.0],[13.80344,8006.0],[16.13820607,5653.0],[14.7480352,6634.0],[13.35039417,11356.0],[18.06114425,11162.0],[17.81205473,13973.0],[16.51438055,15984.0],[15.39030816,7108.0],[16.24266591,16774.0],[14.15411267,8947.0],[14.54736486,22165.0],[16.76676599,15480.0],[15.70629361,16410.0],[17.25770384,3396.0],[16.5814031,15001.0],[14.81698436,14345.0],[15.52354271,9298.0],[13.22850199,4749.0],[17.63850561,3748.0],[16.87952045,2108.0],[14.09808385,11802.0],[13.96407193,8179.0],[15.199095,4013.0],[12.74037063,1968.0],[16.82370654,18813.0],[16.37677691,1744.0],[14.90109198,5653.0],[13.28215639,6961.0],[16.23086427,6063.0],[14.49252734,4199.0],[17.3079574,11820.0],[15.89207108,10036.0],[16.67774898,12098.0],[14.45007584,5376.0],[15.38874766,4145.0],[12.99802163,2409.0],[16.31063137,4374.0],[15.06073864,6083.0],[12.88219574,5998.0],[13.68300607,3735.0],[16.85541655,10248.0],[14.69789863,7201.0],[17.21088998,64304.0],[14.15161916,4519.0],[11.25499635,9850.0],[11.5783948,1624.0],[14.67061714,895.0],[17.00213737,11676.0],[15.92920098,4197.0],[13.57542301,5783.0],[12.03636915,2715.0],[15.43641784,10087.0],[16.61436742,12212.0],[10.43229061,8596.0],[18.39370601,2318.0],[12.2975619,2198.0],[14.57736817,2680.0],[12.89325457,1613.0],[11.55620524,1833.0],[16.98590072,1423.0],[12.54576825,260.0],[17.9054155,3733.0],[14.05591783,1988.0],[11.52359831,5527.0],[11.35078294,4310.0],[10.79681667,0.0],[13.67578287,920.0],[11.11322372,2450.0],[16.29127395,188.0],[10.66620744,3146.0],[10.42498602,0.0],[10.56405989,476.0],[15.00283311,0.0],[15.08145118,0.0],[16.63205462,0.0],[16.00683186,417.0],[11.09315857,213.0],[12.98879313,475.0],[11.03928322,1631.0],[12.56852934,1321.0],[13.55623711,0.0],[10.57755385,192.0],[10.54894022,198.0],[12.00823128,207.0],[11.49618614,0.0],[11.49198779,568.0],[11.61680789,0.0],[10.96053104,396.0],[10.1743159,48.0],[13.7061911,132.0],[14.09196129,0.0],[10.31682162,183.0],[12.56196578,0.0],[11.63087738,0.0],[12.1206727,0.0],[15.80003079,0.0],[11.18429639,0.0],[10.88166329,0.0],[10.94679853,0.0],[8.15564927,0.0],[6.695798917,0.0],[8.516993171,177.0],[9.615938805,0.0],[13.43991197,0.0],[15.8300119,0.0]],\"hovertemplate\":\"Country=%{x}<br>Total Cases=%{y}<br>Population=%{customdata[0]}<br>Total Deaths=%{customdata[1]}<br>GDP Before Covid=%{marker.color}<extra></extra>\",\"legendgroup\":\"\",\"marker\":{\"color\":[65279.53,8897.49,2100.75,11497.65,7027.61,9946.03,29564.74,6001.4,6424.98,42354.41,18909.459,18909.459,18909.459,18909.459,18909.459,18909.459,18909.459,18909.459,18909.459,18909.459,18909.459,18909.459,18909.459,18909.459,18909.459,18909.459,18909.459,18909.459,18909.459,18909.459,18909.459,18909.459,18909.459,18909.459,18909.459,18909.459,18909.459,18909.459,18909.459,18909.459,18909.459,18909.459,18909.459,18909.459,18909.459,18909.459,18909.459,18909.459,18909.459,18909.459,18909.459,18909.459,18909.459,18909.459,18909.459,18909.459,18909.459,18909.459,18909.459,18909.459,18909.459,18909.459,18909.459,18909.459,18909.459,18909.459,18909.459,18909.459,18909.459,18909.459,18909.459,18909.459,18909.459,18909.459,18909.459,18909.459,18909.459,18909.459,18909.459,18909.459,18909.459,18909.459,18909.459,18909.459,18909.459,18909.459,18909.459,18909.459,18909.459,18909.459,18909.459,18909.459,18909.459,18909.459,18909.459,18909.459,18909.459,18909.459,18909.459,18909.459,18909.459,18909.459,18909.459,18909.459,18909.459,18909.459,18909.459,18909.459,18909.459,18909.459,18909.459,18909.459,18909.459,18909.459,18909.459,18909.459,18909.459,18909.459,18909.459,18909.459,18909.459,18909.459,18909.459,18909.459,18909.459,18909.459,18909.459,18909.459,18909.459,18909.459,18909.459,18909.459,18909.459,18909.459,18909.459,18909.459,18909.459,18909.459,18909.459,18909.459,18909.459,18909.459,18909.459,18909.459,18909.459,18909.459,18909.459,18909.459,18909.459,18909.459,18909.459,18909.459,18909.459,18909.459,18909.459,18909.459,18909.459,18909.459,18909.459,18909.459,18909.459,18909.459,18909.459,18909.459,18909.459,18909.459,18909.459,18909.459,18909.459,18909.459,18909.459,18909.459,18909.459,18909.459,18909.459,18909.459,18909.459,18909.459,18909.459,18909.459,18909.459,18909.459,18909.459,18909.459,18909.459,18909.459,18909.459,18909.459,18909.459,18909.459,18909.459,18909.459,18909.459,18909.459,18909.459,18909.459,18909.459,18909.459,18909.459,18909.459,18909.459,18909.459,18909.459,18909.459,18909.459,18909.459,18909.459,18909.459,18909.459,18909.459],\"coloraxis\":\"coloraxis\",\"pattern\":{\"shape\":\"\"}},\"name\":\"\",\"offsetgroup\":\"\",\"orientation\":\"v\",\"showlegend\":false,\"textposition\":\"auto\",\"x\":[\"United States\",\"Brazil\",\"India\",\"Russia\",\"Peru\",\"Mexico\",\"Spain\",\"South Africa\",\"Colombia\",\"United Kingdom\",\"Iran\",\"Chile\",\"Italy\",\"France\",\"Argentina\",\"Germany\",\"Turkey\",\"Saudi Arabia\",\"Pakistan\",\"Bangladesh\",\"Iraq\",\"Philippines\",\"China\",\"Indonesia\",\"Canada\",\"Qatar\",\"Israel\",\"Ukraine\",\"Belgium\",\"Ecuador\",\"Kazakhstan\",\"Netherlands\",\"Egypt\",\"Sweden\",\"Bolivia\",\"Romania\",\"Dominican Republic\",\"Kuwait\",\"Belarus\",\"Panama\",\"United Arab Emirates\",\"Oman\",\"Portugal\",\"Poland\",\"Singapore\",\"Morocco\",\"Japan\",\"Guatemala\",\"Switzerland\",\"Bahrain\",\"Honduras\",\"Nigeria\",\"Armenia\",\"Nepal\",\"Ireland\",\"Czech Republic\",\"Afghanistan\",\"Austria\",\"Ghana\",\"Algeria\",\"Ethiopia\",\"Venezuela\",\"Moldova\",\"Costa Rica\",\"Uzbekistan\",\"Kyrgyzstan\",\"Azerbaijan\",\"Serbia\",\"Puerto Rico\",\"South Korea\",\"Kenya\",\"Palestine\",\"Denmark\",\"Australia\",\"El Salvador\",\"Cameroon\",\"Paraguay\",\"Lebanon\",\"Bosnia and Herzegovina\",\"Cote d'Ivoire\",\"Norway\",\"Bulgaria\",\"Libya\",\"Malaysia\",\"Macedonia\",\"Hungary\",\"Sudan\",\"Senegal\",\"Finland\",\"Madagascar\",\"Greece\",\"Kosovo\",\"Croatia\",\"Democratic Republic of Congo\",\"Guinea\",\"Luxembourg\",\"Zambia\",\"Tajikistan\",\"Albania\",\"Gabon\",\"Haiti\",\"Tunisia\",\"Maldives\",\"Mauritania\",\"Slovakia\",\"Djibouti\",\"Jordan\",\"Namibia\",\"Montenegro\",\"Thailand\",\"Myanmar\",\"Zimbabwe\",\"Central African Republic\",\"Cuba\",\"Equatorial Guinea\",\"Slovenia\",\"Malawi\",\"Nicaragua\",\"Mozambique\",\"Somalia\",\"Lithuania\",\"Congo\",\"Cape Verde\",\"Uganda\",\"Sri Lanka\",\"Estonia\",\"Swaziland\",\"Georgia\",\"Iceland\",\"Mali\",\"Rwanda\",\"Jamaica\",\"Suriname\",\"South Sudan\",\"Guinea-Bissau\",\"Angola\",\"Sierra Leone\",\"Syria\",\"Latvia\",\"New Zealand\",\"Malta\",\"Benin\",\"Uruguay\",\"Bahamas\",\"Cyprus\",\"Burkina Faso\",\"Gambia\",\"Yemen\",\"Trinidad and Tobago\",\"Andorra\",\"Aruba\",\"Botswana\",\"Niger\",\"Togo\",\"Guyana\",\"Guam\",\"Liberia\",\"Chad\",\"San Marino\",\"Vietnam\",\"Sao Tome and Principe\",\"Lesotho\",\"Belize\",\"United States Virgin Islands\",\"Taiwan\",\"French Polynesia\",\"Tanzania\",\"Mauritius\",\"Jersey\",\"Isle of Man\",\"Faeroe Islands\",\"Comoros\",\"Guernsey\",\"Burundi\",\"Sint Maarten (Dutch part)\",\"Gibraltar\",\"Turks and Caicos Islands\",\"Mongolia\",\"Eritrea\",\"Cambodia\",\"Papua New Guinea\",\"Cayman Islands\",\"Brunei\",\"Bermuda\",\"Barbados\",\"Bhutan\",\"Monaco\",\"Liechtenstein\",\"Curacao\",\"Seychelles\",\"Antigua and Barbuda\",\"Saint Vincent and the Grenadines\",\"Northern Mariana Islands\",\"Bonaire Sint Eustatius and Saba\",\"Fiji\",\"Timor\",\"British Virgin Islands\",\"New Caledonia\",\"Grenada\",\"Saint Lucia\",\"Laos\",\"Dominica\",\"Saint Kitts and Nevis\",\"Greenland\",\"Falkland Islands\",\"Vatican\",\"Montserrat\",\"Anguilla\",\"Solomon Islands\",\"Hong Kong\"],\"xaxis\":\"x\",\"y\":[746014098.0,425704517.0,407771615.0,132888951.0,74882695.0,74347548.0,73717676.0,63027659.0,60543682.0,59475032.0,52421884.0,51268034.0,50752853.0,50084335.0,47155234.0,42447678.0,41431948.0,38585191.0,37738077.0,35266178.0,25280332.0,22409936.0,21632319.0,21570149.0,20902374.0,16351440.0,16202474.0,15805665.0,15192468.0,14408757.0,13194863.0,13026629.0,12422845.0,11910109.0,11858838.0,10672859.0,10649646.0,10622205.0,10595186.0,10371724.0,10247326.0,10060093.0,9266263.0,9239657.0,8191161.0,7839270.0,7659484.0,7644426.0,7552067.0,6549995.0,6545499.0,6107371.0,5474629.0,5243653.0,5239798.0,5213980.0,5126433.0,4909197.0,4900649.0,4893999.0,4876417.0,4839834.0,4632482.0,4631835.0,4421215.0,4287847.0,4236782.0,3984174.0,3586463.0,3333075.0,3277734.0,3249458.0,3030088.0,3012377.0,2573206.0,2476502.0,2265640.0,2220699.0,2200057.0,2132883.0,1985889.0,1890380.0,1817274.0,1774181.0,1724220.0,1708798.0,1663545.0,1586747.0,1458484.0,1443321.0,1421470.0,1345940.0,1314031.0,1271391.0,1195836.0,1146724.0,1129913.0,1117391.0,1071951.0,1031803.0,1023155.0,1000626.0,844040.0,799222.0,798665.0,781771.0,716514.0,681299.0,675912.0,655703.0,644209.0,593699.0,593048.0,581546.0,557355.0,547075.0,536447.0,524410.0,510578.0,491145.0,488057.0,473368.0,463888.0,448728.0,446643.0,445402.0,444238.0,431689.0,421210.0,390637.0,388775.0,370890.0,358632.0,333500.0,306564.0,304005.0,268396.0,267902.0,255964.0,253203.0,251261.0,245893.0,239884.0,237908.0,236673.0,231452.0,229521.0,228925.0,225550.0,223576.0,215110.0,205758.0,199978.0,169903.0,166917.0,160975.0,159880.0,154173.0,134994.0,122618.0,121909.0,107948.0,106383.0,98536.0,97074.0,95388.0,91526.0,69524.0,66777.0,64935.0,56893.0,52437.0,49814.0,49745.0,48026.0,45340.0,44432.0,42465.0,40026.0,39539.0,35966.0,33173.0,30140.0,28876.0,24998.0,22847.0,21511.0,19885.0,19777.0,14701.0,12619.0,7824.0,7784.0,5080.0,4742.0,4697.0,4605.0,4495.0,4470.0,4450.0,4039.0,3977.0,3246.0,2678.0,2467.0,2415.0,2383.0,614.0,11.0,0.0],\"yaxis\":\"y\",\"type\":\"bar\"}],                        {\"template\":{\"data\":{\"bar\":[{\"error_x\":{\"color\":\"#2a3f5f\"},\"error_y\":{\"color\":\"#2a3f5f\"},\"marker\":{\"line\":{\"color\":\"#E5ECF6\",\"width\":0.5},\"pattern\":{\"fillmode\":\"overlay\",\"size\":10,\"solidity\":0.2}},\"type\":\"bar\"}],\"barpolar\":[{\"marker\":{\"line\":{\"color\":\"#E5ECF6\",\"width\":0.5},\"pattern\":{\"fillmode\":\"overlay\",\"size\":10,\"solidity\":0.2}},\"type\":\"barpolar\"}],\"carpet\":[{\"aaxis\":{\"endlinecolor\":\"#2a3f5f\",\"gridcolor\":\"white\",\"linecolor\":\"white\",\"minorgridcolor\":\"white\",\"startlinecolor\":\"#2a3f5f\"},\"baxis\":{\"endlinecolor\":\"#2a3f5f\",\"gridcolor\":\"white\",\"linecolor\":\"white\",\"minorgridcolor\":\"white\",\"startlinecolor\":\"#2a3f5f\"},\"type\":\"carpet\"}],\"choropleth\":[{\"colorbar\":{\"outlinewidth\":0,\"ticks\":\"\"},\"type\":\"choropleth\"}],\"contour\":[{\"colorbar\":{\"outlinewidth\":0,\"ticks\":\"\"},\"colorscale\":[[0.0,\"#0d0887\"],[0.1111111111111111,\"#46039f\"],[0.2222222222222222,\"#7201a8\"],[0.3333333333333333,\"#9c179e\"],[0.4444444444444444,\"#bd3786\"],[0.5555555555555556,\"#d8576b\"],[0.6666666666666666,\"#ed7953\"],[0.7777777777777778,\"#fb9f3a\"],[0.8888888888888888,\"#fdca26\"],[1.0,\"#f0f921\"]],\"type\":\"contour\"}],\"contourcarpet\":[{\"colorbar\":{\"outlinewidth\":0,\"ticks\":\"\"},\"type\":\"contourcarpet\"}],\"heatmap\":[{\"colorbar\":{\"outlinewidth\":0,\"ticks\":\"\"},\"colorscale\":[[0.0,\"#0d0887\"],[0.1111111111111111,\"#46039f\"],[0.2222222222222222,\"#7201a8\"],[0.3333333333333333,\"#9c179e\"],[0.4444444444444444,\"#bd3786\"],[0.5555555555555556,\"#d8576b\"],[0.6666666666666666,\"#ed7953\"],[0.7777777777777778,\"#fb9f3a\"],[0.8888888888888888,\"#fdca26\"],[1.0,\"#f0f921\"]],\"type\":\"heatmap\"}],\"heatmapgl\":[{\"colorbar\":{\"outlinewidth\":0,\"ticks\":\"\"},\"colorscale\":[[0.0,\"#0d0887\"],[0.1111111111111111,\"#46039f\"],[0.2222222222222222,\"#7201a8\"],[0.3333333333333333,\"#9c179e\"],[0.4444444444444444,\"#bd3786\"],[0.5555555555555556,\"#d8576b\"],[0.6666666666666666,\"#ed7953\"],[0.7777777777777778,\"#fb9f3a\"],[0.8888888888888888,\"#fdca26\"],[1.0,\"#f0f921\"]],\"type\":\"heatmapgl\"}],\"histogram\":[{\"marker\":{\"pattern\":{\"fillmode\":\"overlay\",\"size\":10,\"solidity\":0.2}},\"type\":\"histogram\"}],\"histogram2d\":[{\"colorbar\":{\"outlinewidth\":0,\"ticks\":\"\"},\"colorscale\":[[0.0,\"#0d0887\"],[0.1111111111111111,\"#46039f\"],[0.2222222222222222,\"#7201a8\"],[0.3333333333333333,\"#9c179e\"],[0.4444444444444444,\"#bd3786\"],[0.5555555555555556,\"#d8576b\"],[0.6666666666666666,\"#ed7953\"],[0.7777777777777778,\"#fb9f3a\"],[0.8888888888888888,\"#fdca26\"],[1.0,\"#f0f921\"]],\"type\":\"histogram2d\"}],\"histogram2dcontour\":[{\"colorbar\":{\"outlinewidth\":0,\"ticks\":\"\"},\"colorscale\":[[0.0,\"#0d0887\"],[0.1111111111111111,\"#46039f\"],[0.2222222222222222,\"#7201a8\"],[0.3333333333333333,\"#9c179e\"],[0.4444444444444444,\"#bd3786\"],[0.5555555555555556,\"#d8576b\"],[0.6666666666666666,\"#ed7953\"],[0.7777777777777778,\"#fb9f3a\"],[0.8888888888888888,\"#fdca26\"],[1.0,\"#f0f921\"]],\"type\":\"histogram2dcontour\"}],\"mesh3d\":[{\"colorbar\":{\"outlinewidth\":0,\"ticks\":\"\"},\"type\":\"mesh3d\"}],\"parcoords\":[{\"line\":{\"colorbar\":{\"outlinewidth\":0,\"ticks\":\"\"}},\"type\":\"parcoords\"}],\"pie\":[{\"automargin\":true,\"type\":\"pie\"}],\"scatter\":[{\"marker\":{\"colorbar\":{\"outlinewidth\":0,\"ticks\":\"\"}},\"type\":\"scatter\"}],\"scatter3d\":[{\"line\":{\"colorbar\":{\"outlinewidth\":0,\"ticks\":\"\"}},\"marker\":{\"colorbar\":{\"outlinewidth\":0,\"ticks\":\"\"}},\"type\":\"scatter3d\"}],\"scattercarpet\":[{\"marker\":{\"colorbar\":{\"outlinewidth\":0,\"ticks\":\"\"}},\"type\":\"scattercarpet\"}],\"scattergeo\":[{\"marker\":{\"colorbar\":{\"outlinewidth\":0,\"ticks\":\"\"}},\"type\":\"scattergeo\"}],\"scattergl\":[{\"marker\":{\"colorbar\":{\"outlinewidth\":0,\"ticks\":\"\"}},\"type\":\"scattergl\"}],\"scattermapbox\":[{\"marker\":{\"colorbar\":{\"outlinewidth\":0,\"ticks\":\"\"}},\"type\":\"scattermapbox\"}],\"scatterpolar\":[{\"marker\":{\"colorbar\":{\"outlinewidth\":0,\"ticks\":\"\"}},\"type\":\"scatterpolar\"}],\"scatterpolargl\":[{\"marker\":{\"colorbar\":{\"outlinewidth\":0,\"ticks\":\"\"}},\"type\":\"scatterpolargl\"}],\"scatterternary\":[{\"marker\":{\"colorbar\":{\"outlinewidth\":0,\"ticks\":\"\"}},\"type\":\"scatterternary\"}],\"surface\":[{\"colorbar\":{\"outlinewidth\":0,\"ticks\":\"\"},\"colorscale\":[[0.0,\"#0d0887\"],[0.1111111111111111,\"#46039f\"],[0.2222222222222222,\"#7201a8\"],[0.3333333333333333,\"#9c179e\"],[0.4444444444444444,\"#bd3786\"],[0.5555555555555556,\"#d8576b\"],[0.6666666666666666,\"#ed7953\"],[0.7777777777777778,\"#fb9f3a\"],[0.8888888888888888,\"#fdca26\"],[1.0,\"#f0f921\"]],\"type\":\"surface\"}],\"table\":[{\"cells\":{\"fill\":{\"color\":\"#EBF0F8\"},\"line\":{\"color\":\"white\"}},\"header\":{\"fill\":{\"color\":\"#C8D4E3\"},\"line\":{\"color\":\"white\"}},\"type\":\"table\"}]},\"layout\":{\"annotationdefaults\":{\"arrowcolor\":\"#2a3f5f\",\"arrowhead\":0,\"arrowwidth\":1},\"autotypenumbers\":\"strict\",\"coloraxis\":{\"colorbar\":{\"outlinewidth\":0,\"ticks\":\"\"}},\"colorscale\":{\"diverging\":[[0,\"#8e0152\"],[0.1,\"#c51b7d\"],[0.2,\"#de77ae\"],[0.3,\"#f1b6da\"],[0.4,\"#fde0ef\"],[0.5,\"#f7f7f7\"],[0.6,\"#e6f5d0\"],[0.7,\"#b8e186\"],[0.8,\"#7fbc41\"],[0.9,\"#4d9221\"],[1,\"#276419\"]],\"sequential\":[[0.0,\"#0d0887\"],[0.1111111111111111,\"#46039f\"],[0.2222222222222222,\"#7201a8\"],[0.3333333333333333,\"#9c179e\"],[0.4444444444444444,\"#bd3786\"],[0.5555555555555556,\"#d8576b\"],[0.6666666666666666,\"#ed7953\"],[0.7777777777777778,\"#fb9f3a\"],[0.8888888888888888,\"#fdca26\"],[1.0,\"#f0f921\"]],\"sequentialminus\":[[0.0,\"#0d0887\"],[0.1111111111111111,\"#46039f\"],[0.2222222222222222,\"#7201a8\"],[0.3333333333333333,\"#9c179e\"],[0.4444444444444444,\"#bd3786\"],[0.5555555555555556,\"#d8576b\"],[0.6666666666666666,\"#ed7953\"],[0.7777777777777778,\"#fb9f3a\"],[0.8888888888888888,\"#fdca26\"],[1.0,\"#f0f921\"]]},\"colorway\":[\"#636efa\",\"#EF553B\",\"#00cc96\",\"#ab63fa\",\"#FFA15A\",\"#19d3f3\",\"#FF6692\",\"#B6E880\",\"#FF97FF\",\"#FECB52\"],\"font\":{\"color\":\"#2a3f5f\"},\"geo\":{\"bgcolor\":\"white\",\"lakecolor\":\"white\",\"landcolor\":\"#E5ECF6\",\"showlakes\":true,\"showland\":true,\"subunitcolor\":\"white\"},\"hoverlabel\":{\"align\":\"left\"},\"hovermode\":\"closest\",\"mapbox\":{\"style\":\"light\"},\"paper_bgcolor\":\"white\",\"plot_bgcolor\":\"#E5ECF6\",\"polar\":{\"angularaxis\":{\"gridcolor\":\"white\",\"linecolor\":\"white\",\"ticks\":\"\"},\"bgcolor\":\"#E5ECF6\",\"radialaxis\":{\"gridcolor\":\"white\",\"linecolor\":\"white\",\"ticks\":\"\"}},\"scene\":{\"xaxis\":{\"backgroundcolor\":\"#E5ECF6\",\"gridcolor\":\"white\",\"gridwidth\":2,\"linecolor\":\"white\",\"showbackground\":true,\"ticks\":\"\",\"zerolinecolor\":\"white\"},\"yaxis\":{\"backgroundcolor\":\"#E5ECF6\",\"gridcolor\":\"white\",\"gridwidth\":2,\"linecolor\":\"white\",\"showbackground\":true,\"ticks\":\"\",\"zerolinecolor\":\"white\"},\"zaxis\":{\"backgroundcolor\":\"#E5ECF6\",\"gridcolor\":\"white\",\"gridwidth\":2,\"linecolor\":\"white\",\"showbackground\":true,\"ticks\":\"\",\"zerolinecolor\":\"white\"}},\"shapedefaults\":{\"line\":{\"color\":\"#2a3f5f\"}},\"ternary\":{\"aaxis\":{\"gridcolor\":\"white\",\"linecolor\":\"white\",\"ticks\":\"\"},\"baxis\":{\"gridcolor\":\"white\",\"linecolor\":\"white\",\"ticks\":\"\"},\"bgcolor\":\"#E5ECF6\",\"caxis\":{\"gridcolor\":\"white\",\"linecolor\":\"white\",\"ticks\":\"\"}},\"title\":{\"x\":0.05},\"xaxis\":{\"automargin\":true,\"gridcolor\":\"white\",\"linecolor\":\"white\",\"ticks\":\"\",\"title\":{\"standoff\":15},\"zerolinecolor\":\"white\",\"zerolinewidth\":2},\"yaxis\":{\"automargin\":true,\"gridcolor\":\"white\",\"linecolor\":\"white\",\"ticks\":\"\",\"title\":{\"standoff\":15},\"zerolinecolor\":\"white\",\"zerolinewidth\":2}}},\"xaxis\":{\"anchor\":\"y\",\"domain\":[0.0,1.0],\"title\":{\"text\":\"Country\"}},\"yaxis\":{\"anchor\":\"x\",\"domain\":[0.0,1.0],\"title\":{\"text\":\"Total Cases\"}},\"coloraxis\":{\"colorbar\":{\"title\":{\"text\":\"GDP Before Covid\"}},\"colorscale\":[[0.0,\"#0d0887\"],[0.1111111111111111,\"#46039f\"],[0.2222222222222222,\"#7201a8\"],[0.3333333333333333,\"#9c179e\"],[0.4444444444444444,\"#bd3786\"],[0.5555555555555556,\"#d8576b\"],[0.6666666666666666,\"#ed7953\"],[0.7777777777777778,\"#fb9f3a\"],[0.8888888888888888,\"#fdca26\"],[1.0,\"#f0f921\"]]},\"legend\":{\"tracegroupgap\":0},\"title\":{\"text\":\"GDP Per Capita Before Covid-19\"},\"barmode\":\"relative\",\"height\":600},                        {\"responsive\": true}                    ).then(function(){\n",
       "                            \n",
       "var gd = document.getElementById('cee70d63-ac92-43fa-bc07-a675e47b0984');\n",
       "var x = new MutationObserver(function (mutations, observer) {{\n",
       "        var display = window.getComputedStyle(gd).display;\n",
       "        if (!display || display === 'none') {{\n",
       "            console.log([gd, 'removed!']);\n",
       "            Plotly.purge(gd);\n",
       "            observer.disconnect();\n",
       "        }}\n",
       "}});\n",
       "\n",
       "// Listen for the removal of the full notebook cells\n",
       "var notebookContainer = gd.closest('#notebook-container');\n",
       "if (notebookContainer) {{\n",
       "    x.observe(notebookContainer, {childList: true});\n",
       "}}\n",
       "\n",
       "// Listen for the clearing of the current output cell\n",
       "var outputEl = gd.closest('.output');\n",
       "if (outputEl) {{\n",
       "    x.observe(outputEl, {childList: true});\n",
       "}}\n",
       "\n",
       "                        })                };                });            </script>        </div>"
      ]
     },
     "metadata": {},
     "output_type": "display_data"
    }
   ],
   "source": [
    "#GDP Before Covid-19\n",
    "fg = px.bar(transf, x='Country', y='Total Cases', hover_data=['Population', 'Total Deaths'], color='GDP Before Covid', height=600, title=\"GDP Per Capita Before Covid-19\")\n",
    "\n",
    "fg.show()"
   ]
  },
  {
   "cell_type": "code",
   "execution_count": 70,
   "id": "9f10bec6",
   "metadata": {},
   "outputs": [
    {
     "data": {
      "application/vnd.plotly.v1+json": {
       "config": {
        "plotlyServerURL": "https://plot.ly"
       },
       "data": [
        {
         "alignmentgroup": "True",
         "customdata": [
          [
           19.61763693,
           26477574
          ],
          [
           19.17473208,
           14340567
          ],
          [
           21.04535251,
           7247327
          ],
          [
           18.79866817,
           2131571
          ],
          [
           17.3111646,
           3020038
          ],
          [
           18.67480153,
           7295850
          ],
          [
           17.66042712,
           5510624
          ],
          [
           17.8982664,
           1357682
          ],
          [
           17.74503716,
           1936134
          ],
          [
           18.03334044,
           7249573
          ],
          [
           18.24624346,
           2914070
          ],
          [
           16.76604717,
           1283880
          ],
          [
           17.91752278,
           6664225
          ],
          [
           17.99409688,
           5633444
          ],
          [
           17.62651421,
           1077426
          ],
          [
           18.24375196,
           1640691
          ],
          [
           18.25035574,
           1049757
          ],
          [
           17.36552634,
           442507
          ],
          [
           19.21318595,
           789557
          ],
          [
           18.91957173,
           484534
          ],
          [
           17.50993717,
           744253
          ],
          [
           18.51217534,
           448665
          ],
          [
           21.08743924,
           1066939
          ],
          [
           19.42689854,
           916111
          ],
          [
           17.44628825,
           1455549
          ],
          [
           14.87366884,
           23820
          ],
          [
           15.97371025,
           126278
          ],
          [
           17.59363088,
           343334
          ],
          [
           16.26562008,
           1798461
          ],
          [
           16.68585306,
           1083749
          ],
          [
           16.74812767,
           161480
          ],
          [
           16.6566263,
           1142410
          ],
          [
           18.44375647,
           644416
          ],
          [
           16.1279737,
           941063
          ],
          [
           16.27279152,
           578559
          ],
          [
           16.77238152,
           464952
          ],
          [
           16.19948244,
           209024
          ],
          [
           15.26725623,
           69104
          ],
          [
           16.06145345,
           88409
          ],
          [
           15.27755412,
           222435
          ],
          [
           16.10707515,
           58035
          ],
          [
           15.44604869,
           73391
          ],
          [
           16.13757538,
           302612
          ],
          [
           17.44905184,
           304001
          ],
          [
           15.58201085,
           4691
          ],
          [
           17.42400819,
           142270
          ],
          [
           18.65556675,
           194918
          ],
          [
           16.70118056,
           281588
          ],
          [
           15.97360361,
           320693
          ],
          [
           14.34706955,
           22413
          ],
          [
           16.10851066,
           200844
          ],
          [
           19.1440641,
           125473
          ],
          [
           14.9017918,
           102039
          ],
          [
           17.18751281,
           27737
          ],
          [
           15.41242964,
           310201
          ],
          [
           16.18659339,
           79880
          ],
          [
           17.4772331,
           165875
          ],
          [
           16.01344599,
           134945
          ],
          [
           17.25184806,
           29143
          ],
          [
           17.59630906,
           206429
          ],
          [
           18.56012597,
           77686
          ],
          [
           17.1631645,
           40840
          ],
          [
           15.21025983,
           129946
          ],
          [
           15.44359631,
           50352
          ],
          [
           17.32613614,
           31903
          ],
          [
           15.69102752,
           114922
          ],
          [
           16.13191719,
           59495
          ],
          [
           15.73310882,
           87503
          ],
          [
           14.86662585,
           54940
          ],
          [
           17.75260041,
           63333
          ],
          [
           17.80025043,
           59485
          ],
          [
           15.44502871,
           21522
          ],
          [
           15.57202326,
           113280
          ],
          [
           17.05418434,
           65029
          ],
          [
           15.68518756,
           71957
          ],
          [
           17.09438451,
           56606
          ],
          [
           15.78017657,
           42850
          ],
          [
           15.73616766,
           22983
          ],
          [
           15.00360243,
           70578
          ],
          [
           17.08805131,
           14220
          ],
          [
           15.5058355,
           47158
          ],
          [
           15.75402845,
           72850
          ],
          [
           15.74286198,
           29730
          ],
          [
           17.29261899,
           24012
          ],
          [
           14.54950213,
           74066
          ],
          [
           16.08354044,
           110142
          ],
          [
           17.59626861,
           102825
          ],
          [
           16.63354636,
           30320
          ],
          [
           15.52763465,
           58377
          ],
          [
           17.13661869,
           17744
          ],
          [
           16.15953083,
           44805
          ],
          [
           14.47446683,
           47571
          ],
          [
           15.22778158,
           28757
          ],
          [
           18.31043503,
           32040
          ],
          [
           16.39062287,
           7283
          ],
          [
           13.34706731,
           21907
          ],
          [
           16.72698889,
           26475
          ],
          [
           16.07075684,
           9730
          ],
          [
           14.87253667,
           31056
          ],
          [
           14.61559461,
           6877
          ],
          [
           16.24934608,
           23891
          ],
          [
           16.28518664,
           19025
          ],
          [
           13.20032762,
           3054
          ],
          [
           15.35230466,
           19810
          ],
          [
           15.51289396,
           6055
          ],
          [
           13.80344,
           8006
          ],
          [
           16.13820607,
           5653
          ],
          [
           14.7480352,
           6634
          ],
          [
           13.35039417,
           11356
          ],
          [
           18.06114425,
           11162
          ],
          [
           17.81205473,
           13973
          ],
          [
           16.51438055,
           15984
          ],
          [
           15.39030816,
           7108
          ],
          [
           16.24266591,
           16774
          ],
          [
           14.15411267,
           8947
          ],
          [
           14.54736486,
           22165
          ],
          [
           16.76676599,
           15480
          ],
          [
           15.70629361,
           16410
          ],
          [
           17.25770384,
           3396
          ],
          [
           16.5814031,
           15001
          ],
          [
           14.81698436,
           14345
          ],
          [
           15.52354271,
           9298
          ],
          [
           13.22850199,
           4749
          ],
          [
           17.63850561,
           3748
          ],
          [
           16.87952045,
           2108
          ],
          [
           14.09808385,
           11802
          ],
          [
           13.96407193,
           8179
          ],
          [
           15.199095,
           4013
          ],
          [
           12.74037063,
           1968
          ],
          [
           16.82370654,
           18813
          ],
          [
           16.37677691,
           1744
          ],
          [
           14.90109198,
           5653
          ],
          [
           13.28215639,
           6961
          ],
          [
           16.23086427,
           6063
          ],
          [
           14.49252734,
           4199
          ],
          [
           17.3079574,
           11820
          ],
          [
           15.89207108,
           10036
          ],
          [
           16.67774898,
           12098
          ],
          [
           14.45007584,
           5376
          ],
          [
           15.38874766,
           4145
          ],
          [
           12.99802163,
           2409
          ],
          [
           16.31063137,
           4374
          ],
          [
           15.06073864,
           6083
          ],
          [
           12.88219574,
           5998
          ],
          [
           13.68300607,
           3735
          ],
          [
           16.85541655,
           10248
          ],
          [
           14.69789863,
           7201
          ],
          [
           17.21088998,
           64304
          ],
          [
           14.15161916,
           4519
          ],
          [
           11.25499635,
           9850
          ],
          [
           11.5783948,
           1624
          ],
          [
           14.67061714,
           895
          ],
          [
           17.00213737,
           11676
          ],
          [
           15.92920098,
           4197
          ],
          [
           13.57542301,
           5783
          ],
          [
           12.03636915,
           2715
          ],
          [
           15.43641784,
           10087
          ],
          [
           16.61436742,
           12212
          ],
          [
           10.43229061,
           8596
          ],
          [
           18.39370601,
           2318
          ],
          [
           12.2975619,
           2198
          ],
          [
           14.57736817,
           2680
          ],
          [
           12.89325457,
           1613
          ],
          [
           11.55620524,
           1833
          ],
          [
           16.98590072,
           1423
          ],
          [
           12.54576825,
           260
          ],
          [
           17.9054155,
           3733
          ],
          [
           14.05591783,
           1988
          ],
          [
           11.52359831,
           5527
          ],
          [
           11.35078294,
           4310
          ],
          [
           10.79681667,
           0
          ],
          [
           13.67578287,
           920
          ],
          [
           11.11322372,
           2450
          ],
          [
           16.29127395,
           188
          ],
          [
           10.66620744,
           3146
          ],
          [
           10.42498602,
           0
          ],
          [
           10.56405989,
           476
          ],
          [
           15.00283311,
           0
          ],
          [
           15.08145118,
           0
          ],
          [
           16.63205462,
           0
          ],
          [
           16.00683186,
           417
          ],
          [
           11.09315857,
           213
          ],
          [
           12.98879313,
           475
          ],
          [
           11.03928322,
           1631
          ],
          [
           12.56852934,
           1321
          ],
          [
           13.55623711,
           0
          ],
          [
           10.57755385,
           192
          ],
          [
           10.54894022,
           198
          ],
          [
           12.00823128,
           207
          ],
          [
           11.49618614,
           0
          ],
          [
           11.49198779,
           568
          ],
          [
           11.61680789,
           0
          ],
          [
           10.96053104,
           396
          ],
          [
           10.1743159,
           48
          ],
          [
           13.7061911,
           132
          ],
          [
           14.09196129,
           0
          ],
          [
           10.31682162,
           183
          ],
          [
           12.56196578,
           0
          ],
          [
           11.63087738,
           0
          ],
          [
           12.1206727,
           0
          ],
          [
           15.80003079,
           0
          ],
          [
           11.18429639,
           0
          ],
          [
           10.88166329,
           0
          ],
          [
           10.94679853,
           0
          ],
          [
           8.15564927,
           0
          ],
          [
           6.695798917,
           0
          ],
          [
           8.516993171,
           177
          ],
          [
           9.615938805,
           0
          ],
          [
           13.43991197,
           0
          ],
          [
           15.8300119,
           0
          ]
         ],
         "hovertemplate": "Country=%{x}<br>Total Cases=%{y}<br>Population=%{customdata[0]}<br>Total Deaths=%{customdata[1]}<br>GDP During Covid=%{marker.color}<extra></extra>",
         "legendgroup": "",
         "marker": {
          "color": [
           63543.58,
           6796.84,
           1900.71,
           10126.72,
           6126.87,
           8346.7,
           27057.16,
           5090.72,
           5332.77,
           40284.64,
           17460.671000000002,
           17460.671000000002,
           17460.671000000002,
           17460.671000000002,
           17460.671000000002,
           17460.671000000002,
           17460.671000000002,
           17460.671000000002,
           17460.671000000002,
           17460.671000000002,
           17460.671000000002,
           17460.671000000002,
           17460.671000000002,
           17460.671000000002,
           17460.671000000002,
           17460.671000000002,
           17460.671000000002,
           17460.671000000002,
           17460.671000000002,
           17460.671000000002,
           17460.671000000002,
           17460.671000000002,
           17460.671000000002,
           17460.671000000002,
           17460.671000000002,
           17460.671000000002,
           17460.671000000002,
           17460.671000000002,
           17460.671000000002,
           17460.671000000002,
           17460.671000000002,
           17460.671000000002,
           17460.671000000002,
           17460.671000000002,
           17460.671000000002,
           17460.671000000002,
           17460.671000000002,
           17460.671000000002,
           17460.671000000002,
           17460.671000000002,
           17460.671000000002,
           17460.671000000002,
           17460.671000000002,
           17460.671000000002,
           17460.671000000002,
           17460.671000000002,
           17460.671000000002,
           17460.671000000002,
           17460.671000000002,
           17460.671000000002,
           17460.671000000002,
           17460.671000000002,
           17460.671000000002,
           17460.671000000002,
           17460.671000000002,
           17460.671000000002,
           17460.671000000002,
           17460.671000000002,
           17460.671000000002,
           17460.671000000002,
           17460.671000000002,
           17460.671000000002,
           17460.671000000002,
           17460.671000000002,
           17460.671000000002,
           17460.671000000002,
           17460.671000000002,
           17460.671000000002,
           17460.671000000002,
           17460.671000000002,
           17460.671000000002,
           17460.671000000002,
           17460.671000000002,
           17460.671000000002,
           17460.671000000002,
           17460.671000000002,
           17460.671000000002,
           17460.671000000002,
           17460.671000000002,
           17460.671000000002,
           17460.671000000002,
           17460.671000000002,
           17460.671000000002,
           17460.671000000002,
           17460.671000000002,
           17460.671000000002,
           17460.671000000002,
           17460.671000000002,
           17460.671000000002,
           17460.671000000002,
           17460.671000000002,
           17460.671000000002,
           17460.671000000002,
           17460.671000000002,
           17460.671000000002,
           17460.671000000002,
           17460.671000000002,
           17460.671000000002,
           17460.671000000002,
           17460.671000000002,
           17460.671000000002,
           17460.671000000002,
           17460.671000000002,
           17460.671000000002,
           17460.671000000002,
           17460.671000000002,
           17460.671000000002,
           17460.671000000002,
           17460.671000000002,
           17460.671000000002,
           17460.671000000002,
           17460.671000000002,
           17460.671000000002,
           17460.671000000002,
           17460.671000000002,
           17460.671000000002,
           17460.671000000002,
           17460.671000000002,
           17460.671000000002,
           17460.671000000002,
           17460.671000000002,
           17460.671000000002,
           17460.671000000002,
           17460.671000000002,
           17460.671000000002,
           17460.671000000002,
           17460.671000000002,
           17460.671000000002,
           17460.671000000002,
           17460.671000000002,
           17460.671000000002,
           17460.671000000002,
           17460.671000000002,
           17460.671000000002,
           17460.671000000002,
           17460.671000000002,
           17460.671000000002,
           17460.671000000002,
           17460.671000000002,
           17460.671000000002,
           17460.671000000002,
           17460.671000000002,
           17460.671000000002,
           17460.671000000002,
           17460.671000000002,
           17460.671000000002,
           17460.671000000002,
           17460.671000000002,
           17460.671000000002,
           17460.671000000002,
           17460.671000000002,
           17460.671000000002,
           17460.671000000002,
           17460.671000000002,
           17460.671000000002,
           17460.671000000002,
           17460.671000000002,
           17460.671000000002,
           17460.671000000002,
           17460.671000000002,
           17460.671000000002,
           17460.671000000002,
           17460.671000000002,
           17460.671000000002,
           17460.671000000002,
           17460.671000000002,
           17460.671000000002,
           17460.671000000002,
           17460.671000000002,
           17460.671000000002,
           17460.671000000002,
           17460.671000000002,
           17460.671000000002,
           17460.671000000002,
           17460.671000000002,
           17460.671000000002,
           17460.671000000002,
           17460.671000000002,
           17460.671000000002,
           17460.671000000002,
           17460.671000000002,
           17460.671000000002,
           17460.671000000002,
           17460.671000000002,
           17460.671000000002,
           17460.671000000002,
           17460.671000000002,
           17460.671000000002,
           17460.671000000002,
           17460.671000000002,
           17460.671000000002,
           17460.671000000002,
           17460.671000000002,
           17460.671000000002,
           17460.671000000002,
           17460.671000000002,
           17460.671000000002,
           17460.671000000002,
           17460.671000000002,
           17460.671000000002
          ],
          "coloraxis": "coloraxis",
          "pattern": {
           "shape": ""
          }
         },
         "name": "",
         "offsetgroup": "",
         "orientation": "v",
         "showlegend": false,
         "textposition": "auto",
         "type": "bar",
         "x": [
          "United States",
          "Brazil",
          "India",
          "Russia",
          "Peru",
          "Mexico",
          "Spain",
          "South Africa",
          "Colombia",
          "United Kingdom",
          "Iran",
          "Chile",
          "Italy",
          "France",
          "Argentina",
          "Germany",
          "Turkey",
          "Saudi Arabia",
          "Pakistan",
          "Bangladesh",
          "Iraq",
          "Philippines",
          "China",
          "Indonesia",
          "Canada",
          "Qatar",
          "Israel",
          "Ukraine",
          "Belgium",
          "Ecuador",
          "Kazakhstan",
          "Netherlands",
          "Egypt",
          "Sweden",
          "Bolivia",
          "Romania",
          "Dominican Republic",
          "Kuwait",
          "Belarus",
          "Panama",
          "United Arab Emirates",
          "Oman",
          "Portugal",
          "Poland",
          "Singapore",
          "Morocco",
          "Japan",
          "Guatemala",
          "Switzerland",
          "Bahrain",
          "Honduras",
          "Nigeria",
          "Armenia",
          "Nepal",
          "Ireland",
          "Czech Republic",
          "Afghanistan",
          "Austria",
          "Ghana",
          "Algeria",
          "Ethiopia",
          "Venezuela",
          "Moldova",
          "Costa Rica",
          "Uzbekistan",
          "Kyrgyzstan",
          "Azerbaijan",
          "Serbia",
          "Puerto Rico",
          "South Korea",
          "Kenya",
          "Palestine",
          "Denmark",
          "Australia",
          "El Salvador",
          "Cameroon",
          "Paraguay",
          "Lebanon",
          "Bosnia and Herzegovina",
          "Cote d'Ivoire",
          "Norway",
          "Bulgaria",
          "Libya",
          "Malaysia",
          "Macedonia",
          "Hungary",
          "Sudan",
          "Senegal",
          "Finland",
          "Madagascar",
          "Greece",
          "Kosovo",
          "Croatia",
          "Democratic Republic of Congo",
          "Guinea",
          "Luxembourg",
          "Zambia",
          "Tajikistan",
          "Albania",
          "Gabon",
          "Haiti",
          "Tunisia",
          "Maldives",
          "Mauritania",
          "Slovakia",
          "Djibouti",
          "Jordan",
          "Namibia",
          "Montenegro",
          "Thailand",
          "Myanmar",
          "Zimbabwe",
          "Central African Republic",
          "Cuba",
          "Equatorial Guinea",
          "Slovenia",
          "Malawi",
          "Nicaragua",
          "Mozambique",
          "Somalia",
          "Lithuania",
          "Congo",
          "Cape Verde",
          "Uganda",
          "Sri Lanka",
          "Estonia",
          "Swaziland",
          "Georgia",
          "Iceland",
          "Mali",
          "Rwanda",
          "Jamaica",
          "Suriname",
          "South Sudan",
          "Guinea-Bissau",
          "Angola",
          "Sierra Leone",
          "Syria",
          "Latvia",
          "New Zealand",
          "Malta",
          "Benin",
          "Uruguay",
          "Bahamas",
          "Cyprus",
          "Burkina Faso",
          "Gambia",
          "Yemen",
          "Trinidad and Tobago",
          "Andorra",
          "Aruba",
          "Botswana",
          "Niger",
          "Togo",
          "Guyana",
          "Guam",
          "Liberia",
          "Chad",
          "San Marino",
          "Vietnam",
          "Sao Tome and Principe",
          "Lesotho",
          "Belize",
          "United States Virgin Islands",
          "Taiwan",
          "French Polynesia",
          "Tanzania",
          "Mauritius",
          "Jersey",
          "Isle of Man",
          "Faeroe Islands",
          "Comoros",
          "Guernsey",
          "Burundi",
          "Sint Maarten (Dutch part)",
          "Gibraltar",
          "Turks and Caicos Islands",
          "Mongolia",
          "Eritrea",
          "Cambodia",
          "Papua New Guinea",
          "Cayman Islands",
          "Brunei",
          "Bermuda",
          "Barbados",
          "Bhutan",
          "Monaco",
          "Liechtenstein",
          "Curacao",
          "Seychelles",
          "Antigua and Barbuda",
          "Saint Vincent and the Grenadines",
          "Northern Mariana Islands",
          "Bonaire Sint Eustatius and Saba",
          "Fiji",
          "Timor",
          "British Virgin Islands",
          "New Caledonia",
          "Grenada",
          "Saint Lucia",
          "Laos",
          "Dominica",
          "Saint Kitts and Nevis",
          "Greenland",
          "Falkland Islands",
          "Vatican",
          "Montserrat",
          "Anguilla",
          "Solomon Islands",
          "Hong Kong"
         ],
         "xaxis": "x",
         "y": [
          746014098,
          425704517,
          407771615,
          132888951,
          74882695,
          74347548,
          73717676,
          63027659,
          60543682,
          59475032,
          52421884,
          51268034,
          50752853,
          50084335,
          47155234,
          42447678,
          41431948,
          38585191,
          37738077,
          35266178,
          25280332,
          22409936,
          21632319,
          21570149,
          20902374,
          16351440,
          16202474,
          15805665,
          15192468,
          14408757,
          13194863,
          13026629,
          12422845,
          11910109,
          11858838,
          10672859,
          10649646,
          10622205,
          10595186,
          10371724,
          10247326,
          10060093,
          9266263,
          9239657,
          8191161,
          7839270,
          7659484,
          7644426,
          7552067,
          6549995,
          6545499,
          6107371,
          5474629,
          5243653,
          5239798,
          5213980,
          5126433,
          4909197,
          4900649,
          4893999,
          4876417,
          4839834,
          4632482,
          4631835,
          4421215,
          4287847,
          4236782,
          3984174,
          3586463,
          3333075,
          3277734,
          3249458,
          3030088,
          3012377,
          2573206,
          2476502,
          2265640,
          2220699,
          2200057,
          2132883,
          1985889,
          1890380,
          1817274,
          1774181,
          1724220,
          1708798,
          1663545,
          1586747,
          1458484,
          1443321,
          1421470,
          1345940,
          1314031,
          1271391,
          1195836,
          1146724,
          1129913,
          1117391,
          1071951,
          1031803,
          1023155,
          1000626,
          844040,
          799222,
          798665,
          781771,
          716514,
          681299,
          675912,
          655703,
          644209,
          593699,
          593048,
          581546,
          557355,
          547075,
          536447,
          524410,
          510578,
          491145,
          488057,
          473368,
          463888,
          448728,
          446643,
          445402,
          444238,
          431689,
          421210,
          390637,
          388775,
          370890,
          358632,
          333500,
          306564,
          304005,
          268396,
          267902,
          255964,
          253203,
          251261,
          245893,
          239884,
          237908,
          236673,
          231452,
          229521,
          228925,
          225550,
          223576,
          215110,
          205758,
          199978,
          169903,
          166917,
          160975,
          159880,
          154173,
          134994,
          122618,
          121909,
          107948,
          106383,
          98536,
          97074,
          95388,
          91526,
          69524,
          66777,
          64935,
          56893,
          52437,
          49814,
          49745,
          48026,
          45340,
          44432,
          42465,
          40026,
          39539,
          35966,
          33173,
          30140,
          28876,
          24998,
          22847,
          21511,
          19885,
          19777,
          14701,
          12619,
          7824,
          7784,
          5080,
          4742,
          4697,
          4605,
          4495,
          4470,
          4450,
          4039,
          3977,
          3246,
          2678,
          2467,
          2415,
          2383,
          614,
          11,
          0
         ],
         "yaxis": "y"
        }
       ],
       "layout": {
        "barmode": "relative",
        "coloraxis": {
         "colorbar": {
          "title": {
           "text": "GDP During Covid"
          }
         },
         "colorscale": [
          [
           0,
           "#0d0887"
          ],
          [
           0.1111111111111111,
           "#46039f"
          ],
          [
           0.2222222222222222,
           "#7201a8"
          ],
          [
           0.3333333333333333,
           "#9c179e"
          ],
          [
           0.4444444444444444,
           "#bd3786"
          ],
          [
           0.5555555555555556,
           "#d8576b"
          ],
          [
           0.6666666666666666,
           "#ed7953"
          ],
          [
           0.7777777777777778,
           "#fb9f3a"
          ],
          [
           0.8888888888888888,
           "#fdca26"
          ],
          [
           1,
           "#f0f921"
          ]
         ]
        },
        "height": 600,
        "legend": {
         "tracegroupgap": 0
        },
        "template": {
         "data": {
          "bar": [
           {
            "error_x": {
             "color": "#2a3f5f"
            },
            "error_y": {
             "color": "#2a3f5f"
            },
            "marker": {
             "line": {
              "color": "#E5ECF6",
              "width": 0.5
             },
             "pattern": {
              "fillmode": "overlay",
              "size": 10,
              "solidity": 0.2
             }
            },
            "type": "bar"
           }
          ],
          "barpolar": [
           {
            "marker": {
             "line": {
              "color": "#E5ECF6",
              "width": 0.5
             },
             "pattern": {
              "fillmode": "overlay",
              "size": 10,
              "solidity": 0.2
             }
            },
            "type": "barpolar"
           }
          ],
          "carpet": [
           {
            "aaxis": {
             "endlinecolor": "#2a3f5f",
             "gridcolor": "white",
             "linecolor": "white",
             "minorgridcolor": "white",
             "startlinecolor": "#2a3f5f"
            },
            "baxis": {
             "endlinecolor": "#2a3f5f",
             "gridcolor": "white",
             "linecolor": "white",
             "minorgridcolor": "white",
             "startlinecolor": "#2a3f5f"
            },
            "type": "carpet"
           }
          ],
          "choropleth": [
           {
            "colorbar": {
             "outlinewidth": 0,
             "ticks": ""
            },
            "type": "choropleth"
           }
          ],
          "contour": [
           {
            "colorbar": {
             "outlinewidth": 0,
             "ticks": ""
            },
            "colorscale": [
             [
              0,
              "#0d0887"
             ],
             [
              0.1111111111111111,
              "#46039f"
             ],
             [
              0.2222222222222222,
              "#7201a8"
             ],
             [
              0.3333333333333333,
              "#9c179e"
             ],
             [
              0.4444444444444444,
              "#bd3786"
             ],
             [
              0.5555555555555556,
              "#d8576b"
             ],
             [
              0.6666666666666666,
              "#ed7953"
             ],
             [
              0.7777777777777778,
              "#fb9f3a"
             ],
             [
              0.8888888888888888,
              "#fdca26"
             ],
             [
              1,
              "#f0f921"
             ]
            ],
            "type": "contour"
           }
          ],
          "contourcarpet": [
           {
            "colorbar": {
             "outlinewidth": 0,
             "ticks": ""
            },
            "type": "contourcarpet"
           }
          ],
          "heatmap": [
           {
            "colorbar": {
             "outlinewidth": 0,
             "ticks": ""
            },
            "colorscale": [
             [
              0,
              "#0d0887"
             ],
             [
              0.1111111111111111,
              "#46039f"
             ],
             [
              0.2222222222222222,
              "#7201a8"
             ],
             [
              0.3333333333333333,
              "#9c179e"
             ],
             [
              0.4444444444444444,
              "#bd3786"
             ],
             [
              0.5555555555555556,
              "#d8576b"
             ],
             [
              0.6666666666666666,
              "#ed7953"
             ],
             [
              0.7777777777777778,
              "#fb9f3a"
             ],
             [
              0.8888888888888888,
              "#fdca26"
             ],
             [
              1,
              "#f0f921"
             ]
            ],
            "type": "heatmap"
           }
          ],
          "heatmapgl": [
           {
            "colorbar": {
             "outlinewidth": 0,
             "ticks": ""
            },
            "colorscale": [
             [
              0,
              "#0d0887"
             ],
             [
              0.1111111111111111,
              "#46039f"
             ],
             [
              0.2222222222222222,
              "#7201a8"
             ],
             [
              0.3333333333333333,
              "#9c179e"
             ],
             [
              0.4444444444444444,
              "#bd3786"
             ],
             [
              0.5555555555555556,
              "#d8576b"
             ],
             [
              0.6666666666666666,
              "#ed7953"
             ],
             [
              0.7777777777777778,
              "#fb9f3a"
             ],
             [
              0.8888888888888888,
              "#fdca26"
             ],
             [
              1,
              "#f0f921"
             ]
            ],
            "type": "heatmapgl"
           }
          ],
          "histogram": [
           {
            "marker": {
             "pattern": {
              "fillmode": "overlay",
              "size": 10,
              "solidity": 0.2
             }
            },
            "type": "histogram"
           }
          ],
          "histogram2d": [
           {
            "colorbar": {
             "outlinewidth": 0,
             "ticks": ""
            },
            "colorscale": [
             [
              0,
              "#0d0887"
             ],
             [
              0.1111111111111111,
              "#46039f"
             ],
             [
              0.2222222222222222,
              "#7201a8"
             ],
             [
              0.3333333333333333,
              "#9c179e"
             ],
             [
              0.4444444444444444,
              "#bd3786"
             ],
             [
              0.5555555555555556,
              "#d8576b"
             ],
             [
              0.6666666666666666,
              "#ed7953"
             ],
             [
              0.7777777777777778,
              "#fb9f3a"
             ],
             [
              0.8888888888888888,
              "#fdca26"
             ],
             [
              1,
              "#f0f921"
             ]
            ],
            "type": "histogram2d"
           }
          ],
          "histogram2dcontour": [
           {
            "colorbar": {
             "outlinewidth": 0,
             "ticks": ""
            },
            "colorscale": [
             [
              0,
              "#0d0887"
             ],
             [
              0.1111111111111111,
              "#46039f"
             ],
             [
              0.2222222222222222,
              "#7201a8"
             ],
             [
              0.3333333333333333,
              "#9c179e"
             ],
             [
              0.4444444444444444,
              "#bd3786"
             ],
             [
              0.5555555555555556,
              "#d8576b"
             ],
             [
              0.6666666666666666,
              "#ed7953"
             ],
             [
              0.7777777777777778,
              "#fb9f3a"
             ],
             [
              0.8888888888888888,
              "#fdca26"
             ],
             [
              1,
              "#f0f921"
             ]
            ],
            "type": "histogram2dcontour"
           }
          ],
          "mesh3d": [
           {
            "colorbar": {
             "outlinewidth": 0,
             "ticks": ""
            },
            "type": "mesh3d"
           }
          ],
          "parcoords": [
           {
            "line": {
             "colorbar": {
              "outlinewidth": 0,
              "ticks": ""
             }
            },
            "type": "parcoords"
           }
          ],
          "pie": [
           {
            "automargin": true,
            "type": "pie"
           }
          ],
          "scatter": [
           {
            "marker": {
             "colorbar": {
              "outlinewidth": 0,
              "ticks": ""
             }
            },
            "type": "scatter"
           }
          ],
          "scatter3d": [
           {
            "line": {
             "colorbar": {
              "outlinewidth": 0,
              "ticks": ""
             }
            },
            "marker": {
             "colorbar": {
              "outlinewidth": 0,
              "ticks": ""
             }
            },
            "type": "scatter3d"
           }
          ],
          "scattercarpet": [
           {
            "marker": {
             "colorbar": {
              "outlinewidth": 0,
              "ticks": ""
             }
            },
            "type": "scattercarpet"
           }
          ],
          "scattergeo": [
           {
            "marker": {
             "colorbar": {
              "outlinewidth": 0,
              "ticks": ""
             }
            },
            "type": "scattergeo"
           }
          ],
          "scattergl": [
           {
            "marker": {
             "colorbar": {
              "outlinewidth": 0,
              "ticks": ""
             }
            },
            "type": "scattergl"
           }
          ],
          "scattermapbox": [
           {
            "marker": {
             "colorbar": {
              "outlinewidth": 0,
              "ticks": ""
             }
            },
            "type": "scattermapbox"
           }
          ],
          "scatterpolar": [
           {
            "marker": {
             "colorbar": {
              "outlinewidth": 0,
              "ticks": ""
             }
            },
            "type": "scatterpolar"
           }
          ],
          "scatterpolargl": [
           {
            "marker": {
             "colorbar": {
              "outlinewidth": 0,
              "ticks": ""
             }
            },
            "type": "scatterpolargl"
           }
          ],
          "scatterternary": [
           {
            "marker": {
             "colorbar": {
              "outlinewidth": 0,
              "ticks": ""
             }
            },
            "type": "scatterternary"
           }
          ],
          "surface": [
           {
            "colorbar": {
             "outlinewidth": 0,
             "ticks": ""
            },
            "colorscale": [
             [
              0,
              "#0d0887"
             ],
             [
              0.1111111111111111,
              "#46039f"
             ],
             [
              0.2222222222222222,
              "#7201a8"
             ],
             [
              0.3333333333333333,
              "#9c179e"
             ],
             [
              0.4444444444444444,
              "#bd3786"
             ],
             [
              0.5555555555555556,
              "#d8576b"
             ],
             [
              0.6666666666666666,
              "#ed7953"
             ],
             [
              0.7777777777777778,
              "#fb9f3a"
             ],
             [
              0.8888888888888888,
              "#fdca26"
             ],
             [
              1,
              "#f0f921"
             ]
            ],
            "type": "surface"
           }
          ],
          "table": [
           {
            "cells": {
             "fill": {
              "color": "#EBF0F8"
             },
             "line": {
              "color": "white"
             }
            },
            "header": {
             "fill": {
              "color": "#C8D4E3"
             },
             "line": {
              "color": "white"
             }
            },
            "type": "table"
           }
          ]
         },
         "layout": {
          "annotationdefaults": {
           "arrowcolor": "#2a3f5f",
           "arrowhead": 0,
           "arrowwidth": 1
          },
          "autotypenumbers": "strict",
          "coloraxis": {
           "colorbar": {
            "outlinewidth": 0,
            "ticks": ""
           }
          },
          "colorscale": {
           "diverging": [
            [
             0,
             "#8e0152"
            ],
            [
             0.1,
             "#c51b7d"
            ],
            [
             0.2,
             "#de77ae"
            ],
            [
             0.3,
             "#f1b6da"
            ],
            [
             0.4,
             "#fde0ef"
            ],
            [
             0.5,
             "#f7f7f7"
            ],
            [
             0.6,
             "#e6f5d0"
            ],
            [
             0.7,
             "#b8e186"
            ],
            [
             0.8,
             "#7fbc41"
            ],
            [
             0.9,
             "#4d9221"
            ],
            [
             1,
             "#276419"
            ]
           ],
           "sequential": [
            [
             0,
             "#0d0887"
            ],
            [
             0.1111111111111111,
             "#46039f"
            ],
            [
             0.2222222222222222,
             "#7201a8"
            ],
            [
             0.3333333333333333,
             "#9c179e"
            ],
            [
             0.4444444444444444,
             "#bd3786"
            ],
            [
             0.5555555555555556,
             "#d8576b"
            ],
            [
             0.6666666666666666,
             "#ed7953"
            ],
            [
             0.7777777777777778,
             "#fb9f3a"
            ],
            [
             0.8888888888888888,
             "#fdca26"
            ],
            [
             1,
             "#f0f921"
            ]
           ],
           "sequentialminus": [
            [
             0,
             "#0d0887"
            ],
            [
             0.1111111111111111,
             "#46039f"
            ],
            [
             0.2222222222222222,
             "#7201a8"
            ],
            [
             0.3333333333333333,
             "#9c179e"
            ],
            [
             0.4444444444444444,
             "#bd3786"
            ],
            [
             0.5555555555555556,
             "#d8576b"
            ],
            [
             0.6666666666666666,
             "#ed7953"
            ],
            [
             0.7777777777777778,
             "#fb9f3a"
            ],
            [
             0.8888888888888888,
             "#fdca26"
            ],
            [
             1,
             "#f0f921"
            ]
           ]
          },
          "colorway": [
           "#636efa",
           "#EF553B",
           "#00cc96",
           "#ab63fa",
           "#FFA15A",
           "#19d3f3",
           "#FF6692",
           "#B6E880",
           "#FF97FF",
           "#FECB52"
          ],
          "font": {
           "color": "#2a3f5f"
          },
          "geo": {
           "bgcolor": "white",
           "lakecolor": "white",
           "landcolor": "#E5ECF6",
           "showlakes": true,
           "showland": true,
           "subunitcolor": "white"
          },
          "hoverlabel": {
           "align": "left"
          },
          "hovermode": "closest",
          "mapbox": {
           "style": "light"
          },
          "paper_bgcolor": "white",
          "plot_bgcolor": "#E5ECF6",
          "polar": {
           "angularaxis": {
            "gridcolor": "white",
            "linecolor": "white",
            "ticks": ""
           },
           "bgcolor": "#E5ECF6",
           "radialaxis": {
            "gridcolor": "white",
            "linecolor": "white",
            "ticks": ""
           }
          },
          "scene": {
           "xaxis": {
            "backgroundcolor": "#E5ECF6",
            "gridcolor": "white",
            "gridwidth": 2,
            "linecolor": "white",
            "showbackground": true,
            "ticks": "",
            "zerolinecolor": "white"
           },
           "yaxis": {
            "backgroundcolor": "#E5ECF6",
            "gridcolor": "white",
            "gridwidth": 2,
            "linecolor": "white",
            "showbackground": true,
            "ticks": "",
            "zerolinecolor": "white"
           },
           "zaxis": {
            "backgroundcolor": "#E5ECF6",
            "gridcolor": "white",
            "gridwidth": 2,
            "linecolor": "white",
            "showbackground": true,
            "ticks": "",
            "zerolinecolor": "white"
           }
          },
          "shapedefaults": {
           "line": {
            "color": "#2a3f5f"
           }
          },
          "ternary": {
           "aaxis": {
            "gridcolor": "white",
            "linecolor": "white",
            "ticks": ""
           },
           "baxis": {
            "gridcolor": "white",
            "linecolor": "white",
            "ticks": ""
           },
           "bgcolor": "#E5ECF6",
           "caxis": {
            "gridcolor": "white",
            "linecolor": "white",
            "ticks": ""
           }
          },
          "title": {
           "x": 0.05
          },
          "xaxis": {
           "automargin": true,
           "gridcolor": "white",
           "linecolor": "white",
           "ticks": "",
           "title": {
            "standoff": 15
           },
           "zerolinecolor": "white",
           "zerolinewidth": 2
          },
          "yaxis": {
           "automargin": true,
           "gridcolor": "white",
           "linecolor": "white",
           "ticks": "",
           "title": {
            "standoff": 15
           },
           "zerolinecolor": "white",
           "zerolinewidth": 2
          }
         }
        },
        "title": {
         "text": "GDP Per Capita During Covid-19"
        },
        "xaxis": {
         "anchor": "y",
         "domain": [
          0,
          1
         ],
         "title": {
          "text": "Country"
         }
        },
        "yaxis": {
         "anchor": "x",
         "domain": [
          0,
          1
         ],
         "title": {
          "text": "Total Cases"
         }
        }
       }
      },
      "text/html": [
       "<div>                            <div id=\"f38b51d3-99f5-45bc-95e0-d9e30abde9c3\" class=\"plotly-graph-div\" style=\"height:600px; width:100%;\"></div>            <script type=\"text/javascript\">                require([\"plotly\"], function(Plotly) {                    window.PLOTLYENV=window.PLOTLYENV || {};                                    if (document.getElementById(\"f38b51d3-99f5-45bc-95e0-d9e30abde9c3\")) {                    Plotly.newPlot(                        \"f38b51d3-99f5-45bc-95e0-d9e30abde9c3\",                        [{\"alignmentgroup\":\"True\",\"customdata\":[[19.61763693,26477574.0],[19.17473208,14340567.0],[21.04535251,7247327.0],[18.79866817,2131571.0],[17.3111646,3020038.0],[18.67480153,7295850.0],[17.66042712,5510624.0],[17.8982664,1357682.0],[17.74503716,1936134.0],[18.03334044,7249573.0],[18.24624346,2914070.0],[16.76604717,1283880.0],[17.91752278,6664225.0],[17.99409688,5633444.0],[17.62651421,1077426.0],[18.24375196,1640691.0],[18.25035574,1049757.0],[17.36552634,442507.0],[19.21318595,789557.0],[18.91957173,484534.0],[17.50993717,744253.0],[18.51217534,448665.0],[21.08743924,1066939.0],[19.42689854,916111.0],[17.44628825,1455549.0],[14.87366884,23820.0],[15.97371025,126278.0],[17.59363088,343334.0],[16.26562008,1798461.0],[16.68585306,1083749.0],[16.74812767,161480.0],[16.6566263,1142410.0],[18.44375647,644416.0],[16.1279737,941063.0],[16.27279152,578559.0],[16.77238152,464952.0],[16.19948244,209024.0],[15.26725623,69104.0],[16.06145345,88409.0],[15.27755412,222435.0],[16.10707515,58035.0],[15.44604869,73391.0],[16.13757538,302612.0],[17.44905184,304001.0],[15.58201085,4691.0],[17.42400819,142270.0],[18.65556675,194918.0],[16.70118056,281588.0],[15.97360361,320693.0],[14.34706955,22413.0],[16.10851066,200844.0],[19.1440641,125473.0],[14.9017918,102039.0],[17.18751281,27737.0],[15.41242964,310201.0],[16.18659339,79880.0],[17.4772331,165875.0],[16.01344599,134945.0],[17.25184806,29143.0],[17.59630906,206429.0],[18.56012597,77686.0],[17.1631645,40840.0],[15.21025983,129946.0],[15.44359631,50352.0],[17.32613614,31903.0],[15.69102752,114922.0],[16.13191719,59495.0],[15.73310882,87503.0],[14.86662585,54940.0],[17.75260041,63333.0],[17.80025043,59485.0],[15.44502871,21522.0],[15.57202326,113280.0],[17.05418434,65029.0],[15.68518756,71957.0],[17.09438451,56606.0],[15.78017657,42850.0],[15.73616766,22983.0],[15.00360243,70578.0],[17.08805131,14220.0],[15.5058355,47158.0],[15.75402845,72850.0],[15.74286198,29730.0],[17.29261899,24012.0],[14.54950213,74066.0],[16.08354044,110142.0],[17.59626861,102825.0],[16.63354636,30320.0],[15.52763465,58377.0],[17.13661869,17744.0],[16.15953083,44805.0],[14.47446683,47571.0],[15.22778158,28757.0],[18.31043503,32040.0],[16.39062287,7283.0],[13.34706731,21907.0],[16.72698889,26475.0],[16.07075684,9730.0],[14.87253667,31056.0],[14.61559461,6877.0],[16.24934608,23891.0],[16.28518664,19025.0],[13.20032762,3054.0],[15.35230466,19810.0],[15.51289396,6055.0],[13.80344,8006.0],[16.13820607,5653.0],[14.7480352,6634.0],[13.35039417,11356.0],[18.06114425,11162.0],[17.81205473,13973.0],[16.51438055,15984.0],[15.39030816,7108.0],[16.24266591,16774.0],[14.15411267,8947.0],[14.54736486,22165.0],[16.76676599,15480.0],[15.70629361,16410.0],[17.25770384,3396.0],[16.5814031,15001.0],[14.81698436,14345.0],[15.52354271,9298.0],[13.22850199,4749.0],[17.63850561,3748.0],[16.87952045,2108.0],[14.09808385,11802.0],[13.96407193,8179.0],[15.199095,4013.0],[12.74037063,1968.0],[16.82370654,18813.0],[16.37677691,1744.0],[14.90109198,5653.0],[13.28215639,6961.0],[16.23086427,6063.0],[14.49252734,4199.0],[17.3079574,11820.0],[15.89207108,10036.0],[16.67774898,12098.0],[14.45007584,5376.0],[15.38874766,4145.0],[12.99802163,2409.0],[16.31063137,4374.0],[15.06073864,6083.0],[12.88219574,5998.0],[13.68300607,3735.0],[16.85541655,10248.0],[14.69789863,7201.0],[17.21088998,64304.0],[14.15161916,4519.0],[11.25499635,9850.0],[11.5783948,1624.0],[14.67061714,895.0],[17.00213737,11676.0],[15.92920098,4197.0],[13.57542301,5783.0],[12.03636915,2715.0],[15.43641784,10087.0],[16.61436742,12212.0],[10.43229061,8596.0],[18.39370601,2318.0],[12.2975619,2198.0],[14.57736817,2680.0],[12.89325457,1613.0],[11.55620524,1833.0],[16.98590072,1423.0],[12.54576825,260.0],[17.9054155,3733.0],[14.05591783,1988.0],[11.52359831,5527.0],[11.35078294,4310.0],[10.79681667,0.0],[13.67578287,920.0],[11.11322372,2450.0],[16.29127395,188.0],[10.66620744,3146.0],[10.42498602,0.0],[10.56405989,476.0],[15.00283311,0.0],[15.08145118,0.0],[16.63205462,0.0],[16.00683186,417.0],[11.09315857,213.0],[12.98879313,475.0],[11.03928322,1631.0],[12.56852934,1321.0],[13.55623711,0.0],[10.57755385,192.0],[10.54894022,198.0],[12.00823128,207.0],[11.49618614,0.0],[11.49198779,568.0],[11.61680789,0.0],[10.96053104,396.0],[10.1743159,48.0],[13.7061911,132.0],[14.09196129,0.0],[10.31682162,183.0],[12.56196578,0.0],[11.63087738,0.0],[12.1206727,0.0],[15.80003079,0.0],[11.18429639,0.0],[10.88166329,0.0],[10.94679853,0.0],[8.15564927,0.0],[6.695798917,0.0],[8.516993171,177.0],[9.615938805,0.0],[13.43991197,0.0],[15.8300119,0.0]],\"hovertemplate\":\"Country=%{x}<br>Total Cases=%{y}<br>Population=%{customdata[0]}<br>Total Deaths=%{customdata[1]}<br>GDP During Covid=%{marker.color}<extra></extra>\",\"legendgroup\":\"\",\"marker\":{\"color\":[63543.58,6796.84,1900.71,10126.72,6126.87,8346.7,27057.16,5090.72,5332.77,40284.64,17460.671000000002,17460.671000000002,17460.671000000002,17460.671000000002,17460.671000000002,17460.671000000002,17460.671000000002,17460.671000000002,17460.671000000002,17460.671000000002,17460.671000000002,17460.671000000002,17460.671000000002,17460.671000000002,17460.671000000002,17460.671000000002,17460.671000000002,17460.671000000002,17460.671000000002,17460.671000000002,17460.671000000002,17460.671000000002,17460.671000000002,17460.671000000002,17460.671000000002,17460.671000000002,17460.671000000002,17460.671000000002,17460.671000000002,17460.671000000002,17460.671000000002,17460.671000000002,17460.671000000002,17460.671000000002,17460.671000000002,17460.671000000002,17460.671000000002,17460.671000000002,17460.671000000002,17460.671000000002,17460.671000000002,17460.671000000002,17460.671000000002,17460.671000000002,17460.671000000002,17460.671000000002,17460.671000000002,17460.671000000002,17460.671000000002,17460.671000000002,17460.671000000002,17460.671000000002,17460.671000000002,17460.671000000002,17460.671000000002,17460.671000000002,17460.671000000002,17460.671000000002,17460.671000000002,17460.671000000002,17460.671000000002,17460.671000000002,17460.671000000002,17460.671000000002,17460.671000000002,17460.671000000002,17460.671000000002,17460.671000000002,17460.671000000002,17460.671000000002,17460.671000000002,17460.671000000002,17460.671000000002,17460.671000000002,17460.671000000002,17460.671000000002,17460.671000000002,17460.671000000002,17460.671000000002,17460.671000000002,17460.671000000002,17460.671000000002,17460.671000000002,17460.671000000002,17460.671000000002,17460.671000000002,17460.671000000002,17460.671000000002,17460.671000000002,17460.671000000002,17460.671000000002,17460.671000000002,17460.671000000002,17460.671000000002,17460.671000000002,17460.671000000002,17460.671000000002,17460.671000000002,17460.671000000002,17460.671000000002,17460.671000000002,17460.671000000002,17460.671000000002,17460.671000000002,17460.671000000002,17460.671000000002,17460.671000000002,17460.671000000002,17460.671000000002,17460.671000000002,17460.671000000002,17460.671000000002,17460.671000000002,17460.671000000002,17460.671000000002,17460.671000000002,17460.671000000002,17460.671000000002,17460.671000000002,17460.671000000002,17460.671000000002,17460.671000000002,17460.671000000002,17460.671000000002,17460.671000000002,17460.671000000002,17460.671000000002,17460.671000000002,17460.671000000002,17460.671000000002,17460.671000000002,17460.671000000002,17460.671000000002,17460.671000000002,17460.671000000002,17460.671000000002,17460.671000000002,17460.671000000002,17460.671000000002,17460.671000000002,17460.671000000002,17460.671000000002,17460.671000000002,17460.671000000002,17460.671000000002,17460.671000000002,17460.671000000002,17460.671000000002,17460.671000000002,17460.671000000002,17460.671000000002,17460.671000000002,17460.671000000002,17460.671000000002,17460.671000000002,17460.671000000002,17460.671000000002,17460.671000000002,17460.671000000002,17460.671000000002,17460.671000000002,17460.671000000002,17460.671000000002,17460.671000000002,17460.671000000002,17460.671000000002,17460.671000000002,17460.671000000002,17460.671000000002,17460.671000000002,17460.671000000002,17460.671000000002,17460.671000000002,17460.671000000002,17460.671000000002,17460.671000000002,17460.671000000002,17460.671000000002,17460.671000000002,17460.671000000002,17460.671000000002,17460.671000000002,17460.671000000002,17460.671000000002,17460.671000000002,17460.671000000002,17460.671000000002,17460.671000000002,17460.671000000002,17460.671000000002,17460.671000000002,17460.671000000002,17460.671000000002,17460.671000000002,17460.671000000002,17460.671000000002,17460.671000000002,17460.671000000002,17460.671000000002,17460.671000000002],\"coloraxis\":\"coloraxis\",\"pattern\":{\"shape\":\"\"}},\"name\":\"\",\"offsetgroup\":\"\",\"orientation\":\"v\",\"showlegend\":false,\"textposition\":\"auto\",\"x\":[\"United States\",\"Brazil\",\"India\",\"Russia\",\"Peru\",\"Mexico\",\"Spain\",\"South Africa\",\"Colombia\",\"United Kingdom\",\"Iran\",\"Chile\",\"Italy\",\"France\",\"Argentina\",\"Germany\",\"Turkey\",\"Saudi Arabia\",\"Pakistan\",\"Bangladesh\",\"Iraq\",\"Philippines\",\"China\",\"Indonesia\",\"Canada\",\"Qatar\",\"Israel\",\"Ukraine\",\"Belgium\",\"Ecuador\",\"Kazakhstan\",\"Netherlands\",\"Egypt\",\"Sweden\",\"Bolivia\",\"Romania\",\"Dominican Republic\",\"Kuwait\",\"Belarus\",\"Panama\",\"United Arab Emirates\",\"Oman\",\"Portugal\",\"Poland\",\"Singapore\",\"Morocco\",\"Japan\",\"Guatemala\",\"Switzerland\",\"Bahrain\",\"Honduras\",\"Nigeria\",\"Armenia\",\"Nepal\",\"Ireland\",\"Czech Republic\",\"Afghanistan\",\"Austria\",\"Ghana\",\"Algeria\",\"Ethiopia\",\"Venezuela\",\"Moldova\",\"Costa Rica\",\"Uzbekistan\",\"Kyrgyzstan\",\"Azerbaijan\",\"Serbia\",\"Puerto Rico\",\"South Korea\",\"Kenya\",\"Palestine\",\"Denmark\",\"Australia\",\"El Salvador\",\"Cameroon\",\"Paraguay\",\"Lebanon\",\"Bosnia and Herzegovina\",\"Cote d'Ivoire\",\"Norway\",\"Bulgaria\",\"Libya\",\"Malaysia\",\"Macedonia\",\"Hungary\",\"Sudan\",\"Senegal\",\"Finland\",\"Madagascar\",\"Greece\",\"Kosovo\",\"Croatia\",\"Democratic Republic of Congo\",\"Guinea\",\"Luxembourg\",\"Zambia\",\"Tajikistan\",\"Albania\",\"Gabon\",\"Haiti\",\"Tunisia\",\"Maldives\",\"Mauritania\",\"Slovakia\",\"Djibouti\",\"Jordan\",\"Namibia\",\"Montenegro\",\"Thailand\",\"Myanmar\",\"Zimbabwe\",\"Central African Republic\",\"Cuba\",\"Equatorial Guinea\",\"Slovenia\",\"Malawi\",\"Nicaragua\",\"Mozambique\",\"Somalia\",\"Lithuania\",\"Congo\",\"Cape Verde\",\"Uganda\",\"Sri Lanka\",\"Estonia\",\"Swaziland\",\"Georgia\",\"Iceland\",\"Mali\",\"Rwanda\",\"Jamaica\",\"Suriname\",\"South Sudan\",\"Guinea-Bissau\",\"Angola\",\"Sierra Leone\",\"Syria\",\"Latvia\",\"New Zealand\",\"Malta\",\"Benin\",\"Uruguay\",\"Bahamas\",\"Cyprus\",\"Burkina Faso\",\"Gambia\",\"Yemen\",\"Trinidad and Tobago\",\"Andorra\",\"Aruba\",\"Botswana\",\"Niger\",\"Togo\",\"Guyana\",\"Guam\",\"Liberia\",\"Chad\",\"San Marino\",\"Vietnam\",\"Sao Tome and Principe\",\"Lesotho\",\"Belize\",\"United States Virgin Islands\",\"Taiwan\",\"French Polynesia\",\"Tanzania\",\"Mauritius\",\"Jersey\",\"Isle of Man\",\"Faeroe Islands\",\"Comoros\",\"Guernsey\",\"Burundi\",\"Sint Maarten (Dutch part)\",\"Gibraltar\",\"Turks and Caicos Islands\",\"Mongolia\",\"Eritrea\",\"Cambodia\",\"Papua New Guinea\",\"Cayman Islands\",\"Brunei\",\"Bermuda\",\"Barbados\",\"Bhutan\",\"Monaco\",\"Liechtenstein\",\"Curacao\",\"Seychelles\",\"Antigua and Barbuda\",\"Saint Vincent and the Grenadines\",\"Northern Mariana Islands\",\"Bonaire Sint Eustatius and Saba\",\"Fiji\",\"Timor\",\"British Virgin Islands\",\"New Caledonia\",\"Grenada\",\"Saint Lucia\",\"Laos\",\"Dominica\",\"Saint Kitts and Nevis\",\"Greenland\",\"Falkland Islands\",\"Vatican\",\"Montserrat\",\"Anguilla\",\"Solomon Islands\",\"Hong Kong\"],\"xaxis\":\"x\",\"y\":[746014098.0,425704517.0,407771615.0,132888951.0,74882695.0,74347548.0,73717676.0,63027659.0,60543682.0,59475032.0,52421884.0,51268034.0,50752853.0,50084335.0,47155234.0,42447678.0,41431948.0,38585191.0,37738077.0,35266178.0,25280332.0,22409936.0,21632319.0,21570149.0,20902374.0,16351440.0,16202474.0,15805665.0,15192468.0,14408757.0,13194863.0,13026629.0,12422845.0,11910109.0,11858838.0,10672859.0,10649646.0,10622205.0,10595186.0,10371724.0,10247326.0,10060093.0,9266263.0,9239657.0,8191161.0,7839270.0,7659484.0,7644426.0,7552067.0,6549995.0,6545499.0,6107371.0,5474629.0,5243653.0,5239798.0,5213980.0,5126433.0,4909197.0,4900649.0,4893999.0,4876417.0,4839834.0,4632482.0,4631835.0,4421215.0,4287847.0,4236782.0,3984174.0,3586463.0,3333075.0,3277734.0,3249458.0,3030088.0,3012377.0,2573206.0,2476502.0,2265640.0,2220699.0,2200057.0,2132883.0,1985889.0,1890380.0,1817274.0,1774181.0,1724220.0,1708798.0,1663545.0,1586747.0,1458484.0,1443321.0,1421470.0,1345940.0,1314031.0,1271391.0,1195836.0,1146724.0,1129913.0,1117391.0,1071951.0,1031803.0,1023155.0,1000626.0,844040.0,799222.0,798665.0,781771.0,716514.0,681299.0,675912.0,655703.0,644209.0,593699.0,593048.0,581546.0,557355.0,547075.0,536447.0,524410.0,510578.0,491145.0,488057.0,473368.0,463888.0,448728.0,446643.0,445402.0,444238.0,431689.0,421210.0,390637.0,388775.0,370890.0,358632.0,333500.0,306564.0,304005.0,268396.0,267902.0,255964.0,253203.0,251261.0,245893.0,239884.0,237908.0,236673.0,231452.0,229521.0,228925.0,225550.0,223576.0,215110.0,205758.0,199978.0,169903.0,166917.0,160975.0,159880.0,154173.0,134994.0,122618.0,121909.0,107948.0,106383.0,98536.0,97074.0,95388.0,91526.0,69524.0,66777.0,64935.0,56893.0,52437.0,49814.0,49745.0,48026.0,45340.0,44432.0,42465.0,40026.0,39539.0,35966.0,33173.0,30140.0,28876.0,24998.0,22847.0,21511.0,19885.0,19777.0,14701.0,12619.0,7824.0,7784.0,5080.0,4742.0,4697.0,4605.0,4495.0,4470.0,4450.0,4039.0,3977.0,3246.0,2678.0,2467.0,2415.0,2383.0,614.0,11.0,0.0],\"yaxis\":\"y\",\"type\":\"bar\"}],                        {\"template\":{\"data\":{\"bar\":[{\"error_x\":{\"color\":\"#2a3f5f\"},\"error_y\":{\"color\":\"#2a3f5f\"},\"marker\":{\"line\":{\"color\":\"#E5ECF6\",\"width\":0.5},\"pattern\":{\"fillmode\":\"overlay\",\"size\":10,\"solidity\":0.2}},\"type\":\"bar\"}],\"barpolar\":[{\"marker\":{\"line\":{\"color\":\"#E5ECF6\",\"width\":0.5},\"pattern\":{\"fillmode\":\"overlay\",\"size\":10,\"solidity\":0.2}},\"type\":\"barpolar\"}],\"carpet\":[{\"aaxis\":{\"endlinecolor\":\"#2a3f5f\",\"gridcolor\":\"white\",\"linecolor\":\"white\",\"minorgridcolor\":\"white\",\"startlinecolor\":\"#2a3f5f\"},\"baxis\":{\"endlinecolor\":\"#2a3f5f\",\"gridcolor\":\"white\",\"linecolor\":\"white\",\"minorgridcolor\":\"white\",\"startlinecolor\":\"#2a3f5f\"},\"type\":\"carpet\"}],\"choropleth\":[{\"colorbar\":{\"outlinewidth\":0,\"ticks\":\"\"},\"type\":\"choropleth\"}],\"contour\":[{\"colorbar\":{\"outlinewidth\":0,\"ticks\":\"\"},\"colorscale\":[[0.0,\"#0d0887\"],[0.1111111111111111,\"#46039f\"],[0.2222222222222222,\"#7201a8\"],[0.3333333333333333,\"#9c179e\"],[0.4444444444444444,\"#bd3786\"],[0.5555555555555556,\"#d8576b\"],[0.6666666666666666,\"#ed7953\"],[0.7777777777777778,\"#fb9f3a\"],[0.8888888888888888,\"#fdca26\"],[1.0,\"#f0f921\"]],\"type\":\"contour\"}],\"contourcarpet\":[{\"colorbar\":{\"outlinewidth\":0,\"ticks\":\"\"},\"type\":\"contourcarpet\"}],\"heatmap\":[{\"colorbar\":{\"outlinewidth\":0,\"ticks\":\"\"},\"colorscale\":[[0.0,\"#0d0887\"],[0.1111111111111111,\"#46039f\"],[0.2222222222222222,\"#7201a8\"],[0.3333333333333333,\"#9c179e\"],[0.4444444444444444,\"#bd3786\"],[0.5555555555555556,\"#d8576b\"],[0.6666666666666666,\"#ed7953\"],[0.7777777777777778,\"#fb9f3a\"],[0.8888888888888888,\"#fdca26\"],[1.0,\"#f0f921\"]],\"type\":\"heatmap\"}],\"heatmapgl\":[{\"colorbar\":{\"outlinewidth\":0,\"ticks\":\"\"},\"colorscale\":[[0.0,\"#0d0887\"],[0.1111111111111111,\"#46039f\"],[0.2222222222222222,\"#7201a8\"],[0.3333333333333333,\"#9c179e\"],[0.4444444444444444,\"#bd3786\"],[0.5555555555555556,\"#d8576b\"],[0.6666666666666666,\"#ed7953\"],[0.7777777777777778,\"#fb9f3a\"],[0.8888888888888888,\"#fdca26\"],[1.0,\"#f0f921\"]],\"type\":\"heatmapgl\"}],\"histogram\":[{\"marker\":{\"pattern\":{\"fillmode\":\"overlay\",\"size\":10,\"solidity\":0.2}},\"type\":\"histogram\"}],\"histogram2d\":[{\"colorbar\":{\"outlinewidth\":0,\"ticks\":\"\"},\"colorscale\":[[0.0,\"#0d0887\"],[0.1111111111111111,\"#46039f\"],[0.2222222222222222,\"#7201a8\"],[0.3333333333333333,\"#9c179e\"],[0.4444444444444444,\"#bd3786\"],[0.5555555555555556,\"#d8576b\"],[0.6666666666666666,\"#ed7953\"],[0.7777777777777778,\"#fb9f3a\"],[0.8888888888888888,\"#fdca26\"],[1.0,\"#f0f921\"]],\"type\":\"histogram2d\"}],\"histogram2dcontour\":[{\"colorbar\":{\"outlinewidth\":0,\"ticks\":\"\"},\"colorscale\":[[0.0,\"#0d0887\"],[0.1111111111111111,\"#46039f\"],[0.2222222222222222,\"#7201a8\"],[0.3333333333333333,\"#9c179e\"],[0.4444444444444444,\"#bd3786\"],[0.5555555555555556,\"#d8576b\"],[0.6666666666666666,\"#ed7953\"],[0.7777777777777778,\"#fb9f3a\"],[0.8888888888888888,\"#fdca26\"],[1.0,\"#f0f921\"]],\"type\":\"histogram2dcontour\"}],\"mesh3d\":[{\"colorbar\":{\"outlinewidth\":0,\"ticks\":\"\"},\"type\":\"mesh3d\"}],\"parcoords\":[{\"line\":{\"colorbar\":{\"outlinewidth\":0,\"ticks\":\"\"}},\"type\":\"parcoords\"}],\"pie\":[{\"automargin\":true,\"type\":\"pie\"}],\"scatter\":[{\"marker\":{\"colorbar\":{\"outlinewidth\":0,\"ticks\":\"\"}},\"type\":\"scatter\"}],\"scatter3d\":[{\"line\":{\"colorbar\":{\"outlinewidth\":0,\"ticks\":\"\"}},\"marker\":{\"colorbar\":{\"outlinewidth\":0,\"ticks\":\"\"}},\"type\":\"scatter3d\"}],\"scattercarpet\":[{\"marker\":{\"colorbar\":{\"outlinewidth\":0,\"ticks\":\"\"}},\"type\":\"scattercarpet\"}],\"scattergeo\":[{\"marker\":{\"colorbar\":{\"outlinewidth\":0,\"ticks\":\"\"}},\"type\":\"scattergeo\"}],\"scattergl\":[{\"marker\":{\"colorbar\":{\"outlinewidth\":0,\"ticks\":\"\"}},\"type\":\"scattergl\"}],\"scattermapbox\":[{\"marker\":{\"colorbar\":{\"outlinewidth\":0,\"ticks\":\"\"}},\"type\":\"scattermapbox\"}],\"scatterpolar\":[{\"marker\":{\"colorbar\":{\"outlinewidth\":0,\"ticks\":\"\"}},\"type\":\"scatterpolar\"}],\"scatterpolargl\":[{\"marker\":{\"colorbar\":{\"outlinewidth\":0,\"ticks\":\"\"}},\"type\":\"scatterpolargl\"}],\"scatterternary\":[{\"marker\":{\"colorbar\":{\"outlinewidth\":0,\"ticks\":\"\"}},\"type\":\"scatterternary\"}],\"surface\":[{\"colorbar\":{\"outlinewidth\":0,\"ticks\":\"\"},\"colorscale\":[[0.0,\"#0d0887\"],[0.1111111111111111,\"#46039f\"],[0.2222222222222222,\"#7201a8\"],[0.3333333333333333,\"#9c179e\"],[0.4444444444444444,\"#bd3786\"],[0.5555555555555556,\"#d8576b\"],[0.6666666666666666,\"#ed7953\"],[0.7777777777777778,\"#fb9f3a\"],[0.8888888888888888,\"#fdca26\"],[1.0,\"#f0f921\"]],\"type\":\"surface\"}],\"table\":[{\"cells\":{\"fill\":{\"color\":\"#EBF0F8\"},\"line\":{\"color\":\"white\"}},\"header\":{\"fill\":{\"color\":\"#C8D4E3\"},\"line\":{\"color\":\"white\"}},\"type\":\"table\"}]},\"layout\":{\"annotationdefaults\":{\"arrowcolor\":\"#2a3f5f\",\"arrowhead\":0,\"arrowwidth\":1},\"autotypenumbers\":\"strict\",\"coloraxis\":{\"colorbar\":{\"outlinewidth\":0,\"ticks\":\"\"}},\"colorscale\":{\"diverging\":[[0,\"#8e0152\"],[0.1,\"#c51b7d\"],[0.2,\"#de77ae\"],[0.3,\"#f1b6da\"],[0.4,\"#fde0ef\"],[0.5,\"#f7f7f7\"],[0.6,\"#e6f5d0\"],[0.7,\"#b8e186\"],[0.8,\"#7fbc41\"],[0.9,\"#4d9221\"],[1,\"#276419\"]],\"sequential\":[[0.0,\"#0d0887\"],[0.1111111111111111,\"#46039f\"],[0.2222222222222222,\"#7201a8\"],[0.3333333333333333,\"#9c179e\"],[0.4444444444444444,\"#bd3786\"],[0.5555555555555556,\"#d8576b\"],[0.6666666666666666,\"#ed7953\"],[0.7777777777777778,\"#fb9f3a\"],[0.8888888888888888,\"#fdca26\"],[1.0,\"#f0f921\"]],\"sequentialminus\":[[0.0,\"#0d0887\"],[0.1111111111111111,\"#46039f\"],[0.2222222222222222,\"#7201a8\"],[0.3333333333333333,\"#9c179e\"],[0.4444444444444444,\"#bd3786\"],[0.5555555555555556,\"#d8576b\"],[0.6666666666666666,\"#ed7953\"],[0.7777777777777778,\"#fb9f3a\"],[0.8888888888888888,\"#fdca26\"],[1.0,\"#f0f921\"]]},\"colorway\":[\"#636efa\",\"#EF553B\",\"#00cc96\",\"#ab63fa\",\"#FFA15A\",\"#19d3f3\",\"#FF6692\",\"#B6E880\",\"#FF97FF\",\"#FECB52\"],\"font\":{\"color\":\"#2a3f5f\"},\"geo\":{\"bgcolor\":\"white\",\"lakecolor\":\"white\",\"landcolor\":\"#E5ECF6\",\"showlakes\":true,\"showland\":true,\"subunitcolor\":\"white\"},\"hoverlabel\":{\"align\":\"left\"},\"hovermode\":\"closest\",\"mapbox\":{\"style\":\"light\"},\"paper_bgcolor\":\"white\",\"plot_bgcolor\":\"#E5ECF6\",\"polar\":{\"angularaxis\":{\"gridcolor\":\"white\",\"linecolor\":\"white\",\"ticks\":\"\"},\"bgcolor\":\"#E5ECF6\",\"radialaxis\":{\"gridcolor\":\"white\",\"linecolor\":\"white\",\"ticks\":\"\"}},\"scene\":{\"xaxis\":{\"backgroundcolor\":\"#E5ECF6\",\"gridcolor\":\"white\",\"gridwidth\":2,\"linecolor\":\"white\",\"showbackground\":true,\"ticks\":\"\",\"zerolinecolor\":\"white\"},\"yaxis\":{\"backgroundcolor\":\"#E5ECF6\",\"gridcolor\":\"white\",\"gridwidth\":2,\"linecolor\":\"white\",\"showbackground\":true,\"ticks\":\"\",\"zerolinecolor\":\"white\"},\"zaxis\":{\"backgroundcolor\":\"#E5ECF6\",\"gridcolor\":\"white\",\"gridwidth\":2,\"linecolor\":\"white\",\"showbackground\":true,\"ticks\":\"\",\"zerolinecolor\":\"white\"}},\"shapedefaults\":{\"line\":{\"color\":\"#2a3f5f\"}},\"ternary\":{\"aaxis\":{\"gridcolor\":\"white\",\"linecolor\":\"white\",\"ticks\":\"\"},\"baxis\":{\"gridcolor\":\"white\",\"linecolor\":\"white\",\"ticks\":\"\"},\"bgcolor\":\"#E5ECF6\",\"caxis\":{\"gridcolor\":\"white\",\"linecolor\":\"white\",\"ticks\":\"\"}},\"title\":{\"x\":0.05},\"xaxis\":{\"automargin\":true,\"gridcolor\":\"white\",\"linecolor\":\"white\",\"ticks\":\"\",\"title\":{\"standoff\":15},\"zerolinecolor\":\"white\",\"zerolinewidth\":2},\"yaxis\":{\"automargin\":true,\"gridcolor\":\"white\",\"linecolor\":\"white\",\"ticks\":\"\",\"title\":{\"standoff\":15},\"zerolinecolor\":\"white\",\"zerolinewidth\":2}}},\"xaxis\":{\"anchor\":\"y\",\"domain\":[0.0,1.0],\"title\":{\"text\":\"Country\"}},\"yaxis\":{\"anchor\":\"x\",\"domain\":[0.0,1.0],\"title\":{\"text\":\"Total Cases\"}},\"coloraxis\":{\"colorbar\":{\"title\":{\"text\":\"GDP During Covid\"}},\"colorscale\":[[0.0,\"#0d0887\"],[0.1111111111111111,\"#46039f\"],[0.2222222222222222,\"#7201a8\"],[0.3333333333333333,\"#9c179e\"],[0.4444444444444444,\"#bd3786\"],[0.5555555555555556,\"#d8576b\"],[0.6666666666666666,\"#ed7953\"],[0.7777777777777778,\"#fb9f3a\"],[0.8888888888888888,\"#fdca26\"],[1.0,\"#f0f921\"]]},\"legend\":{\"tracegroupgap\":0},\"title\":{\"text\":\"GDP Per Capita During Covid-19\"},\"barmode\":\"relative\",\"height\":600},                        {\"responsive\": true}                    ).then(function(){\n",
       "                            \n",
       "var gd = document.getElementById('f38b51d3-99f5-45bc-95e0-d9e30abde9c3');\n",
       "var x = new MutationObserver(function (mutations, observer) {{\n",
       "        var display = window.getComputedStyle(gd).display;\n",
       "        if (!display || display === 'none') {{\n",
       "            console.log([gd, 'removed!']);\n",
       "            Plotly.purge(gd);\n",
       "            observer.disconnect();\n",
       "        }}\n",
       "}});\n",
       "\n",
       "// Listen for the removal of the full notebook cells\n",
       "var notebookContainer = gd.closest('#notebook-container');\n",
       "if (notebookContainer) {{\n",
       "    x.observe(notebookContainer, {childList: true});\n",
       "}}\n",
       "\n",
       "// Listen for the clearing of the current output cell\n",
       "var outputEl = gd.closest('.output');\n",
       "if (outputEl) {{\n",
       "    x.observe(outputEl, {childList: true});\n",
       "}}\n",
       "\n",
       "                        })                };                });            </script>        </div>"
      ]
     },
     "metadata": {},
     "output_type": "display_data"
    }
   ],
   "source": [
    "#GDP During Covid-19\n",
    "fg = px.bar(transf, x='Country', y='Total Cases', hover_data=['Population', 'Total Deaths'], color='GDP During Covid', height=600, title=\"GDP Per Capita During Covid-19\")\n",
    "fg.show()\n"
   ]
  },
  {
   "cell_type": "code",
   "execution_count": 75,
   "id": "85d04c68",
   "metadata": {},
   "outputs": [
    {
     "data": {
      "application/vnd.plotly.v1+json": {
       "config": {
        "plotlyServerURL": "https://plot.ly"
       },
       "data": [
        {
         "marker": {
          "color": "Green"
         },
         "name": "GDP Per capita Before Covid-19",
         "type": "bar",
         "x": [
          "United States",
          "Brazil",
          "India",
          "Russia",
          "Peru",
          "Mexico",
          "Spain",
          "South Africa",
          "Colombia",
          "United Kingdom",
          "Iran",
          "Chile",
          "Italy",
          "France",
          "Argentina",
          "Germany",
          "Turkey",
          "Saudi Arabia",
          "Pakistan",
          "Bangladesh",
          "Iraq",
          "Philippines",
          "China",
          "Indonesia",
          "Canada",
          "Qatar",
          "Israel",
          "Ukraine",
          "Belgium",
          "Ecuador",
          "Kazakhstan",
          "Netherlands",
          "Egypt",
          "Sweden",
          "Bolivia",
          "Romania",
          "Dominican Republic",
          "Kuwait",
          "Belarus",
          "Panama",
          "United Arab Emirates",
          "Oman",
          "Portugal",
          "Poland",
          "Singapore",
          "Morocco",
          "Japan",
          "Guatemala",
          "Switzerland",
          "Bahrain",
          "Honduras",
          "Nigeria",
          "Armenia",
          "Nepal",
          "Ireland",
          "Czech Republic",
          "Afghanistan",
          "Austria",
          "Ghana",
          "Algeria",
          "Ethiopia",
          "Venezuela",
          "Moldova",
          "Costa Rica",
          "Uzbekistan",
          "Kyrgyzstan",
          "Azerbaijan",
          "Serbia",
          "Puerto Rico",
          "South Korea",
          "Kenya",
          "Palestine",
          "Denmark",
          "Australia",
          "El Salvador",
          "Cameroon",
          "Paraguay",
          "Lebanon",
          "Bosnia and Herzegovina",
          "Cote d'Ivoire",
          "Norway",
          "Bulgaria",
          "Libya",
          "Malaysia",
          "Macedonia",
          "Hungary",
          "Sudan",
          "Senegal",
          "Finland",
          "Madagascar",
          "Greece",
          "Kosovo",
          "Croatia",
          "Democratic Republic of Congo",
          "Guinea",
          "Luxembourg",
          "Zambia",
          "Tajikistan",
          "Albania",
          "Gabon",
          "Haiti",
          "Tunisia",
          "Maldives",
          "Mauritania",
          "Slovakia",
          "Djibouti",
          "Jordan",
          "Namibia",
          "Montenegro",
          "Thailand",
          "Myanmar",
          "Zimbabwe",
          "Central African Republic",
          "Cuba",
          "Equatorial Guinea",
          "Slovenia",
          "Malawi",
          "Nicaragua",
          "Mozambique",
          "Somalia",
          "Lithuania",
          "Congo",
          "Cape Verde",
          "Uganda",
          "Sri Lanka",
          "Estonia",
          "Swaziland",
          "Georgia",
          "Iceland",
          "Mali",
          "Rwanda",
          "Jamaica",
          "Suriname",
          "South Sudan",
          "Guinea-Bissau",
          "Angola",
          "Sierra Leone",
          "Syria",
          "Latvia",
          "New Zealand",
          "Malta",
          "Benin",
          "Uruguay",
          "Bahamas",
          "Cyprus",
          "Burkina Faso",
          "Gambia",
          "Yemen",
          "Trinidad and Tobago",
          "Andorra",
          "Aruba",
          "Botswana",
          "Niger",
          "Togo",
          "Guyana",
          "Guam",
          "Liberia",
          "Chad",
          "San Marino",
          "Vietnam",
          "Sao Tome and Principe",
          "Lesotho",
          "Belize",
          "United States Virgin Islands",
          "Taiwan",
          "French Polynesia",
          "Tanzania",
          "Mauritius",
          "Jersey",
          "Isle of Man",
          "Faeroe Islands",
          "Comoros",
          "Guernsey",
          "Burundi",
          "Sint Maarten (Dutch part)",
          "Gibraltar",
          "Turks and Caicos Islands",
          "Mongolia",
          "Eritrea",
          "Cambodia",
          "Papua New Guinea",
          "Cayman Islands",
          "Brunei",
          "Bermuda",
          "Barbados",
          "Bhutan",
          "Monaco",
          "Liechtenstein",
          "Curacao",
          "Seychelles",
          "Antigua and Barbuda",
          "Saint Vincent and the Grenadines",
          "Northern Mariana Islands",
          "Bonaire Sint Eustatius and Saba",
          "Fiji",
          "Timor",
          "British Virgin Islands",
          "New Caledonia",
          "Grenada",
          "Saint Lucia",
          "Laos",
          "Dominica",
          "Saint Kitts and Nevis",
          "Greenland",
          "Falkland Islands",
          "Vatican",
          "Montserrat",
          "Anguilla",
          "Solomon Islands",
          "Hong Kong"
         ],
         "y": [
          65279.53,
          8897.49,
          2100.75,
          11497.65,
          7027.61,
          9946.03,
          29564.74,
          6001.4,
          6424.98,
          42354.41,
          18909.459,
          18909.459,
          18909.459,
          18909.459,
          18909.459,
          18909.459,
          18909.459,
          18909.459,
          18909.459,
          18909.459,
          18909.459,
          18909.459,
          18909.459,
          18909.459,
          18909.459,
          18909.459,
          18909.459,
          18909.459,
          18909.459,
          18909.459,
          18909.459,
          18909.459,
          18909.459,
          18909.459,
          18909.459,
          18909.459,
          18909.459,
          18909.459,
          18909.459,
          18909.459,
          18909.459,
          18909.459,
          18909.459,
          18909.459,
          18909.459,
          18909.459,
          18909.459,
          18909.459,
          18909.459,
          18909.459,
          18909.459,
          18909.459,
          18909.459,
          18909.459,
          18909.459,
          18909.459,
          18909.459,
          18909.459,
          18909.459,
          18909.459,
          18909.459,
          18909.459,
          18909.459,
          18909.459,
          18909.459,
          18909.459,
          18909.459,
          18909.459,
          18909.459,
          18909.459,
          18909.459,
          18909.459,
          18909.459,
          18909.459,
          18909.459,
          18909.459,
          18909.459,
          18909.459,
          18909.459,
          18909.459,
          18909.459,
          18909.459,
          18909.459,
          18909.459,
          18909.459,
          18909.459,
          18909.459,
          18909.459,
          18909.459,
          18909.459,
          18909.459,
          18909.459,
          18909.459,
          18909.459,
          18909.459,
          18909.459,
          18909.459,
          18909.459,
          18909.459,
          18909.459,
          18909.459,
          18909.459,
          18909.459,
          18909.459,
          18909.459,
          18909.459,
          18909.459,
          18909.459,
          18909.459,
          18909.459,
          18909.459,
          18909.459,
          18909.459,
          18909.459,
          18909.459,
          18909.459,
          18909.459,
          18909.459,
          18909.459,
          18909.459,
          18909.459,
          18909.459,
          18909.459,
          18909.459,
          18909.459,
          18909.459,
          18909.459,
          18909.459,
          18909.459,
          18909.459,
          18909.459,
          18909.459,
          18909.459,
          18909.459,
          18909.459,
          18909.459,
          18909.459,
          18909.459,
          18909.459,
          18909.459,
          18909.459,
          18909.459,
          18909.459,
          18909.459,
          18909.459,
          18909.459,
          18909.459,
          18909.459,
          18909.459,
          18909.459,
          18909.459,
          18909.459,
          18909.459,
          18909.459,
          18909.459,
          18909.459,
          18909.459,
          18909.459,
          18909.459,
          18909.459,
          18909.459,
          18909.459,
          18909.459,
          18909.459,
          18909.459,
          18909.459,
          18909.459,
          18909.459,
          18909.459,
          18909.459,
          18909.459,
          18909.459,
          18909.459,
          18909.459,
          18909.459,
          18909.459,
          18909.459,
          18909.459,
          18909.459,
          18909.459,
          18909.459,
          18909.459,
          18909.459,
          18909.459,
          18909.459,
          18909.459,
          18909.459,
          18909.459,
          18909.459,
          18909.459,
          18909.459,
          18909.459,
          18909.459,
          18909.459,
          18909.459,
          18909.459,
          18909.459,
          18909.459,
          18909.459,
          18909.459,
          18909.459,
          18909.459,
          18909.459,
          18909.459,
          18909.459,
          18909.459,
          18909.459,
          18909.459,
          18909.459,
          18909.459
         ]
        },
        {
         "marker": {
          "color": "red"
         },
         "name": "GDP Per Capita During Covid-19",
         "type": "bar",
         "x": [
          "United States",
          "Brazil",
          "India",
          "Russia",
          "Peru",
          "Mexico",
          "Spain",
          "South Africa",
          "Colombia",
          "United Kingdom",
          "Iran",
          "Chile",
          "Italy",
          "France",
          "Argentina",
          "Germany",
          "Turkey",
          "Saudi Arabia",
          "Pakistan",
          "Bangladesh",
          "Iraq",
          "Philippines",
          "China",
          "Indonesia",
          "Canada",
          "Qatar",
          "Israel",
          "Ukraine",
          "Belgium",
          "Ecuador",
          "Kazakhstan",
          "Netherlands",
          "Egypt",
          "Sweden",
          "Bolivia",
          "Romania",
          "Dominican Republic",
          "Kuwait",
          "Belarus",
          "Panama",
          "United Arab Emirates",
          "Oman",
          "Portugal",
          "Poland",
          "Singapore",
          "Morocco",
          "Japan",
          "Guatemala",
          "Switzerland",
          "Bahrain",
          "Honduras",
          "Nigeria",
          "Armenia",
          "Nepal",
          "Ireland",
          "Czech Republic",
          "Afghanistan",
          "Austria",
          "Ghana",
          "Algeria",
          "Ethiopia",
          "Venezuela",
          "Moldova",
          "Costa Rica",
          "Uzbekistan",
          "Kyrgyzstan",
          "Azerbaijan",
          "Serbia",
          "Puerto Rico",
          "South Korea",
          "Kenya",
          "Palestine",
          "Denmark",
          "Australia",
          "El Salvador",
          "Cameroon",
          "Paraguay",
          "Lebanon",
          "Bosnia and Herzegovina",
          "Cote d'Ivoire",
          "Norway",
          "Bulgaria",
          "Libya",
          "Malaysia",
          "Macedonia",
          "Hungary",
          "Sudan",
          "Senegal",
          "Finland",
          "Madagascar",
          "Greece",
          "Kosovo",
          "Croatia",
          "Democratic Republic of Congo",
          "Guinea",
          "Luxembourg",
          "Zambia",
          "Tajikistan",
          "Albania",
          "Gabon",
          "Haiti",
          "Tunisia",
          "Maldives",
          "Mauritania",
          "Slovakia",
          "Djibouti",
          "Jordan",
          "Namibia",
          "Montenegro",
          "Thailand",
          "Myanmar",
          "Zimbabwe",
          "Central African Republic",
          "Cuba",
          "Equatorial Guinea",
          "Slovenia",
          "Malawi",
          "Nicaragua",
          "Mozambique",
          "Somalia",
          "Lithuania",
          "Congo",
          "Cape Verde",
          "Uganda",
          "Sri Lanka",
          "Estonia",
          "Swaziland",
          "Georgia",
          "Iceland",
          "Mali",
          "Rwanda",
          "Jamaica",
          "Suriname",
          "South Sudan",
          "Guinea-Bissau",
          "Angola",
          "Sierra Leone",
          "Syria",
          "Latvia",
          "New Zealand",
          "Malta",
          "Benin",
          "Uruguay",
          "Bahamas",
          "Cyprus",
          "Burkina Faso",
          "Gambia",
          "Yemen",
          "Trinidad and Tobago",
          "Andorra",
          "Aruba",
          "Botswana",
          "Niger",
          "Togo",
          "Guyana",
          "Guam",
          "Liberia",
          "Chad",
          "San Marino",
          "Vietnam",
          "Sao Tome and Principe",
          "Lesotho",
          "Belize",
          "United States Virgin Islands",
          "Taiwan",
          "French Polynesia",
          "Tanzania",
          "Mauritius",
          "Jersey",
          "Isle of Man",
          "Faeroe Islands",
          "Comoros",
          "Guernsey",
          "Burundi",
          "Sint Maarten (Dutch part)",
          "Gibraltar",
          "Turks and Caicos Islands",
          "Mongolia",
          "Eritrea",
          "Cambodia",
          "Papua New Guinea",
          "Cayman Islands",
          "Brunei",
          "Bermuda",
          "Barbados",
          "Bhutan",
          "Monaco",
          "Liechtenstein",
          "Curacao",
          "Seychelles",
          "Antigua and Barbuda",
          "Saint Vincent and the Grenadines",
          "Northern Mariana Islands",
          "Bonaire Sint Eustatius and Saba",
          "Fiji",
          "Timor",
          "British Virgin Islands",
          "New Caledonia",
          "Grenada",
          "Saint Lucia",
          "Laos",
          "Dominica",
          "Saint Kitts and Nevis",
          "Greenland",
          "Falkland Islands",
          "Vatican",
          "Montserrat",
          "Anguilla",
          "Solomon Islands",
          "Hong Kong"
         ],
         "y": [
          63543.58,
          6796.84,
          1900.71,
          10126.72,
          6126.87,
          8346.7,
          27057.16,
          5090.72,
          5332.77,
          40284.64,
          17460.671000000002,
          17460.671000000002,
          17460.671000000002,
          17460.671000000002,
          17460.671000000002,
          17460.671000000002,
          17460.671000000002,
          17460.671000000002,
          17460.671000000002,
          17460.671000000002,
          17460.671000000002,
          17460.671000000002,
          17460.671000000002,
          17460.671000000002,
          17460.671000000002,
          17460.671000000002,
          17460.671000000002,
          17460.671000000002,
          17460.671000000002,
          17460.671000000002,
          17460.671000000002,
          17460.671000000002,
          17460.671000000002,
          17460.671000000002,
          17460.671000000002,
          17460.671000000002,
          17460.671000000002,
          17460.671000000002,
          17460.671000000002,
          17460.671000000002,
          17460.671000000002,
          17460.671000000002,
          17460.671000000002,
          17460.671000000002,
          17460.671000000002,
          17460.671000000002,
          17460.671000000002,
          17460.671000000002,
          17460.671000000002,
          17460.671000000002,
          17460.671000000002,
          17460.671000000002,
          17460.671000000002,
          17460.671000000002,
          17460.671000000002,
          17460.671000000002,
          17460.671000000002,
          17460.671000000002,
          17460.671000000002,
          17460.671000000002,
          17460.671000000002,
          17460.671000000002,
          17460.671000000002,
          17460.671000000002,
          17460.671000000002,
          17460.671000000002,
          17460.671000000002,
          17460.671000000002,
          17460.671000000002,
          17460.671000000002,
          17460.671000000002,
          17460.671000000002,
          17460.671000000002,
          17460.671000000002,
          17460.671000000002,
          17460.671000000002,
          17460.671000000002,
          17460.671000000002,
          17460.671000000002,
          17460.671000000002,
          17460.671000000002,
          17460.671000000002,
          17460.671000000002,
          17460.671000000002,
          17460.671000000002,
          17460.671000000002,
          17460.671000000002,
          17460.671000000002,
          17460.671000000002,
          17460.671000000002,
          17460.671000000002,
          17460.671000000002,
          17460.671000000002,
          17460.671000000002,
          17460.671000000002,
          17460.671000000002,
          17460.671000000002,
          17460.671000000002,
          17460.671000000002,
          17460.671000000002,
          17460.671000000002,
          17460.671000000002,
          17460.671000000002,
          17460.671000000002,
          17460.671000000002,
          17460.671000000002,
          17460.671000000002,
          17460.671000000002,
          17460.671000000002,
          17460.671000000002,
          17460.671000000002,
          17460.671000000002,
          17460.671000000002,
          17460.671000000002,
          17460.671000000002,
          17460.671000000002,
          17460.671000000002,
          17460.671000000002,
          17460.671000000002,
          17460.671000000002,
          17460.671000000002,
          17460.671000000002,
          17460.671000000002,
          17460.671000000002,
          17460.671000000002,
          17460.671000000002,
          17460.671000000002,
          17460.671000000002,
          17460.671000000002,
          17460.671000000002,
          17460.671000000002,
          17460.671000000002,
          17460.671000000002,
          17460.671000000002,
          17460.671000000002,
          17460.671000000002,
          17460.671000000002,
          17460.671000000002,
          17460.671000000002,
          17460.671000000002,
          17460.671000000002,
          17460.671000000002,
          17460.671000000002,
          17460.671000000002,
          17460.671000000002,
          17460.671000000002,
          17460.671000000002,
          17460.671000000002,
          17460.671000000002,
          17460.671000000002,
          17460.671000000002,
          17460.671000000002,
          17460.671000000002,
          17460.671000000002,
          17460.671000000002,
          17460.671000000002,
          17460.671000000002,
          17460.671000000002,
          17460.671000000002,
          17460.671000000002,
          17460.671000000002,
          17460.671000000002,
          17460.671000000002,
          17460.671000000002,
          17460.671000000002,
          17460.671000000002,
          17460.671000000002,
          17460.671000000002,
          17460.671000000002,
          17460.671000000002,
          17460.671000000002,
          17460.671000000002,
          17460.671000000002,
          17460.671000000002,
          17460.671000000002,
          17460.671000000002,
          17460.671000000002,
          17460.671000000002,
          17460.671000000002,
          17460.671000000002,
          17460.671000000002,
          17460.671000000002,
          17460.671000000002,
          17460.671000000002,
          17460.671000000002,
          17460.671000000002,
          17460.671000000002,
          17460.671000000002,
          17460.671000000002,
          17460.671000000002,
          17460.671000000002,
          17460.671000000002,
          17460.671000000002,
          17460.671000000002,
          17460.671000000002,
          17460.671000000002,
          17460.671000000002,
          17460.671000000002,
          17460.671000000002,
          17460.671000000002,
          17460.671000000002,
          17460.671000000002,
          17460.671000000002,
          17460.671000000002,
          17460.671000000002,
          17460.671000000002,
          17460.671000000002,
          17460.671000000002,
          17460.671000000002,
          17460.671000000002
         ]
        }
       ],
       "layout": {
        "barmode": "group",
        "template": {
         "data": {
          "bar": [
           {
            "error_x": {
             "color": "#2a3f5f"
            },
            "error_y": {
             "color": "#2a3f5f"
            },
            "marker": {
             "line": {
              "color": "#E5ECF6",
              "width": 0.5
             },
             "pattern": {
              "fillmode": "overlay",
              "size": 10,
              "solidity": 0.2
             }
            },
            "type": "bar"
           }
          ],
          "barpolar": [
           {
            "marker": {
             "line": {
              "color": "#E5ECF6",
              "width": 0.5
             },
             "pattern": {
              "fillmode": "overlay",
              "size": 10,
              "solidity": 0.2
             }
            },
            "type": "barpolar"
           }
          ],
          "carpet": [
           {
            "aaxis": {
             "endlinecolor": "#2a3f5f",
             "gridcolor": "white",
             "linecolor": "white",
             "minorgridcolor": "white",
             "startlinecolor": "#2a3f5f"
            },
            "baxis": {
             "endlinecolor": "#2a3f5f",
             "gridcolor": "white",
             "linecolor": "white",
             "minorgridcolor": "white",
             "startlinecolor": "#2a3f5f"
            },
            "type": "carpet"
           }
          ],
          "choropleth": [
           {
            "colorbar": {
             "outlinewidth": 0,
             "ticks": ""
            },
            "type": "choropleth"
           }
          ],
          "contour": [
           {
            "colorbar": {
             "outlinewidth": 0,
             "ticks": ""
            },
            "colorscale": [
             [
              0,
              "#0d0887"
             ],
             [
              0.1111111111111111,
              "#46039f"
             ],
             [
              0.2222222222222222,
              "#7201a8"
             ],
             [
              0.3333333333333333,
              "#9c179e"
             ],
             [
              0.4444444444444444,
              "#bd3786"
             ],
             [
              0.5555555555555556,
              "#d8576b"
             ],
             [
              0.6666666666666666,
              "#ed7953"
             ],
             [
              0.7777777777777778,
              "#fb9f3a"
             ],
             [
              0.8888888888888888,
              "#fdca26"
             ],
             [
              1,
              "#f0f921"
             ]
            ],
            "type": "contour"
           }
          ],
          "contourcarpet": [
           {
            "colorbar": {
             "outlinewidth": 0,
             "ticks": ""
            },
            "type": "contourcarpet"
           }
          ],
          "heatmap": [
           {
            "colorbar": {
             "outlinewidth": 0,
             "ticks": ""
            },
            "colorscale": [
             [
              0,
              "#0d0887"
             ],
             [
              0.1111111111111111,
              "#46039f"
             ],
             [
              0.2222222222222222,
              "#7201a8"
             ],
             [
              0.3333333333333333,
              "#9c179e"
             ],
             [
              0.4444444444444444,
              "#bd3786"
             ],
             [
              0.5555555555555556,
              "#d8576b"
             ],
             [
              0.6666666666666666,
              "#ed7953"
             ],
             [
              0.7777777777777778,
              "#fb9f3a"
             ],
             [
              0.8888888888888888,
              "#fdca26"
             ],
             [
              1,
              "#f0f921"
             ]
            ],
            "type": "heatmap"
           }
          ],
          "heatmapgl": [
           {
            "colorbar": {
             "outlinewidth": 0,
             "ticks": ""
            },
            "colorscale": [
             [
              0,
              "#0d0887"
             ],
             [
              0.1111111111111111,
              "#46039f"
             ],
             [
              0.2222222222222222,
              "#7201a8"
             ],
             [
              0.3333333333333333,
              "#9c179e"
             ],
             [
              0.4444444444444444,
              "#bd3786"
             ],
             [
              0.5555555555555556,
              "#d8576b"
             ],
             [
              0.6666666666666666,
              "#ed7953"
             ],
             [
              0.7777777777777778,
              "#fb9f3a"
             ],
             [
              0.8888888888888888,
              "#fdca26"
             ],
             [
              1,
              "#f0f921"
             ]
            ],
            "type": "heatmapgl"
           }
          ],
          "histogram": [
           {
            "marker": {
             "pattern": {
              "fillmode": "overlay",
              "size": 10,
              "solidity": 0.2
             }
            },
            "type": "histogram"
           }
          ],
          "histogram2d": [
           {
            "colorbar": {
             "outlinewidth": 0,
             "ticks": ""
            },
            "colorscale": [
             [
              0,
              "#0d0887"
             ],
             [
              0.1111111111111111,
              "#46039f"
             ],
             [
              0.2222222222222222,
              "#7201a8"
             ],
             [
              0.3333333333333333,
              "#9c179e"
             ],
             [
              0.4444444444444444,
              "#bd3786"
             ],
             [
              0.5555555555555556,
              "#d8576b"
             ],
             [
              0.6666666666666666,
              "#ed7953"
             ],
             [
              0.7777777777777778,
              "#fb9f3a"
             ],
             [
              0.8888888888888888,
              "#fdca26"
             ],
             [
              1,
              "#f0f921"
             ]
            ],
            "type": "histogram2d"
           }
          ],
          "histogram2dcontour": [
           {
            "colorbar": {
             "outlinewidth": 0,
             "ticks": ""
            },
            "colorscale": [
             [
              0,
              "#0d0887"
             ],
             [
              0.1111111111111111,
              "#46039f"
             ],
             [
              0.2222222222222222,
              "#7201a8"
             ],
             [
              0.3333333333333333,
              "#9c179e"
             ],
             [
              0.4444444444444444,
              "#bd3786"
             ],
             [
              0.5555555555555556,
              "#d8576b"
             ],
             [
              0.6666666666666666,
              "#ed7953"
             ],
             [
              0.7777777777777778,
              "#fb9f3a"
             ],
             [
              0.8888888888888888,
              "#fdca26"
             ],
             [
              1,
              "#f0f921"
             ]
            ],
            "type": "histogram2dcontour"
           }
          ],
          "mesh3d": [
           {
            "colorbar": {
             "outlinewidth": 0,
             "ticks": ""
            },
            "type": "mesh3d"
           }
          ],
          "parcoords": [
           {
            "line": {
             "colorbar": {
              "outlinewidth": 0,
              "ticks": ""
             }
            },
            "type": "parcoords"
           }
          ],
          "pie": [
           {
            "automargin": true,
            "type": "pie"
           }
          ],
          "scatter": [
           {
            "marker": {
             "colorbar": {
              "outlinewidth": 0,
              "ticks": ""
             }
            },
            "type": "scatter"
           }
          ],
          "scatter3d": [
           {
            "line": {
             "colorbar": {
              "outlinewidth": 0,
              "ticks": ""
             }
            },
            "marker": {
             "colorbar": {
              "outlinewidth": 0,
              "ticks": ""
             }
            },
            "type": "scatter3d"
           }
          ],
          "scattercarpet": [
           {
            "marker": {
             "colorbar": {
              "outlinewidth": 0,
              "ticks": ""
             }
            },
            "type": "scattercarpet"
           }
          ],
          "scattergeo": [
           {
            "marker": {
             "colorbar": {
              "outlinewidth": 0,
              "ticks": ""
             }
            },
            "type": "scattergeo"
           }
          ],
          "scattergl": [
           {
            "marker": {
             "colorbar": {
              "outlinewidth": 0,
              "ticks": ""
             }
            },
            "type": "scattergl"
           }
          ],
          "scattermapbox": [
           {
            "marker": {
             "colorbar": {
              "outlinewidth": 0,
              "ticks": ""
             }
            },
            "type": "scattermapbox"
           }
          ],
          "scatterpolar": [
           {
            "marker": {
             "colorbar": {
              "outlinewidth": 0,
              "ticks": ""
             }
            },
            "type": "scatterpolar"
           }
          ],
          "scatterpolargl": [
           {
            "marker": {
             "colorbar": {
              "outlinewidth": 0,
              "ticks": ""
             }
            },
            "type": "scatterpolargl"
           }
          ],
          "scatterternary": [
           {
            "marker": {
             "colorbar": {
              "outlinewidth": 0,
              "ticks": ""
             }
            },
            "type": "scatterternary"
           }
          ],
          "surface": [
           {
            "colorbar": {
             "outlinewidth": 0,
             "ticks": ""
            },
            "colorscale": [
             [
              0,
              "#0d0887"
             ],
             [
              0.1111111111111111,
              "#46039f"
             ],
             [
              0.2222222222222222,
              "#7201a8"
             ],
             [
              0.3333333333333333,
              "#9c179e"
             ],
             [
              0.4444444444444444,
              "#bd3786"
             ],
             [
              0.5555555555555556,
              "#d8576b"
             ],
             [
              0.6666666666666666,
              "#ed7953"
             ],
             [
              0.7777777777777778,
              "#fb9f3a"
             ],
             [
              0.8888888888888888,
              "#fdca26"
             ],
             [
              1,
              "#f0f921"
             ]
            ],
            "type": "surface"
           }
          ],
          "table": [
           {
            "cells": {
             "fill": {
              "color": "#EBF0F8"
             },
             "line": {
              "color": "white"
             }
            },
            "header": {
             "fill": {
              "color": "#C8D4E3"
             },
             "line": {
              "color": "white"
             }
            },
            "type": "table"
           }
          ]
         },
         "layout": {
          "annotationdefaults": {
           "arrowcolor": "#2a3f5f",
           "arrowhead": 0,
           "arrowwidth": 1
          },
          "autotypenumbers": "strict",
          "coloraxis": {
           "colorbar": {
            "outlinewidth": 0,
            "ticks": ""
           }
          },
          "colorscale": {
           "diverging": [
            [
             0,
             "#8e0152"
            ],
            [
             0.1,
             "#c51b7d"
            ],
            [
             0.2,
             "#de77ae"
            ],
            [
             0.3,
             "#f1b6da"
            ],
            [
             0.4,
             "#fde0ef"
            ],
            [
             0.5,
             "#f7f7f7"
            ],
            [
             0.6,
             "#e6f5d0"
            ],
            [
             0.7,
             "#b8e186"
            ],
            [
             0.8,
             "#7fbc41"
            ],
            [
             0.9,
             "#4d9221"
            ],
            [
             1,
             "#276419"
            ]
           ],
           "sequential": [
            [
             0,
             "#0d0887"
            ],
            [
             0.1111111111111111,
             "#46039f"
            ],
            [
             0.2222222222222222,
             "#7201a8"
            ],
            [
             0.3333333333333333,
             "#9c179e"
            ],
            [
             0.4444444444444444,
             "#bd3786"
            ],
            [
             0.5555555555555556,
             "#d8576b"
            ],
            [
             0.6666666666666666,
             "#ed7953"
            ],
            [
             0.7777777777777778,
             "#fb9f3a"
            ],
            [
             0.8888888888888888,
             "#fdca26"
            ],
            [
             1,
             "#f0f921"
            ]
           ],
           "sequentialminus": [
            [
             0,
             "#0d0887"
            ],
            [
             0.1111111111111111,
             "#46039f"
            ],
            [
             0.2222222222222222,
             "#7201a8"
            ],
            [
             0.3333333333333333,
             "#9c179e"
            ],
            [
             0.4444444444444444,
             "#bd3786"
            ],
            [
             0.5555555555555556,
             "#d8576b"
            ],
            [
             0.6666666666666666,
             "#ed7953"
            ],
            [
             0.7777777777777778,
             "#fb9f3a"
            ],
            [
             0.8888888888888888,
             "#fdca26"
            ],
            [
             1,
             "#f0f921"
            ]
           ]
          },
          "colorway": [
           "#636efa",
           "#EF553B",
           "#00cc96",
           "#ab63fa",
           "#FFA15A",
           "#19d3f3",
           "#FF6692",
           "#B6E880",
           "#FF97FF",
           "#FECB52"
          ],
          "font": {
           "color": "#2a3f5f"
          },
          "geo": {
           "bgcolor": "white",
           "lakecolor": "white",
           "landcolor": "#E5ECF6",
           "showlakes": true,
           "showland": true,
           "subunitcolor": "white"
          },
          "hoverlabel": {
           "align": "left"
          },
          "hovermode": "closest",
          "mapbox": {
           "style": "light"
          },
          "paper_bgcolor": "white",
          "plot_bgcolor": "#E5ECF6",
          "polar": {
           "angularaxis": {
            "gridcolor": "white",
            "linecolor": "white",
            "ticks": ""
           },
           "bgcolor": "#E5ECF6",
           "radialaxis": {
            "gridcolor": "white",
            "linecolor": "white",
            "ticks": ""
           }
          },
          "scene": {
           "xaxis": {
            "backgroundcolor": "#E5ECF6",
            "gridcolor": "white",
            "gridwidth": 2,
            "linecolor": "white",
            "showbackground": true,
            "ticks": "",
            "zerolinecolor": "white"
           },
           "yaxis": {
            "backgroundcolor": "#E5ECF6",
            "gridcolor": "white",
            "gridwidth": 2,
            "linecolor": "white",
            "showbackground": true,
            "ticks": "",
            "zerolinecolor": "white"
           },
           "zaxis": {
            "backgroundcolor": "#E5ECF6",
            "gridcolor": "white",
            "gridwidth": 2,
            "linecolor": "white",
            "showbackground": true,
            "ticks": "",
            "zerolinecolor": "white"
           }
          },
          "shapedefaults": {
           "line": {
            "color": "#2a3f5f"
           }
          },
          "ternary": {
           "aaxis": {
            "gridcolor": "white",
            "linecolor": "white",
            "ticks": ""
           },
           "baxis": {
            "gridcolor": "white",
            "linecolor": "white",
            "ticks": ""
           },
           "bgcolor": "#E5ECF6",
           "caxis": {
            "gridcolor": "white",
            "linecolor": "white",
            "ticks": ""
           }
          },
          "title": {
           "x": 0.05
          },
          "xaxis": {
           "automargin": true,
           "gridcolor": "white",
           "linecolor": "white",
           "ticks": "",
           "title": {
            "standoff": 15
           },
           "zerolinecolor": "white",
           "zerolinewidth": 2
          },
          "yaxis": {
           "automargin": true,
           "gridcolor": "white",
           "linecolor": "white",
           "ticks": "",
           "title": {
            "standoff": 15
           },
           "zerolinecolor": "white",
           "zerolinewidth": 2
          }
         }
        },
        "xaxis": {
         "tickangle": -45
        }
       }
      },
      "text/html": [
       "<div>                            <div id=\"bf7c28c4-4902-4f54-a3bf-4eb205c920b8\" class=\"plotly-graph-div\" style=\"height:525px; width:100%;\"></div>            <script type=\"text/javascript\">                require([\"plotly\"], function(Plotly) {                    window.PLOTLYENV=window.PLOTLYENV || {};                                    if (document.getElementById(\"bf7c28c4-4902-4f54-a3bf-4eb205c920b8\")) {                    Plotly.newPlot(                        \"bf7c28c4-4902-4f54-a3bf-4eb205c920b8\",                        [{\"marker\":{\"color\":\"Green\"},\"name\":\"GDP Per capita Before Covid-19\",\"x\":[\"United States\",\"Brazil\",\"India\",\"Russia\",\"Peru\",\"Mexico\",\"Spain\",\"South Africa\",\"Colombia\",\"United Kingdom\",\"Iran\",\"Chile\",\"Italy\",\"France\",\"Argentina\",\"Germany\",\"Turkey\",\"Saudi Arabia\",\"Pakistan\",\"Bangladesh\",\"Iraq\",\"Philippines\",\"China\",\"Indonesia\",\"Canada\",\"Qatar\",\"Israel\",\"Ukraine\",\"Belgium\",\"Ecuador\",\"Kazakhstan\",\"Netherlands\",\"Egypt\",\"Sweden\",\"Bolivia\",\"Romania\",\"Dominican Republic\",\"Kuwait\",\"Belarus\",\"Panama\",\"United Arab Emirates\",\"Oman\",\"Portugal\",\"Poland\",\"Singapore\",\"Morocco\",\"Japan\",\"Guatemala\",\"Switzerland\",\"Bahrain\",\"Honduras\",\"Nigeria\",\"Armenia\",\"Nepal\",\"Ireland\",\"Czech Republic\",\"Afghanistan\",\"Austria\",\"Ghana\",\"Algeria\",\"Ethiopia\",\"Venezuela\",\"Moldova\",\"Costa Rica\",\"Uzbekistan\",\"Kyrgyzstan\",\"Azerbaijan\",\"Serbia\",\"Puerto Rico\",\"South Korea\",\"Kenya\",\"Palestine\",\"Denmark\",\"Australia\",\"El Salvador\",\"Cameroon\",\"Paraguay\",\"Lebanon\",\"Bosnia and Herzegovina\",\"Cote d'Ivoire\",\"Norway\",\"Bulgaria\",\"Libya\",\"Malaysia\",\"Macedonia\",\"Hungary\",\"Sudan\",\"Senegal\",\"Finland\",\"Madagascar\",\"Greece\",\"Kosovo\",\"Croatia\",\"Democratic Republic of Congo\",\"Guinea\",\"Luxembourg\",\"Zambia\",\"Tajikistan\",\"Albania\",\"Gabon\",\"Haiti\",\"Tunisia\",\"Maldives\",\"Mauritania\",\"Slovakia\",\"Djibouti\",\"Jordan\",\"Namibia\",\"Montenegro\",\"Thailand\",\"Myanmar\",\"Zimbabwe\",\"Central African Republic\",\"Cuba\",\"Equatorial Guinea\",\"Slovenia\",\"Malawi\",\"Nicaragua\",\"Mozambique\",\"Somalia\",\"Lithuania\",\"Congo\",\"Cape Verde\",\"Uganda\",\"Sri Lanka\",\"Estonia\",\"Swaziland\",\"Georgia\",\"Iceland\",\"Mali\",\"Rwanda\",\"Jamaica\",\"Suriname\",\"South Sudan\",\"Guinea-Bissau\",\"Angola\",\"Sierra Leone\",\"Syria\",\"Latvia\",\"New Zealand\",\"Malta\",\"Benin\",\"Uruguay\",\"Bahamas\",\"Cyprus\",\"Burkina Faso\",\"Gambia\",\"Yemen\",\"Trinidad and Tobago\",\"Andorra\",\"Aruba\",\"Botswana\",\"Niger\",\"Togo\",\"Guyana\",\"Guam\",\"Liberia\",\"Chad\",\"San Marino\",\"Vietnam\",\"Sao Tome and Principe\",\"Lesotho\",\"Belize\",\"United States Virgin Islands\",\"Taiwan\",\"French Polynesia\",\"Tanzania\",\"Mauritius\",\"Jersey\",\"Isle of Man\",\"Faeroe Islands\",\"Comoros\",\"Guernsey\",\"Burundi\",\"Sint Maarten (Dutch part)\",\"Gibraltar\",\"Turks and Caicos Islands\",\"Mongolia\",\"Eritrea\",\"Cambodia\",\"Papua New Guinea\",\"Cayman Islands\",\"Brunei\",\"Bermuda\",\"Barbados\",\"Bhutan\",\"Monaco\",\"Liechtenstein\",\"Curacao\",\"Seychelles\",\"Antigua and Barbuda\",\"Saint Vincent and the Grenadines\",\"Northern Mariana Islands\",\"Bonaire Sint Eustatius and Saba\",\"Fiji\",\"Timor\",\"British Virgin Islands\",\"New Caledonia\",\"Grenada\",\"Saint Lucia\",\"Laos\",\"Dominica\",\"Saint Kitts and Nevis\",\"Greenland\",\"Falkland Islands\",\"Vatican\",\"Montserrat\",\"Anguilla\",\"Solomon Islands\",\"Hong Kong\"],\"y\":[65279.53,8897.49,2100.75,11497.65,7027.61,9946.03,29564.74,6001.4,6424.98,42354.41,18909.459,18909.459,18909.459,18909.459,18909.459,18909.459,18909.459,18909.459,18909.459,18909.459,18909.459,18909.459,18909.459,18909.459,18909.459,18909.459,18909.459,18909.459,18909.459,18909.459,18909.459,18909.459,18909.459,18909.459,18909.459,18909.459,18909.459,18909.459,18909.459,18909.459,18909.459,18909.459,18909.459,18909.459,18909.459,18909.459,18909.459,18909.459,18909.459,18909.459,18909.459,18909.459,18909.459,18909.459,18909.459,18909.459,18909.459,18909.459,18909.459,18909.459,18909.459,18909.459,18909.459,18909.459,18909.459,18909.459,18909.459,18909.459,18909.459,18909.459,18909.459,18909.459,18909.459,18909.459,18909.459,18909.459,18909.459,18909.459,18909.459,18909.459,18909.459,18909.459,18909.459,18909.459,18909.459,18909.459,18909.459,18909.459,18909.459,18909.459,18909.459,18909.459,18909.459,18909.459,18909.459,18909.459,18909.459,18909.459,18909.459,18909.459,18909.459,18909.459,18909.459,18909.459,18909.459,18909.459,18909.459,18909.459,18909.459,18909.459,18909.459,18909.459,18909.459,18909.459,18909.459,18909.459,18909.459,18909.459,18909.459,18909.459,18909.459,18909.459,18909.459,18909.459,18909.459,18909.459,18909.459,18909.459,18909.459,18909.459,18909.459,18909.459,18909.459,18909.459,18909.459,18909.459,18909.459,18909.459,18909.459,18909.459,18909.459,18909.459,18909.459,18909.459,18909.459,18909.459,18909.459,18909.459,18909.459,18909.459,18909.459,18909.459,18909.459,18909.459,18909.459,18909.459,18909.459,18909.459,18909.459,18909.459,18909.459,18909.459,18909.459,18909.459,18909.459,18909.459,18909.459,18909.459,18909.459,18909.459,18909.459,18909.459,18909.459,18909.459,18909.459,18909.459,18909.459,18909.459,18909.459,18909.459,18909.459,18909.459,18909.459,18909.459,18909.459,18909.459,18909.459,18909.459,18909.459,18909.459,18909.459,18909.459,18909.459,18909.459,18909.459,18909.459,18909.459,18909.459,18909.459,18909.459,18909.459,18909.459,18909.459,18909.459,18909.459,18909.459,18909.459,18909.459,18909.459,18909.459],\"type\":\"bar\"},{\"marker\":{\"color\":\"red\"},\"name\":\"GDP Per Capita During Covid-19\",\"x\":[\"United States\",\"Brazil\",\"India\",\"Russia\",\"Peru\",\"Mexico\",\"Spain\",\"South Africa\",\"Colombia\",\"United Kingdom\",\"Iran\",\"Chile\",\"Italy\",\"France\",\"Argentina\",\"Germany\",\"Turkey\",\"Saudi Arabia\",\"Pakistan\",\"Bangladesh\",\"Iraq\",\"Philippines\",\"China\",\"Indonesia\",\"Canada\",\"Qatar\",\"Israel\",\"Ukraine\",\"Belgium\",\"Ecuador\",\"Kazakhstan\",\"Netherlands\",\"Egypt\",\"Sweden\",\"Bolivia\",\"Romania\",\"Dominican Republic\",\"Kuwait\",\"Belarus\",\"Panama\",\"United Arab Emirates\",\"Oman\",\"Portugal\",\"Poland\",\"Singapore\",\"Morocco\",\"Japan\",\"Guatemala\",\"Switzerland\",\"Bahrain\",\"Honduras\",\"Nigeria\",\"Armenia\",\"Nepal\",\"Ireland\",\"Czech Republic\",\"Afghanistan\",\"Austria\",\"Ghana\",\"Algeria\",\"Ethiopia\",\"Venezuela\",\"Moldova\",\"Costa Rica\",\"Uzbekistan\",\"Kyrgyzstan\",\"Azerbaijan\",\"Serbia\",\"Puerto Rico\",\"South Korea\",\"Kenya\",\"Palestine\",\"Denmark\",\"Australia\",\"El Salvador\",\"Cameroon\",\"Paraguay\",\"Lebanon\",\"Bosnia and Herzegovina\",\"Cote d'Ivoire\",\"Norway\",\"Bulgaria\",\"Libya\",\"Malaysia\",\"Macedonia\",\"Hungary\",\"Sudan\",\"Senegal\",\"Finland\",\"Madagascar\",\"Greece\",\"Kosovo\",\"Croatia\",\"Democratic Republic of Congo\",\"Guinea\",\"Luxembourg\",\"Zambia\",\"Tajikistan\",\"Albania\",\"Gabon\",\"Haiti\",\"Tunisia\",\"Maldives\",\"Mauritania\",\"Slovakia\",\"Djibouti\",\"Jordan\",\"Namibia\",\"Montenegro\",\"Thailand\",\"Myanmar\",\"Zimbabwe\",\"Central African Republic\",\"Cuba\",\"Equatorial Guinea\",\"Slovenia\",\"Malawi\",\"Nicaragua\",\"Mozambique\",\"Somalia\",\"Lithuania\",\"Congo\",\"Cape Verde\",\"Uganda\",\"Sri Lanka\",\"Estonia\",\"Swaziland\",\"Georgia\",\"Iceland\",\"Mali\",\"Rwanda\",\"Jamaica\",\"Suriname\",\"South Sudan\",\"Guinea-Bissau\",\"Angola\",\"Sierra Leone\",\"Syria\",\"Latvia\",\"New Zealand\",\"Malta\",\"Benin\",\"Uruguay\",\"Bahamas\",\"Cyprus\",\"Burkina Faso\",\"Gambia\",\"Yemen\",\"Trinidad and Tobago\",\"Andorra\",\"Aruba\",\"Botswana\",\"Niger\",\"Togo\",\"Guyana\",\"Guam\",\"Liberia\",\"Chad\",\"San Marino\",\"Vietnam\",\"Sao Tome and Principe\",\"Lesotho\",\"Belize\",\"United States Virgin Islands\",\"Taiwan\",\"French Polynesia\",\"Tanzania\",\"Mauritius\",\"Jersey\",\"Isle of Man\",\"Faeroe Islands\",\"Comoros\",\"Guernsey\",\"Burundi\",\"Sint Maarten (Dutch part)\",\"Gibraltar\",\"Turks and Caicos Islands\",\"Mongolia\",\"Eritrea\",\"Cambodia\",\"Papua New Guinea\",\"Cayman Islands\",\"Brunei\",\"Bermuda\",\"Barbados\",\"Bhutan\",\"Monaco\",\"Liechtenstein\",\"Curacao\",\"Seychelles\",\"Antigua and Barbuda\",\"Saint Vincent and the Grenadines\",\"Northern Mariana Islands\",\"Bonaire Sint Eustatius and Saba\",\"Fiji\",\"Timor\",\"British Virgin Islands\",\"New Caledonia\",\"Grenada\",\"Saint Lucia\",\"Laos\",\"Dominica\",\"Saint Kitts and Nevis\",\"Greenland\",\"Falkland Islands\",\"Vatican\",\"Montserrat\",\"Anguilla\",\"Solomon Islands\",\"Hong Kong\"],\"y\":[63543.58,6796.84,1900.71,10126.72,6126.87,8346.7,27057.16,5090.72,5332.77,40284.64,17460.671000000002,17460.671000000002,17460.671000000002,17460.671000000002,17460.671000000002,17460.671000000002,17460.671000000002,17460.671000000002,17460.671000000002,17460.671000000002,17460.671000000002,17460.671000000002,17460.671000000002,17460.671000000002,17460.671000000002,17460.671000000002,17460.671000000002,17460.671000000002,17460.671000000002,17460.671000000002,17460.671000000002,17460.671000000002,17460.671000000002,17460.671000000002,17460.671000000002,17460.671000000002,17460.671000000002,17460.671000000002,17460.671000000002,17460.671000000002,17460.671000000002,17460.671000000002,17460.671000000002,17460.671000000002,17460.671000000002,17460.671000000002,17460.671000000002,17460.671000000002,17460.671000000002,17460.671000000002,17460.671000000002,17460.671000000002,17460.671000000002,17460.671000000002,17460.671000000002,17460.671000000002,17460.671000000002,17460.671000000002,17460.671000000002,17460.671000000002,17460.671000000002,17460.671000000002,17460.671000000002,17460.671000000002,17460.671000000002,17460.671000000002,17460.671000000002,17460.671000000002,17460.671000000002,17460.671000000002,17460.671000000002,17460.671000000002,17460.671000000002,17460.671000000002,17460.671000000002,17460.671000000002,17460.671000000002,17460.671000000002,17460.671000000002,17460.671000000002,17460.671000000002,17460.671000000002,17460.671000000002,17460.671000000002,17460.671000000002,17460.671000000002,17460.671000000002,17460.671000000002,17460.671000000002,17460.671000000002,17460.671000000002,17460.671000000002,17460.671000000002,17460.671000000002,17460.671000000002,17460.671000000002,17460.671000000002,17460.671000000002,17460.671000000002,17460.671000000002,17460.671000000002,17460.671000000002,17460.671000000002,17460.671000000002,17460.671000000002,17460.671000000002,17460.671000000002,17460.671000000002,17460.671000000002,17460.671000000002,17460.671000000002,17460.671000000002,17460.671000000002,17460.671000000002,17460.671000000002,17460.671000000002,17460.671000000002,17460.671000000002,17460.671000000002,17460.671000000002,17460.671000000002,17460.671000000002,17460.671000000002,17460.671000000002,17460.671000000002,17460.671000000002,17460.671000000002,17460.671000000002,17460.671000000002,17460.671000000002,17460.671000000002,17460.671000000002,17460.671000000002,17460.671000000002,17460.671000000002,17460.671000000002,17460.671000000002,17460.671000000002,17460.671000000002,17460.671000000002,17460.671000000002,17460.671000000002,17460.671000000002,17460.671000000002,17460.671000000002,17460.671000000002,17460.671000000002,17460.671000000002,17460.671000000002,17460.671000000002,17460.671000000002,17460.671000000002,17460.671000000002,17460.671000000002,17460.671000000002,17460.671000000002,17460.671000000002,17460.671000000002,17460.671000000002,17460.671000000002,17460.671000000002,17460.671000000002,17460.671000000002,17460.671000000002,17460.671000000002,17460.671000000002,17460.671000000002,17460.671000000002,17460.671000000002,17460.671000000002,17460.671000000002,17460.671000000002,17460.671000000002,17460.671000000002,17460.671000000002,17460.671000000002,17460.671000000002,17460.671000000002,17460.671000000002,17460.671000000002,17460.671000000002,17460.671000000002,17460.671000000002,17460.671000000002,17460.671000000002,17460.671000000002,17460.671000000002,17460.671000000002,17460.671000000002,17460.671000000002,17460.671000000002,17460.671000000002,17460.671000000002,17460.671000000002,17460.671000000002,17460.671000000002,17460.671000000002,17460.671000000002,17460.671000000002,17460.671000000002,17460.671000000002,17460.671000000002,17460.671000000002,17460.671000000002,17460.671000000002,17460.671000000002,17460.671000000002,17460.671000000002,17460.671000000002,17460.671000000002],\"type\":\"bar\"}],                        {\"template\":{\"data\":{\"bar\":[{\"error_x\":{\"color\":\"#2a3f5f\"},\"error_y\":{\"color\":\"#2a3f5f\"},\"marker\":{\"line\":{\"color\":\"#E5ECF6\",\"width\":0.5},\"pattern\":{\"fillmode\":\"overlay\",\"size\":10,\"solidity\":0.2}},\"type\":\"bar\"}],\"barpolar\":[{\"marker\":{\"line\":{\"color\":\"#E5ECF6\",\"width\":0.5},\"pattern\":{\"fillmode\":\"overlay\",\"size\":10,\"solidity\":0.2}},\"type\":\"barpolar\"}],\"carpet\":[{\"aaxis\":{\"endlinecolor\":\"#2a3f5f\",\"gridcolor\":\"white\",\"linecolor\":\"white\",\"minorgridcolor\":\"white\",\"startlinecolor\":\"#2a3f5f\"},\"baxis\":{\"endlinecolor\":\"#2a3f5f\",\"gridcolor\":\"white\",\"linecolor\":\"white\",\"minorgridcolor\":\"white\",\"startlinecolor\":\"#2a3f5f\"},\"type\":\"carpet\"}],\"choropleth\":[{\"colorbar\":{\"outlinewidth\":0,\"ticks\":\"\"},\"type\":\"choropleth\"}],\"contour\":[{\"colorbar\":{\"outlinewidth\":0,\"ticks\":\"\"},\"colorscale\":[[0.0,\"#0d0887\"],[0.1111111111111111,\"#46039f\"],[0.2222222222222222,\"#7201a8\"],[0.3333333333333333,\"#9c179e\"],[0.4444444444444444,\"#bd3786\"],[0.5555555555555556,\"#d8576b\"],[0.6666666666666666,\"#ed7953\"],[0.7777777777777778,\"#fb9f3a\"],[0.8888888888888888,\"#fdca26\"],[1.0,\"#f0f921\"]],\"type\":\"contour\"}],\"contourcarpet\":[{\"colorbar\":{\"outlinewidth\":0,\"ticks\":\"\"},\"type\":\"contourcarpet\"}],\"heatmap\":[{\"colorbar\":{\"outlinewidth\":0,\"ticks\":\"\"},\"colorscale\":[[0.0,\"#0d0887\"],[0.1111111111111111,\"#46039f\"],[0.2222222222222222,\"#7201a8\"],[0.3333333333333333,\"#9c179e\"],[0.4444444444444444,\"#bd3786\"],[0.5555555555555556,\"#d8576b\"],[0.6666666666666666,\"#ed7953\"],[0.7777777777777778,\"#fb9f3a\"],[0.8888888888888888,\"#fdca26\"],[1.0,\"#f0f921\"]],\"type\":\"heatmap\"}],\"heatmapgl\":[{\"colorbar\":{\"outlinewidth\":0,\"ticks\":\"\"},\"colorscale\":[[0.0,\"#0d0887\"],[0.1111111111111111,\"#46039f\"],[0.2222222222222222,\"#7201a8\"],[0.3333333333333333,\"#9c179e\"],[0.4444444444444444,\"#bd3786\"],[0.5555555555555556,\"#d8576b\"],[0.6666666666666666,\"#ed7953\"],[0.7777777777777778,\"#fb9f3a\"],[0.8888888888888888,\"#fdca26\"],[1.0,\"#f0f921\"]],\"type\":\"heatmapgl\"}],\"histogram\":[{\"marker\":{\"pattern\":{\"fillmode\":\"overlay\",\"size\":10,\"solidity\":0.2}},\"type\":\"histogram\"}],\"histogram2d\":[{\"colorbar\":{\"outlinewidth\":0,\"ticks\":\"\"},\"colorscale\":[[0.0,\"#0d0887\"],[0.1111111111111111,\"#46039f\"],[0.2222222222222222,\"#7201a8\"],[0.3333333333333333,\"#9c179e\"],[0.4444444444444444,\"#bd3786\"],[0.5555555555555556,\"#d8576b\"],[0.6666666666666666,\"#ed7953\"],[0.7777777777777778,\"#fb9f3a\"],[0.8888888888888888,\"#fdca26\"],[1.0,\"#f0f921\"]],\"type\":\"histogram2d\"}],\"histogram2dcontour\":[{\"colorbar\":{\"outlinewidth\":0,\"ticks\":\"\"},\"colorscale\":[[0.0,\"#0d0887\"],[0.1111111111111111,\"#46039f\"],[0.2222222222222222,\"#7201a8\"],[0.3333333333333333,\"#9c179e\"],[0.4444444444444444,\"#bd3786\"],[0.5555555555555556,\"#d8576b\"],[0.6666666666666666,\"#ed7953\"],[0.7777777777777778,\"#fb9f3a\"],[0.8888888888888888,\"#fdca26\"],[1.0,\"#f0f921\"]],\"type\":\"histogram2dcontour\"}],\"mesh3d\":[{\"colorbar\":{\"outlinewidth\":0,\"ticks\":\"\"},\"type\":\"mesh3d\"}],\"parcoords\":[{\"line\":{\"colorbar\":{\"outlinewidth\":0,\"ticks\":\"\"}},\"type\":\"parcoords\"}],\"pie\":[{\"automargin\":true,\"type\":\"pie\"}],\"scatter\":[{\"marker\":{\"colorbar\":{\"outlinewidth\":0,\"ticks\":\"\"}},\"type\":\"scatter\"}],\"scatter3d\":[{\"line\":{\"colorbar\":{\"outlinewidth\":0,\"ticks\":\"\"}},\"marker\":{\"colorbar\":{\"outlinewidth\":0,\"ticks\":\"\"}},\"type\":\"scatter3d\"}],\"scattercarpet\":[{\"marker\":{\"colorbar\":{\"outlinewidth\":0,\"ticks\":\"\"}},\"type\":\"scattercarpet\"}],\"scattergeo\":[{\"marker\":{\"colorbar\":{\"outlinewidth\":0,\"ticks\":\"\"}},\"type\":\"scattergeo\"}],\"scattergl\":[{\"marker\":{\"colorbar\":{\"outlinewidth\":0,\"ticks\":\"\"}},\"type\":\"scattergl\"}],\"scattermapbox\":[{\"marker\":{\"colorbar\":{\"outlinewidth\":0,\"ticks\":\"\"}},\"type\":\"scattermapbox\"}],\"scatterpolar\":[{\"marker\":{\"colorbar\":{\"outlinewidth\":0,\"ticks\":\"\"}},\"type\":\"scatterpolar\"}],\"scatterpolargl\":[{\"marker\":{\"colorbar\":{\"outlinewidth\":0,\"ticks\":\"\"}},\"type\":\"scatterpolargl\"}],\"scatterternary\":[{\"marker\":{\"colorbar\":{\"outlinewidth\":0,\"ticks\":\"\"}},\"type\":\"scatterternary\"}],\"surface\":[{\"colorbar\":{\"outlinewidth\":0,\"ticks\":\"\"},\"colorscale\":[[0.0,\"#0d0887\"],[0.1111111111111111,\"#46039f\"],[0.2222222222222222,\"#7201a8\"],[0.3333333333333333,\"#9c179e\"],[0.4444444444444444,\"#bd3786\"],[0.5555555555555556,\"#d8576b\"],[0.6666666666666666,\"#ed7953\"],[0.7777777777777778,\"#fb9f3a\"],[0.8888888888888888,\"#fdca26\"],[1.0,\"#f0f921\"]],\"type\":\"surface\"}],\"table\":[{\"cells\":{\"fill\":{\"color\":\"#EBF0F8\"},\"line\":{\"color\":\"white\"}},\"header\":{\"fill\":{\"color\":\"#C8D4E3\"},\"line\":{\"color\":\"white\"}},\"type\":\"table\"}]},\"layout\":{\"annotationdefaults\":{\"arrowcolor\":\"#2a3f5f\",\"arrowhead\":0,\"arrowwidth\":1},\"autotypenumbers\":\"strict\",\"coloraxis\":{\"colorbar\":{\"outlinewidth\":0,\"ticks\":\"\"}},\"colorscale\":{\"diverging\":[[0,\"#8e0152\"],[0.1,\"#c51b7d\"],[0.2,\"#de77ae\"],[0.3,\"#f1b6da\"],[0.4,\"#fde0ef\"],[0.5,\"#f7f7f7\"],[0.6,\"#e6f5d0\"],[0.7,\"#b8e186\"],[0.8,\"#7fbc41\"],[0.9,\"#4d9221\"],[1,\"#276419\"]],\"sequential\":[[0.0,\"#0d0887\"],[0.1111111111111111,\"#46039f\"],[0.2222222222222222,\"#7201a8\"],[0.3333333333333333,\"#9c179e\"],[0.4444444444444444,\"#bd3786\"],[0.5555555555555556,\"#d8576b\"],[0.6666666666666666,\"#ed7953\"],[0.7777777777777778,\"#fb9f3a\"],[0.8888888888888888,\"#fdca26\"],[1.0,\"#f0f921\"]],\"sequentialminus\":[[0.0,\"#0d0887\"],[0.1111111111111111,\"#46039f\"],[0.2222222222222222,\"#7201a8\"],[0.3333333333333333,\"#9c179e\"],[0.4444444444444444,\"#bd3786\"],[0.5555555555555556,\"#d8576b\"],[0.6666666666666666,\"#ed7953\"],[0.7777777777777778,\"#fb9f3a\"],[0.8888888888888888,\"#fdca26\"],[1.0,\"#f0f921\"]]},\"colorway\":[\"#636efa\",\"#EF553B\",\"#00cc96\",\"#ab63fa\",\"#FFA15A\",\"#19d3f3\",\"#FF6692\",\"#B6E880\",\"#FF97FF\",\"#FECB52\"],\"font\":{\"color\":\"#2a3f5f\"},\"geo\":{\"bgcolor\":\"white\",\"lakecolor\":\"white\",\"landcolor\":\"#E5ECF6\",\"showlakes\":true,\"showland\":true,\"subunitcolor\":\"white\"},\"hoverlabel\":{\"align\":\"left\"},\"hovermode\":\"closest\",\"mapbox\":{\"style\":\"light\"},\"paper_bgcolor\":\"white\",\"plot_bgcolor\":\"#E5ECF6\",\"polar\":{\"angularaxis\":{\"gridcolor\":\"white\",\"linecolor\":\"white\",\"ticks\":\"\"},\"bgcolor\":\"#E5ECF6\",\"radialaxis\":{\"gridcolor\":\"white\",\"linecolor\":\"white\",\"ticks\":\"\"}},\"scene\":{\"xaxis\":{\"backgroundcolor\":\"#E5ECF6\",\"gridcolor\":\"white\",\"gridwidth\":2,\"linecolor\":\"white\",\"showbackground\":true,\"ticks\":\"\",\"zerolinecolor\":\"white\"},\"yaxis\":{\"backgroundcolor\":\"#E5ECF6\",\"gridcolor\":\"white\",\"gridwidth\":2,\"linecolor\":\"white\",\"showbackground\":true,\"ticks\":\"\",\"zerolinecolor\":\"white\"},\"zaxis\":{\"backgroundcolor\":\"#E5ECF6\",\"gridcolor\":\"white\",\"gridwidth\":2,\"linecolor\":\"white\",\"showbackground\":true,\"ticks\":\"\",\"zerolinecolor\":\"white\"}},\"shapedefaults\":{\"line\":{\"color\":\"#2a3f5f\"}},\"ternary\":{\"aaxis\":{\"gridcolor\":\"white\",\"linecolor\":\"white\",\"ticks\":\"\"},\"baxis\":{\"gridcolor\":\"white\",\"linecolor\":\"white\",\"ticks\":\"\"},\"bgcolor\":\"#E5ECF6\",\"caxis\":{\"gridcolor\":\"white\",\"linecolor\":\"white\",\"ticks\":\"\"}},\"title\":{\"x\":0.05},\"xaxis\":{\"automargin\":true,\"gridcolor\":\"white\",\"linecolor\":\"white\",\"ticks\":\"\",\"title\":{\"standoff\":15},\"zerolinecolor\":\"white\",\"zerolinewidth\":2},\"yaxis\":{\"automargin\":true,\"gridcolor\":\"white\",\"linecolor\":\"white\",\"ticks\":\"\",\"title\":{\"standoff\":15},\"zerolinecolor\":\"white\",\"zerolinewidth\":2}}},\"xaxis\":{\"tickangle\":-45},\"barmode\":\"group\"},                        {\"responsive\": true}                    ).then(function(){\n",
       "                            \n",
       "var gd = document.getElementById('bf7c28c4-4902-4f54-a3bf-4eb205c920b8');\n",
       "var x = new MutationObserver(function (mutations, observer) {{\n",
       "        var display = window.getComputedStyle(gd).display;\n",
       "        if (!display || display === 'none') {{\n",
       "            console.log([gd, 'removed!']);\n",
       "            Plotly.purge(gd);\n",
       "            observer.disconnect();\n",
       "        }}\n",
       "}});\n",
       "\n",
       "// Listen for the removal of the full notebook cells\n",
       "var notebookContainer = gd.closest('#notebook-container');\n",
       "if (notebookContainer) {{\n",
       "    x.observe(notebookContainer, {childList: true});\n",
       "}}\n",
       "\n",
       "// Listen for the clearing of the current output cell\n",
       "var outputEl = gd.closest('.output');\n",
       "if (outputEl) {{\n",
       "    x.observe(outputEl, {childList: true});\n",
       "}}\n",
       "\n",
       "                        })                };                });            </script>        </div>"
      ]
     },
     "metadata": {},
     "output_type": "display_data"
    }
   ],
   "source": [
    "#Comparing the GDP \n",
    "fg = go.Figure()\n",
    "fg.add_trace(go.Bar(x=transf[\"Country\"], y=transf[\"GDP Before Covid\"], name='GDP Per capita Before Covid-19', marker_color='Green'))\n",
    "\n",
    "fg.add_trace(go.Bar(x=transf[\"Country\"], y=transf[\"GDP During Covid\"], name='GDP Per Capita During Covid-19', marker_color='red'))\n",
    "\n",
    "fg.update_layout(barmode='group', xaxis_tickangle=-45)\n",
    "fg.show()"
   ]
  },
  {
   "cell_type": "markdown",
   "id": "c03a6433",
   "metadata": {},
   "source": [
    "The Pandemic shock put the world on quarantine and paused economic operations that affected energy consumption and economic output.Economies were put at a standstill with the stringent measures that were put during covid to curb the spread of Covid. You can see a drop in GDP per capita in all countries with the highest number of covid-19 cases."
   ]
  },
  {
   "cell_type": "code",
   "execution_count": 74,
   "id": "e447515d",
   "metadata": {},
   "outputs": [
    {
     "data": {
      "application/vnd.plotly.v1+json": {
       "config": {
        "plotlyServerURL": "https://plot.ly"
       },
       "data": [
        {
         "alignmentgroup": "True",
         "customdata": [
          [
           19.61763693,
           26477574
          ],
          [
           19.17473208,
           14340567
          ],
          [
           21.04535251,
           7247327
          ],
          [
           18.79866817,
           2131571
          ],
          [
           17.3111646,
           3020038
          ],
          [
           18.67480153,
           7295850
          ],
          [
           17.66042712,
           5510624
          ],
          [
           17.8982664,
           1357682
          ],
          [
           17.74503716,
           1936134
          ],
          [
           18.03334044,
           7249573
          ],
          [
           18.24624346,
           2914070
          ],
          [
           16.76604717,
           1283880
          ],
          [
           17.91752278,
           6664225
          ],
          [
           17.99409688,
           5633444
          ],
          [
           17.62651421,
           1077426
          ],
          [
           18.24375196,
           1640691
          ],
          [
           18.25035574,
           1049757
          ],
          [
           17.36552634,
           442507
          ],
          [
           19.21318595,
           789557
          ],
          [
           18.91957173,
           484534
          ],
          [
           17.50993717,
           744253
          ],
          [
           18.51217534,
           448665
          ],
          [
           21.08743924,
           1066939
          ],
          [
           19.42689854,
           916111
          ],
          [
           17.44628825,
           1455549
          ],
          [
           14.87366884,
           23820
          ],
          [
           15.97371025,
           126278
          ],
          [
           17.59363088,
           343334
          ],
          [
           16.26562008,
           1798461
          ],
          [
           16.68585306,
           1083749
          ],
          [
           16.74812767,
           161480
          ],
          [
           16.6566263,
           1142410
          ],
          [
           18.44375647,
           644416
          ],
          [
           16.1279737,
           941063
          ],
          [
           16.27279152,
           578559
          ],
          [
           16.77238152,
           464952
          ],
          [
           16.19948244,
           209024
          ],
          [
           15.26725623,
           69104
          ],
          [
           16.06145345,
           88409
          ],
          [
           15.27755412,
           222435
          ],
          [
           16.10707515,
           58035
          ],
          [
           15.44604869,
           73391
          ],
          [
           16.13757538,
           302612
          ],
          [
           17.44905184,
           304001
          ],
          [
           15.58201085,
           4691
          ],
          [
           17.42400819,
           142270
          ],
          [
           18.65556675,
           194918
          ],
          [
           16.70118056,
           281588
          ],
          [
           15.97360361,
           320693
          ],
          [
           14.34706955,
           22413
          ],
          [
           16.10851066,
           200844
          ],
          [
           19.1440641,
           125473
          ],
          [
           14.9017918,
           102039
          ],
          [
           17.18751281,
           27737
          ],
          [
           15.41242964,
           310201
          ],
          [
           16.18659339,
           79880
          ],
          [
           17.4772331,
           165875
          ],
          [
           16.01344599,
           134945
          ],
          [
           17.25184806,
           29143
          ],
          [
           17.59630906,
           206429
          ],
          [
           18.56012597,
           77686
          ],
          [
           17.1631645,
           40840
          ],
          [
           15.21025983,
           129946
          ],
          [
           15.44359631,
           50352
          ],
          [
           17.32613614,
           31903
          ],
          [
           15.69102752,
           114922
          ],
          [
           16.13191719,
           59495
          ],
          [
           15.73310882,
           87503
          ],
          [
           14.86662585,
           54940
          ],
          [
           17.75260041,
           63333
          ],
          [
           17.80025043,
           59485
          ],
          [
           15.44502871,
           21522
          ],
          [
           15.57202326,
           113280
          ],
          [
           17.05418434,
           65029
          ],
          [
           15.68518756,
           71957
          ],
          [
           17.09438451,
           56606
          ],
          [
           15.78017657,
           42850
          ],
          [
           15.73616766,
           22983
          ],
          [
           15.00360243,
           70578
          ],
          [
           17.08805131,
           14220
          ],
          [
           15.5058355,
           47158
          ],
          [
           15.75402845,
           72850
          ],
          [
           15.74286198,
           29730
          ],
          [
           17.29261899,
           24012
          ],
          [
           14.54950213,
           74066
          ],
          [
           16.08354044,
           110142
          ],
          [
           17.59626861,
           102825
          ],
          [
           16.63354636,
           30320
          ],
          [
           15.52763465,
           58377
          ],
          [
           17.13661869,
           17744
          ],
          [
           16.15953083,
           44805
          ],
          [
           14.47446683,
           47571
          ],
          [
           15.22778158,
           28757
          ],
          [
           18.31043503,
           32040
          ],
          [
           16.39062287,
           7283
          ],
          [
           13.34706731,
           21907
          ],
          [
           16.72698889,
           26475
          ],
          [
           16.07075684,
           9730
          ],
          [
           14.87253667,
           31056
          ],
          [
           14.61559461,
           6877
          ],
          [
           16.24934608,
           23891
          ],
          [
           16.28518664,
           19025
          ],
          [
           13.20032762,
           3054
          ],
          [
           15.35230466,
           19810
          ],
          [
           15.51289396,
           6055
          ],
          [
           13.80344,
           8006
          ],
          [
           16.13820607,
           5653
          ],
          [
           14.7480352,
           6634
          ],
          [
           13.35039417,
           11356
          ],
          [
           18.06114425,
           11162
          ],
          [
           17.81205473,
           13973
          ],
          [
           16.51438055,
           15984
          ],
          [
           15.39030816,
           7108
          ],
          [
           16.24266591,
           16774
          ],
          [
           14.15411267,
           8947
          ],
          [
           14.54736486,
           22165
          ],
          [
           16.76676599,
           15480
          ],
          [
           15.70629361,
           16410
          ],
          [
           17.25770384,
           3396
          ],
          [
           16.5814031,
           15001
          ],
          [
           14.81698436,
           14345
          ],
          [
           15.52354271,
           9298
          ],
          [
           13.22850199,
           4749
          ],
          [
           17.63850561,
           3748
          ],
          [
           16.87952045,
           2108
          ],
          [
           14.09808385,
           11802
          ],
          [
           13.96407193,
           8179
          ],
          [
           15.199095,
           4013
          ],
          [
           12.74037063,
           1968
          ],
          [
           16.82370654,
           18813
          ],
          [
           16.37677691,
           1744
          ],
          [
           14.90109198,
           5653
          ],
          [
           13.28215639,
           6961
          ],
          [
           16.23086427,
           6063
          ],
          [
           14.49252734,
           4199
          ],
          [
           17.3079574,
           11820
          ],
          [
           15.89207108,
           10036
          ],
          [
           16.67774898,
           12098
          ],
          [
           14.45007584,
           5376
          ],
          [
           15.38874766,
           4145
          ],
          [
           12.99802163,
           2409
          ],
          [
           16.31063137,
           4374
          ],
          [
           15.06073864,
           6083
          ],
          [
           12.88219574,
           5998
          ],
          [
           13.68300607,
           3735
          ],
          [
           16.85541655,
           10248
          ],
          [
           14.69789863,
           7201
          ],
          [
           17.21088998,
           64304
          ],
          [
           14.15161916,
           4519
          ],
          [
           11.25499635,
           9850
          ],
          [
           11.5783948,
           1624
          ],
          [
           14.67061714,
           895
          ],
          [
           17.00213737,
           11676
          ],
          [
           15.92920098,
           4197
          ],
          [
           13.57542301,
           5783
          ],
          [
           12.03636915,
           2715
          ],
          [
           15.43641784,
           10087
          ],
          [
           16.61436742,
           12212
          ],
          [
           10.43229061,
           8596
          ],
          [
           18.39370601,
           2318
          ],
          [
           12.2975619,
           2198
          ],
          [
           14.57736817,
           2680
          ],
          [
           12.89325457,
           1613
          ],
          [
           11.55620524,
           1833
          ],
          [
           16.98590072,
           1423
          ],
          [
           12.54576825,
           260
          ],
          [
           17.9054155,
           3733
          ],
          [
           14.05591783,
           1988
          ],
          [
           11.52359831,
           5527
          ],
          [
           11.35078294,
           4310
          ],
          [
           10.79681667,
           0
          ],
          [
           13.67578287,
           920
          ],
          [
           11.11322372,
           2450
          ],
          [
           16.29127395,
           188
          ],
          [
           10.66620744,
           3146
          ],
          [
           10.42498602,
           0
          ],
          [
           10.56405989,
           476
          ],
          [
           15.00283311,
           0
          ],
          [
           15.08145118,
           0
          ],
          [
           16.63205462,
           0
          ],
          [
           16.00683186,
           417
          ],
          [
           11.09315857,
           213
          ],
          [
           12.98879313,
           475
          ],
          [
           11.03928322,
           1631
          ],
          [
           12.56852934,
           1321
          ],
          [
           13.55623711,
           0
          ],
          [
           10.57755385,
           192
          ],
          [
           10.54894022,
           198
          ],
          [
           12.00823128,
           207
          ],
          [
           11.49618614,
           0
          ],
          [
           11.49198779,
           568
          ],
          [
           11.61680789,
           0
          ],
          [
           10.96053104,
           396
          ],
          [
           10.1743159,
           48
          ],
          [
           13.7061911,
           132
          ],
          [
           14.09196129,
           0
          ],
          [
           10.31682162,
           183
          ],
          [
           12.56196578,
           0
          ],
          [
           11.63087738,
           0
          ],
          [
           12.1206727,
           0
          ],
          [
           15.80003079,
           0
          ],
          [
           11.18429639,
           0
          ],
          [
           10.88166329,
           0
          ],
          [
           10.94679853,
           0
          ],
          [
           8.15564927,
           0
          ],
          [
           6.695798917,
           0
          ],
          [
           8.516993171,
           177
          ],
          [
           9.615938805,
           0
          ],
          [
           13.43991197,
           0
          ],
          [
           15.8300119,
           0
          ]
         ],
         "hovertemplate": "Country=%{x}<br>Total Cases=%{y}<br>Population=%{customdata[0]}<br>Total Deaths=%{customdata[1]}<br>HDI=%{marker.color}<extra></extra>",
         "legendgroup": "",
         "marker": {
          "color": [
           0.9240000000000003,
           0.7590000000000001,
           0.64,
           0.816,
           0.5994897959183674,
           0.774,
           0.887969387755102,
           0.6086530612244898,
           0.5818469387755102,
           0.9219999999999999,
           0.798,
           0.6566224489795919,
           0.8799999999999999,
           0.901,
           0.7071428571428571,
           0.9360000000000003,
           0.591904761904762,
           0.6731156462585033,
           0.5620000000000002,
           0.47771428571428576,
           0.6850000000000002,
           0.699,
           0.7519999999999999,
           0.694,
           0.926,
           0.856,
           0.9030000000000002,
           0.5747448979591837,
           0.9097687074829933,
           0.7519999999999999,
           0.6013605442176871,
           0.9310000000000002,
           0.6959999999999998,
           0.9234795918367349,
           0.5232857142857141,
           0.811,
           0.7359999999999999,
           0.8029999999999999,
           0.8079999999999998,
           0.6038265306122448,
           0.8629999999999998,
           0.8209999999999998,
           0.6712619047619045,
           0.6708163265306123,
           0.9320000000000002,
           0.5807891156462585,
           0.9089999999999999,
           0.5438775510204084,
           0.9439999999999998,
           0.846,
           0.461700680272109,
           0.5319999999999999,
           0.7550000000000001,
           0.574,
           0.9379999999999997,
           0.888,
           0.4980000000000001,
           0.908,
           0.4429931972789114,
           0.754,
           0.34803741496598645,
           0.5668673469387754,
           0.5333333333333333,
           0.6103537414965988,
           0.5264625850340137,
           0.49142857142857127,
           0.7569999999999998,
           0.634418367346939,
           0,
           0.9030000000000002,
           0.4575510204081633,
           0.5296666666666668,
           0.9290000000000002,
           0.9389999999999997,
           0.4928911564625853,
           0.4217278911564626,
           0.5420204081632652,
           0.7569999999999998,
           0.582530612244898,
           0.36816326530612237,
           0.9530000000000001,
           0.6194285714285716,
           0.5523129251700679,
           0.8019999999999998,
           0.7569999999999998,
           0.6555782312925167,
           0.3756462585034013,
           0.403656462585034,
           0.92,
           0.37601020408163266,
           0.87,
           0,
           0.8309999999999997,
           0.3435272108843537,
           0.3419081632653061,
           0.904,
           0.42999999999999994,
           0.38027210884353746,
           0.6007653061224489,
           0.5253061224489796,
           0.3624897959183674,
           0.565,
           0.5462857142857142,
           0.3873469387755101,
           0.6630612244897962,
           0.34809523809523807,
           0.5674999999999999,
           0.48194897959183686,
           0.5980408163265306,
           0.7550000000000001,
           0.4167891156462586,
           0.38760204081632654,
           0.27212925170068025,
           0.5787857142857142,
           0.44023469387755104,
           0.6948571428571431,
           0.3326020408163265,
           0.4811904761904763,
           0.31362925170068023,
           0,
           0.8579999999999999,
           0.44934693877551013,
           0.47381632653061223,
           0.3720816326530612,
           0.77,
           0.8710000000000002,
           0.43799999999999994,
           0.7800000000000001,
           0.9350000000000004,
           0.30209523809523803,
           0.3903265306122449,
           0.5502448979591836,
           0.5240816326530612,
           0.2599863945578231,
           0.32035714285714284,
           0.41895238095238085,
           0.2878843537414965,
           0.3846802721088435,
           0.6741428571428569,
           0.917,
           0.7675034013605443,
           0.3801190476190475,
           0.5988979591836735,
           0.5928979591836737,
           0.6561836734693877,
           0.31796938775510203,
           0.33795918367346944,
           0.29672108843537415,
           0.5893333333333335,
           0.6595510204081633,
           0,
           0.49263265306122433,
           0.25646938775510203,
           0.39350340136054424,
           0.4871632653061225,
           0,
           0.3210714285714285,
           0.29406802721088443,
           0,
           0.694,
           0.3886598639455783,
           0.2794557823129252,
           0.5057142857142858,
           0,
           0,
           0,
           0.3970952380952382,
           0.5750340136054423,
           0,
           0,
           0,
           0.29256122448979593,
           0,
           0.2865102040816326,
           0,
           0,
           0,
           0.5544897959183672,
           0.3172789115646259,
           0.582,
           0.3941224489795919,
           0,
           0.647003401360544,
           0,
           0.5877551020408164,
           0.464204081632653,
           0,
           0.6979047619047621,
           0,
           0.5936836734693878,
           0.5677551020408164,
           0.5311836734693878,
           0,
           0,
           0.6653877551020407,
           0.45068027210884354,
           0,
           0,
           0.5540544217687077,
           0.5564387755102042,
           0.4272414965986394,
           0.5131462585034013,
           0.5504217687074832,
           0,
           0,
           0,
           0,
           0,
           0.007428571428571429,
           0.1618469387755102
          ],
          "coloraxis": "coloraxis",
          "pattern": {
           "shape": ""
          }
         },
         "name": "",
         "offsetgroup": "",
         "orientation": "v",
         "showlegend": false,
         "textposition": "auto",
         "type": "bar",
         "x": [
          "United States",
          "Brazil",
          "India",
          "Russia",
          "Peru",
          "Mexico",
          "Spain",
          "South Africa",
          "Colombia",
          "United Kingdom",
          "Iran",
          "Chile",
          "Italy",
          "France",
          "Argentina",
          "Germany",
          "Turkey",
          "Saudi Arabia",
          "Pakistan",
          "Bangladesh",
          "Iraq",
          "Philippines",
          "China",
          "Indonesia",
          "Canada",
          "Qatar",
          "Israel",
          "Ukraine",
          "Belgium",
          "Ecuador",
          "Kazakhstan",
          "Netherlands",
          "Egypt",
          "Sweden",
          "Bolivia",
          "Romania",
          "Dominican Republic",
          "Kuwait",
          "Belarus",
          "Panama",
          "United Arab Emirates",
          "Oman",
          "Portugal",
          "Poland",
          "Singapore",
          "Morocco",
          "Japan",
          "Guatemala",
          "Switzerland",
          "Bahrain",
          "Honduras",
          "Nigeria",
          "Armenia",
          "Nepal",
          "Ireland",
          "Czech Republic",
          "Afghanistan",
          "Austria",
          "Ghana",
          "Algeria",
          "Ethiopia",
          "Venezuela",
          "Moldova",
          "Costa Rica",
          "Uzbekistan",
          "Kyrgyzstan",
          "Azerbaijan",
          "Serbia",
          "Puerto Rico",
          "South Korea",
          "Kenya",
          "Palestine",
          "Denmark",
          "Australia",
          "El Salvador",
          "Cameroon",
          "Paraguay",
          "Lebanon",
          "Bosnia and Herzegovina",
          "Cote d'Ivoire",
          "Norway",
          "Bulgaria",
          "Libya",
          "Malaysia",
          "Macedonia",
          "Hungary",
          "Sudan",
          "Senegal",
          "Finland",
          "Madagascar",
          "Greece",
          "Kosovo",
          "Croatia",
          "Democratic Republic of Congo",
          "Guinea",
          "Luxembourg",
          "Zambia",
          "Tajikistan",
          "Albania",
          "Gabon",
          "Haiti",
          "Tunisia",
          "Maldives",
          "Mauritania",
          "Slovakia",
          "Djibouti",
          "Jordan",
          "Namibia",
          "Montenegro",
          "Thailand",
          "Myanmar",
          "Zimbabwe",
          "Central African Republic",
          "Cuba",
          "Equatorial Guinea",
          "Slovenia",
          "Malawi",
          "Nicaragua",
          "Mozambique",
          "Somalia",
          "Lithuania",
          "Congo",
          "Cape Verde",
          "Uganda",
          "Sri Lanka",
          "Estonia",
          "Swaziland",
          "Georgia",
          "Iceland",
          "Mali",
          "Rwanda",
          "Jamaica",
          "Suriname",
          "South Sudan",
          "Guinea-Bissau",
          "Angola",
          "Sierra Leone",
          "Syria",
          "Latvia",
          "New Zealand",
          "Malta",
          "Benin",
          "Uruguay",
          "Bahamas",
          "Cyprus",
          "Burkina Faso",
          "Gambia",
          "Yemen",
          "Trinidad and Tobago",
          "Andorra",
          "Aruba",
          "Botswana",
          "Niger",
          "Togo",
          "Guyana",
          "Guam",
          "Liberia",
          "Chad",
          "San Marino",
          "Vietnam",
          "Sao Tome and Principe",
          "Lesotho",
          "Belize",
          "United States Virgin Islands",
          "Taiwan",
          "French Polynesia",
          "Tanzania",
          "Mauritius",
          "Jersey",
          "Isle of Man",
          "Faeroe Islands",
          "Comoros",
          "Guernsey",
          "Burundi",
          "Sint Maarten (Dutch part)",
          "Gibraltar",
          "Turks and Caicos Islands",
          "Mongolia",
          "Eritrea",
          "Cambodia",
          "Papua New Guinea",
          "Cayman Islands",
          "Brunei",
          "Bermuda",
          "Barbados",
          "Bhutan",
          "Monaco",
          "Liechtenstein",
          "Curacao",
          "Seychelles",
          "Antigua and Barbuda",
          "Saint Vincent and the Grenadines",
          "Northern Mariana Islands",
          "Bonaire Sint Eustatius and Saba",
          "Fiji",
          "Timor",
          "British Virgin Islands",
          "New Caledonia",
          "Grenada",
          "Saint Lucia",
          "Laos",
          "Dominica",
          "Saint Kitts and Nevis",
          "Greenland",
          "Falkland Islands",
          "Vatican",
          "Montserrat",
          "Anguilla",
          "Solomon Islands",
          "Hong Kong"
         ],
         "xaxis": "x",
         "y": [
          746014098,
          425704517,
          407771615,
          132888951,
          74882695,
          74347548,
          73717676,
          63027659,
          60543682,
          59475032,
          52421884,
          51268034,
          50752853,
          50084335,
          47155234,
          42447678,
          41431948,
          38585191,
          37738077,
          35266178,
          25280332,
          22409936,
          21632319,
          21570149,
          20902374,
          16351440,
          16202474,
          15805665,
          15192468,
          14408757,
          13194863,
          13026629,
          12422845,
          11910109,
          11858838,
          10672859,
          10649646,
          10622205,
          10595186,
          10371724,
          10247326,
          10060093,
          9266263,
          9239657,
          8191161,
          7839270,
          7659484,
          7644426,
          7552067,
          6549995,
          6545499,
          6107371,
          5474629,
          5243653,
          5239798,
          5213980,
          5126433,
          4909197,
          4900649,
          4893999,
          4876417,
          4839834,
          4632482,
          4631835,
          4421215,
          4287847,
          4236782,
          3984174,
          3586463,
          3333075,
          3277734,
          3249458,
          3030088,
          3012377,
          2573206,
          2476502,
          2265640,
          2220699,
          2200057,
          2132883,
          1985889,
          1890380,
          1817274,
          1774181,
          1724220,
          1708798,
          1663545,
          1586747,
          1458484,
          1443321,
          1421470,
          1345940,
          1314031,
          1271391,
          1195836,
          1146724,
          1129913,
          1117391,
          1071951,
          1031803,
          1023155,
          1000626,
          844040,
          799222,
          798665,
          781771,
          716514,
          681299,
          675912,
          655703,
          644209,
          593699,
          593048,
          581546,
          557355,
          547075,
          536447,
          524410,
          510578,
          491145,
          488057,
          473368,
          463888,
          448728,
          446643,
          445402,
          444238,
          431689,
          421210,
          390637,
          388775,
          370890,
          358632,
          333500,
          306564,
          304005,
          268396,
          267902,
          255964,
          253203,
          251261,
          245893,
          239884,
          237908,
          236673,
          231452,
          229521,
          228925,
          225550,
          223576,
          215110,
          205758,
          199978,
          169903,
          166917,
          160975,
          159880,
          154173,
          134994,
          122618,
          121909,
          107948,
          106383,
          98536,
          97074,
          95388,
          91526,
          69524,
          66777,
          64935,
          56893,
          52437,
          49814,
          49745,
          48026,
          45340,
          44432,
          42465,
          40026,
          39539,
          35966,
          33173,
          30140,
          28876,
          24998,
          22847,
          21511,
          19885,
          19777,
          14701,
          12619,
          7824,
          7784,
          5080,
          4742,
          4697,
          4605,
          4495,
          4470,
          4450,
          4039,
          3977,
          3246,
          2678,
          2467,
          2415,
          2383,
          614,
          11,
          0
         ],
         "yaxis": "y"
        }
       ],
       "layout": {
        "barmode": "relative",
        "coloraxis": {
         "colorbar": {
          "title": {
           "text": "HDI"
          }
         },
         "colorscale": [
          [
           0,
           "#0d0887"
          ],
          [
           0.1111111111111111,
           "#46039f"
          ],
          [
           0.2222222222222222,
           "#7201a8"
          ],
          [
           0.3333333333333333,
           "#9c179e"
          ],
          [
           0.4444444444444444,
           "#bd3786"
          ],
          [
           0.5555555555555556,
           "#d8576b"
          ],
          [
           0.6666666666666666,
           "#ed7953"
          ],
          [
           0.7777777777777778,
           "#fb9f3a"
          ],
          [
           0.8888888888888888,
           "#fdca26"
          ],
          [
           1,
           "#f0f921"
          ]
         ]
        },
        "height": 600,
        "legend": {
         "tracegroupgap": 0
        },
        "template": {
         "data": {
          "bar": [
           {
            "error_x": {
             "color": "#2a3f5f"
            },
            "error_y": {
             "color": "#2a3f5f"
            },
            "marker": {
             "line": {
              "color": "#E5ECF6",
              "width": 0.5
             },
             "pattern": {
              "fillmode": "overlay",
              "size": 10,
              "solidity": 0.2
             }
            },
            "type": "bar"
           }
          ],
          "barpolar": [
           {
            "marker": {
             "line": {
              "color": "#E5ECF6",
              "width": 0.5
             },
             "pattern": {
              "fillmode": "overlay",
              "size": 10,
              "solidity": 0.2
             }
            },
            "type": "barpolar"
           }
          ],
          "carpet": [
           {
            "aaxis": {
             "endlinecolor": "#2a3f5f",
             "gridcolor": "white",
             "linecolor": "white",
             "minorgridcolor": "white",
             "startlinecolor": "#2a3f5f"
            },
            "baxis": {
             "endlinecolor": "#2a3f5f",
             "gridcolor": "white",
             "linecolor": "white",
             "minorgridcolor": "white",
             "startlinecolor": "#2a3f5f"
            },
            "type": "carpet"
           }
          ],
          "choropleth": [
           {
            "colorbar": {
             "outlinewidth": 0,
             "ticks": ""
            },
            "type": "choropleth"
           }
          ],
          "contour": [
           {
            "colorbar": {
             "outlinewidth": 0,
             "ticks": ""
            },
            "colorscale": [
             [
              0,
              "#0d0887"
             ],
             [
              0.1111111111111111,
              "#46039f"
             ],
             [
              0.2222222222222222,
              "#7201a8"
             ],
             [
              0.3333333333333333,
              "#9c179e"
             ],
             [
              0.4444444444444444,
              "#bd3786"
             ],
             [
              0.5555555555555556,
              "#d8576b"
             ],
             [
              0.6666666666666666,
              "#ed7953"
             ],
             [
              0.7777777777777778,
              "#fb9f3a"
             ],
             [
              0.8888888888888888,
              "#fdca26"
             ],
             [
              1,
              "#f0f921"
             ]
            ],
            "type": "contour"
           }
          ],
          "contourcarpet": [
           {
            "colorbar": {
             "outlinewidth": 0,
             "ticks": ""
            },
            "type": "contourcarpet"
           }
          ],
          "heatmap": [
           {
            "colorbar": {
             "outlinewidth": 0,
             "ticks": ""
            },
            "colorscale": [
             [
              0,
              "#0d0887"
             ],
             [
              0.1111111111111111,
              "#46039f"
             ],
             [
              0.2222222222222222,
              "#7201a8"
             ],
             [
              0.3333333333333333,
              "#9c179e"
             ],
             [
              0.4444444444444444,
              "#bd3786"
             ],
             [
              0.5555555555555556,
              "#d8576b"
             ],
             [
              0.6666666666666666,
              "#ed7953"
             ],
             [
              0.7777777777777778,
              "#fb9f3a"
             ],
             [
              0.8888888888888888,
              "#fdca26"
             ],
             [
              1,
              "#f0f921"
             ]
            ],
            "type": "heatmap"
           }
          ],
          "heatmapgl": [
           {
            "colorbar": {
             "outlinewidth": 0,
             "ticks": ""
            },
            "colorscale": [
             [
              0,
              "#0d0887"
             ],
             [
              0.1111111111111111,
              "#46039f"
             ],
             [
              0.2222222222222222,
              "#7201a8"
             ],
             [
              0.3333333333333333,
              "#9c179e"
             ],
             [
              0.4444444444444444,
              "#bd3786"
             ],
             [
              0.5555555555555556,
              "#d8576b"
             ],
             [
              0.6666666666666666,
              "#ed7953"
             ],
             [
              0.7777777777777778,
              "#fb9f3a"
             ],
             [
              0.8888888888888888,
              "#fdca26"
             ],
             [
              1,
              "#f0f921"
             ]
            ],
            "type": "heatmapgl"
           }
          ],
          "histogram": [
           {
            "marker": {
             "pattern": {
              "fillmode": "overlay",
              "size": 10,
              "solidity": 0.2
             }
            },
            "type": "histogram"
           }
          ],
          "histogram2d": [
           {
            "colorbar": {
             "outlinewidth": 0,
             "ticks": ""
            },
            "colorscale": [
             [
              0,
              "#0d0887"
             ],
             [
              0.1111111111111111,
              "#46039f"
             ],
             [
              0.2222222222222222,
              "#7201a8"
             ],
             [
              0.3333333333333333,
              "#9c179e"
             ],
             [
              0.4444444444444444,
              "#bd3786"
             ],
             [
              0.5555555555555556,
              "#d8576b"
             ],
             [
              0.6666666666666666,
              "#ed7953"
             ],
             [
              0.7777777777777778,
              "#fb9f3a"
             ],
             [
              0.8888888888888888,
              "#fdca26"
             ],
             [
              1,
              "#f0f921"
             ]
            ],
            "type": "histogram2d"
           }
          ],
          "histogram2dcontour": [
           {
            "colorbar": {
             "outlinewidth": 0,
             "ticks": ""
            },
            "colorscale": [
             [
              0,
              "#0d0887"
             ],
             [
              0.1111111111111111,
              "#46039f"
             ],
             [
              0.2222222222222222,
              "#7201a8"
             ],
             [
              0.3333333333333333,
              "#9c179e"
             ],
             [
              0.4444444444444444,
              "#bd3786"
             ],
             [
              0.5555555555555556,
              "#d8576b"
             ],
             [
              0.6666666666666666,
              "#ed7953"
             ],
             [
              0.7777777777777778,
              "#fb9f3a"
             ],
             [
              0.8888888888888888,
              "#fdca26"
             ],
             [
              1,
              "#f0f921"
             ]
            ],
            "type": "histogram2dcontour"
           }
          ],
          "mesh3d": [
           {
            "colorbar": {
             "outlinewidth": 0,
             "ticks": ""
            },
            "type": "mesh3d"
           }
          ],
          "parcoords": [
           {
            "line": {
             "colorbar": {
              "outlinewidth": 0,
              "ticks": ""
             }
            },
            "type": "parcoords"
           }
          ],
          "pie": [
           {
            "automargin": true,
            "type": "pie"
           }
          ],
          "scatter": [
           {
            "marker": {
             "colorbar": {
              "outlinewidth": 0,
              "ticks": ""
             }
            },
            "type": "scatter"
           }
          ],
          "scatter3d": [
           {
            "line": {
             "colorbar": {
              "outlinewidth": 0,
              "ticks": ""
             }
            },
            "marker": {
             "colorbar": {
              "outlinewidth": 0,
              "ticks": ""
             }
            },
            "type": "scatter3d"
           }
          ],
          "scattercarpet": [
           {
            "marker": {
             "colorbar": {
              "outlinewidth": 0,
              "ticks": ""
             }
            },
            "type": "scattercarpet"
           }
          ],
          "scattergeo": [
           {
            "marker": {
             "colorbar": {
              "outlinewidth": 0,
              "ticks": ""
             }
            },
            "type": "scattergeo"
           }
          ],
          "scattergl": [
           {
            "marker": {
             "colorbar": {
              "outlinewidth": 0,
              "ticks": ""
             }
            },
            "type": "scattergl"
           }
          ],
          "scattermapbox": [
           {
            "marker": {
             "colorbar": {
              "outlinewidth": 0,
              "ticks": ""
             }
            },
            "type": "scattermapbox"
           }
          ],
          "scatterpolar": [
           {
            "marker": {
             "colorbar": {
              "outlinewidth": 0,
              "ticks": ""
             }
            },
            "type": "scatterpolar"
           }
          ],
          "scatterpolargl": [
           {
            "marker": {
             "colorbar": {
              "outlinewidth": 0,
              "ticks": ""
             }
            },
            "type": "scatterpolargl"
           }
          ],
          "scatterternary": [
           {
            "marker": {
             "colorbar": {
              "outlinewidth": 0,
              "ticks": ""
             }
            },
            "type": "scatterternary"
           }
          ],
          "surface": [
           {
            "colorbar": {
             "outlinewidth": 0,
             "ticks": ""
            },
            "colorscale": [
             [
              0,
              "#0d0887"
             ],
             [
              0.1111111111111111,
              "#46039f"
             ],
             [
              0.2222222222222222,
              "#7201a8"
             ],
             [
              0.3333333333333333,
              "#9c179e"
             ],
             [
              0.4444444444444444,
              "#bd3786"
             ],
             [
              0.5555555555555556,
              "#d8576b"
             ],
             [
              0.6666666666666666,
              "#ed7953"
             ],
             [
              0.7777777777777778,
              "#fb9f3a"
             ],
             [
              0.8888888888888888,
              "#fdca26"
             ],
             [
              1,
              "#f0f921"
             ]
            ],
            "type": "surface"
           }
          ],
          "table": [
           {
            "cells": {
             "fill": {
              "color": "#EBF0F8"
             },
             "line": {
              "color": "white"
             }
            },
            "header": {
             "fill": {
              "color": "#C8D4E3"
             },
             "line": {
              "color": "white"
             }
            },
            "type": "table"
           }
          ]
         },
         "layout": {
          "annotationdefaults": {
           "arrowcolor": "#2a3f5f",
           "arrowhead": 0,
           "arrowwidth": 1
          },
          "autotypenumbers": "strict",
          "coloraxis": {
           "colorbar": {
            "outlinewidth": 0,
            "ticks": ""
           }
          },
          "colorscale": {
           "diverging": [
            [
             0,
             "#8e0152"
            ],
            [
             0.1,
             "#c51b7d"
            ],
            [
             0.2,
             "#de77ae"
            ],
            [
             0.3,
             "#f1b6da"
            ],
            [
             0.4,
             "#fde0ef"
            ],
            [
             0.5,
             "#f7f7f7"
            ],
            [
             0.6,
             "#e6f5d0"
            ],
            [
             0.7,
             "#b8e186"
            ],
            [
             0.8,
             "#7fbc41"
            ],
            [
             0.9,
             "#4d9221"
            ],
            [
             1,
             "#276419"
            ]
           ],
           "sequential": [
            [
             0,
             "#0d0887"
            ],
            [
             0.1111111111111111,
             "#46039f"
            ],
            [
             0.2222222222222222,
             "#7201a8"
            ],
            [
             0.3333333333333333,
             "#9c179e"
            ],
            [
             0.4444444444444444,
             "#bd3786"
            ],
            [
             0.5555555555555556,
             "#d8576b"
            ],
            [
             0.6666666666666666,
             "#ed7953"
            ],
            [
             0.7777777777777778,
             "#fb9f3a"
            ],
            [
             0.8888888888888888,
             "#fdca26"
            ],
            [
             1,
             "#f0f921"
            ]
           ],
           "sequentialminus": [
            [
             0,
             "#0d0887"
            ],
            [
             0.1111111111111111,
             "#46039f"
            ],
            [
             0.2222222222222222,
             "#7201a8"
            ],
            [
             0.3333333333333333,
             "#9c179e"
            ],
            [
             0.4444444444444444,
             "#bd3786"
            ],
            [
             0.5555555555555556,
             "#d8576b"
            ],
            [
             0.6666666666666666,
             "#ed7953"
            ],
            [
             0.7777777777777778,
             "#fb9f3a"
            ],
            [
             0.8888888888888888,
             "#fdca26"
            ],
            [
             1,
             "#f0f921"
            ]
           ]
          },
          "colorway": [
           "#636efa",
           "#EF553B",
           "#00cc96",
           "#ab63fa",
           "#FFA15A",
           "#19d3f3",
           "#FF6692",
           "#B6E880",
           "#FF97FF",
           "#FECB52"
          ],
          "font": {
           "color": "#2a3f5f"
          },
          "geo": {
           "bgcolor": "white",
           "lakecolor": "white",
           "landcolor": "#E5ECF6",
           "showlakes": true,
           "showland": true,
           "subunitcolor": "white"
          },
          "hoverlabel": {
           "align": "left"
          },
          "hovermode": "closest",
          "mapbox": {
           "style": "light"
          },
          "paper_bgcolor": "white",
          "plot_bgcolor": "#E5ECF6",
          "polar": {
           "angularaxis": {
            "gridcolor": "white",
            "linecolor": "white",
            "ticks": ""
           },
           "bgcolor": "#E5ECF6",
           "radialaxis": {
            "gridcolor": "white",
            "linecolor": "white",
            "ticks": ""
           }
          },
          "scene": {
           "xaxis": {
            "backgroundcolor": "#E5ECF6",
            "gridcolor": "white",
            "gridwidth": 2,
            "linecolor": "white",
            "showbackground": true,
            "ticks": "",
            "zerolinecolor": "white"
           },
           "yaxis": {
            "backgroundcolor": "#E5ECF6",
            "gridcolor": "white",
            "gridwidth": 2,
            "linecolor": "white",
            "showbackground": true,
            "ticks": "",
            "zerolinecolor": "white"
           },
           "zaxis": {
            "backgroundcolor": "#E5ECF6",
            "gridcolor": "white",
            "gridwidth": 2,
            "linecolor": "white",
            "showbackground": true,
            "ticks": "",
            "zerolinecolor": "white"
           }
          },
          "shapedefaults": {
           "line": {
            "color": "#2a3f5f"
           }
          },
          "ternary": {
           "aaxis": {
            "gridcolor": "white",
            "linecolor": "white",
            "ticks": ""
           },
           "baxis": {
            "gridcolor": "white",
            "linecolor": "white",
            "ticks": ""
           },
           "bgcolor": "#E5ECF6",
           "caxis": {
            "gridcolor": "white",
            "linecolor": "white",
            "ticks": ""
           }
          },
          "title": {
           "x": 0.05
          },
          "xaxis": {
           "automargin": true,
           "gridcolor": "white",
           "linecolor": "white",
           "ticks": "",
           "title": {
            "standoff": 15
           },
           "zerolinecolor": "white",
           "zerolinewidth": 2
          },
          "yaxis": {
           "automargin": true,
           "gridcolor": "white",
           "linecolor": "white",
           "ticks": "",
           "title": {
            "standoff": 15
           },
           "zerolinecolor": "white",
           "zerolinewidth": 2
          }
         }
        },
        "title": {
         "text": "Human Development Index during Covid-19"
        },
        "xaxis": {
         "anchor": "y",
         "domain": [
          0,
          1
         ],
         "title": {
          "text": "Country"
         }
        },
        "yaxis": {
         "anchor": "x",
         "domain": [
          0,
          1
         ],
         "title": {
          "text": "Total Cases"
         }
        }
       }
      },
      "text/html": [
       "<div>                            <div id=\"d8acf514-0f58-4789-bc63-47b50856af49\" class=\"plotly-graph-div\" style=\"height:600px; width:100%;\"></div>            <script type=\"text/javascript\">                require([\"plotly\"], function(Plotly) {                    window.PLOTLYENV=window.PLOTLYENV || {};                                    if (document.getElementById(\"d8acf514-0f58-4789-bc63-47b50856af49\")) {                    Plotly.newPlot(                        \"d8acf514-0f58-4789-bc63-47b50856af49\",                        [{\"alignmentgroup\":\"True\",\"customdata\":[[19.61763693,26477574.0],[19.17473208,14340567.0],[21.04535251,7247327.0],[18.79866817,2131571.0],[17.3111646,3020038.0],[18.67480153,7295850.0],[17.66042712,5510624.0],[17.8982664,1357682.0],[17.74503716,1936134.0],[18.03334044,7249573.0],[18.24624346,2914070.0],[16.76604717,1283880.0],[17.91752278,6664225.0],[17.99409688,5633444.0],[17.62651421,1077426.0],[18.24375196,1640691.0],[18.25035574,1049757.0],[17.36552634,442507.0],[19.21318595,789557.0],[18.91957173,484534.0],[17.50993717,744253.0],[18.51217534,448665.0],[21.08743924,1066939.0],[19.42689854,916111.0],[17.44628825,1455549.0],[14.87366884,23820.0],[15.97371025,126278.0],[17.59363088,343334.0],[16.26562008,1798461.0],[16.68585306,1083749.0],[16.74812767,161480.0],[16.6566263,1142410.0],[18.44375647,644416.0],[16.1279737,941063.0],[16.27279152,578559.0],[16.77238152,464952.0],[16.19948244,209024.0],[15.26725623,69104.0],[16.06145345,88409.0],[15.27755412,222435.0],[16.10707515,58035.0],[15.44604869,73391.0],[16.13757538,302612.0],[17.44905184,304001.0],[15.58201085,4691.0],[17.42400819,142270.0],[18.65556675,194918.0],[16.70118056,281588.0],[15.97360361,320693.0],[14.34706955,22413.0],[16.10851066,200844.0],[19.1440641,125473.0],[14.9017918,102039.0],[17.18751281,27737.0],[15.41242964,310201.0],[16.18659339,79880.0],[17.4772331,165875.0],[16.01344599,134945.0],[17.25184806,29143.0],[17.59630906,206429.0],[18.56012597,77686.0],[17.1631645,40840.0],[15.21025983,129946.0],[15.44359631,50352.0],[17.32613614,31903.0],[15.69102752,114922.0],[16.13191719,59495.0],[15.73310882,87503.0],[14.86662585,54940.0],[17.75260041,63333.0],[17.80025043,59485.0],[15.44502871,21522.0],[15.57202326,113280.0],[17.05418434,65029.0],[15.68518756,71957.0],[17.09438451,56606.0],[15.78017657,42850.0],[15.73616766,22983.0],[15.00360243,70578.0],[17.08805131,14220.0],[15.5058355,47158.0],[15.75402845,72850.0],[15.74286198,29730.0],[17.29261899,24012.0],[14.54950213,74066.0],[16.08354044,110142.0],[17.59626861,102825.0],[16.63354636,30320.0],[15.52763465,58377.0],[17.13661869,17744.0],[16.15953083,44805.0],[14.47446683,47571.0],[15.22778158,28757.0],[18.31043503,32040.0],[16.39062287,7283.0],[13.34706731,21907.0],[16.72698889,26475.0],[16.07075684,9730.0],[14.87253667,31056.0],[14.61559461,6877.0],[16.24934608,23891.0],[16.28518664,19025.0],[13.20032762,3054.0],[15.35230466,19810.0],[15.51289396,6055.0],[13.80344,8006.0],[16.13820607,5653.0],[14.7480352,6634.0],[13.35039417,11356.0],[18.06114425,11162.0],[17.81205473,13973.0],[16.51438055,15984.0],[15.39030816,7108.0],[16.24266591,16774.0],[14.15411267,8947.0],[14.54736486,22165.0],[16.76676599,15480.0],[15.70629361,16410.0],[17.25770384,3396.0],[16.5814031,15001.0],[14.81698436,14345.0],[15.52354271,9298.0],[13.22850199,4749.0],[17.63850561,3748.0],[16.87952045,2108.0],[14.09808385,11802.0],[13.96407193,8179.0],[15.199095,4013.0],[12.74037063,1968.0],[16.82370654,18813.0],[16.37677691,1744.0],[14.90109198,5653.0],[13.28215639,6961.0],[16.23086427,6063.0],[14.49252734,4199.0],[17.3079574,11820.0],[15.89207108,10036.0],[16.67774898,12098.0],[14.45007584,5376.0],[15.38874766,4145.0],[12.99802163,2409.0],[16.31063137,4374.0],[15.06073864,6083.0],[12.88219574,5998.0],[13.68300607,3735.0],[16.85541655,10248.0],[14.69789863,7201.0],[17.21088998,64304.0],[14.15161916,4519.0],[11.25499635,9850.0],[11.5783948,1624.0],[14.67061714,895.0],[17.00213737,11676.0],[15.92920098,4197.0],[13.57542301,5783.0],[12.03636915,2715.0],[15.43641784,10087.0],[16.61436742,12212.0],[10.43229061,8596.0],[18.39370601,2318.0],[12.2975619,2198.0],[14.57736817,2680.0],[12.89325457,1613.0],[11.55620524,1833.0],[16.98590072,1423.0],[12.54576825,260.0],[17.9054155,3733.0],[14.05591783,1988.0],[11.52359831,5527.0],[11.35078294,4310.0],[10.79681667,0.0],[13.67578287,920.0],[11.11322372,2450.0],[16.29127395,188.0],[10.66620744,3146.0],[10.42498602,0.0],[10.56405989,476.0],[15.00283311,0.0],[15.08145118,0.0],[16.63205462,0.0],[16.00683186,417.0],[11.09315857,213.0],[12.98879313,475.0],[11.03928322,1631.0],[12.56852934,1321.0],[13.55623711,0.0],[10.57755385,192.0],[10.54894022,198.0],[12.00823128,207.0],[11.49618614,0.0],[11.49198779,568.0],[11.61680789,0.0],[10.96053104,396.0],[10.1743159,48.0],[13.7061911,132.0],[14.09196129,0.0],[10.31682162,183.0],[12.56196578,0.0],[11.63087738,0.0],[12.1206727,0.0],[15.80003079,0.0],[11.18429639,0.0],[10.88166329,0.0],[10.94679853,0.0],[8.15564927,0.0],[6.695798917,0.0],[8.516993171,177.0],[9.615938805,0.0],[13.43991197,0.0],[15.8300119,0.0]],\"hovertemplate\":\"Country=%{x}<br>Total Cases=%{y}<br>Population=%{customdata[0]}<br>Total Deaths=%{customdata[1]}<br>HDI=%{marker.color}<extra></extra>\",\"legendgroup\":\"\",\"marker\":{\"color\":[0.9240000000000003,0.7590000000000001,0.64,0.816,0.5994897959183674,0.774,0.887969387755102,0.6086530612244898,0.5818469387755102,0.9219999999999999,0.798,0.6566224489795919,0.8799999999999999,0.901,0.7071428571428571,0.9360000000000003,0.591904761904762,0.6731156462585033,0.5620000000000002,0.47771428571428576,0.6850000000000002,0.699,0.7519999999999999,0.694,0.926,0.856,0.9030000000000002,0.5747448979591837,0.9097687074829933,0.7519999999999999,0.6013605442176871,0.9310000000000002,0.6959999999999998,0.9234795918367349,0.5232857142857141,0.811,0.7359999999999999,0.8029999999999999,0.8079999999999998,0.6038265306122448,0.8629999999999998,0.8209999999999998,0.6712619047619045,0.6708163265306123,0.9320000000000002,0.5807891156462585,0.9089999999999999,0.5438775510204084,0.9439999999999998,0.846,0.461700680272109,0.5319999999999999,0.7550000000000001,0.574,0.9379999999999997,0.888,0.4980000000000001,0.908,0.4429931972789114,0.754,0.34803741496598645,0.5668673469387754,0.5333333333333333,0.6103537414965988,0.5264625850340137,0.49142857142857127,0.7569999999999998,0.634418367346939,0.0,0.9030000000000002,0.4575510204081633,0.5296666666666668,0.9290000000000002,0.9389999999999997,0.4928911564625853,0.4217278911564626,0.5420204081632652,0.7569999999999998,0.582530612244898,0.36816326530612237,0.9530000000000001,0.6194285714285716,0.5523129251700679,0.8019999999999998,0.7569999999999998,0.6555782312925167,0.3756462585034013,0.403656462585034,0.92,0.37601020408163266,0.87,0.0,0.8309999999999997,0.3435272108843537,0.3419081632653061,0.904,0.42999999999999994,0.38027210884353746,0.6007653061224489,0.5253061224489796,0.3624897959183674,0.565,0.5462857142857142,0.3873469387755101,0.6630612244897962,0.34809523809523807,0.5674999999999999,0.48194897959183686,0.5980408163265306,0.7550000000000001,0.4167891156462586,0.38760204081632654,0.27212925170068025,0.5787857142857142,0.44023469387755104,0.6948571428571431,0.3326020408163265,0.4811904761904763,0.31362925170068023,0.0,0.8579999999999999,0.44934693877551013,0.47381632653061223,0.3720816326530612,0.77,0.8710000000000002,0.43799999999999994,0.7800000000000001,0.9350000000000004,0.30209523809523803,0.3903265306122449,0.5502448979591836,0.5240816326530612,0.2599863945578231,0.32035714285714284,0.41895238095238085,0.2878843537414965,0.3846802721088435,0.6741428571428569,0.917,0.7675034013605443,0.3801190476190475,0.5988979591836735,0.5928979591836737,0.6561836734693877,0.31796938775510203,0.33795918367346944,0.29672108843537415,0.5893333333333335,0.6595510204081633,0.0,0.49263265306122433,0.25646938775510203,0.39350340136054424,0.4871632653061225,0.0,0.3210714285714285,0.29406802721088443,0.0,0.694,0.3886598639455783,0.2794557823129252,0.5057142857142858,0.0,0.0,0.0,0.3970952380952382,0.5750340136054423,0.0,0.0,0.0,0.29256122448979593,0.0,0.2865102040816326,0.0,0.0,0.0,0.5544897959183672,0.3172789115646259,0.582,0.3941224489795919,0.0,0.647003401360544,0.0,0.5877551020408164,0.464204081632653,0.0,0.6979047619047621,0.0,0.5936836734693878,0.5677551020408164,0.5311836734693878,0.0,0.0,0.6653877551020407,0.45068027210884354,0.0,0.0,0.5540544217687077,0.5564387755102042,0.4272414965986394,0.5131462585034013,0.5504217687074832,0.0,0.0,0.0,0.0,0.0,0.007428571428571429,0.1618469387755102],\"coloraxis\":\"coloraxis\",\"pattern\":{\"shape\":\"\"}},\"name\":\"\",\"offsetgroup\":\"\",\"orientation\":\"v\",\"showlegend\":false,\"textposition\":\"auto\",\"x\":[\"United States\",\"Brazil\",\"India\",\"Russia\",\"Peru\",\"Mexico\",\"Spain\",\"South Africa\",\"Colombia\",\"United Kingdom\",\"Iran\",\"Chile\",\"Italy\",\"France\",\"Argentina\",\"Germany\",\"Turkey\",\"Saudi Arabia\",\"Pakistan\",\"Bangladesh\",\"Iraq\",\"Philippines\",\"China\",\"Indonesia\",\"Canada\",\"Qatar\",\"Israel\",\"Ukraine\",\"Belgium\",\"Ecuador\",\"Kazakhstan\",\"Netherlands\",\"Egypt\",\"Sweden\",\"Bolivia\",\"Romania\",\"Dominican Republic\",\"Kuwait\",\"Belarus\",\"Panama\",\"United Arab Emirates\",\"Oman\",\"Portugal\",\"Poland\",\"Singapore\",\"Morocco\",\"Japan\",\"Guatemala\",\"Switzerland\",\"Bahrain\",\"Honduras\",\"Nigeria\",\"Armenia\",\"Nepal\",\"Ireland\",\"Czech Republic\",\"Afghanistan\",\"Austria\",\"Ghana\",\"Algeria\",\"Ethiopia\",\"Venezuela\",\"Moldova\",\"Costa Rica\",\"Uzbekistan\",\"Kyrgyzstan\",\"Azerbaijan\",\"Serbia\",\"Puerto Rico\",\"South Korea\",\"Kenya\",\"Palestine\",\"Denmark\",\"Australia\",\"El Salvador\",\"Cameroon\",\"Paraguay\",\"Lebanon\",\"Bosnia and Herzegovina\",\"Cote d'Ivoire\",\"Norway\",\"Bulgaria\",\"Libya\",\"Malaysia\",\"Macedonia\",\"Hungary\",\"Sudan\",\"Senegal\",\"Finland\",\"Madagascar\",\"Greece\",\"Kosovo\",\"Croatia\",\"Democratic Republic of Congo\",\"Guinea\",\"Luxembourg\",\"Zambia\",\"Tajikistan\",\"Albania\",\"Gabon\",\"Haiti\",\"Tunisia\",\"Maldives\",\"Mauritania\",\"Slovakia\",\"Djibouti\",\"Jordan\",\"Namibia\",\"Montenegro\",\"Thailand\",\"Myanmar\",\"Zimbabwe\",\"Central African Republic\",\"Cuba\",\"Equatorial Guinea\",\"Slovenia\",\"Malawi\",\"Nicaragua\",\"Mozambique\",\"Somalia\",\"Lithuania\",\"Congo\",\"Cape Verde\",\"Uganda\",\"Sri Lanka\",\"Estonia\",\"Swaziland\",\"Georgia\",\"Iceland\",\"Mali\",\"Rwanda\",\"Jamaica\",\"Suriname\",\"South Sudan\",\"Guinea-Bissau\",\"Angola\",\"Sierra Leone\",\"Syria\",\"Latvia\",\"New Zealand\",\"Malta\",\"Benin\",\"Uruguay\",\"Bahamas\",\"Cyprus\",\"Burkina Faso\",\"Gambia\",\"Yemen\",\"Trinidad and Tobago\",\"Andorra\",\"Aruba\",\"Botswana\",\"Niger\",\"Togo\",\"Guyana\",\"Guam\",\"Liberia\",\"Chad\",\"San Marino\",\"Vietnam\",\"Sao Tome and Principe\",\"Lesotho\",\"Belize\",\"United States Virgin Islands\",\"Taiwan\",\"French Polynesia\",\"Tanzania\",\"Mauritius\",\"Jersey\",\"Isle of Man\",\"Faeroe Islands\",\"Comoros\",\"Guernsey\",\"Burundi\",\"Sint Maarten (Dutch part)\",\"Gibraltar\",\"Turks and Caicos Islands\",\"Mongolia\",\"Eritrea\",\"Cambodia\",\"Papua New Guinea\",\"Cayman Islands\",\"Brunei\",\"Bermuda\",\"Barbados\",\"Bhutan\",\"Monaco\",\"Liechtenstein\",\"Curacao\",\"Seychelles\",\"Antigua and Barbuda\",\"Saint Vincent and the Grenadines\",\"Northern Mariana Islands\",\"Bonaire Sint Eustatius and Saba\",\"Fiji\",\"Timor\",\"British Virgin Islands\",\"New Caledonia\",\"Grenada\",\"Saint Lucia\",\"Laos\",\"Dominica\",\"Saint Kitts and Nevis\",\"Greenland\",\"Falkland Islands\",\"Vatican\",\"Montserrat\",\"Anguilla\",\"Solomon Islands\",\"Hong Kong\"],\"xaxis\":\"x\",\"y\":[746014098.0,425704517.0,407771615.0,132888951.0,74882695.0,74347548.0,73717676.0,63027659.0,60543682.0,59475032.0,52421884.0,51268034.0,50752853.0,50084335.0,47155234.0,42447678.0,41431948.0,38585191.0,37738077.0,35266178.0,25280332.0,22409936.0,21632319.0,21570149.0,20902374.0,16351440.0,16202474.0,15805665.0,15192468.0,14408757.0,13194863.0,13026629.0,12422845.0,11910109.0,11858838.0,10672859.0,10649646.0,10622205.0,10595186.0,10371724.0,10247326.0,10060093.0,9266263.0,9239657.0,8191161.0,7839270.0,7659484.0,7644426.0,7552067.0,6549995.0,6545499.0,6107371.0,5474629.0,5243653.0,5239798.0,5213980.0,5126433.0,4909197.0,4900649.0,4893999.0,4876417.0,4839834.0,4632482.0,4631835.0,4421215.0,4287847.0,4236782.0,3984174.0,3586463.0,3333075.0,3277734.0,3249458.0,3030088.0,3012377.0,2573206.0,2476502.0,2265640.0,2220699.0,2200057.0,2132883.0,1985889.0,1890380.0,1817274.0,1774181.0,1724220.0,1708798.0,1663545.0,1586747.0,1458484.0,1443321.0,1421470.0,1345940.0,1314031.0,1271391.0,1195836.0,1146724.0,1129913.0,1117391.0,1071951.0,1031803.0,1023155.0,1000626.0,844040.0,799222.0,798665.0,781771.0,716514.0,681299.0,675912.0,655703.0,644209.0,593699.0,593048.0,581546.0,557355.0,547075.0,536447.0,524410.0,510578.0,491145.0,488057.0,473368.0,463888.0,448728.0,446643.0,445402.0,444238.0,431689.0,421210.0,390637.0,388775.0,370890.0,358632.0,333500.0,306564.0,304005.0,268396.0,267902.0,255964.0,253203.0,251261.0,245893.0,239884.0,237908.0,236673.0,231452.0,229521.0,228925.0,225550.0,223576.0,215110.0,205758.0,199978.0,169903.0,166917.0,160975.0,159880.0,154173.0,134994.0,122618.0,121909.0,107948.0,106383.0,98536.0,97074.0,95388.0,91526.0,69524.0,66777.0,64935.0,56893.0,52437.0,49814.0,49745.0,48026.0,45340.0,44432.0,42465.0,40026.0,39539.0,35966.0,33173.0,30140.0,28876.0,24998.0,22847.0,21511.0,19885.0,19777.0,14701.0,12619.0,7824.0,7784.0,5080.0,4742.0,4697.0,4605.0,4495.0,4470.0,4450.0,4039.0,3977.0,3246.0,2678.0,2467.0,2415.0,2383.0,614.0,11.0,0.0],\"yaxis\":\"y\",\"type\":\"bar\"}],                        {\"template\":{\"data\":{\"bar\":[{\"error_x\":{\"color\":\"#2a3f5f\"},\"error_y\":{\"color\":\"#2a3f5f\"},\"marker\":{\"line\":{\"color\":\"#E5ECF6\",\"width\":0.5},\"pattern\":{\"fillmode\":\"overlay\",\"size\":10,\"solidity\":0.2}},\"type\":\"bar\"}],\"barpolar\":[{\"marker\":{\"line\":{\"color\":\"#E5ECF6\",\"width\":0.5},\"pattern\":{\"fillmode\":\"overlay\",\"size\":10,\"solidity\":0.2}},\"type\":\"barpolar\"}],\"carpet\":[{\"aaxis\":{\"endlinecolor\":\"#2a3f5f\",\"gridcolor\":\"white\",\"linecolor\":\"white\",\"minorgridcolor\":\"white\",\"startlinecolor\":\"#2a3f5f\"},\"baxis\":{\"endlinecolor\":\"#2a3f5f\",\"gridcolor\":\"white\",\"linecolor\":\"white\",\"minorgridcolor\":\"white\",\"startlinecolor\":\"#2a3f5f\"},\"type\":\"carpet\"}],\"choropleth\":[{\"colorbar\":{\"outlinewidth\":0,\"ticks\":\"\"},\"type\":\"choropleth\"}],\"contour\":[{\"colorbar\":{\"outlinewidth\":0,\"ticks\":\"\"},\"colorscale\":[[0.0,\"#0d0887\"],[0.1111111111111111,\"#46039f\"],[0.2222222222222222,\"#7201a8\"],[0.3333333333333333,\"#9c179e\"],[0.4444444444444444,\"#bd3786\"],[0.5555555555555556,\"#d8576b\"],[0.6666666666666666,\"#ed7953\"],[0.7777777777777778,\"#fb9f3a\"],[0.8888888888888888,\"#fdca26\"],[1.0,\"#f0f921\"]],\"type\":\"contour\"}],\"contourcarpet\":[{\"colorbar\":{\"outlinewidth\":0,\"ticks\":\"\"},\"type\":\"contourcarpet\"}],\"heatmap\":[{\"colorbar\":{\"outlinewidth\":0,\"ticks\":\"\"},\"colorscale\":[[0.0,\"#0d0887\"],[0.1111111111111111,\"#46039f\"],[0.2222222222222222,\"#7201a8\"],[0.3333333333333333,\"#9c179e\"],[0.4444444444444444,\"#bd3786\"],[0.5555555555555556,\"#d8576b\"],[0.6666666666666666,\"#ed7953\"],[0.7777777777777778,\"#fb9f3a\"],[0.8888888888888888,\"#fdca26\"],[1.0,\"#f0f921\"]],\"type\":\"heatmap\"}],\"heatmapgl\":[{\"colorbar\":{\"outlinewidth\":0,\"ticks\":\"\"},\"colorscale\":[[0.0,\"#0d0887\"],[0.1111111111111111,\"#46039f\"],[0.2222222222222222,\"#7201a8\"],[0.3333333333333333,\"#9c179e\"],[0.4444444444444444,\"#bd3786\"],[0.5555555555555556,\"#d8576b\"],[0.6666666666666666,\"#ed7953\"],[0.7777777777777778,\"#fb9f3a\"],[0.8888888888888888,\"#fdca26\"],[1.0,\"#f0f921\"]],\"type\":\"heatmapgl\"}],\"histogram\":[{\"marker\":{\"pattern\":{\"fillmode\":\"overlay\",\"size\":10,\"solidity\":0.2}},\"type\":\"histogram\"}],\"histogram2d\":[{\"colorbar\":{\"outlinewidth\":0,\"ticks\":\"\"},\"colorscale\":[[0.0,\"#0d0887\"],[0.1111111111111111,\"#46039f\"],[0.2222222222222222,\"#7201a8\"],[0.3333333333333333,\"#9c179e\"],[0.4444444444444444,\"#bd3786\"],[0.5555555555555556,\"#d8576b\"],[0.6666666666666666,\"#ed7953\"],[0.7777777777777778,\"#fb9f3a\"],[0.8888888888888888,\"#fdca26\"],[1.0,\"#f0f921\"]],\"type\":\"histogram2d\"}],\"histogram2dcontour\":[{\"colorbar\":{\"outlinewidth\":0,\"ticks\":\"\"},\"colorscale\":[[0.0,\"#0d0887\"],[0.1111111111111111,\"#46039f\"],[0.2222222222222222,\"#7201a8\"],[0.3333333333333333,\"#9c179e\"],[0.4444444444444444,\"#bd3786\"],[0.5555555555555556,\"#d8576b\"],[0.6666666666666666,\"#ed7953\"],[0.7777777777777778,\"#fb9f3a\"],[0.8888888888888888,\"#fdca26\"],[1.0,\"#f0f921\"]],\"type\":\"histogram2dcontour\"}],\"mesh3d\":[{\"colorbar\":{\"outlinewidth\":0,\"ticks\":\"\"},\"type\":\"mesh3d\"}],\"parcoords\":[{\"line\":{\"colorbar\":{\"outlinewidth\":0,\"ticks\":\"\"}},\"type\":\"parcoords\"}],\"pie\":[{\"automargin\":true,\"type\":\"pie\"}],\"scatter\":[{\"marker\":{\"colorbar\":{\"outlinewidth\":0,\"ticks\":\"\"}},\"type\":\"scatter\"}],\"scatter3d\":[{\"line\":{\"colorbar\":{\"outlinewidth\":0,\"ticks\":\"\"}},\"marker\":{\"colorbar\":{\"outlinewidth\":0,\"ticks\":\"\"}},\"type\":\"scatter3d\"}],\"scattercarpet\":[{\"marker\":{\"colorbar\":{\"outlinewidth\":0,\"ticks\":\"\"}},\"type\":\"scattercarpet\"}],\"scattergeo\":[{\"marker\":{\"colorbar\":{\"outlinewidth\":0,\"ticks\":\"\"}},\"type\":\"scattergeo\"}],\"scattergl\":[{\"marker\":{\"colorbar\":{\"outlinewidth\":0,\"ticks\":\"\"}},\"type\":\"scattergl\"}],\"scattermapbox\":[{\"marker\":{\"colorbar\":{\"outlinewidth\":0,\"ticks\":\"\"}},\"type\":\"scattermapbox\"}],\"scatterpolar\":[{\"marker\":{\"colorbar\":{\"outlinewidth\":0,\"ticks\":\"\"}},\"type\":\"scatterpolar\"}],\"scatterpolargl\":[{\"marker\":{\"colorbar\":{\"outlinewidth\":0,\"ticks\":\"\"}},\"type\":\"scatterpolargl\"}],\"scatterternary\":[{\"marker\":{\"colorbar\":{\"outlinewidth\":0,\"ticks\":\"\"}},\"type\":\"scatterternary\"}],\"surface\":[{\"colorbar\":{\"outlinewidth\":0,\"ticks\":\"\"},\"colorscale\":[[0.0,\"#0d0887\"],[0.1111111111111111,\"#46039f\"],[0.2222222222222222,\"#7201a8\"],[0.3333333333333333,\"#9c179e\"],[0.4444444444444444,\"#bd3786\"],[0.5555555555555556,\"#d8576b\"],[0.6666666666666666,\"#ed7953\"],[0.7777777777777778,\"#fb9f3a\"],[0.8888888888888888,\"#fdca26\"],[1.0,\"#f0f921\"]],\"type\":\"surface\"}],\"table\":[{\"cells\":{\"fill\":{\"color\":\"#EBF0F8\"},\"line\":{\"color\":\"white\"}},\"header\":{\"fill\":{\"color\":\"#C8D4E3\"},\"line\":{\"color\":\"white\"}},\"type\":\"table\"}]},\"layout\":{\"annotationdefaults\":{\"arrowcolor\":\"#2a3f5f\",\"arrowhead\":0,\"arrowwidth\":1},\"autotypenumbers\":\"strict\",\"coloraxis\":{\"colorbar\":{\"outlinewidth\":0,\"ticks\":\"\"}},\"colorscale\":{\"diverging\":[[0,\"#8e0152\"],[0.1,\"#c51b7d\"],[0.2,\"#de77ae\"],[0.3,\"#f1b6da\"],[0.4,\"#fde0ef\"],[0.5,\"#f7f7f7\"],[0.6,\"#e6f5d0\"],[0.7,\"#b8e186\"],[0.8,\"#7fbc41\"],[0.9,\"#4d9221\"],[1,\"#276419\"]],\"sequential\":[[0.0,\"#0d0887\"],[0.1111111111111111,\"#46039f\"],[0.2222222222222222,\"#7201a8\"],[0.3333333333333333,\"#9c179e\"],[0.4444444444444444,\"#bd3786\"],[0.5555555555555556,\"#d8576b\"],[0.6666666666666666,\"#ed7953\"],[0.7777777777777778,\"#fb9f3a\"],[0.8888888888888888,\"#fdca26\"],[1.0,\"#f0f921\"]],\"sequentialminus\":[[0.0,\"#0d0887\"],[0.1111111111111111,\"#46039f\"],[0.2222222222222222,\"#7201a8\"],[0.3333333333333333,\"#9c179e\"],[0.4444444444444444,\"#bd3786\"],[0.5555555555555556,\"#d8576b\"],[0.6666666666666666,\"#ed7953\"],[0.7777777777777778,\"#fb9f3a\"],[0.8888888888888888,\"#fdca26\"],[1.0,\"#f0f921\"]]},\"colorway\":[\"#636efa\",\"#EF553B\",\"#00cc96\",\"#ab63fa\",\"#FFA15A\",\"#19d3f3\",\"#FF6692\",\"#B6E880\",\"#FF97FF\",\"#FECB52\"],\"font\":{\"color\":\"#2a3f5f\"},\"geo\":{\"bgcolor\":\"white\",\"lakecolor\":\"white\",\"landcolor\":\"#E5ECF6\",\"showlakes\":true,\"showland\":true,\"subunitcolor\":\"white\"},\"hoverlabel\":{\"align\":\"left\"},\"hovermode\":\"closest\",\"mapbox\":{\"style\":\"light\"},\"paper_bgcolor\":\"white\",\"plot_bgcolor\":\"#E5ECF6\",\"polar\":{\"angularaxis\":{\"gridcolor\":\"white\",\"linecolor\":\"white\",\"ticks\":\"\"},\"bgcolor\":\"#E5ECF6\",\"radialaxis\":{\"gridcolor\":\"white\",\"linecolor\":\"white\",\"ticks\":\"\"}},\"scene\":{\"xaxis\":{\"backgroundcolor\":\"#E5ECF6\",\"gridcolor\":\"white\",\"gridwidth\":2,\"linecolor\":\"white\",\"showbackground\":true,\"ticks\":\"\",\"zerolinecolor\":\"white\"},\"yaxis\":{\"backgroundcolor\":\"#E5ECF6\",\"gridcolor\":\"white\",\"gridwidth\":2,\"linecolor\":\"white\",\"showbackground\":true,\"ticks\":\"\",\"zerolinecolor\":\"white\"},\"zaxis\":{\"backgroundcolor\":\"#E5ECF6\",\"gridcolor\":\"white\",\"gridwidth\":2,\"linecolor\":\"white\",\"showbackground\":true,\"ticks\":\"\",\"zerolinecolor\":\"white\"}},\"shapedefaults\":{\"line\":{\"color\":\"#2a3f5f\"}},\"ternary\":{\"aaxis\":{\"gridcolor\":\"white\",\"linecolor\":\"white\",\"ticks\":\"\"},\"baxis\":{\"gridcolor\":\"white\",\"linecolor\":\"white\",\"ticks\":\"\"},\"bgcolor\":\"#E5ECF6\",\"caxis\":{\"gridcolor\":\"white\",\"linecolor\":\"white\",\"ticks\":\"\"}},\"title\":{\"x\":0.05},\"xaxis\":{\"automargin\":true,\"gridcolor\":\"white\",\"linecolor\":\"white\",\"ticks\":\"\",\"title\":{\"standoff\":15},\"zerolinecolor\":\"white\",\"zerolinewidth\":2},\"yaxis\":{\"automargin\":true,\"gridcolor\":\"white\",\"linecolor\":\"white\",\"ticks\":\"\",\"title\":{\"standoff\":15},\"zerolinecolor\":\"white\",\"zerolinewidth\":2}}},\"xaxis\":{\"anchor\":\"y\",\"domain\":[0.0,1.0],\"title\":{\"text\":\"Country\"}},\"yaxis\":{\"anchor\":\"x\",\"domain\":[0.0,1.0],\"title\":{\"text\":\"Total Cases\"}},\"coloraxis\":{\"colorbar\":{\"title\":{\"text\":\"HDI\"}},\"colorscale\":[[0.0,\"#0d0887\"],[0.1111111111111111,\"#46039f\"],[0.2222222222222222,\"#7201a8\"],[0.3333333333333333,\"#9c179e\"],[0.4444444444444444,\"#bd3786\"],[0.5555555555555556,\"#d8576b\"],[0.6666666666666666,\"#ed7953\"],[0.7777777777777778,\"#fb9f3a\"],[0.8888888888888888,\"#fdca26\"],[1.0,\"#f0f921\"]]},\"legend\":{\"tracegroupgap\":0},\"title\":{\"text\":\"Human Development Index during Covid-19\"},\"barmode\":\"relative\",\"height\":600},                        {\"responsive\": true}                    ).then(function(){\n",
       "                            \n",
       "var gd = document.getElementById('d8acf514-0f58-4789-bc63-47b50856af49');\n",
       "var x = new MutationObserver(function (mutations, observer) {{\n",
       "        var display = window.getComputedStyle(gd).display;\n",
       "        if (!display || display === 'none') {{\n",
       "            console.log([gd, 'removed!']);\n",
       "            Plotly.purge(gd);\n",
       "            observer.disconnect();\n",
       "        }}\n",
       "}});\n",
       "\n",
       "// Listen for the removal of the full notebook cells\n",
       "var notebookContainer = gd.closest('#notebook-container');\n",
       "if (notebookContainer) {{\n",
       "    x.observe(notebookContainer, {childList: true});\n",
       "}}\n",
       "\n",
       "// Listen for the clearing of the current output cell\n",
       "var outputEl = gd.closest('.output');\n",
       "if (outputEl) {{\n",
       "    x.observe(outputEl, {childList: true});\n",
       "}}\n",
       "\n",
       "                        })                };                });            </script>        </div>"
      ]
     },
     "metadata": {},
     "output_type": "display_data"
    }
   ],
   "source": [
    "#Checking the HDI\n",
    "fg = px.bar(transf, x='Country', y='Total Cases', hover_data=['Population', 'Total Deaths'], color= 'HDI', height=600, title=\"Human Development Index during Covid-19\")\n",
    "fg.show()"
   ]
  },
  {
   "cell_type": "markdown",
   "id": "de2483e4",
   "metadata": {},
   "source": [
    "The Human Development Index(HDI) is a summary measure of life expectancy, education, and per capita indicators.The HDI can be used to question the national policy choices, with this data we're able to see countries that spent there budget on the Human Development."
   ]
  },
  {
   "cell_type": "code",
   "execution_count": null,
   "id": "b53030f4",
   "metadata": {},
   "outputs": [],
   "source": []
  }
 ],
 "metadata": {
  "kernelspec": {
   "display_name": "Python 3 (ipykernel)",
   "language": "python",
   "name": "python3"
  },
  "language_info": {
   "codemirror_mode": {
    "name": "ipython",
    "version": 3
   },
   "file_extension": ".py",
   "mimetype": "text/x-python",
   "name": "python",
   "nbconvert_exporter": "python",
   "pygments_lexer": "ipython3",
   "version": "3.9.12"
  }
 },
 "nbformat": 4,
 "nbformat_minor": 5
}
